{
 "cells": [
  {
   "cell_type": "markdown",
   "metadata": {
    "toc": "true"
   },
   "source": [
    "# Table of Contents\n",
    " <p><div class=\"lev2\"><a href=\"#モデルのパラメーターをベイズ推定する\"><span class=\"toc-item-num\">0.1&nbsp;&nbsp;</span>モデルのパラメーターをベイズ推定する</a></div><div class=\"lev3\"><a href=\"#誤差項の分散が既知の場合\"><span class=\"toc-item-num\">0.1.1&nbsp;&nbsp;</span>誤差項の分散が既知の場合</a></div><div class=\"lev3\"><a href=\"#誤差項の分散も未知の場合\"><span class=\"toc-item-num\">0.1.2&nbsp;&nbsp;</span>誤差項の分散も未知の場合</a></div><div class=\"lev2\"><a href=\"#モデルのパラメーターが複数の場合\"><span class=\"toc-item-num\">0.2&nbsp;&nbsp;</span>モデルのパラメーターが複数の場合</a></div><div class=\"lev2\"><a href=\"#非線形な場合\"><span class=\"toc-item-num\">0.3&nbsp;&nbsp;</span>非線形な場合</a></div><div class=\"lev2\"><a href=\"#参考文献\"><span class=\"toc-item-num\">0.4&nbsp;&nbsp;</span>参考文献</a></div>"
   ]
  },
  {
   "cell_type": "markdown",
   "metadata": {},
   "source": [
    "## モデルのパラメーターをベイズ推定する"
   ]
  },
  {
   "cell_type": "markdown",
   "metadata": {},
   "source": [
    "$y=ax$のaを推定する。\n",
    "\n",
    "aについての事前分布は平均$\\mu_0$、分散$\\sigma_0$の正規分布とする。\n",
    "\n",
    "$P(a) = N(a|\\mu_0, \\sigma_0^2) =\\frac{1}{\\sqrt{2\\pi \\sigma_0^2}} \\exp(-\\frac{(a-\\mu_0)^2}{2\\sigma^2}) $"
   ]
  },
  {
   "cell_type": "markdown",
   "metadata": {},
   "source": [
    "データ点$(x_0, y_0), \\cdots (x_N, y_N)$が得られたとする。$X_i=(x_i, y_i)$"
   ]
  },
  {
   "cell_type": "markdown",
   "metadata": {},
   "source": [
    "ここでもしも誤差を許容しないとすると、\n",
    "\n",
    "$P(X_i|a) =\\left\\{ \\begin{array}{11}\n",
    "1 & if a = \\frac{y_i}{x_i}\\\\\n",
    "0 & else\n",
    "\\end{array}\\right .$"
   ]
  },
  {
   "cell_type": "markdown",
   "metadata": {},
   "source": [
    "となり、\n",
    "\n",
    "$P(a|X_i)=\\frac{P(X_i|a)P(a)}{\\int P(X_i|a)P(a)da}\\\\\n",
    "=\\frac{P(X_i|a)P(a)}{P(y_i/x_i)}$\n",
    "\n",
    "すなわち、$a=\\frac{x_i}{y_i}$のとき以外の確率は0になる。"
   ]
  },
  {
   "cell_type": "markdown",
   "metadata": {},
   "source": [
    "なので、確率分布が正規分布$P(\\varepsilon)=N(\\varepsilon|0,\\sigma_\\varepsilon^2)$である誤差項$\\varepsilon$ががある、次の式を考える。\n",
    "\n",
    "$y=ax+\\varepsilon$\n",
    "\n",
    "誤差項の分散が既知の場合と未知の場合、それぞれの求め方を次に記す。"
   ]
  },
  {
   "cell_type": "markdown",
   "metadata": {},
   "source": [
    "### 誤差項の分散が既知の場合"
   ]
  },
  {
   "cell_type": "markdown",
   "metadata": {},
   "source": [
    "$P(X_i|a) = N(y_i-ax_i|0, \\sigma_\\varepsilon^2)$"
   ]
  },
  {
   "cell_type": "markdown",
   "metadata": {},
   "source": [
    "$P(a|X_i) = \\frac{P(X_i|a)P(a)}{\\int P(X_i|a) P(a)da}\\\\\n",
    "=\\frac{N(y_i-ax_i|0, \\sigma_\\varepsilon^2)N(a|\\mu_0, \\sigma_0^2)}{\\int N(y_i-ax_i|0, \\sigma_\\varepsilon^2)N(a|\\mu_0, \\sigma_0^2)da}$"
   ]
  },
  {
   "cell_type": "markdown",
   "metadata": {},
   "source": [
    "$P(a|X)=\\frac{\\Pi P(X_i|a)P(a)}{\\int\\Pi P(X_i|a)P(a) da}$"
   ]
  },
  {
   "cell_type": "markdown",
   "metadata": {},
   "source": [
    "分母は$a$を含んでいないので、分子だけ計算して、$\\exp$の中を平方完成すると、$a$の事後確率は、$\\beta^{-1}=\\sigma^2$とおいて、\n",
    "\n",
    "$P(a|X)=N(a|\\mu_N, \\sigma_N)$\n",
    "\n",
    "$\\mu_N = \\\\\n",
    "\\sigma_N = \\cdots$"
   ]
  },
  {
   "cell_type": "markdown",
   "metadata": {},
   "source": [
    "### 誤差項の分散も未知の場合"
   ]
  },
  {
   "cell_type": "markdown",
   "metadata": {},
   "source": [
    "分散に対しては逆ガンマ分布を使うらしい。なぜ？"
   ]
  },
  {
   "cell_type": "markdown",
   "metadata": {},
   "source": [
    "## モデルのパラメーターが複数の場合\n",
    "Bayesian Linear Regression\n",
    "\n",
    "$y_i=x_i^T\\beta+\\varepsilon_i$"
   ]
  },
  {
   "cell_type": "markdown",
   "metadata": {},
   "source": [
    "$\\varepsilon_i \\sim N(0,\\sigma^2)$"
   ]
  },
  {
   "cell_type": "markdown",
   "metadata": {},
   "source": [
    "尤度関数は(誤差$\\varepsilon$が正規分布に従うので)\n",
    "\n",
    "$\\rho(y|X,\\beta,\\sigma^2) \\propto (\\sigma^2)^{-n/2}\\exp(-\\frac{1}{2\\sigma^2}(y-X\\beta)^T(y-X\\beta))$"
   ]
  },
  {
   "cell_type": "markdown",
   "metadata": {},
   "source": [
    "これに対して、共役な事前分布を求める"
   ]
  },
  {
   "cell_type": "markdown",
   "metadata": {},
   "source": [
    "かけても形が変わらないものを求めればいい（どうやって？）"
   ]
  },
  {
   "cell_type": "markdown",
   "metadata": {},
   "source": [
    "$\\rho(\\beta,\\sigma^2)=\\rho(\\sigma^2)\\rho(\\beta|\\sigma^2)$"
   ]
  },
  {
   "cell_type": "markdown",
   "metadata": {},
   "source": [
    "$\\rho(\\sigma^2)$は逆ガンマ分布、$\\rho(\\beta|\\sigma^2)$は正規分布に従うと共役になる。"
   ]
  },
  {
   "cell_type": "markdown",
   "metadata": {},
   "source": [
    "## 非線形な場合"
   ]
  },
  {
   "cell_type": "markdown",
   "metadata": {},
   "source": [
    "一般に\n",
    "\n",
    "$y=g(\\theta,m)+e$\n",
    "\n"
   ]
  },
  {
   "cell_type": "markdown",
   "metadata": {},
   "source": [
    "## 参考文献\n",
    "* [PRML 第1章の「ベイズ推定によるパラメータフィッティング」の解説（その１）](http://enakai00.hatenablog.com/entry/2015/04/08/181522)\n",
    "* [wikipedia:Bayesian linear regression](https://en.wikipedia.org/wiki/Bayesian_linear_regression)\n",
    "* [Bayesian Inference for Nonlinear Models](http://www.fil.ion.ucl.ac.uk/~wpenny/talks/bayes_inference.pdf)"
   ]
  },
  {
   "cell_type": "code",
   "execution_count": null,
   "metadata": {
    "collapsed": true
   },
   "outputs": [],
   "source": []
  }
 ],
 "metadata": {
  "kernelspec": {
   "display_name": "Python 3",
   "language": "python",
   "name": "python3"
  },
  "language_info": {
   "codemirror_mode": {
    "name": "ipython",
    "version": 3
   },
   "file_extension": ".py",
   "mimetype": "text/x-python",
   "name": "python",
   "nbconvert_exporter": "python",
   "pygments_lexer": "ipython3",
   "version": "3.5.2"
  },
  "nav_menu": {},
  "toc": {
   "navigate_menu": true,
   "number_sections": true,
   "sideBar": false,
   "threshold": 6,
   "toc_cell": true,
   "toc_section_display": "block",
   "toc_window_display": false
  }
 },
 "nbformat": 4,
 "nbformat_minor": 0
}
