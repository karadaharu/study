{
 "cells": [
  {
   "cell_type": "markdown",
   "metadata": {
    "toc": "true"
   },
   "source": [
    "# Table of Contents\n",
    " <p><div class=\"lev2\"><a href=\"#非線形最小二乗法\"><span class=\"toc-item-num\">0.1&nbsp;&nbsp;</span>非線形最小二乗法</a></div><div class=\"lev3\"><a href=\"#勾配方程式への帰着\"><span class=\"toc-item-num\">0.1.1&nbsp;&nbsp;</span>勾配方程式への帰着</a></div><div class=\"lev3\"><a href=\"#数値解法\"><span class=\"toc-item-num\">0.1.2&nbsp;&nbsp;</span>数値解法</a></div>"
   ]
  },
  {
   "cell_type": "markdown",
   "metadata": {},
   "source": [
    "非線形最小二乗法を解く手法のひとつ。\n",
    "\n",
    "## 非線形最小二乗法\n",
    "m個のデータ点に対し、n個のパラメータをもつ関数\n",
    "\n",
    "$y=f(x,\\beta)$\n",
    "\n",
    "をあてはめる場合を考える。\n",
    "\n",
    "（規格化された）残差平方和$S(\\beta)$が最小となるような$\\beta$を探すのが最小二乗法。その他の尺度もある。\n",
    "\n",
    "$S(\\beta)=\\sum_{i}\\frac{r^{2}_{i}}{2\\sigma^{2}_{i}}=\\sum_{i}\\frac{(y_{i}-f(x_{i},\\beta))^{2}}{2\\sigma^{2}_{i}}$"
   ]
  },
  {
   "cell_type": "markdown",
   "metadata": {},
   "source": [
    "### 勾配方程式への帰着\n",
    "$S(\\beta)$が最小となる必要条件は、grad Sが0になることである。したがって、$S(\\beta)$を最小とする$\\beta$は次の連立方程式の解である。\n",
    "\n",
    "$\\frac{\\partial S}{\\partial \\beta_{j}}=\\sum_{i} \\frac{r_{i}}{\\sigma_{i}}\\frac{\\partial r_{i}}{\\partial \\beta_{j}}=0$\n",
    "\n",
    "### 数値解法\n",
    "線形の場合は、勾配方程式は連立一次方程式になるので、行列で解けるが、非線形最小二乗法では反復解法を用いる必要がある。"
   ]
  },
  {
   "cell_type": "code",
   "execution_count": null,
   "metadata": {
    "collapsed": true
   },
   "outputs": [],
   "source": []
  }
 ],
 "metadata": {
  "kernelspec": {
   "display_name": "Python 3",
   "language": "python",
   "name": "python3"
  },
  "language_info": {
   "codemirror_mode": {
    "name": "ipython",
    "version": 3
   },
   "file_extension": ".py",
   "mimetype": "text/x-python",
   "name": "python",
   "nbconvert_exporter": "python",
   "pygments_lexer": "ipython3",
   "version": "3.5.1"
  },
  "nav_menu": {},
  "toc": {
   "navigate_menu": true,
   "number_sections": true,
   "sideBar": false,
   "threshold": 6,
   "toc_cell": true,
   "toc_section_display": "block",
   "toc_window_display": false
  }
 },
 "nbformat": 4,
 "nbformat_minor": 0
}
