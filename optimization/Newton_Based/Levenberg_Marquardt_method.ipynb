{
 "cells": [
  {
   "cell_type": "markdown",
   "metadata": {
    "toc": "true"
   },
   "source": [
    "# Table of Contents\n",
    " <p><div class=\"lev2\"><a href=\"#Levenberg-Marquardt-method\"><span class=\"toc-item-num\">0.1&nbsp;&nbsp;</span>Levenberg-Marquardt method</a></div><div class=\"lev2\"><a href=\"#アルゴリズム\"><span class=\"toc-item-num\">0.2&nbsp;&nbsp;</span>アルゴリズム</a></div>"
   ]
  },
  {
   "cell_type": "markdown",
   "metadata": {},
   "source": [
    "## Levenberg-Marquardt method"
   ]
  },
  {
   "cell_type": "markdown",
   "metadata": {},
   "source": [
    "非線形最小二乗法の数値解法のひとつ。反復解法。\n",
    "scipyのoptimzeで使われているアルゴリズム\n",
    "\n",
    "http://docs.scipy.org/doc/scipy/reference/generated/scipy.optimize.leastsq.html#scipy.optimize.leastsq\n",
    "\n",
    "https://people.sc.fsu.edu/~jburkardt/f_src/minpack/minpack.html\n",
    "\n",
    "Gauss-Newton法と最急降下法を組み合わせたような方法。\n"
   ]
  },
  {
   "cell_type": "markdown",
   "metadata": {},
   "source": [
    "## アルゴリズム\n",
    "パラメーターの初期値を決める必要がある。\n",
    "\n",
    "極小値がひとつしかない場合は、$\\beta = (1,1,\\cdots,1)$でよい。複数最小値がある場合は、初期値が大域最小値に近くないと最小値は求められない。\n",
    "\n",
    "各ステップごとに、パラメーター$\\beta$は$\\beta + \\delta$に更新される。$\\delta$を計算するとき、関数$f(x_{i}, \\beta+\\delta)$は次のように近似される。\n",
    "\n",
    "$f(x_{i},\\beta+\\delta) \\simeq f(x_{i}, \\beta) + J_{i}\\delta$\n",
    "\n",
    "ここで\n",
    "\n",
    "$J_{i}=\\frac{\\partial f(x_{i}, \\beta)}{\\partial \\beta}$\n",
    "\n",
    "である。この近似を用いると、二乗誤差は次のように書ける。\n",
    "\n",
    "$S(\\beta+\\delta) \\simeq ||y-f(x,\\beta)-J\\delta||^{2}\\\\\n",
    "=(y-f(x,\\beta)-J\\delta)^{T}(y-f(x,\\beta)-J\\delta)\\\\\n",
    "=(y-f(\\beta))^{T}(y-f(\\beta)) - 2(y-f(\\beta))^{T}J\\delta + \\delta^{T}J^{T}J\\delta$\n",
    "\n",
    "$\\delta$についてSの微分をとって、それが0になるとき、\n",
    "\n",
    "$(J^{T}J)\\delta=J^{T}[y-f(\\beta)]$\n",
    "\n",
    "となり、この線形方程式は解くことができる。\n",
    "\n",
    "Levenbergはこの法定s木を\"dampde version\"に置き換えた。\n",
    "\n",
    "$(J^{T}J+\\lambda I)\\delta=J^{T}[y-f(\\beta)]$\n",
    "\n",
    "Iは対角行列、$\\lambda$はdamping factor。\n",
    "\n"
   ]
  },
  {
   "cell_type": "code",
   "execution_count": null,
   "metadata": {
    "collapsed": true
   },
   "outputs": [],
   "source": []
  }
 ],
 "metadata": {
  "kernelspec": {
   "display_name": "Python 3",
   "language": "python",
   "name": "python3"
  },
  "language_info": {
   "codemirror_mode": {
    "name": "ipython",
    "version": 3
   },
   "file_extension": ".py",
   "mimetype": "text/x-python",
   "name": "python",
   "nbconvert_exporter": "python",
   "pygments_lexer": "ipython3",
   "version": "3.5.2"
  },
  "nav_menu": {},
  "toc": {
   "navigate_menu": true,
   "number_sections": true,
   "sideBar": false,
   "threshold": 6,
   "toc_cell": true,
   "toc_section_display": "block",
   "toc_window_display": false
  }
 },
 "nbformat": 4,
 "nbformat_minor": 0
}
