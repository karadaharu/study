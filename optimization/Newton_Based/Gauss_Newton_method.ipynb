{
 "cells": [
  {
   "cell_type": "markdown",
   "metadata": {
    "toc": "true"
   },
   "source": [
    "# Table of Contents\n",
    " <p><div class=\"lev2\"><a href=\"#非線形最小二乗法\"><span class=\"toc-item-num\">0.1&nbsp;&nbsp;</span>非線形最小二乗法</a></div><div class=\"lev3\"><a href=\"#勾配方程式への帰着\"><span class=\"toc-item-num\">0.1.1&nbsp;&nbsp;</span>勾配方程式への帰着</a></div><div class=\"lev3\"><a href=\"#数値解法\"><span class=\"toc-item-num\">0.1.2&nbsp;&nbsp;</span>数値解法</a></div><div class=\"lev2\"><a href=\"#Newton法\"><span class=\"toc-item-num\">0.2&nbsp;&nbsp;</span>Newton法</a></div><div class=\"lev3\"><a href=\"#N変数、M&gt;N個の方程式がある場合への拡張\"><span class=\"toc-item-num\">0.2.1&nbsp;&nbsp;</span>N変数、M&gt;N個の方程式がある場合への拡張</a></div><div class=\"lev2\"><a href=\"#References\"><span class=\"toc-item-num\">0.3&nbsp;&nbsp;</span>References</a></div>"
   ]
  },
  {
   "cell_type": "markdown",
   "metadata": {},
   "source": [
    "非線形最小二乗法を解く手法のひとつ。\n",
    "\n",
    "## 非線形最小二乗法\n",
    "m個のデータ点に対し、n個のパラメータをもつ関数\n",
    "\n",
    "$y=f(x,\\beta)$\n",
    "\n",
    "をあてはめる場合を考える。\n",
    "\n",
    "（規格化された）残差平方和$S(\\beta)$が最小となるような$\\beta$を探すのが最小二乗法。その他の尺度もある。\n",
    "\n",
    "$S(\\beta)=\\sum_{i}\\frac{r^{2}_{i}}{2\\sigma^{2}_{i}}=\\sum_{i}\\frac{(y_{i}-f(x_{i},\\beta))^{2}}{2\\sigma^{2}_{i}}$"
   ]
  },
  {
   "cell_type": "markdown",
   "metadata": {},
   "source": [
    "### 勾配方程式への帰着\n",
    "$S(\\beta)$が最小となる必要条件は、grad Sが0になることである。したがって、$S(\\beta)$を最小とする$\\beta$は次の連立方程式の解である。\n",
    "\n",
    "$\\frac{\\partial S}{\\partial \\beta_{j}}=\\sum_{i} \\frac{r_{i}}{\\sigma_{i}}\\frac{\\partial r_{i}}{\\partial \\beta_{j}}=0$\n",
    "\n",
    "### 数値解法\n",
    "線形の場合は、勾配方程式は連立一次方程式になるので、行列で解けるが、非線形最小二乗法では反復解法を用いる必要がある。"
   ]
  },
  {
   "cell_type": "markdown",
   "metadata": {},
   "source": [
    "## Newton法\n",
    "f(x)=0となる点xを見つける方法。\n",
    "\n",
    "$f:\\mathbb{R}^{N}\\rightarrow\\mathbb{R}^{N}$\n",
    "\n",
    "とする。\n",
    "\n",
    "テイラー展開すると、\n",
    "\n",
    "$f_{i}(x+\\delta x) \\simeq f_{i}(x) + \\sum_{j}\\frac{\\partial f_{i}(x)}{\\partial x_{j}}\\delta x_{j}$\n",
    "\n",
    "よって、N個の関数は\n",
    "\n",
    "$f(x+\\delta x) = f(x) + J \\delta x$\n",
    "\n",
    "ここでJはヤコビアン\n",
    "\n",
    "$f(x+\\delta x)=0$となるのは\n",
    "\n",
    "$\\delta x  = J^{-1}[f(x+\\delta x) - f(x)]=  - J^{-1}f(x)$"
   ]
  },
  {
   "cell_type": "markdown",
   "metadata": {},
   "source": [
    "### N変数、M>N個の方程式がある場合への拡張\n",
    "MxNのヤコビアンは逆行列を持たない。この場合、疑似逆行列$J^{-}=(J^{T}J)^{-1}J^{T}$を使って、\n",
    "\n",
    "$x_{n+1}=x_{n} - J^{-}_{n}f(x_n)$\n",
    "\n",
    "とする。つまり、ステップ$\\delta x$は\n",
    "\n",
    "$J^{T}J \\delta x = J^{T}f(x)$\n",
    "\n"
   ]
  },
  {
   "cell_type": "markdown",
   "metadata": {
    "collapsed": true
   },
   "source": [
    "## References\n",
    "1. [Newton-Raphson method (multivariate)](http://fourier.eng.hmc.edu/e176/lectures/NM/node21.html)"
   ]
  },
  {
   "cell_type": "code",
   "execution_count": null,
   "metadata": {
    "collapsed": true
   },
   "outputs": [],
   "source": []
  }
 ],
 "metadata": {
  "kernelspec": {
   "display_name": "Python 3",
   "language": "python",
   "name": "python3"
  },
  "language_info": {
   "codemirror_mode": {
    "name": "ipython",
    "version": 3
   },
   "file_extension": ".py",
   "mimetype": "text/x-python",
   "name": "python",
   "nbconvert_exporter": "python",
   "pygments_lexer": "ipython3",
   "version": "3.5.1"
  },
  "nav_menu": {},
  "toc": {
   "navigate_menu": true,
   "number_sections": true,
   "sideBar": false,
   "threshold": 6,
   "toc_cell": true,
   "toc_section_display": "block",
   "toc_window_display": false
  }
 },
 "nbformat": 4,
 "nbformat_minor": 0
}
