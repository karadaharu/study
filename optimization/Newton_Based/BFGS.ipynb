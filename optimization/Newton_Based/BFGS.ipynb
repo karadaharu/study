{
 "cells": [
  {
   "cell_type": "markdown",
   "metadata": {
    "toc": "true"
   },
   "source": [
    "# Table of Contents\n",
    " <p><div class=\"lev2\"><a href=\"#概略\"><span class=\"toc-item-num\">0.1&nbsp;&nbsp;</span>概略</a></div><div class=\"lev2\"><a href=\"#準ニュートン法\"><span class=\"toc-item-num\">0.2&nbsp;&nbsp;</span>準ニュートン法</a></div><div class=\"lev2\"><a href=\"#ニュートン法\"><span class=\"toc-item-num\">0.3&nbsp;&nbsp;</span>ニュートン法</a></div><div class=\"lev2\"><a href=\"#References\"><span class=\"toc-item-num\">0.4&nbsp;&nbsp;</span>References</a></div>"
   ]
  },
  {
   "cell_type": "markdown",
   "metadata": {},
   "source": [
    "## 概略\n",
    "Broyden–Fletcher–Goldfarb–Shanno algorithmは非制約非線形最適化問題を解く反復法のひとつ。準ニュートン法の一種。"
   ]
  },
  {
   "cell_type": "markdown",
   "metadata": {},
   "source": [
    "## 準ニュートン法\n",
    "準ニュートン法とは、連続最適化問題の関数の極大・極小解を見つけるためのアルゴリズムです。準ニュートン法はニュートン法をもとにしており、関数の勾配が0になるという意味での関数の不動点を見つけるための方法の一種です。\n",
    "\n",
    "$f(x)$の２階のテイラー展開は\n",
    "\n",
    "$f(x_{k}+\\Delta x) \\simeq f(x_{k}) + \\nabla f(x_{k})^{T}\\Delta x + \\frac{1}{2}\\Delta x^{T} B \\Delta x$\n",
    "\n",
    "ここで、$\\nabla f$は勾配、$B$はヘッセ行列の近似を表します。\n",
    "\n",
    "$\\nabla f$はさらに次のように近似されます。\n",
    "\n",
    "$\\nabla f(x_{k} + \\Delta x) \\simeq \\nabla f(x_{k}) + B \\Delta x$\n",
    "\n",
    "勾配が0になると仮定すると、ニュートン・ステップが次の式で計算されます。\n",
    "\n",
    "$\\Delta x = - B^{-1} \\nabla f(x_{k})$\n",
    "\n",
    "そこで、ヘッセ行列の近似Bは次の式を満たすように行なわます。\n",
    "\n",
    "$\\nabla f(x_{k} + \\Delta x) = \\nabla f(x_{k}) + B \\Delta x$\n",
    "\n",
    "この方程式はセカント方程式と呼ばれます。fが1次より大きな次元の空間で定義される関数であるとき、この式からBを求める問題は未制約問題になります（式の数よりも未知数の数が多い問題のこと）。\n",
    "準ニュートン法ごとにことのセカント方程式の解の選び方が異なっています。\n",
    "\n",
    "アルゴリズムをまとめると以下のようになります。\n",
    "\n",
    "1. $\\Delta x_{k} = -\\alpha B^{-1}_{k} \\nabla f(x_{k})$\n",
    "2. $x_{k+1}= x_{k} + \\Delta x_{k}$\n",
    "3. 新しい点での勾配$f(x_{k+1})$を計算し、$y_{k}=\\nabla f(x_{k+1})-\\nabla f(x_{k})$とする\n",
    "4. $y_{k}$を用いてヘッセ行列の逆行列$B^{-1}_{k+1}$を直接近似する\n",
    "\n"
   ]
  },
  {
   "cell_type": "markdown",
   "metadata": {},
   "source": [
    "## ニュートン法\n",
    "方程式を数値計算によって解くための反復法による求根アルゴリズムです。対象とする方程式の条件は、領域における微分可能性と二次微分に関する符号だけです。\n",
    "\n",
    "（根 : 関数の値が0となる場所 )\n",
    "\n",
    "$f(x)=0$\n",
    "\n",
    "の解を考えます。$f(x)$を$x=x_{0}$でテーラー展開すると、\n",
    "\n",
    "$f(x)=f(x_{0})+f'(x_{0})(x-x_{0})+o((x-x_{0}))$\n",
    "\n",
    "このとき、右辺=0の解は、左辺=0の根の$x_{0}$での多項式次数一次の近似となっています。\n",
    "\n",
    "次に、この近似値が、$x_{0}$より根に近づいているということに関する意味を考えます。上式を次のような離散力学系として考えます。\n",
    "\n",
    "$g(x)=x-\\frac{f(x)}{f'(x)}\\\\\n",
    "x_{n+1}=g(x_{n})$\n",
    "\n",
    "この力学系において、$f(x^{*})=0$となる$x^{*}$は、このとき$g(x^{*})=x^{*}$となり、明らかに固定点です。したがって、$x^{*}$がアトラクターであり、与えられた初期条件がこのアトラクターの吸引領域に属していれば、$x_{n}$の極限は$x^{*}$に収束します。\n",
    "\n",
    "この方法を最適化の問題に利用することができます。\n",
    "\n",
    "http://dsl4.eee.u-ryukyu.ac.jp/DOCS/nlp/node5.html"
   ]
  },
  {
   "cell_type": "markdown",
   "metadata": {
    "collapsed": true
   },
   "source": [
    "## References\n",
    "1. [wikipedia: Broyden–Fletcher–Goldfarb–Shanno algorithm](https://en.wikipedia.org/wiki/Broyden%E2%80%93Fletcher%E2%80%93Goldfarb%E2%80%93Shanno_algorithm)"
   ]
  },
  {
   "cell_type": "code",
   "execution_count": null,
   "metadata": {
    "collapsed": true
   },
   "outputs": [],
   "source": []
  }
 ],
 "metadata": {
  "kernelspec": {
   "display_name": "Python 3",
   "language": "python",
   "name": "python3"
  },
  "language_info": {
   "codemirror_mode": {
    "name": "ipython",
    "version": 3
   },
   "file_extension": ".py",
   "mimetype": "text/x-python",
   "name": "python",
   "nbconvert_exporter": "python",
   "pygments_lexer": "ipython3",
   "version": "3.5.1"
  },
  "nav_menu": {},
  "toc": {
   "navigate_menu": true,
   "number_sections": true,
   "sideBar": false,
   "threshold": 6,
   "toc_cell": true,
   "toc_section_display": "block",
   "toc_window_display": false
  }
 },
 "nbformat": 4,
 "nbformat_minor": 0
}
