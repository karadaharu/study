{
 "cells": [
  {
   "cell_type": "markdown",
   "metadata": {
    "toc": "true"
   },
   "source": [
    "# Table of Contents\n",
    " <p><div class=\"lev2\"><a href=\"#潜在的な問題と解\"><span class=\"toc-item-num\">0.1&nbsp;&nbsp;</span>潜在的な問題と解</a></div><div class=\"lev2\"><a href=\"#Reference\"><span class=\"toc-item-num\">0.2&nbsp;&nbsp;</span>Reference</a></div>"
   ]
  },
  {
   "cell_type": "markdown",
   "metadata": {},
   "source": [
    "## 潜在的な問題と解\n",
    "目的関数と制約関数の微分値を使うとき、ODEの数値解では、微分値が0になったり、逆に増幅されたりする\n",
    "\n",
    "→ 勾配の情報を使わない直接探索法を使う\n",
    "\n",
    "$\\frac{dz}{dt}=G\\\\\n",
    "y=\\frac{dz}{dx}\\\\\n",
    "\\frac{dy}{dt}= \\frac{d^{2}z}{dxdt}$"
   ]
  },
  {
   "cell_type": "markdown",
   "metadata": {},
   "source": [
    "## Reference\n",
    "1. [mathworks:シミュレーションまたは常微分方程式の最適化](https://jp.mathworks.com/help/optim/ug/optimizing-a-simulation-or-ordinary-differential-equation.html)\n",
    "1. [Optimize an ODE in Parallel](https://jp.mathworks.com/help/gads/optimize-an-ode-in-parallel.html)\n",
    "1. [How to fit the parameters of differential equations with known data?](http://mathoverflow.net/questions/178192/how-to-fit-the-parameters-of-differential-equations-with-known-data)"
   ]
  },
  {
   "cell_type": "code",
   "execution_count": null,
   "metadata": {
    "collapsed": true
   },
   "outputs": [],
   "source": []
  }
 ],
 "metadata": {
  "kernelspec": {
   "display_name": "Python 3",
   "language": "python",
   "name": "python3"
  },
  "language_info": {
   "codemirror_mode": {
    "name": "ipython",
    "version": 3
   },
   "file_extension": ".py",
   "mimetype": "text/x-python",
   "name": "python",
   "nbconvert_exporter": "python",
   "pygments_lexer": "ipython3",
   "version": "3.5.1"
  },
  "nav_menu": {},
  "toc": {
   "navigate_menu": true,
   "number_sections": true,
   "sideBar": false,
   "threshold": 6,
   "toc_cell": true,
   "toc_section_display": "block",
   "toc_window_display": false
  }
 },
 "nbformat": 4,
 "nbformat_minor": 0
}
