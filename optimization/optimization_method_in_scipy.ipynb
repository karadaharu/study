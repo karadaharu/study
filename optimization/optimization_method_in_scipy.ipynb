{
 "cells": [
  {
   "cell_type": "markdown",
   "metadata": {
    "toc": "true"
   },
   "source": [
    "# Table of Contents\n",
    " <p><div class=\"lev2\"><a href=\"#Unconstrained-minimization-of-multivariate-scalar-functions-(minimize)\"><span class=\"toc-item-num\">0.1&nbsp;&nbsp;</span>Unconstrained minimization of multivariate scalar functions (minimize)</a></div><div class=\"lev2\"><a href=\"#Unconstrained-minimization-of-multivariate-scalar-functions-(minimize)\"><span class=\"toc-item-num\">0.2&nbsp;&nbsp;</span>Unconstrained minimization of multivariate scalar functions (minimize)</a></div><div class=\"lev3\"><a href=\"#BFGS-(Broyden–Fletcher–Goldfarb–Shanno-algorithm)\"><span class=\"toc-item-num\">0.2.1&nbsp;&nbsp;</span>BFGS (Broyden–Fletcher–Goldfarb–Shanno algorithm)</a></div><div class=\"lev3\"><a href=\"#L-BFGS-B-:-Limited-memory-BFGS\"><span class=\"toc-item-num\">0.2.2&nbsp;&nbsp;</span>L-BFGS-B : Limited-memory BFGS</a></div><div class=\"lev3\"><a href=\"#SLSQP-:-Sequential-Least-Squares-Programming\"><span class=\"toc-item-num\">0.2.3&nbsp;&nbsp;</span>SLSQP : Sequential Least Squares Programming</a></div><div class=\"lev2\"><a href=\"#least-square\"><span class=\"toc-item-num\">0.3&nbsp;&nbsp;</span>least square</a></div><div class=\"lev4\"><a href=\"#ftol\"><span class=\"toc-item-num\">0.3.0.1&nbsp;&nbsp;</span>ftol</a></div><div class=\"lev4\"><a href=\"#x_scale\"><span class=\"toc-item-num\">0.3.0.2&nbsp;&nbsp;</span>x_scale</a></div><div class=\"lev3\"><a href=\"#Trust-Region-Reflective-algorithm\"><span class=\"toc-item-num\">0.3.1&nbsp;&nbsp;</span>Trust Region Reflective algorithm</a></div><div class=\"lev2\"><a href=\"#References\"><span class=\"toc-item-num\">0.4&nbsp;&nbsp;</span>References</a></div>"
   ]
  },
  {
   "cell_type": "markdown",
   "metadata": {},
   "source": [
    "## Unconstrained minimization of multivariate scalar functions (minimize)\n"
   ]
  },
  {
   "cell_type": "markdown",
   "metadata": {},
   "source": [
    "## Unconstrained minimization of multivariate scalar functions (minimize)\n",
    "\n",
    "\n",
    "minimizeのデフォルトでは、BFGS, L-BFGS-B, SLSQPのなかから、境界条件があるかどうかで適切なアルゴリズムが選ばれる。\n",
    "\n",
    "least_squaresでは異なる。Trust Region Reflective algorithm"
   ]
  },
  {
   "cell_type": "markdown",
   "metadata": {},
   "source": [
    "### BFGS (Broyden–Fletcher–Goldfarb–Shanno algorithm)\n",
    "\n",
    "https://en.wikipedia.org/wiki/Broyden%E2%80%93Fletcher%E2%80%93Goldfarb%E2%80%93Shanno_algorithm\n",
    "\n",
    "非制約非線形最適化問題を解く反復法のひとつ。\n",
    "\n"
   ]
  },
  {
   "cell_type": "markdown",
   "metadata": {},
   "source": [
    "### L-BFGS-B : Limited-memory BFGS\n",
    "https://en.wikipedia.org/wiki/Limited-memory_BFGS#L-BFGS-B\n",
    "\n",
    "L-BFGSは、BFGSを近似した、準ニュートン法に属する最適化アルゴリズムのひとつ。\n",
    "\n",
    "範囲制約を扱えるように拡張したのが、L-BFGS-B\n",
    "\n"
   ]
  },
  {
   "cell_type": "markdown",
   "metadata": {},
   "source": [
    "### SLSQP : Sequential Least Squares Programming\n",
    "\n",
    "http://www.pyopt.org/reference/optimizers.slsqp.html\n",
    "\n",
    "B行列の更新にBFGSを、ステップ長アルゴリズムにL1-test関数を使った、Han-Powell 準ニュートン法によるアルゴリズム"
   ]
  },
  {
   "cell_type": "markdown",
   "metadata": {},
   "source": [
    "## least square\n",
    "\n",
    "$\\min_{x} \\frac{1}{2} \\sum_{i=1}^{m} \\rho (f_{i}(x)^{2})$\n",
    "\n",
    "$\\rm{lb} \\leq x \\leq \\rm{ub}$の条件の中でxを求める。\n",
    "\n",
    "iはデータ点の数。$f_{i}(x)$は$R^{n}\\rightarrow R$\n",
    "\n",
    "least-squares最小化の手法はヤコビアン$J_{ij}=\\frac{\\partial f_{i}}{\\partial x_{j}}$を活用する。引数に与えられないと推定するが、うまくいかないことがある。\n",
    "\n",
    "\n",
    "\n",
    "\n",
    "\n",
    "次の3つのアルゴリズムから適宜選ぶ\n",
    "\n",
    "1. Trust Region Reflective algorithm\n",
    "2. dogleg algorithm with rectangular trust regions\n",
    "3. Levenberg-Marquardt algorithm\n",
    "\n",
    "\n"
   ]
  },
  {
   "cell_type": "code",
   "execution_count": 3,
   "metadata": {
    "collapsed": false
   },
   "outputs": [
    {
     "name": "stdout",
     "output_type": "stream",
     "text": [
      "`ftol` termination condition is satisfied.\n",
      "Function evaluations 130, initial cost 4.4383e+00, final cost 1.5375e-04, first-order optimality 4.92e-08.\n",
      "[ 0.19280596  0.19130423  0.12306063  0.13607247]\n"
     ]
    },
    {
     "data": {
      "image/png": "[encoded data removed]",
      "text/plain": [
       "<matplotlib.figure.Figure at 0x10bb62be0>"
      ]
     },
     "metadata": {},
     "output_type": "display_data"
    }
   ],
   "source": [
    "import matplotlib.pyplot as plt\n",
    "from scipy.optimize import least_squares\n",
    "\n",
    "def model(x, u):\n",
    "    return x[0] * (u ** 2 + x[1] * u) / (u ** 2 + x[2] * u + x[3])\n",
    "\n",
    "def fun(x, u, y):\n",
    "    return model(x, u) - y\n",
    "\n",
    "def jac(x, u, y):\n",
    "    J = np.empty((u.size, x.size))\n",
    "    den = u ** 2 + x[2] * u + x[3]\n",
    "    num = u ** 2 + x[1] * u\n",
    "    J[:, 0] = num / den\n",
    "    J[:, 1] = x[0] * u / den\n",
    "    J[:, 2] = -x[0] * num * u / den ** 2\n",
    "    J[:, 3] = -x[0] * num / den ** 2\n",
    "    return J\n",
    "\n",
    "u = np.array([4.0, 2.0, 1.0, 5.0e-1, 2.5e-1, 1.67e-1, 1.25e-1, 1.0e-1,\n",
    "              8.33e-2, 7.14e-2, 6.25e-2])\n",
    "y = np.array([1.957e-1, 1.947e-1, 1.735e-1, 1.6e-1, 8.44e-2, 6.27e-2,\n",
    "              4.56e-2, 3.42e-2, 3.23e-2, 2.35e-2, 2.46e-2])\n",
    "x0 = np.array([2.5, 3.9, 4.15, 3.9])\n",
    "res = least_squares(fun, x0, jac=jac, bounds=(0, 100), args=(u, y), verbose=1)\n",
    "# res = least_squares(fun, x0, bounds=(0, 100), args=(u, y), verbose=1)\n",
    "# res = least_squares(fun, x0, bounds=(0, 100), args=(u, y), verbose=1, x_scale=[1.0E-15,1.0E-15,1.0E-15, 1.0E-15 ])\n",
    "\n",
    "print(res.x)\n",
    "\n",
    "u_test = np.linspace(0, 5)\n",
    "y_test = model(res.x, u_test)\n",
    "plt.plot(u, y, 'o', markersize=4, label='data')\n",
    "plt.plot(u_test, y_test, label='fitted model')\n",
    "plt.xlabel(\"u\")\n",
    "plt.ylabel(\"y\")\n",
    "plt.legend(loc='lower right')\n",
    "plt.show()"
   ]
  },
  {
   "cell_type": "markdown",
   "metadata": {
    "collapsed": true
   },
   "source": [
    "引数\n",
    "\n",
    "#### ftol\n",
    "dF < ftol * Fになったら更新が終わる\n",
    "\n",
    "dF : \n",
    "F : \n",
    "\n",
    "#### x_scale"
   ]
  },
  {
   "cell_type": "markdown",
   "metadata": {},
   "source": []
  },
  {
   "cell_type": "markdown",
   "metadata": {
    "collapsed": true
   },
   "source": [
    "### Trust Region Reflective algorithm\n",
    "信頼領域：ある関数$f:\\mathcal{R}^{N}\\rightarrow \\mathcal{R}$の最小値を求めるときに、ある点xの近傍においてfを簡単な関数qで近似する。この近傍領域を信頼領域(trust region)と呼ぶ。\n",
    "\n",
    "これによって、信頼領域Nにおいて最小の値を探す、部分問題になる。\n",
    "\n",
    "$\\rm{argmin}_{s}{q(s), s\\in N}$\n",
    "\n",
    "f(x+s) < f(x)ならx+sに値がアップデートされ、そうでない場合はxのままで信頼領域Nが小さくなり計算が進められる。\n",
    "\n",
    "問題は\n",
    "\n",
    "* qをどう近似するか\n",
    "* Nをどう選ぶ・更新するか\n",
    "* 部分問題でどれくらい正確に計算するか\n",
    "\n",
    "\n"
   ]
  },
  {
   "cell_type": "markdown",
   "metadata": {},
   "source": [
    "## References\n",
    "1. [scipy: Optimization](https://docs.scipy.org/doc/scipy/reference/tutorial/optimize.html)\n",
    "2. [mathworks:シミュレーションまたは常微分方程式の最適化](https://jp.mathworks.com/help/optim/ug/optimizing-a-simulation-or-ordinary-differential-equation.html)"
   ]
  },
  {
   "cell_type": "code",
   "execution_count": null,
   "metadata": {
    "collapsed": true
   },
   "outputs": [],
   "source": []
  }
 ],
 "metadata": {
  "kernelspec": {
   "display_name": "Python 3",
   "language": "python",
   "name": "python3"
  },
  "language_info": {
   "codemirror_mode": {
    "name": "ipython",
    "version": 3
   },
   "file_extension": ".py",
   "mimetype": "text/x-python",
   "name": "python",
   "nbconvert_exporter": "python",
   "pygments_lexer": "ipython3",
   "version": "3.5.1"
  },
  "nav_menu": {},
  "toc": {
   "navigate_menu": true,
   "number_sections": false,
   "sideBar": false,
   "threshold": 6,
   "toc_cell": true,
   "toc_section_display": "block",
   "toc_window_display": false
  }
 },
 "nbformat": 4,
 "nbformat_minor": 0
}
