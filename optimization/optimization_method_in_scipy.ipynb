{
 "cells": [
  {
   "cell_type": "markdown",
   "metadata": {
    "toc": "true"
   },
   "source": [
    "# Table of Contents\n",
    " <p><div class=\"lev1\"><a href=\"#BFGS-(Broyden–Fletcher–Goldfarb–Shanno-algorithm)\"><span class=\"toc-item-num\">1&nbsp;&nbsp;</span>BFGS (Broyden–Fletcher–Goldfarb–Shanno algorithm)</a></div><div class=\"lev1\"><a href=\"#L-BFGS-B-:-Limited-memory-BFGS\"><span class=\"toc-item-num\">2&nbsp;&nbsp;</span>L-BFGS-B : Limited-memory BFGS</a></div><div class=\"lev1\"><a href=\"#SLSQP-:-Sequential-Least-Squares-Programming\"><span class=\"toc-item-num\">3&nbsp;&nbsp;</span>SLSQP : Sequential Least Squares Programming</a></div>"
   ]
  },
  {
   "cell_type": "markdown",
   "metadata": {},
   "source": [
    "minimizeのデフォルトでは、BFGS, L-BFGS-B, SLSQPのなかから、境界条件があるかどうかで適切なアルゴリズムが選ばれる。\n",
    "\n",
    "least_squaresでは異なる。Trust Region Reflective algorithm"
   ]
  },
  {
   "cell_type": "markdown",
   "metadata": {},
   "source": [
    "## BFGS (Broyden–Fletcher–Goldfarb–Shanno algorithm)\n",
    "\n",
    "https://en.wikipedia.org/wiki/Broyden%E2%80%93Fletcher%E2%80%93Goldfarb%E2%80%93Shanno_algorithm\n",
    "\n",
    "非制約非線形最適化問題を解く反復法のひとつ。\n",
    "\n"
   ]
  },
  {
   "cell_type": "markdown",
   "metadata": {},
   "source": [
    "## L-BFGS-B : Limited-memory BFGS\n",
    "https://en.wikipedia.org/wiki/Limited-memory_BFGS#L-BFGS-B\n",
    "\n",
    "L-BFGSは、BFGSを近似した、準ニュートン法に属する最適化アルゴリズムのひとつ。\n",
    "\n",
    "範囲制約を扱えるように拡張したのが、L-BFGS-B\n",
    "\n"
   ]
  },
  {
   "cell_type": "markdown",
   "metadata": {},
   "source": [
    "## SLSQP : Sequential Least Squares Programming\n",
    "\n",
    "http://www.pyopt.org/reference/optimizers.slsqp.html\n",
    "\n",
    "B行列の更新にBFGSを、ステップ長アルゴリズムにL1-test関数を使った、Han-Powell 準ニュートン法によるアルゴリズム"
   ]
  },
  {
   "cell_type": "markdown",
   "metadata": {},
   "source": []
  }
 ],
 "metadata": {
  "kernelspec": {
   "display_name": "Python 3",
   "language": "python",
   "name": "python3"
  },
  "language_info": {
   "codemirror_mode": {
    "name": "ipython",
    "version": 3
   },
   "file_extension": ".py",
   "mimetype": "text/x-python",
   "name": "python",
   "nbconvert_exporter": "python",
   "pygments_lexer": "ipython3",
   "version": "3.5.1"
  },
  "nav_menu": {},
  "toc": {
   "navigate_menu": true,
   "number_sections": true,
   "sideBar": false,
   "threshold": 6,
   "toc_cell": true,
   "toc_section_display": "block",
   "toc_window_display": false
  }
 },
 "nbformat": 4,
 "nbformat_minor": 0
}
