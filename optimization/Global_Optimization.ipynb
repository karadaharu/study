{
 "cells": [
  {
   "cell_type": "markdown",
   "metadata": {
    "toc": "true"
   },
   "source": [
    "# Table of Contents\n",
    " <p><div class=\"lev2\"><a href=\"#大域最適化\"><span class=\"toc-item-num\">0.1&nbsp;&nbsp;</span>大域最適化</a></div><div class=\"lev3\"><a href=\"#Scipyでの実装\"><span class=\"toc-item-num\">0.1.1&nbsp;&nbsp;</span>Scipyでの実装</a></div><div class=\"lev2\"><a href=\"#basin-hopping\"><span class=\"toc-item-num\">0.2&nbsp;&nbsp;</span>basin-hopping</a></div>"
   ]
  },
  {
   "cell_type": "markdown",
   "metadata": {},
   "source": [
    "## 大域最適化\n",
    "### Scipyでの実装\n",
    "basinhoppingとdifferential_evolutionのふたつ\n",
    "\n",
    "basinhoppingでは各ステップではminimize関数が使われる。\n",
    "\n"
   ]
  },
  {
   "cell_type": "markdown",
   "metadata": {},
   "source": [
    "## basin-hopping\n",
    "\n",
    "1. 座標に摂動を加える\n",
    "2. 局所最小値を求める\n",
    "3. その座標を受理するまたは破棄する\n",
    "\n",
    "scipyでは3でのacceptance testとして基本的なモンテカルロ法のメトロポリス基準が使われている\n",
    "\n"
   ]
  },
  {
   "cell_type": "code",
   "execution_count": null,
   "metadata": {
    "collapsed": true
   },
   "outputs": [],
   "source": []
  }
 ],
 "metadata": {
  "kernelspec": {
   "display_name": "Python 3",
   "language": "python",
   "name": "python3"
  },
  "language_info": {
   "codemirror_mode": {
    "name": "ipython",
    "version": 3
   },
   "file_extension": ".py",
   "mimetype": "text/x-python",
   "name": "python",
   "nbconvert_exporter": "python",
   "pygments_lexer": "ipython3",
   "version": "3.5.1"
  },
  "nav_menu": {},
  "toc": {
   "navigate_menu": true,
   "number_sections": true,
   "sideBar": false,
   "threshold": 6,
   "toc_cell": true,
   "toc_section_display": "block",
   "toc_window_display": false
  }
 },
 "nbformat": 4,
 "nbformat_minor": 0
}
