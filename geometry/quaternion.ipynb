{
 "cells": [
  {
   "cell_type": "markdown",
   "metadata": {
    "toc": "true"
   },
   "source": [
    "# Table of Contents\n",
    " <p><div class=\"lev2\"><a href=\"#四元数とは\"><span class=\"toc-item-num\">0.1&nbsp;&nbsp;</span>四元数とは</a></div><div class=\"lev2\"><a href=\"#３次元中の回転\"><span class=\"toc-item-num\">0.2&nbsp;&nbsp;</span>３次元中の回転</a></div><div class=\"lev2\"><a href=\"#群との関連\"><span class=\"toc-item-num\">0.3&nbsp;&nbsp;</span>群との関連</a></div><div class=\"lev2\"><a href=\"#参考文献\"><span class=\"toc-item-num\">0.4&nbsp;&nbsp;</span>参考文献</a></div>"
   ]
  },
  {
   "cell_type": "markdown",
   "metadata": {
    "collapsed": true
   },
   "source": [
    "## 四元数とは\n",
    "$q=a+bi+cj+dk$\n",
    "\n",
    "$i^2=j^2=k^2=-1$\n",
    "$ij=k,ji=-k$\n",
    "\n"
   ]
  },
  {
   "cell_type": "markdown",
   "metadata": {},
   "source": [
    "ノルム : $|q|^2=\\sqrt{a^2+b^2+c^2+d^2}$\n",
    "\n",
    "共役 : $\\bar{q}=a-bi-cj-dk$\n",
    "\n",
    "逆数 : $q^{-1}q=1$ $q^{-1}=\\frac{\\bar{q}}{|q|^2}$\n",
    "\n",
    "**四元数は積に関して交換法則が成立しない**\n",
    "\n",
    "**ハミルトン積**\n",
    "ふつうに分配して、i,j,kについては決まったやり方をすれば計算できる。"
   ]
  },
  {
   "cell_type": "markdown",
   "metadata": {},
   "source": [
    "## ３次元中の回転\n",
    "回転軸と角度を指定する\n",
    "\n",
    "軸の方向ベクトルを$u=(u_x,u_y,u_z)$\n",
    "とおく($|u|=1$となるよう正規化されているとする)\n",
    "\n",
    "回転角度を右ねじの方向に$\\theta$とする\n",
    "\n",
    "この回転に対応する四元数を以下のように定める\n",
    "\n",
    "$q=\\cos\\frac{\\theta}{2}+(u_xi+u_yj+u_zk)\\sin\\frac{\\theta}{2}$"
   ]
  },
  {
   "cell_type": "markdown",
   "metadata": {},
   "source": [
    "３次元空間中のベクトル$a=(a_x,a_y,a_z)$に対応する四元数を$a_xi+a_yj+a_zk$とする。\n",
    "\n",
    "このときベクトル$a$に対して$q$が定める回転を作用させると$b=qa\\bar{q}$になる。"
   ]
  },
  {
   "cell_type": "markdown",
   "metadata": {},
   "source": [
    "## 群との関連\n",
    "４元数の行列表現は少なくともふたつ。ひとつは2x2複素行列、もうひとつは、4x4実行列。\n",
    "\n",
    "四元数$a+bi+cj+dk$は、複素行列表示すると\n",
    "\n",
    "$\\left(\\begin{array}{cc}a+bi & c+di \\\\ -c+di & a-bi \\end{array}\\right)$"
   ]
  },
  {
   "cell_type": "markdown",
   "metadata": {},
   "source": [
    "* ふつうの複素数(c=d=0)は、対角行列に対応する\n",
    "* 共役な四元数は対応する行列のエルミート共役\n",
    "* 単位四元数に制限すれば、この表現は$S^3$とSU(2)との間の同型を与える\n",
    "\n",
    "**同型**\n",
    "ふたつの群G,G'があり、元$g\\in G$と$g'\\in G'$のあいだに１対１の対応があり、\n",
    "\n",
    "積の関係$g_ig_j=g_k$に対応して$g'_ig'_j=g'_k$が成り立つとき、群GとG'は同型であるといい、$G\\simeq G'$と書く。\n"
   ]
  },
  {
   "cell_type": "markdown",
   "metadata": {},
   "source": [
    "$\\left(\\begin{array}{cc}a_1+b_1i & c_1+d_1i \\\\ -c_1+d_1i & a_1-b_1i \\end{array}\\right)\\left(\\begin{array}{cc}a_2+b_2i & c_2+d_2i \\\\ -c_2+d_2i & a_2-b_2i \\end{array}\\right)  $\n",
    "\n",
    "の左上成分は$a_1a_2-b_1b_2-c_1c_2-d_1d_2+i(a_1b_2+b_1a_2+c_1d_2-d_1c_2)$\n",
    "となり、たしかに積になっている。"
   ]
  },
  {
   "cell_type": "markdown",
   "metadata": {},
   "source": [
    "複素行列は生成子\n",
    "\n",
    "$U=\\left(\\begin{array}{cc}1&0\\\\0&1\\end{array}\\right)$\n",
    "$I=\\left(\\begin{array}{cc}i&0\\\\0&-i\\end{array}\\right)$\n",
    "$J=\\left(\\begin{array}{cc}0&1\\\\-1&0\\end{array}\\right)$\n",
    "$K=\\left(\\begin{array}{cc}0&i\\\\i&0\\end{array}\\right)$\n",
    "\n",
    "を用いて表される。\n",
    "これはパウリ行列と結びついている。\n",
    "\n"
   ]
  },
  {
   "cell_type": "markdown",
   "metadata": {},
   "source": [
    "## 参考文献\n",
    "* http://mathtrain.jp/quaternion\n",
    "* https://ja.wikipedia.org/wiki/四元数\n",
    "* [quaternion.pdf](http://nishilab-osaka-u.sakura.ne.jp/people/hamaguchi/%C2%95%EF%83%8E%C2%94%EF%83%B7%C2%95%EF%82%AA%C2%8Cv%EF%82%8EZ/%C2%83N%C2%83H%C2%81%5B%C2%83%5E%C2%83j%C2%83I%C2%83%C2%93%C2%81i%C2%8B%EF%83%A0%C2%92J%C2%88%EF%83%AA%C2%98Y%C2%81j.pdf)\n"
   ]
  },
  {
   "cell_type": "code",
   "execution_count": null,
   "metadata": {
    "collapsed": true
   },
   "outputs": [],
   "source": []
  }
 ],
 "metadata": {
  "kernelspec": {
   "display_name": "Python 3",
   "language": "python",
   "name": "python3"
  },
  "language_info": {
   "codemirror_mode": {
    "name": "ipython",
    "version": 3
   },
   "file_extension": ".py",
   "mimetype": "text/x-python",
   "name": "python",
   "nbconvert_exporter": "python",
   "pygments_lexer": "ipython3",
   "version": "3.5.2"
  },
  "nav_menu": {},
  "toc": {
   "navigate_menu": true,
   "number_sections": true,
   "sideBar": false,
   "threshold": 6,
   "toc_cell": true,
   "toc_section_display": "block",
   "toc_window_display": false
  }
 },
 "nbformat": 4,
 "nbformat_minor": 0
}
