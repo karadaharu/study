{
 "cells": [
  {
   "cell_type": "markdown",
   "metadata": {
    "toc": "true"
   },
   "source": [
    "# Table of Contents\n",
    " <p><div class=\"lev2\"><a href=\"#応用例\"><span class=\"toc-item-num\">0.1&nbsp;&nbsp;</span>応用例</a></div><div class=\"lev2\"><a href=\"#Needleman-Wunsch\"><span class=\"toc-item-num\">0.2&nbsp;&nbsp;</span>Needleman-Wunsch</a></div><div class=\"lev2\"><a href=\"#参考文献\"><span class=\"toc-item-num\">0.3&nbsp;&nbsp;</span>参考文献</a></div>"
   ]
  },
  {
   "cell_type": "markdown",
   "metadata": {},
   "source": [
    "グローバルアラインメント : 最初と最後の部分が揃っていなければならない\n",
    "Needleman-Wunschアルゴリズム(1970) : \n",
    "ローカルアラインメント ; 内部のすべての断片をずらして並べながら部分的な一致領域を探す\n",
    "Smith-Watermanアルゴリズム(1981) : NWの派生。\n",
    "\n",
    "\n",
    "ペアワイズアラインメント\n",
    "マルチプルアラインメント\n",
    "\n",
    "## 応用例\n",
    "\n",
    "\n",
    "## Needleman-Wunsch\n",
    "行列の埋め方は分かった。\n",
    "\n",
    "わからないのは、トレースバックするときに、長さの違うやつでも必ず右下から始めないといけないのか、あるいはそうじゃない場合があるのか？ -> グローバルアラインメントは右下から始めることがその定義。\n",
    "\n",
    "逆に必ず左上で終わるの？終わらせるのか、自然と終わるのか？→終わらせる。？？違うっぽい。\n",
    "終わらせなきゃいけない場合、経路はどう決めるの？一意に決まる？\n",
    "\n",
    "ベルマン方程式\n",
    "\n",
    "$S(x_l)=\\max_{u_l}$\n",
    "\n",
    "境界条件は$x_0=[0,0], x_L=[n m]$\n",
    "\n",
    "\n",
    "\n",
    "## 参考文献\n",
    "* Wikipedia\n",
    "* A.ポランスキ, M.キンメル, バイオインフォマティクス"
   ]
  },
  {
   "cell_type": "code",
   "execution_count": null,
   "metadata": {
    "collapsed": true
   },
   "outputs": [],
   "source": []
  }
 ],
 "metadata": {
  "kernelspec": {
   "display_name": "Python 3",
   "language": "python",
   "name": "python3"
  },
  "language_info": {
   "codemirror_mode": {
    "name": "ipython",
    "version": 3
   },
   "file_extension": ".py",
   "mimetype": "text/x-python",
   "name": "python",
   "nbconvert_exporter": "python",
   "pygments_lexer": "ipython3",
   "version": "3.5.2"
  },
  "nav_menu": {},
  "toc": {
   "navigate_menu": true,
   "number_sections": true,
   "sideBar": false,
   "threshold": 6,
   "toc_cell": true,
   "toc_section_display": "block",
   "toc_window_display": false
  }
 },
 "nbformat": 4,
 "nbformat_minor": 0
}
