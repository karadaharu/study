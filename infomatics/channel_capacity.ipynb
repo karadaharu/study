{
 "cells": [
  {
   "cell_type": "markdown",
   "metadata": {
    "toc": "true"
   },
   "source": [
    "# Table of Contents\n",
    " <p>"
   ]
  },
  {
   "cell_type": "code",
   "execution_count": null,
   "metadata": {
    "collapsed": true
   },
   "outputs": [],
   "source": [
    "通信路容量$C$は、送信側のシグナルを$X$、受信側のシグナルを$Y$としたときに、$X$と$Y$の相互情報量の$X$についての上限として定義されます。\n",
    "\n",
    "$$\n",
    "C:=\\rm{sup}_{pX} I(X;Y) \\ \\ .\n",
    "$$"
   ]
  },
  {
   "cell_type": "markdown",
   "metadata": {},
   "source": [
    "2値エントロピー関数を$H(p)$とすると、2元対称通信路の通信路容量は\n",
    "\n",
    "$$\n",
    "C=1-H(p) \\  \\ \n",
    "$$\n",
    "\n",
    "となります。"
   ]
  },
  {
   "cell_type": "markdown",
   "metadata": {},
   "source": [
    "* $P(Y=0|X=0)=1-p$\n",
    "* $P(Y=0|X=1)=p$ \n",
    "* $P(Y=1|X=0)=p$ \n",
    "* $P(Y=0|X=0)=1-p$"
   ]
  },
  {
   "cell_type": "markdown",
   "metadata": {},
   "source": [
    "$$\n",
    "I(X;Y) := \\sum_X\\sum_Y p(X,Y)\\log \\frac{p(X,Y)}{p(X)p(Y)}\n",
    "$$"
   ]
  },
  {
   "cell_type": "markdown",
   "metadata": {},
   "source": [
    "$$\n",
    "\\begin{aligned}\n",
    "I(X;Y) &= H(Y) - H(Y|X)\\\\\n",
    "&= -\\sum_Y p(Y) \\log p(Y) + \\sum_Y p(Y|X) \\log p(Y|X) \\\\\n",
    "&=  -\\sum_Y p(Y) \\log p(Y) + \\sum_Y \\frac{p(Y|X) p(X)}{p(X)}  \\log \\frac{p(Y|X)p(X)}{p(X)} \\\\\n",
    "&=  -\\sum_Y p(Y) \\log p(Y) + \\sum_Y \\frac{p(X,Y)}{p(X)}  \\log \\frac{p(X,Y)}{p(X)} \\\\\n",
    "&=  -\\sum_Y p(Y) \\log p(Y) + \\sum_Y \\frac{p(X,Y)}{p(X)}  \\log \\frac{p(X,Y)}{p(X)} \\\\\n",
    "\\end{aligned}\n",
    "$$"
   ]
  },
  {
   "cell_type": "markdown",
   "metadata": {},
   "source": [
    "$H(Y)$が最大値をとるのは、$p(x=0)=1/2$のとき。\n",
    "\n",
    "\n"
   ]
  },
  {
   "cell_type": "code",
   "execution_count": 23,
   "metadata": {
    "collapsed": false
   },
   "outputs": [
    {
     "data": {
      "text/plain": [
       "[<matplotlib.lines.Line2D at 0x112668400>]"
      ]
     },
     "execution_count": 23,
     "metadata": {},
     "output_type": "execute_result"
    },
    {
     "data": {
      "image/png": "[encoded data removed]",
      "text/plain": [
       "<matplotlib.figure.Figure at 0x1123f7710>"
      ]
     },
     "metadata": {},
     "output_type": "display_data"
    }
   ],
   "source": [
    "import numpy as np\n",
    "import matplotlib.pyplot as plt \n",
    "\n",
    "def p_cond(x,y,p):\n",
    "    if x == y:\n",
    "        return 1-p\n",
    "    else:\n",
    "        return p\n",
    "    \n",
    "def p_x(x, p_in):\n",
    "    if x == 0:\n",
    "        return p_in\n",
    "    else:\n",
    "        return 1- p_in\n",
    "    \n",
    "    \n",
    "def p_y(y, p_trans, p_in):\n",
    "    p = 0\n",
    "    for x in [0, 1]:\n",
    "        p = p + p_cond(x, y, p_trans) * p_x(x, p_in)\n",
    "    return p\n",
    "\n",
    "def H_y(p_trans, p_in):\n",
    "    h = 0\n",
    "    for y in [0, 1]:\n",
    "        h = h - p_y(y, p_trans, p_in) * np.log2(p_y(y, p_trans, p_in))\n",
    "    return h\n",
    "\n",
    "H = H_y(0.1, 0.1)\n",
    "p_in_range = np.linspace(0, 1, 100)\n",
    "H_range = np.zeros(p_in_range.size)\n",
    "for i, p_in in enumerate(p_in_range):\n",
    "    H_range[i] = H_y(0.4, p_in)\n",
    "plt.plot(p_in_range, H_range)"
   ]
  },
  {
   "cell_type": "code",
   "execution_count": null,
   "metadata": {
    "collapsed": true
   },
   "outputs": [],
   "source": []
  }
 ],
 "metadata": {
  "kernelspec": {
   "display_name": "Python 3",
   "language": "python",
   "name": "python3"
  },
  "language_info": {
   "codemirror_mode": {
    "name": "ipython",
    "version": 3
   },
   "file_extension": ".py",
   "mimetype": "text/x-python",
   "name": "python",
   "nbconvert_exporter": "python",
   "pygments_lexer": "ipython3",
   "version": "3.5.2"
  },
  "nav_menu": {},
  "toc": {
   "navigate_menu": true,
   "number_sections": true,
   "sideBar": false,
   "threshold": 6,
   "toc_cell": true,
   "toc_section_display": "block",
   "toc_window_display": false
  }
 },
 "nbformat": 4,
 "nbformat_minor": 0
}
