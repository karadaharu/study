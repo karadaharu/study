{
 "cells": [
  {
   "cell_type": "markdown",
   "metadata": {
    "toc": "true"
   },
   "source": [
    "# Table of Contents\n",
    " <p><div class=\"lev2\"><a href=\"#不能線形方程式の最小2乗解\"><span class=\"toc-item-num\">0.1&nbsp;&nbsp;</span>不能線形方程式の最小2乗解</a></div><div class=\"lev2\"><a href=\"#そもそも\"><span class=\"toc-item-num\">0.2&nbsp;&nbsp;</span>そもそも</a></div>"
   ]
  },
  {
   "cell_type": "markdown",
   "metadata": {},
   "source": [
    "nxm行列($m\\geq n$)Aは適当なnxn直交行列$Q_1$およびmxm直交行列$Q_2$を用いて\n",
    "\n",
    "$A=Q_1 (diag(\\sigma_1, \\cdots, \\sigma_n)|0_{n\\times (m-n)})  Q_2^T$"
   ]
  },
  {
   "cell_type": "markdown",
   "metadata": {},
   "source": [
    "で分解できる。\n",
    "\n",
    "直交行列:転置が逆行列になっている行列$A^TA=E$"
   ]
  },
  {
   "cell_type": "markdown",
   "metadata": {},
   "source": [
    "$\\Sigma =(diag(\\sigma_1, \\cdots, \\sigma_n)|0_{n\\times (m-n)}) $\n",
    "\n",
    "の非負実数値$\\{\\sigma_i\\}_{i=1}^n$を行列Aの特異値という。"
   ]
  },
  {
   "cell_type": "markdown",
   "metadata": {},
   "source": [
    "特異値分解は、正方行列に定義されたジョルダン分解の、非正方行列への一般化"
   ]
  },
  {
   "cell_type": "markdown",
   "metadata": {
    "collapsed": true
   },
   "source": [
    "## 不能線形方程式の最小2乗解\n",
    "n次元変数ベクトルxとmxn係数行列Aにおいて\n",
    "\n",
    "$|b-Ax|^2=(b-Ax)^T(b-Ax)$\n",
    "\n",
    "を最小にするベクトル$x^*$を最小2乗解という。\n",
    "\n",
    "b,Aが観測データのイメージ。\n",
    "\n",
    "$A^TAx=A^Tb$\n",
    "\n",
    "を正規方程式といい、正規方程式の解は最小2乗解を与える\n",
    "\n",
    "$A^TA$が正則なとき、解は\n",
    "$x^*=(A^TA)^{-1}A^Tb$\n",
    "\n",
    "となり、$(A^TA)^{-1}A^T$を擬似逆行列という。\n",
    "\n",
    "正則でないときは？\n",
    "\n",
    "なんで最小二乗解になるの？\n",
    "\n",
    "特異値分解とどういう関係にある？\n",
    "\n"
   ]
  },
  {
   "cell_type": "markdown",
   "metadata": {
    "collapsed": true
   },
   "source": [
    "## そもそも\n",
    "$ (1) = (1 \\; 2) \\left(\\begin{array}{cc}w_1\\\\ w_2\\end{array}\\right)$\n",
    "\n",
    "\n",
    "\n",
    "\n"
   ]
  },
  {
   "cell_type": "markdown",
   "metadata": {},
   "source": [
    "を満たす$w_1, w_2$は無数にある。\n",
    "\n"
   ]
  },
  {
   "cell_type": "markdown",
   "metadata": {},
   "source": [
    "$ \\left(\\begin{array}{cc} 1 \\\\ 2 \\end{array}\\right)=  \\left(\\begin{array}{cc}1 & 2 \\\\ 3 & 7\\end{array}\\right) \\left(\\begin{array}{cc}w_1\\\\ w_2\\end{array}\\right)$"
   ]
  },
  {
   "cell_type": "markdown",
   "metadata": {},
   "source": [
    "を満たす$w_1,w_2$は1つだけある。(逆行列があるとき)"
   ]
  },
  {
   "cell_type": "markdown",
   "metadata": {},
   "source": [
    "では、\n",
    "\n"
   ]
  }
 ],
 "metadata": {
  "kernelspec": {
   "display_name": "Python 3",
   "language": "python",
   "name": "python3"
  },
  "language_info": {
   "codemirror_mode": {
    "name": "ipython",
    "version": 3
   },
   "file_extension": ".py",
   "mimetype": "text/x-python",
   "name": "python",
   "nbconvert_exporter": "python",
   "pygments_lexer": "ipython3",
   "version": "3.5.2"
  },
  "nav_menu": {},
  "toc": {
   "navigate_menu": true,
   "number_sections": true,
   "sideBar": false,
   "threshold": 6,
   "toc_cell": true,
   "toc_section_display": "block",
   "toc_window_display": false
  }
 },
 "nbformat": 4,
 "nbformat_minor": 0
}
