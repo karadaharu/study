{
 "cells": [
  {
   "cell_type": "markdown",
   "metadata": {
    "toc": "true"
   },
   "source": [
    "# Table of Contents\n",
    " <p><div class=\"lev2\"><a href=\"#次元の呪いとは\"><span class=\"toc-item-num\">0.1&nbsp;&nbsp;</span>次元の呪いとは</a></div><div class=\"lev2\"><a href=\"#球面集中現象\"><span class=\"toc-item-num\">0.2&nbsp;&nbsp;</span>球面集中現象</a></div><div class=\"lev2\"><a href=\"#参考文献\"><span class=\"toc-item-num\">0.3&nbsp;&nbsp;</span>参考文献</a></div>"
   ]
  },
  {
   "cell_type": "markdown",
   "metadata": {},
   "source": [
    "## 次元の呪いとは\n",
    "高次元空間でのデータを解析するときに起きる様々な現象のこと\n",
    "\n",
    "その原因は次元があがると体積が急激に増加し、データがスパースになってしまうこと\n",
    "\n",
    "## 球面集中現象\n",
    "p次元の半径1の球体内部に一様にN点をとる。原点から最近傍の点を$r_{NN}$とする。$r_{NN}$の中央値は$p\\rightarrow \\infty$で1になる"
   ]
  },
  {
   "cell_type": "markdown",
   "metadata": {},
   "source": [
    "ユークリッド距離\n",
    "\n",
    "$d=\\sqrt{\\sum_{i}x_{i}^{2}}$"
   ]
  },
  {
   "cell_type": "markdown",
   "metadata": {},
   "source": [
    "一様に分布していると、その距離は、一番値が大きいやつに大きく引きづられる的な？"
   ]
  },
  {
   "cell_type": "code",
   "execution_count": null,
   "metadata": {
    "collapsed": true
   },
   "outputs": [],
   "source": []
  },
  {
   "cell_type": "markdown",
   "metadata": {},
   "source": [
    "## 参考文献\n",
    "* [wikipedia:次元の呪い](https://ja.wikipedia.org/wiki/%E6%AC%A1%E5%85%83%E3%81%AE%E5%91%AA%E3%81%84)\n",
    "* [wikipedia: Curse of dimensionality](https://en.wikipedia.org/wiki/Curse_of_dimensionality)\n",
    "* [次元の呪い！？(1): 球面集中現象](http://tsujimotter.info/2012/05/16/curse-of-dimensionality-1/)\n"
   ]
  },
  {
   "cell_type": "code",
   "execution_count": null,
   "metadata": {
    "collapsed": true
   },
   "outputs": [],
   "source": []
  }
 ],
 "metadata": {
  "kernelspec": {
   "display_name": "Python 3",
   "language": "python",
   "name": "python3"
  },
  "language_info": {
   "codemirror_mode": {
    "name": "ipython",
    "version": 3
   },
   "file_extension": ".py",
   "mimetype": "text/x-python",
   "name": "python",
   "nbconvert_exporter": "python",
   "pygments_lexer": "ipython3",
   "version": "3.5.1"
  },
  "nav_menu": {},
  "toc": {
   "navigate_menu": true,
   "number_sections": true,
   "sideBar": false,
   "threshold": 6,
   "toc_cell": true,
   "toc_section_display": "block",
   "toc_window_display": false
  }
 },
 "nbformat": 4,
 "nbformat_minor": 0
}
