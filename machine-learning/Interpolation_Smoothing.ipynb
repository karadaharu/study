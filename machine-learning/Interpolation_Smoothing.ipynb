{
 "cells": [
  {
   "cell_type": "markdown",
   "metadata": {
    "toc": "true"
   },
   "source": [
    "# Table of Contents\n",
    " <p><div class=\"lev2\"><a href=\"#Interpolation\"><span class=\"toc-item-num\">0.1&nbsp;&nbsp;</span>Interpolation</a></div><div class=\"lev3\"><a href=\"#ラグランジュ補間\"><span class=\"toc-item-num\">0.1.1&nbsp;&nbsp;</span>ラグランジュ補間</a></div><div class=\"lev3\"><a href=\"#スプライン補間\"><span class=\"toc-item-num\">0.1.2&nbsp;&nbsp;</span>スプライン補間</a></div><div class=\"lev2\"><a href=\"#UnivariateSpline\"><span class=\"toc-item-num\">0.2&nbsp;&nbsp;</span>UnivariateSpline</a></div>"
   ]
  },
  {
   "cell_type": "markdown",
   "metadata": {},
   "source": [
    "## Interpolation\n",
    "補間　: 得られたデータの範囲内での値の推定。範囲外の値は補外。\n",
    "\n",
    "補間では離散的な点すべてを通る関数を求める\n",
    "\n",
    "データ点が多い場合は最小二乗法などを使う\n",
    "\n"
   ]
  },
  {
   "cell_type": "markdown",
   "metadata": {},
   "source": [
    "### ラグランジュ補間\n",
    "N+1個のデータがある場合、N次関数を使えばすべての点を通る関数が求められる。\n",
    "\n",
    "しかし、データ点がふえてくると、振動が大きくなりうまくいかない。\n",
    "\n",
    "### スプライン補間\n",
    "補間領域をデータ間隔に区切り、低次の多項式で近似することを考える。このとき、導関数が連続になるようにする方法がスプライン補間。\n",
    "\n",
    "N+1個のデータがあれば、N個の区間がある。各区間において、3次関数で補間するとすると、係数は4個、合計4N個ある。\n",
    "\n",
    "各区間で通る２点が分かっているので、2N個の方程式が得られる。\n",
    "\n",
    "..."
   ]
  },
  {
   "cell_type": "markdown",
   "metadata": {},
   "source": [
    "## UnivariateSpline\n",
    "http://docs.scipy.org/doc/scipy/reference/generated/scipy.interpolate.UnivariateSpline.html\n",
    "http://stackoverflow.com/questions/8719754/scipy-interpolate-univariatespline-not-smoothing-regardless-of-parameters\n",
    "\n",
    "s : 結び目の数を選ぶための正のスムーズ因子。結び目の数は次のスムージング条件を満たまで限り増加する"
   ]
  },
  {
   "cell_type": "code",
   "execution_count": null,
   "metadata": {
    "collapsed": true
   },
   "outputs": [],
   "source": [
    "sum((w[i] * (y[i]-spl(x[i])))**2, axis=0) <= s"
   ]
  },
  {
   "cell_type": "markdown",
   "metadata": {},
   "source": [
    "w : スプラインフィッティングの重み。デフォルトで等しい\n",
    "\n",
    "二乗誤差の重み付け和がs以下\n",
    "\n",
    "sを大きくすると、だいたいあってればよくなって、結び目の数は減ってなめらかになる\n",
    "\n",
    "デフォルトでは、s = len(w)。1/w[i]がy[i]の標準偏差の推定値の場合はこれがよい値。0のとき、スプラインはすべてのデータ点をとる。"
   ]
  },
  {
   "cell_type": "code",
   "execution_count": null,
   "metadata": {
    "collapsed": true
   },
   "outputs": [],
   "source": []
  }
 ],
 "metadata": {
  "kernelspec": {
   "display_name": "Python 3",
   "language": "python",
   "name": "python3"
  },
  "language_info": {
   "codemirror_mode": {
    "name": "ipython",
    "version": 3
   },
   "file_extension": ".py",
   "mimetype": "text/x-python",
   "name": "python",
   "nbconvert_exporter": "python",
   "pygments_lexer": "ipython3",
   "version": "3.5.1"
  },
  "nav_menu": {},
  "toc": {
   "navigate_menu": true,
   "number_sections": true,
   "sideBar": false,
   "threshold": 6,
   "toc_cell": true,
   "toc_section_display": "none",
   "toc_window_display": false
  }
 },
 "nbformat": 4,
 "nbformat_minor": 0
}
