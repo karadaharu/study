{
 "cells": [
  {
   "cell_type": "markdown",
   "metadata": {
    "toc": "true"
   },
   "source": [
    "# Table of Contents\n",
    " <p><div class=\"lev2\"><a href=\"#理論\"><span class=\"toc-item-num\">0.1&nbsp;&nbsp;</span>理論</a></div><div class=\"lev3\"><a href=\"#マルコフ確率場\"><span class=\"toc-item-num\">0.1.1&nbsp;&nbsp;</span>マルコフ確率場</a></div><div class=\"lev3\"><a href=\"#教師なし学習\"><span class=\"toc-item-num\">0.1.2&nbsp;&nbsp;</span>教師なし学習</a></div><div class=\"lev4\"><a href=\"#Gradient-Ascentによる最適化\"><span class=\"toc-item-num\">0.1.2.1&nbsp;&nbsp;</span>Gradient Ascentによる最適化</a></div><div class=\"lev2\"><a href=\"#scikit-learnでやってみる\"><span class=\"toc-item-num\">0.2&nbsp;&nbsp;</span>scikit learnでやってみる</a></div><div class=\"lev2\"><a href=\"#Deep-Learning-tutorial\"><span class=\"toc-item-num\">0.3&nbsp;&nbsp;</span>Deep Learning tutorial</a></div><div class=\"lev3\"><a href=\"#Energy-based-models\"><span class=\"toc-item-num\">0.3.1&nbsp;&nbsp;</span>Energy based models</a></div><div class=\"lev2\"><a href=\"#自前で実装\"><span class=\"toc-item-num\">0.4&nbsp;&nbsp;</span>自前で実装</a></div><div class=\"lev2\"><a href=\"#応用など\"><span class=\"toc-item-num\">0.5&nbsp;&nbsp;</span>応用など</a></div><div class=\"lev3\"><a href=\"#よく分からないこと\"><span class=\"toc-item-num\">0.5.1&nbsp;&nbsp;</span>よく分からないこと</a></div>"
   ]
  },
  {
   "cell_type": "markdown",
   "metadata": {},
   "source": [
    "## 理論\n",
    "http://image.diku.dk/igel/paper/AItRBM-proof.pdf"
   ]
  },
  {
   "cell_type": "markdown",
   "metadata": {},
   "source": [
    "### マルコフ確率場\n",
    "マルコフ確率場とは : \n",
    "\n",
    "無向グラフ $G=(V,E)$ Vがノード、Eがエッジの集合。clique(クリーク)は、全結合であるVの部分集合を表す。そのcliqueにそれ以上ノードを加えると、cliqueでなくなってしまうときcliqueがmaximalであるという。$\\mathcal{C}$で最大クリークの集合を表す。\n",
    "\n",
    "ある部分集合$\\mathcal{V}\\in Vは$ふたつのノード$v,w \\notin \\mathcal{V}$を結ぶ経路に必ず$\\mathcal{V}$のノードを含むとき、$v,w$を分離しているという。\n",
    "\n",
    "各ノード上に確率変数$X_v$をおく。結合分布pがグラフに関してマルコフ性を満たす、すなわち、任意の互いに素な部分集合$\\mathcal{A,B,S}\\in V$に対して、$\\mathcal{A,B}$の全てのノードが$\\mathcal{S}$によって分離されているとき、$(X_s)_{s\\in\\mathcal{S}}$が与えられた時、$(X_a)_{a\\in\\mathcal{A}}$と$(X_b)_{b\\in\\mathcal{B}}$は条件付き独立である。\n",
    "\n",
    "とき、$X$はマルコフ確率場(MRF)であるという。\n",
    "\n",
    "\n",
    "\n",
    "Hammersley-Clifford THeorem : すべての値に対して正の確率をもつ分布pに対して、もし、Gに対してpを周辺化したとき？undirected graph Gに関してマルコフ性を満たす\n",
    "\n",
    "w.r.t. : with respect to\n",
    "\n",
    "ある分布がundirected graph Gについてwith maximal cliques C factorizeしているとは、\n",
    "非負関数の集合$\\{\\phi_C\\}_{C\\in \\mathcal{C}}$"
   ]
  },
  {
   "cell_type": "markdown",
   "metadata": {
    "collapsed": false
   },
   "source": [
    "$$p(x)=\\frac{1}{Z}\\Pi_{C\\in \\mathcal{C}} \\psi_C(x)$$\n",
    "\n",
    "\n",
    "正規化定数 $Z=\\sum_x \\Pi_{C\\in\\mathcal{C}} \\psi_C (x_C)$ を分配関数と呼ぶ"
   ]
  },
  {
   "cell_type": "markdown",
   "metadata": {},
   "source": [
    "### 教師なし学習\n",
    "確率分布のパラメーターを推定すること。\n",
    "\n",
    "MRFのギブス分布は最尤推定値を解析的に求められない\n",
    "\n",
    "未知の分布qからデータ$S=\\{x_1, \\cdots, x_l\\}$ がサンプルされたとする。\n",
    "\n",
    "MRFのパラメーターの最尤推定は、未知の分布qとMRFの分布pのKLを最小化するということ\n",
    "\n",
    "#### Gradient Ascentによる最適化\n",
    "\n",
    "$$\\theta^{(t+1)} = \\theta^{(t)}+\\Delta \\theta^{(t)}$$\n",
    "\n",
    "$$\\Delta \\theta^{(t)} = \\eta$$\n",
    "\n"
   ]
  },
  {
   "cell_type": "markdown",
   "metadata": {},
   "source": [
    "じゃあ具体的にMRFであるもの、ないものの例は？？\n",
    "条件付き\n",
    "\n",
    "有向\n",
    "$P(x_1,x_2) = P(x_1|x_2) P(x_2)$\n",
    "\n"
   ]
  },
  {
   "cell_type": "markdown",
   "metadata": {},
   "source": [
    "RBMとは浅い2層のニューラルネット\n",
    "\n",
    "visible layerとhidden layer\n",
    "\n",
    "確率的に出力する\n",
    "\n"
   ]
  },
  {
   "cell_type": "markdown",
   "metadata": {},
   "source": [
    "$P(v,h|\\theta):=$"
   ]
  },
  {
   "cell_type": "markdown",
   "metadata": {},
   "source": [
    "で確率分布を定義する。なんで？\n",
    "\n",
    "visible層が与えられたときの$\\theta$を最尤推定する\n",
    "\n",
    "$\\hat{\\theta} = \\mathrm{arg max}_{\\theta}f(\\theta)=\\mathrm{arg max}_{\\theta}P(V|\\theta)$"
   ]
  },
  {
   "cell_type": "markdown",
   "metadata": {},
   "source": [
    "電脳化でやりたいのは、隠れ層の数を増減させたり、多分可視層の数を増減させたときの周辺確率をもとの確率分布に対して変わらないようにする"
   ]
  },
  {
   "cell_type": "markdown",
   "metadata": {},
   "source": [
    "どうやって最尤推定するか？ scikit learnでは、Stochastic maximum likelihood aka Persistent Constrastive Divergenceを使っている"
   ]
  },
  {
   "cell_type": "markdown",
   "metadata": {},
   "source": []
  },
  {
   "cell_type": "markdown",
   "metadata": {},
   "source": [
    "## scikit learnでやってみる"
   ]
  },
  {
   "cell_type": "markdown",
   "metadata": {},
   "source": [
    "http://scikit-learn.org/stable/auto_examples/neural_networks/plot_rbm_logistic_classification.html#sphx-glr-auto-examples-neural-networks-plot-rbm-logistic-classification-py"
   ]
  },
  {
   "cell_type": "code",
   "execution_count": 1,
   "metadata": {
    "collapsed": true
   },
   "outputs": [],
   "source": [
    "import numpy as np\n",
    "import matplotlib.pyplot as plt\n",
    "\n",
    "from scipy.ndimage import convolve\n",
    "from sklearn import linear_model, datasets, metrics\n",
    "from sklearn.model_selection import train_test_split\n",
    "from sklearn.neural_network import BernoulliRBM\n",
    "from sklearn.pipeline import Pipeline"
   ]
  },
  {
   "cell_type": "code",
   "execution_count": 27,
   "metadata": {
    "collapsed": true
   },
   "outputs": [],
   "source": [
    "def nudge_dataset(X, Y):\n",
    "    \"\"\"\n",
    "    This produces a dataset 5 times bigger than the original one,\n",
    "    by moving the 8x8 images in X around by 1px to left, right, down, up\n",
    "    \"\"\"\n",
    "    direction_vectors = [\n",
    "        [[0, 1, 0],\n",
    "         [0, 0, 0],\n",
    "         [0, 0, 0]],\n",
    "\n",
    "        [[0, 0, 0],\n",
    "         [1, 0, 0],\n",
    "         [0, 0, 0]],\n",
    "\n",
    "        [[0, 0, 0],\n",
    "         [0, 0, 1],\n",
    "         [0, 0, 0]],\n",
    "\n",
    "        [[0, 0, 0],\n",
    "         [0, 0, 0],\n",
    "         [0, 1, 0]]]    \n",
    "    shift = lambda x, w: convolve(x.reshape((8,8)), mode='constant', weights=w).ravel()\n",
    "    X = np.concatenate([X] + [np.apply_along_axis(shift, 1, X, vector)\n",
    "                             for vector in direction_vectors])\n",
    "    Y = np.concatenate([Y for _ in range(5)], axis=0)\n",
    "    return X, Y\n",
    "    "
   ]
  },
  {
   "cell_type": "code",
   "execution_count": 28,
   "metadata": {
    "collapsed": false
   },
   "outputs": [
    {
     "data": {
      "text/plain": [
       "<matplotlib.image.AxesImage at 0x10c337588>"
      ]
     },
     "execution_count": 28,
     "metadata": {},
     "output_type": "execute_result"
    },
    {
     "data": {
      "image/png": "[encoded data removed]",
      "text/plain": [
       "<matplotlib.figure.Figure at 0x10c0478d0>"
      ]
     },
     "metadata": {},
     "output_type": "display_data"
    }
   ],
   "source": [
    "# load data\n",
    "digits = datasets.load_digits()\n",
    "# 8x8 = 64 dim. vectors of value 0-16 with label for 0, ... 10\n",
    "plt.matshow(digits.images[0])"
   ]
  },
  {
   "cell_type": "code",
   "execution_count": 29,
   "metadata": {
    "collapsed": false
   },
   "outputs": [
    {
     "name": "stdout",
     "output_type": "stream",
     "text": [
      "(8, 8)\n",
      "(64,)\n",
      "0\n"
     ]
    }
   ],
   "source": [
    "print(digits.images[0].shape)\n",
    "print(digits.data[0].shape)\n",
    "print(digits.target[0])"
   ]
  },
  {
   "cell_type": "code",
   "execution_count": 30,
   "metadata": {
    "collapsed": false
   },
   "outputs": [],
   "source": [
    "X = np.asarray(digits.data, 'float32')\n",
    "X, Y = nudge_dataset(X, digits.target)"
   ]
  },
  {
   "cell_type": "code",
   "execution_count": 32,
   "metadata": {
    "collapsed": false
   },
   "outputs": [],
   "source": [
    "X = (X - np.min(X, 0)) / (np.max(X, 0) + 0.0001) # 0 - 1 scaling\n",
    "X_train, X_test, Y_train, Y_test = train_test_split(X, Y, test_size=0.2, random_state=0)"
   ]
  },
  {
   "cell_type": "code",
   "execution_count": 36,
   "metadata": {
    "collapsed": false
   },
   "outputs": [],
   "source": [
    "# Models we use\n",
    "logistic = linear_model.LogisticRegression()\n",
    "rbm = BernoulliRBM(random_state=0, verbose=True)\n",
    "classifier = Pipeline(steps=[('rbm', rbm), ('logistic', logistic)])"
   ]
  },
  {
   "cell_type": "markdown",
   "metadata": {},
   "source": [
    "Training"
   ]
  },
  {
   "cell_type": "code",
   "execution_count": 38,
   "metadata": {
    "collapsed": false
   },
   "outputs": [
    {
     "name": "stdout",
     "output_type": "stream",
     "text": [
      "[BernoulliRBM] Iteration 1, pseudo-likelihood = -25.39, time = 0.23s\n",
      "[BernoulliRBM] Iteration 2, pseudo-likelihood = -23.77, time = 0.41s\n",
      "[BernoulliRBM] Iteration 3, pseudo-likelihood = -22.94, time = 0.28s\n",
      "[BernoulliRBM] Iteration 4, pseudo-likelihood = -21.91, time = 0.27s\n",
      "[BernoulliRBM] Iteration 5, pseudo-likelihood = -21.69, time = 0.27s\n",
      "[BernoulliRBM] Iteration 6, pseudo-likelihood = -21.06, time = 0.26s\n",
      "[BernoulliRBM] Iteration 7, pseudo-likelihood = -20.89, time = 0.27s\n",
      "[BernoulliRBM] Iteration 8, pseudo-likelihood = -20.64, time = 0.26s\n",
      "[BernoulliRBM] Iteration 9, pseudo-likelihood = -20.36, time = 0.27s\n",
      "[BernoulliRBM] Iteration 10, pseudo-likelihood = -20.09, time = 0.26s\n",
      "[BernoulliRBM] Iteration 11, pseudo-likelihood = -20.08, time = 0.26s\n",
      "[BernoulliRBM] Iteration 12, pseudo-likelihood = -19.82, time = 0.26s\n",
      "[BernoulliRBM] Iteration 13, pseudo-likelihood = -19.64, time = 0.27s\n",
      "[BernoulliRBM] Iteration 14, pseudo-likelihood = -19.61, time = 0.26s\n",
      "[BernoulliRBM] Iteration 15, pseudo-likelihood = -19.57, time = 0.26s\n",
      "[BernoulliRBM] Iteration 16, pseudo-likelihood = -19.41, time = 0.27s\n",
      "[BernoulliRBM] Iteration 17, pseudo-likelihood = -19.30, time = 0.25s\n",
      "[BernoulliRBM] Iteration 18, pseudo-likelihood = -19.25, time = 0.26s\n",
      "[BernoulliRBM] Iteration 19, pseudo-likelihood = -19.27, time = 0.27s\n",
      "[BernoulliRBM] Iteration 20, pseudo-likelihood = -19.01, time = 0.27s\n"
     ]
    },
    {
     "data": {
      "text/plain": [
       "LogisticRegression(C=100.0, class_weight=None, dual=False, fit_intercept=True,\n",
       "          intercept_scaling=1, max_iter=100, multi_class='ovr', n_jobs=1,\n",
       "          penalty='l2', random_state=None, solver='liblinear', tol=0.0001,\n",
       "          verbose=0, warm_start=False)"
      ]
     },
     "execution_count": 38,
     "metadata": {},
     "output_type": "execute_result"
    }
   ],
   "source": [
    "# Hyper parameters. These were set by cross-validation\n",
    "rbm.learning_rate = 0.06\n",
    "rbm.n_iter = 20\n",
    "rbm.n_components = 100\n",
    "logistic.C = 6000.0\n",
    "\n",
    "# Train RBM Logistic pipeline\n",
    "classifier.fit(X_train, Y_train)\n",
    "# Train logistic regression\n",
    "logistic_classifier = linear_model.LogisticRegression(C=100.0)\n",
    "logistic_classifier.fit(X_train, Y_train)"
   ]
  },
  {
   "cell_type": "markdown",
   "metadata": {},
   "source": [
    "Evaluation"
   ]
  },
  {
   "cell_type": "code",
   "execution_count": 39,
   "metadata": {
    "collapsed": false
   },
   "outputs": [
    {
     "name": "stdout",
     "output_type": "stream",
     "text": [
      "Logistic regression using RBM features:\n",
      "             precision    recall  f1-score   support\n",
      "\n",
      "          0       0.99      0.99      0.99       174\n",
      "          1       0.92      0.95      0.93       184\n",
      "          2       0.95      0.98      0.97       166\n",
      "          3       0.97      0.91      0.94       194\n",
      "          4       0.97      0.95      0.96       186\n",
      "          5       0.93      0.93      0.93       181\n",
      "          6       0.98      0.97      0.97       207\n",
      "          7       0.95      1.00      0.97       154\n",
      "          8       0.90      0.88      0.89       182\n",
      "          9       0.91      0.93      0.92       169\n",
      "\n",
      "avg / total       0.95      0.95      0.95      1797\n",
      "\n",
      "\n",
      "Logistic regression using raw pixel features:\n",
      "             precision    recall  f1-score   support\n",
      "\n",
      "          0       0.85      0.94      0.89       174\n",
      "          1       0.57      0.55      0.56       184\n",
      "          2       0.72      0.85      0.78       166\n",
      "          3       0.76      0.74      0.75       194\n",
      "          4       0.85      0.82      0.84       186\n",
      "          5       0.74      0.75      0.75       181\n",
      "          6       0.93      0.88      0.91       207\n",
      "          7       0.86      0.90      0.88       154\n",
      "          8       0.68      0.55      0.61       182\n",
      "          9       0.71      0.74      0.72       169\n",
      "\n",
      "avg / total       0.77      0.77      0.77      1797\n",
      "\n",
      "\n"
     ]
    }
   ],
   "source": [
    "print(\"Logistic regression using RBM features:\\n%s\\n\" % (\n",
    "    metrics.classification_report(\n",
    "        Y_test,\n",
    "        classifier.predict(X_test))))\n",
    "\n",
    "print(\"Logistic regression using raw pixel features:\\n%s\\n\" % (\n",
    "    metrics.classification_report(\n",
    "        Y_test,\n",
    "        logistic_classifier.predict(X_test))))"
   ]
  },
  {
   "cell_type": "code",
   "execution_count": 41,
   "metadata": {
    "collapsed": false
   },
   "outputs": [
    {
     "data": {
      "image/png": "[encoded data removed]",
      "text/plain": [
       "<matplotlib.figure.Figure at 0x10c0591d0>"
      ]
     },
     "metadata": {},
     "output_type": "display_data"
    }
   ],
   "source": [
    "plt.figure(figsize=(8, 8))\n",
    "for i, comp in enumerate(rbm.components_):\n",
    "    plt.subplot(10, 10, i + 1)\n",
    "    plt.imshow(comp.reshape((8, 8)), cmap=plt.cm.gray_r,\n",
    "               interpolation='nearest')\n",
    "    plt.xticks(())\n",
    "    plt.yticks(())\n",
    "plt.suptitle('100 components extracted by RBM', fontsize=16)\n",
    "plt.subplots_adjust(0.08, 0.02, 0.92, 0.85, 0.08, 0.23)"
   ]
  },
  {
   "cell_type": "markdown",
   "metadata": {},
   "source": [
    "## Deep Learning tutorial\n",
    "http://deeplearning.net/tutorial/rbm.html\n",
    "\n",
    "### Energy based models\n",
    "\n",
    "$$p(x)=\\frac{e^{-E(x)}}{Z}$$\n",
    "\n",
    "観測できない変数があるとき\n",
    "\n",
    "$$P(x)=\\sum_h P(x,h)=\\sum_h \\frac{e^{-E(x)}}{Z}$$\n",
    "\n",
    "となるので、自由エネルギー\n",
    "\n",
    "$$\\mathcal{F}(x):= -\\log \\sum_h e^{-E(x,h)}$$\n",
    "\n",
    "を導入すると、\n",
    "\n",
    "$$P(x)  = $$"
   ]
  },
  {
   "cell_type": "markdown",
   "metadata": {},
   "source": [
    "## 自前で実装\n",
    "scikit learnのコードを読みながら"
   ]
  },
  {
   "cell_type": "code",
   "execution_count": null,
   "metadata": {
    "collapsed": true
   },
   "outputs": [],
   "source": [
    "class MyBernoulliRBM():\n",
    "    def __init__(self, n_componets)"
   ]
  },
  {
   "cell_type": "markdown",
   "metadata": {},
   "source": [
    "## 応用など\n",
    "動画をぶちこんでみる\n",
    "\n"
   ]
  },
  {
   "cell_type": "markdown",
   "metadata": {},
   "source": [
    "### よく分からないこと\n",
    "ベルヌーイ分布なのに、そこに16この値をとる入力を入れられるのはなぜ？\n",
    "\n",
    "パラメーター\n",
    "\n",
    "contrustive divergence?\n",
    "\n",
    "エネルギーと確率の関係？"
   ]
  },
  {
   "cell_type": "code",
   "execution_count": null,
   "metadata": {
    "collapsed": true
   },
   "outputs": [],
   "source": []
  }
 ],
 "metadata": {
  "kernelspec": {
   "display_name": "Python 3",
   "language": "python",
   "name": "python3"
  },
  "language_info": {
   "codemirror_mode": {
    "name": "ipython",
    "version": 3
   },
   "file_extension": ".py",
   "mimetype": "text/x-python",
   "name": "python",
   "nbconvert_exporter": "python",
   "pygments_lexer": "ipython3",
   "version": "3.5.2"
  },
  "nav_menu": {},
  "toc": {
   "navigate_menu": true,
   "number_sections": true,
   "sideBar": false,
   "threshold": 6,
   "toc_cell": true,
   "toc_section_display": "block",
   "toc_window_display": false
  }
 },
 "nbformat": 4,
 "nbformat_minor": 0
}
