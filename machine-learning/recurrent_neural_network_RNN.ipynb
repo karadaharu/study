{
 "cells": [
  {
   "cell_type": "code",
   "execution_count": 2,
   "metadata": {
    "collapsed": false,
    "toc": "true"
   },
   "outputs": [
    {
     "ename": "IndentationError",
     "evalue": "unexpected indent (<ipython-input-2-280d1ce154ba>, line 2)",
     "output_type": "error",
     "traceback": [
      "\u001b[0;36m  File \u001b[0;32m\"<ipython-input-2-280d1ce154ba>\"\u001b[0;36m, line \u001b[0;32m2\u001b[0m\n\u001b[0;31m    <p><div class=\"lev2\"><a href=\"#review-of-feedforward-networks\"><span class=\"toc-item-num\">0.1&nbsp;&nbsp;</span>review of feedforward networks</a></div><div class=\"lev2\"><a href=\"#Recurrent-networks\"><span class=\"toc-item-num\">0.2&nbsp;&nbsp;</span>Recurrent networks</a></div><div class=\"lev2\"><a href=\"#Backpropagation-Through-time\"><span class=\"toc-item-num\">0.3&nbsp;&nbsp;</span>Backpropagation Through time</a></div><div class=\"lev1\"><a href=\"#参考文献\"><span class=\"toc-item-num\">1&nbsp;&nbsp;</span>参考文献</a></div>\u001b[0m\n\u001b[0m    ^\u001b[0m\n\u001b[0;31mIndentationError\u001b[0m\u001b[0;31m:\u001b[0m unexpected indent\n"
     ]
    }
   ],
   "source": [
    "# Table of Contents\n",
    " <p>"
   ]
  },
  {
   "cell_type": "markdown",
   "metadata": {},
   "source": [
    "## review of feedforward networks\n",
    "\n",
    "まずフィードフォワードネットワークを理解する\n",
    "\n",
    "フィードフォワードネットワークの場合は、1つの入力が一回だけ使われて、出力されるので、入力の順番は関係ない\n",
    "\n",
    "## Recurrent networks\n",
    "\n",
    "時刻$t$の隠れ層$h_t$は入力とその前の時刻の隠れ層から決まる\n",
    "\n",
    "$$\n",
    "h_t = \\phi (W x_t + U h_{t-1}\n",
    "$$\n",
    "\n",
    "## Backpropagation Through time\n",
    "backpropagationの拡張\n",
    "\n",
    "\n",
    "BTSXPE -> BTSXVPEタイポ\n",
    "\n",
    "\n",
    "# 参考文献\n",
    "https://deeplearning4j.org/lstm.html\n",
    "\n"
   ]
  },
  {
   "cell_type": "code",
   "execution_count": null,
   "metadata": {
    "collapsed": true
   },
   "outputs": [],
   "source": []
  }
 ],
 "metadata": {
  "kernelspec": {
   "display_name": "Python 3",
   "language": "python",
   "name": "python3"
  },
  "language_info": {
   "codemirror_mode": {
    "name": "ipython",
    "version": 3
   },
   "file_extension": ".py",
   "mimetype": "text/x-python",
   "name": "python",
   "nbconvert_exporter": "python",
   "pygments_lexer": "ipython3",
   "version": "3.5.2"
  },
  "nav_menu": {},
  "toc": {
   "navigate_menu": true,
   "number_sections": true,
   "sideBar": false,
   "threshold": 6,
   "toc_cell": true,
   "toc_section_display": "block",
   "toc_window_display": false
  }
 },
 "nbformat": 4,
 "nbformat_minor": 0
}
