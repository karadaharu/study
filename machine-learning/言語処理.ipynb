{
 "cells": [
  {
   "cell_type": "markdown",
   "metadata": {},
   "source": [
    "## 用語\n",
    "### bug of words\n",
    "単語の出現頻度ベクトル\n",
    "\n",
    "### Levenshtein Distance\n",
    "編集距離のこと\n",
    "\n",
    "## fuzzy word matching\n",
    "次のサブ問題に分けて考えられる\n",
    "\n",
    "1. 与えられた文字列の中からおよその部分文字列を見つける\n",
    "2. およその部分文字列にマッチする辞書内の文字列を探す\n",
    "\n",
    "編集距離をもとに行う\n",
    "\n",
    "### ライブラリ\n",
    "* [fuzzywuzzy](https://github.com/seatgeek/fuzzywuzzy)\n",
    "\n",
    "比較する単語を用意しないとダメ→結局手作業 正規表現とかよりはまだマシ\n",
    "\n",
    "\n",
    "\n",
    "\n",
    "\n",
    "\n"
   ]
  },
  {
   "cell_type": "markdown",
   "metadata": {},
   "source": [
    "## word2vec\n",
    "自然言語処理の手法\n",
    "\n",
    "各単語を200次元のベクトルで表現することで意味とかについての計算ができるようになる。\n",
    "\n",
    "内部のアルゴリズムは2層のニューラルネット"
   ]
  },
  {
   "cell_type": "markdown",
   "metadata": {
    "collapsed": true
   },
   "source": [
    "### LSI (Latent Semantic Indexing) \n",
    "次元を圧縮する"
   ]
  }
 ],
 "metadata": {
  "kernelspec": {
   "display_name": "Python 3",
   "language": "python",
   "name": "python3"
  },
  "language_info": {
   "codemirror_mode": {
    "name": "ipython",
    "version": 3
   },
   "file_extension": ".py",
   "mimetype": "text/x-python",
   "name": "python",
   "nbconvert_exporter": "python",
   "pygments_lexer": "ipython3",
   "version": "3.5.1"
  }
 },
 "nbformat": 4,
 "nbformat_minor": 0
}
