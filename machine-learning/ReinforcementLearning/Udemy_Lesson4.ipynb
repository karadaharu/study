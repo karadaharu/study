{
 "cells": [
  {
   "cell_type": "markdown",
   "metadata": {
    "toc": "true"
   },
   "source": [
    "# Table of Contents\n",
    " <p><div class=\"lev1\"><a href=\"#Lesson4-Temporal-Difference-learning-with-control\"><span class=\"toc-item-num\">1&nbsp;&nbsp;</span>Lesson4 Temporal Difference learning with control</a></div><div class=\"lev2\"><a href=\"#contraction-mapping\"><span class=\"toc-item-num\">1.1&nbsp;&nbsp;</span>contraction mapping</a></div><div class=\"lev2\"><a href=\"#Bellman-operator-contracts\"><span class=\"toc-item-num\">1.2&nbsp;&nbsp;</span>Bellman operator contracts</a></div><div class=\"lev2\"><a href=\"#Q-learning\"><span class=\"toc-item-num\">1.3&nbsp;&nbsp;</span>Q-learning</a></div><div class=\"lev2\"><a href=\"#Generalized-MDPs\"><span class=\"toc-item-num\">1.4&nbsp;&nbsp;</span>Generalized MDPs</a></div>"
   ]
  },
  {
   "cell_type": "markdown",
   "metadata": {},
   "source": [
    "# Lesson4 Temporal Difference learning with control"
   ]
  },
  {
   "cell_type": "markdown",
   "metadata": {},
   "source": [
    "Bellman operator $B$\n",
    "\n",
    "$$\n",
    "[BQ] (s,a) = R(s,a) + \\gamma \\sum_{s'} T(s,a,s') \\max_{a'}Q(s',a')\n",
    "$$\n",
    "\n",
    "$Q^*=BQ^*$がBellman方程式$Q_t=BQ_{t-1}$はvalue iterationアルゴリズムになる。"
   ]
  },
  {
   "cell_type": "markdown",
   "metadata": {},
   "source": [
    "## contraction mapping\n",
    "value関数\n",
    "\n",
    "$||Q||_\\infty:=\\max_{s,a}|Q(s,a)|$\n",
    "\n",
    "$0\\leq \\gamma <1$のとき\n",
    "\n",
    "$||BF-BG||_\\infty \\leq \\gamma ||F-G||_\\infty$\n",
    "\n",
    "が成り立つとき$B$をcontraction mappingとよぶ。\n",
    "\n",
    "Bを作用させることによって、関数F,Gの距離が小さくなる"
   ]
  },
  {
   "cell_type": "markdown",
   "metadata": {},
   "source": [
    "例 $B(x)=x/2$"
   ]
  },
  {
   "cell_type": "markdown",
   "metadata": {},
   "source": [
    "## Bellman operator contracts\n",
    "Bellman演算子はcontractするようになっている。これを以下で確認する。\n",
    "\n",
    "$Q_1, Q_2$について\n",
    "\n",
    "$$\n",
    "\\begin{aligned}\n",
    "||BQ_1- BQ_2||_\\infty = \\max_{a,s} |[BQ_1](s,a)-[BQ_2](s,a)|\n",
    "\\end{aligned}\n",
    "$$\n",
    "\n",
    "以下が成り立てばいい。\n",
    "$$\n",
    "|\\max_a f(a) - \\max_a g(a) | \\leq \\max_a |f(a) - g(a)|\n",
    "$$\n",
    "\n",
    "証明:\n",
    "\n",
    "wlog (without loss of genelarity) $\\max_a f(a) \\geq \\max_a g(a)$ とする\n",
    "\n",
    "$a_1 = \\rm{arg}\\max_a f(a)$、$a_2 = \\rm{arg}\\max_a g(a)$\n",
    "\n",
    "$$\n",
    "\\begin{aligned}\n",
    "|\\max_a f(a) - \\max_a g(a)| &= \\max_a f(a) - \\max_a g(a)\\\\\n",
    " &= f(a_1) - g(a_2)\\\\\n",
    " &\\leq f(a_1) - g(a_1)\\\\\n",
    "& = |f(a_1) - g(a_1)|\\\\\n",
    "& = \\max_a |f(a) - g(a)|\\\\\n",
    "\\end{aligned}\n",
    "$$\n",
    "\n",
    "## Q-learning\n",
    "\n",
    "\n"
   ]
  },
  {
   "cell_type": "markdown",
   "metadata": {},
   "source": [
    "$$\n",
    "([B_t Q] w)(s,a) = Q(s,a)+\\alpha_t(s,a)(r_t + \\gamma \\max_{a'} W(s_t, a') - Q(s,a))\n",
    "$$\n",
    "\n",
    "\n",
    "遷移確率が分からないときQ learning?これはTD(0)じゃなかったの？→Q functionに対するTD(0)をQ learningとよぶっぽい。\n",
    "\n"
   ]
  },
  {
   "cell_type": "markdown",
   "metadata": {},
   "source": [
    "## Generalized MDPs\n",
    "$$\n",
    "Q^*(s,a) = R(s,a) + \\gamma \\oplus^{s,a}_{s'} \\otimes^{s'}_{a'} Q^*(s',a')\n",
    "$$\n",
    "\n",
    "各演算子を一般に拡張しても、non-expansionなのでvalue iteration？が使える？\n",
    "\n",
    "\n"
   ]
  },
  {
   "cell_type": "markdown",
   "metadata": {},
   "source": [
    "## Summary\n",
    "contraction = non-expansion\n",
    "\n",
    "\n"
   ]
  }
 ],
 "metadata": {
  "kernelspec": {
   "display_name": "Python 3",
   "language": "python",
   "name": "python3"
  },
  "language_info": {
   "codemirror_mode": {
    "name": "ipython",
    "version": 3
   },
   "file_extension": ".py",
   "mimetype": "text/x-python",
   "name": "python",
   "nbconvert_exporter": "python",
   "pygments_lexer": "ipython3",
   "version": "3.5.2"
  },
  "nav_menu": {},
  "toc": {
   "navigate_menu": true,
   "number_sections": true,
   "sideBar": false,
   "threshold": 6,
   "toc_cell": true,
   "toc_section_display": "block",
   "toc_window_display": false
  }
 },
 "nbformat": 4,
 "nbformat_minor": 0
}
