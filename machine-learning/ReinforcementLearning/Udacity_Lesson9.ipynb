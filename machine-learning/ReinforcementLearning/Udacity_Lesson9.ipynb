{
 "cells": [
  {
   "cell_type": "markdown",
   "metadata": {
    "toc": "true"
   },
   "source": [
    "# Table of Contents\n",
    " <p>"
   ]
  },
  {
   "cell_type": "markdown",
   "metadata": {},
   "source": [
    "Partially Observable MDP\n",
    "\n",
    "A:Action, S:State, T:Transition, R:Rewards, Z:Obserbables,  O:Observation function\n",
    "\n",
    "O(s,z) probability of seeing z in state s\n",
    "\n",
    "\n",
    "* MDP : [S,A,T,R]\n",
    "* POMDP : [S, A, Z, T,R, O]\n",
    "\n",
    "\n",
    "Z = S\n",
    "O(s,z) = 1 if s=z, otherwise 0\n",
    "\n",
    "ならPOMDPはMDPと一致する→POMDPはMDPの一般化\n",
    "\n",
    "\n"
   ]
  },
  {
   "cell_type": "markdown",
   "metadata": {},
   "source": [
    "例：どのノードにいるか分からないようなネットワーク\n",
    "\n",
    "\n",
    "\n"
   ]
  },
  {
   "cell_type": "code",
   "execution_count": null,
   "metadata": {
    "collapsed": true
   },
   "outputs": [],
   "source": []
  }
 ],
 "metadata": {
  "kernelspec": {
   "display_name": "Python 3",
   "language": "python",
   "name": "python3"
  },
  "language_info": {
   "codemirror_mode": {
    "name": "ipython",
    "version": 3
   },
   "file_extension": ".py",
   "mimetype": "text/x-python",
   "name": "python",
   "nbconvert_exporter": "python",
   "pygments_lexer": "ipython3",
   "version": "3.5.2"
  },
  "nav_menu": {},
  "toc": {
   "navigate_menu": true,
   "number_sections": true,
   "sideBar": false,
   "threshold": 6,
   "toc_cell": true,
   "toc_section_display": "block",
   "toc_window_display": false
  }
 },
 "nbformat": 4,
 "nbformat_minor": 0
}
