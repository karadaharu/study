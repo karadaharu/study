{
 "cells": [
  {
   "cell_type": "markdown",
   "metadata": {
    "toc": "true"
   },
   "source": [
    "# Table of Contents\n",
    " <p>"
   ]
  },
  {
   "cell_type": "markdown",
   "metadata": {},
   "source": [
    "value 関数はfixed pointに漸近していく。それによって、greedy policyは収束する。\n",
    "\n",
    "\n",
    "\n",
    "\n",
    "\n",
    "\n",
    "Bellman equationを速く？解きたい→linear programming\n",
    "\n",
    "policy iteration\n",
    "\n",
    "initialize $\\forall s, Q_0(s)=0$\n",
    "\n",
    "domination\n",
    "定義\n",
    "\n",
    "$\\pi_1\\geq \\pi_2 $ iff $\\forall s\\in S$ $V^{\\pi_1}(s) \\geq V^{\\pi_2}(s)$\n",
    "\n",
    "why policy iteration works?\n",
    "\n"
   ]
  },
  {
   "cell_type": "markdown",
   "metadata": {},
   "source": [
    "$B_2 Q_1 \\geq Q_1$ : "
   ]
  },
  {
   "cell_type": "markdown",
   "metadata": {},
   "source": [
    "local optimum にははまらない。少なくともひとつの状態でよくなる?\n",
    "\n",
    "\n"
   ]
  },
  {
   "cell_type": "code",
   "execution_count": null,
   "metadata": {
    "collapsed": true
   },
   "outputs": [],
   "source": []
  }
 ],
 "metadata": {
  "kernelspec": {
   "display_name": "Python 3",
   "language": "python",
   "name": "python3"
  },
  "language_info": {
   "codemirror_mode": {
    "name": "ipython",
    "version": 3
   },
   "file_extension": ".py",
   "mimetype": "text/x-python",
   "name": "python",
   "nbconvert_exporter": "python",
   "pygments_lexer": "ipython3",
   "version": "3.5.2"
  },
  "nav_menu": {},
  "toc": {
   "navigate_menu": true,
   "number_sections": true,
   "sideBar": false,
   "threshold": 6,
   "toc_cell": true,
   "toc_section_display": "block",
   "toc_window_display": false
  }
 },
 "nbformat": 4,
 "nbformat_minor": 0
}
