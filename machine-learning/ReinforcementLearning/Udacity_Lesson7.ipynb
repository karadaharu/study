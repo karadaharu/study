{
 "cells": [
  {
   "cell_type": "markdown",
   "metadata": {
    "toc": "true"
   },
   "source": [
    "# Table of Contents\n",
    " <p><div class=\"lev1\"><a href=\"#k-armed-bandits\"><span class=\"toc-item-num\">1&nbsp;&nbsp;</span>k-armed bandits</a></div><div class=\"lev2\"><a href=\"#Metrics-for-bandits\"><span class=\"toc-item-num\">1.1&nbsp;&nbsp;</span>Metrics for bandits</a></div><div class=\"lev2\"><a href=\"#hoeffding\"><span class=\"toc-item-num\">1.2&nbsp;&nbsp;</span>hoeffding</a></div>"
   ]
  },
  {
   "cell_type": "markdown",
   "metadata": {},
   "source": [
    "Exploring Exploration\n",
    "\n",
    "# k-armed bandits\n",
    "どのアームがどういう確率で当たりを出すか分からない\n",
    "\n",
    "何回かサンプルしたあとに、期待値が高くて尤度が高いやつを選ぶとexploreできない\n",
    "\n",
    "exploration-exploitation dilenmma : 探索しようとすると一番いい利得を得られない\n",
    "\n",
    "## Metrics for bandits\n",
    "gittins index : "
   ]
  },
  {
   "cell_type": "markdown",
   "metadata": {
    "collapsed": true
   },
   "source": [
    "## hoeffding\n",
    "信頼区間\n",
    "\n",
    "\n"
   ]
  }
 ],
 "metadata": {
  "kernelspec": {
   "display_name": "Python 3",
   "language": "python",
   "name": "python3"
  },
  "language_info": {
   "codemirror_mode": {
    "name": "ipython",
    "version": 3
   },
   "file_extension": ".py",
   "mimetype": "text/x-python",
   "name": "python",
   "nbconvert_exporter": "python",
   "pygments_lexer": "ipython3",
   "version": "3.5.2"
  },
  "nav_menu": {},
  "toc": {
   "navigate_menu": true,
   "number_sections": true,
   "sideBar": false,
   "threshold": 6,
   "toc_cell": true,
   "toc_section_display": "block",
   "toc_window_display": false
  }
 },
 "nbformat": 4,
 "nbformat_minor": 0
}
