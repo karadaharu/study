{
 "cells": [
  {
   "cell_type": "markdown",
   "metadata": {
    "toc": "true"
   },
   "source": [
    "# Table of Contents\n",
    " <p><div class=\"lev1\"><a href=\"#多次元尺度法(Multi-Dimensional-Scaling)とは\"><span class=\"toc-item-num\">1&nbsp;&nbsp;</span>多次元尺度法(Multi Dimensional Scaling)とは</a></div><div class=\"lev1\"><a href=\"#手順\"><span class=\"toc-item-num\">2&nbsp;&nbsp;</span>手順</a></div>"
   ]
  },
  {
   "cell_type": "markdown",
   "metadata": {},
   "source": [
    "# 多次元尺度法(Multi Dimensional Scaling)とは\n",
    "\n",
    "対象のデータを低次元空間に縮約する手法\n",
    "\n",
    "# 手順\n",
    "1. 距離を求める → 課題1 どのように距離を設定するか？\n",
    "2. 座標値を求める\n",
    "3. 2~3次元上で個体を配置する\n",
    "4. 信頼性を考察する\n",
    "\n"
   ]
  },
  {
   "cell_type": "markdown",
   "metadata": {},
   "source": [
    "古典的MDSは主成分分析と等価\n",
    "\n"
   ]
  },
  {
   "cell_type": "markdown",
   "metadata": {},
   "source": [
    "### 主成分分析\n"
   ]
  }
 ],
 "metadata": {
  "kernelspec": {
   "display_name": "Python 3",
   "language": "python",
   "name": "python3"
  },
  "language_info": {
   "codemirror_mode": {
    "name": "ipython",
    "version": 3
   },
   "file_extension": ".py",
   "mimetype": "text/x-python",
   "name": "python",
   "nbconvert_exporter": "python",
   "pygments_lexer": "ipython3",
   "version": "3.5.1"
  },
  "nav_menu": {},
  "toc": {
   "navigate_menu": true,
   "number_sections": true,
   "sideBar": false,
   "threshold": 6,
   "toc_cell": true,
   "toc_section_display": "block",
   "toc_window_display": false
  }
 },
 "nbformat": 4,
 "nbformat_minor": 0
}
