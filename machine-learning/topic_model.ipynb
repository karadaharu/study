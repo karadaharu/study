{
 "cells": [
  {
   "cell_type": "markdown",
   "metadata": {
    "toc": "true"
   },
   "source": [
    "# Table of Contents\n",
    " <p><div class=\"lev2\"><a href=\"#2.-ユニグラム\"><span class=\"toc-item-num\">0.1&nbsp;&nbsp;</span>2. ユニグラム</a></div><div class=\"lev3\"><a href=\"#2.3-最尤推定\"><span class=\"toc-item-num\">0.1.1&nbsp;&nbsp;</span>2.3 最尤推定</a></div><div class=\"lev2\"><a href=\"#2.4-MAP推定\"><span class=\"toc-item-num\">0.2&nbsp;&nbsp;</span>2.4 MAP推定</a></div><div class=\"lev3\"><a href=\"#2.5-ベイズ推定\"><span class=\"toc-item-num\">0.2.1&nbsp;&nbsp;</span>2.5 ベイズ推定</a></div><div class=\"lev3\"><a href=\"#2.7-ハイパーパラメータ推定\"><span class=\"toc-item-num\">0.2.2&nbsp;&nbsp;</span>2.7 ハイパーパラメータ推定</a></div><div class=\"lev2\"><a href=\"#3.-混合ユニグラムモデル\"><span class=\"toc-item-num\">0.3&nbsp;&nbsp;</span>3. 混合ユニグラムモデル</a></div><div class=\"lev3\"><a href=\"#3.1-混合ユニグラムモデル\"><span class=\"toc-item-num\">0.3.1&nbsp;&nbsp;</span>3.1 混合ユニグラムモデル</a></div><div class=\"lev3\"><a href=\"#3.3-EMアルゴリズム\"><span class=\"toc-item-num\">0.3.2&nbsp;&nbsp;</span>3.3 EMアルゴリズム</a></div>"
   ]
  },
  {
   "cell_type": "markdown",
   "metadata": {},
   "source": [
    "## 2. ユニグラム"
   ]
  },
  {
   "cell_type": "markdown",
   "metadata": {},
   "source": [
    "カテゴリ分布のパラメータ$\\phi$が与えられたときの文書集合Wの確率は\n",
    "\n",
    "$p(W|\\phi)=\\Pi^{D}_{d=1}\\Pi^{N_d}_{n=1}p(w_{dn}|\\phi)=\\Pi^{V}_{v=1}\\phi_v^{N_{v}}$"
   ]
  },
  {
   "cell_type": "markdown",
   "metadata": {},
   "source": [
    "### 2.3 最尤推定\n",
    "ある文章Wが与えられたときに、ユニグラムモデルの未知パラメータ$\\phi$を推定したい。最尤推定で求める。\n",
    "\n",
    "$\\rm{argmax}_{\\phi} \\log p(W|\\phi)$ ただし$\\sum_{v=1}^{V}\\phi_v=1$\n",
    "\n",
    "ラグランジュの未定乗数法を用いる。次の関数が極値をとるパラメータの値を求める。\n",
    "\n",
    "$F=\\log p(W|\\phi) + \\lambda (\\sum_{v=1}^{V}\\phi_v - 1 )$\n",
    "\n",
    "$\\frac{\\partial F}{\\partial \\phi_v} = \\frac{N_v}{\\phi_v}+\\lambda=0$\n",
    "\n",
    "$\\frac{\\partial F}{\\partial \\lambda} = \\sum_v \\phi_v - 1= 0$\n",
    "\n",
    "より、$\\phi_v = \\frac{N_v}{N}$\n",
    "\n",
    "つまり、単純に観測した頻度分布をとればいい。"
   ]
  },
  {
   "cell_type": "markdown",
   "metadata": {},
   "source": [
    "## 2.4 MAP推定\n",
    "例えば、サイコロの出る目の確率を求めるときに1回しか観測しないと、その目しか出ない、ということになる。それはおかしい。過学習をさけるためにMAP推定をする。\n",
    "\n",
    "カテゴリ分布のパラメータの事前分布$p(\\phi|\\beta)$（$\\phi$と$\\beta$を与えると、その$\\phi$になる確率が返ってくる。）は共役事前分布をとると計算が楽。指数型分布族の場合、共役事前分布が存在する。カテゴリ分布の共役事前分布はディリクレ分布。"
   ]
  },
  {
   "cell_type": "markdown",
   "metadata": {},
   "source": [
    "ディリクレ分布：\n",
    "\n",
    "$\\rm{DIrichlet}(\\phi|\\beta)= \\frac{\\Gamma (\\sum^V_{v=1}\\beta_v)}{\\Pi^V_{v=1}\\Gamma(\\beta_v)}\\Pi^V_{v=1}\\phi_v^{\\beta_v-1}$"
   ]
  },
  {
   "cell_type": "markdown",
   "metadata": {},
   "source": [
    "パラメータ$\\beta$は$\\phi$と同じ次元。$\\beta_v>0$"
   ]
  },
  {
   "cell_type": "markdown",
   "metadata": {},
   "source": [
    "パラメータを$(\\beta, \\cdots, \\beta)$とすると、事前分布は\n",
    "\n",
    "$P(\\phi|\\beta)=\\rm{Dirichlet}(\\phi|\\beta,\\cdots,\\beta)=\\frac{\\Gamma(\\beta V)}{\\Gamma(\\beta)^V}\\Pi^{V}_{v=1}\\phi^{\\beta-1}_{v}$"
   ]
  },
  {
   "cell_type": "markdown",
   "metadata": {},
   "source": [
    "事後確率の対数をとる\n",
    "\n",
    "$\\rm{argmax}_{\\phi}[\\log p(\\phi|W,\\beta)] =\\rm{argmax}_{\\phi}[\\log p(W|\\phi) + \\log p(\\phi|\\beta)]$"
   ]
  },
  {
   "cell_type": "markdown",
   "metadata": {},
   "source": [
    "$=\\rm{argmax}_{\\phi}[\\sum^V_{v=1}\\log \\phi^{N_v}_v+\\log\\Gamma(\\beta V)-V\\log\\gamma(\\beta) + \\sum^V_{v=1}\\log \\phi^{\\beta-1}_v]$\n",
    "\n",
    "$=\\rm{argmax}_{\\phi}[\\sum^V_{v=1}(N_v+\\beta-1)\\log\\phi_v]$"
   ]
  },
  {
   "cell_type": "markdown",
   "metadata": {},
   "source": [
    "ラグランジュの未定乗数法を使うと、\n",
    "\n",
    "$\\phi_v=\\frac{N_v+\\beta-1}{N+(\\beta-1)V}$\n",
    "\n",
    "となる。"
   ]
  },
  {
   "cell_type": "markdown",
   "metadata": {},
   "source": [
    "### 2.5 ベイズ推定\n",
    "MAP推定では、どれくらい推定値が確からしいのか分からない。観測回数が少ないときと多いときで同じ値になるという問題がある。事後確率自体を求める。\n",
    "\n",
    "$p(\\phi|W,\\beta) = \\frac{p(W|\\phi)p(\\phi|\\beta)}{\\int p(\\phi|\\beta)p(W|\\phi)d\\phi}$\n",
    "\n",
    "$=Dir(\\phi|N_1+\\beta,\\cdots,N_v+\\beta)$"
   ]
  },
  {
   "cell_type": "markdown",
   "metadata": {},
   "source": [
    "### 2.7 ハイパーパラメータ推定\n",
    "初期値として与えるハイパーパラメータβはどう決めたらいいのか？という問題が残る。何かしら事前知識から決める以外に、データからハイパーパラメータを推定する、経験ベイズ推定がある。"
   ]
  },
  {
   "cell_type": "markdown",
   "metadata": {},
   "source": [
    "パラメータΦを周辺化した周辺尤度は\n",
    "\n",
    "$p(W|\\beta)=\\int p(W|\\phi)p(\\phi|\\beta)d\\phi $"
   ]
  },
  {
   "cell_type": "markdown",
   "metadata": {},
   "source": [
    "これが最大になるようなβを求めればいい。不動点反復法を用いて最大になるようなβは求まる。\n",
    "\n",
    "ハイパーパラメータの事前分布を考えて、さらに事後分布を求めるようなこともできる。"
   ]
  },
  {
   "cell_type": "markdown",
   "metadata": {},
   "source": [
    "## 3. 混合ユニグラムモデル\n",
    "### 3.1 混合ユニグラムモデル\n",
    "ある文章dにおける単語の集合が$w_d$になる確率は\n",
    "\n",
    "$p(w_d|\\theta,\\phi)=\\sum_{k=1}^K \\theta_k \\Pi_{v=1}^V \\phi_{kv}^{N_{dv}}$\n",
    "\n",
    "文章の集合Wが得られる確率は\n",
    "\n",
    "$p(W|\\theta,\\phi)=\\Pi_d p(w_d|\\theta,\\phi)$\n",
    "\n",
    "### 3.3 EMアルゴリズム\n",
    "対数尤度は\n",
    "\n",
    "$L=\\sum^D_{d=1}\\log p(w_d|\\theta,\\Phi)=\\sum^D_{d=1}\\log\\sum p(w_d|\\phi_k)p(k|\\theta)$\n",
    "\n",
    "これを最大にするパラメータは解析的に求まらない。そこでEMアルゴリズムを使う。EMアルゴリズムは対数尤度の下限を最大化することでパラメータの局所最適値を求める。イェンゼンの不等式を用いると、対数尤度の下限Fが計算できる。\n",
    "\n",
    "イェンゼンの不等式\n"
   ]
  },
  {
   "cell_type": "code",
   "execution_count": null,
   "metadata": {
    "collapsed": true
   },
   "outputs": [],
   "source": []
  }
 ],
 "metadata": {
  "kernelspec": {
   "display_name": "Python 3",
   "language": "python",
   "name": "python3"
  },
  "language_info": {
   "codemirror_mode": {
    "name": "ipython",
    "version": 3
   },
   "file_extension": ".py",
   "mimetype": "text/x-python",
   "name": "python",
   "nbconvert_exporter": "python",
   "pygments_lexer": "ipython3",
   "version": "3.5.2"
  },
  "nav_menu": {},
  "toc": {
   "navigate_menu": true,
   "number_sections": false,
   "sideBar": false,
   "threshold": 6,
   "toc_cell": true,
   "toc_section_display": "block",
   "toc_window_display": true
  }
 },
 "nbformat": 4,
 "nbformat_minor": 0
}
