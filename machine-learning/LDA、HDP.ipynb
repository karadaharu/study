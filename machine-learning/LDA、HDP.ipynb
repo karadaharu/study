{
 "cells": [
  {
   "cell_type": "markdown",
   "metadata": {
    "toc": "true"
   },
   "source": [
    "# Table of Contents\n",
    " <p><div class=\"lev2\"><a href=\"#Latent-Dirichlet-Allocation(LDA)\"><span class=\"toc-item-num\">0.1&nbsp;&nbsp;</span>Latent Dirichlet Allocation(LDA)</a></div><div class=\"lev2\"><a href=\"#Hierarchical-Dirichlet-Process(HDP)\"><span class=\"toc-item-num\">0.2&nbsp;&nbsp;</span>Hierarchical Dirichlet Process(HDP)</a></div><div class=\"lev2\"><a href=\"#ディリクレ分布\"><span class=\"toc-item-num\">0.3&nbsp;&nbsp;</span>ディリクレ分布</a></div><div class=\"lev3\"><a href=\"#ベータ分布\"><span class=\"toc-item-num\">0.3.1&nbsp;&nbsp;</span>ベータ分布</a></div><div class=\"lev4\"><a href=\"#二項分布\"><span class=\"toc-item-num\">0.3.1.1&nbsp;&nbsp;</span>二項分布</a></div><div class=\"lev3\"><a href=\"#共役事前分布\"><span class=\"toc-item-num\">0.3.2&nbsp;&nbsp;</span>共役事前分布</a></div><div class=\"lev4\"><a href=\"#例\"><span class=\"toc-item-num\">0.3.2.1&nbsp;&nbsp;</span>例</a></div><div class=\"lev3\"><a href=\"#多項分布\"><span class=\"toc-item-num\">0.3.3&nbsp;&nbsp;</span>多項分布</a></div>"
   ]
  },
  {
   "cell_type": "markdown",
   "metadata": {},
   "source": [
    "## Latent Dirichlet Allocation(LDA)\n",
    "トピック数は固定して与える\n",
    "\n",
    "各トピックごとに単語出現確率を生成←ディリクレ分布から\n",
    "各文章ごとにトピック確率を生成←ディリクレ分布から\n",
    "\n",
    "ディリクレ分布：サイコロの目の出やすさの分布\n",
    "Dir(出る確率|出た回数)\n",
    "\n",
    "文章とトピック数だけでできる？\n",
    "\n",
    "## Hierarchical Dirichlet Process(HDP)\n",
    "\n",
    "\n",
    "MDS多次元尺度構成法　多次元をなんらかの方法で2,3次元に落とす\n",
    "\n",
    "アラインメント\n",
    "\n"
   ]
  },
  {
   "cell_type": "markdown",
   "metadata": {},
   "source": [
    "## ディリクレ分布\n",
    "ベータ分布の多変量版。多項分布の共役事前分布。\n",
    "\n",
    "### ベータ分布\n",
    "確率密度関数が\n",
    "\n",
    "$f(x)=Cx^{a-1}(1-x)^{b-1}\\: (0\\leq x \\leq 1)$\n",
    "\n",
    "であるような確率分布。ただし、a,bはパラメーター（正の実数）であり、\n",
    "\n",
    "$C=\\frac{1}{\\int^{1}_{0}x^{a-1}(1-x)^{b-1}dx}$\n",
    "\n",
    "は規格化定数。Cの分母をベータ関数という。\n",
    "\n",
    "$\\mbox{B}(\\alpha, \\beta) =\\int^{1}_{0}x^{a-1}(1-x)^{b-1}dx$\n",
    "\n",
    "ベイズ統計において、二項分布の共役事前分布。\n",
    "\n",
    "パラーメーターによって、かなり定性的に異なる色々な形をとることができる。\n",
    "\n",
    "もともとピアソンが微分方程式の解として考えたらしい。"
   ]
  },
  {
   "cell_type": "markdown",
   "metadata": {},
   "source": [
    "#### 二項分布\n",
    "\n",
    "$P(k) = {}_{n}C_{k}p^{k}(1-p)^{n-k}$\n",
    "\n",
    "### 共役事前分布\n",
    "尤度関数とかけて事後分布を求めると、その関数形が同じになるような事前分布\n",
    "\n",
    "\n",
    "#### 例\n",
    "セレッソ大阪に対してガンバ大阪が3連勝している状態で、次もセレッソ大阪に勝つ場合の確率分布をどうなるか。引分けはないとする。事前情報として次にガンバ大阪が勝つ確率はベータ分布Be(2,2)に従うことが経験より知られています。勝ち率を表す事後分布はどうなるでしょう。\n",
    "\n",
    "勝つ確率$\\theta$の事前分布はベータ分布 $B(\\alpha, \\beta)$\n",
    "\n",
    "k連勝する確率は二項分布$P(D|\\theta) = {}_{n}C_{k}p^{k}(1-p)^{n-k}$\n",
    "\n",
    "\n",
    "事後確率は$P(\\theta|D) \\propto P(D|\\theta) P(\\theta) \\propto B(\\alpha ', \\beta')$ "
   ]
  },
  {
   "cell_type": "markdown",
   "metadata": {},
   "source": [
    "### 多項分布\n",
    "\n",
    "$P(n_{1}, \\cdots , n_{k}) = \\frac{n!}{n_{1}!\\cdots n_{k}!} p_{1}^{n_{1}} \\cdots p_{k}^{n_{k}}$\n",
    "\n",
    "確率$p_{i}$で事象$A_{i}$が起きる試行をn回行った時どの事象が何回起こったかを表す確率分布"
   ]
  },
  {
   "cell_type": "markdown",
   "metadata": {},
   "source": [
    "**TO DO**\n",
    "\n",
    "共役事前分布と尤度関数から事後分布が同じ形になることの確認"
   ]
  },
  {
   "cell_type": "code",
   "execution_count": null,
   "metadata": {
    "collapsed": true
   },
   "outputs": [],
   "source": []
  }
 ],
 "metadata": {
  "kernelspec": {
   "display_name": "Python 3",
   "language": "python",
   "name": "python3"
  },
  "language_info": {
   "codemirror_mode": {
    "name": "ipython",
    "version": 3
   },
   "file_extension": ".py",
   "mimetype": "text/x-python",
   "name": "python",
   "nbconvert_exporter": "python",
   "pygments_lexer": "ipython3",
   "version": "3.5.1"
  },
  "nav_menu": {},
  "toc": {
   "navigate_menu": true,
   "number_sections": true,
   "sideBar": false,
   "threshold": 6,
   "toc_cell": true,
   "toc_section_display": "block",
   "toc_window_display": false
  }
 },
 "nbformat": 4,
 "nbformat_minor": 0
}
