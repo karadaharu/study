{
 "cells": [
  {
   "cell_type": "markdown",
   "metadata": {},
   "source": [
    "## Latent Dirichlet Allocation(LDA)\n",
    "トピック数は固定して与える\n",
    "\n",
    "各トピックごとに単語出現確率を生成←ディリクレ分布から\n",
    "各文章ごとにトピック確率を生成←ディリクレ分布から\n",
    "\n",
    "ディリクレ分布：サイコロの目の出やすさの分布\n",
    "Dir(出る確率|出た回数)\n",
    "\n",
    "文章とトピック数だけでできる？\n",
    "\n",
    "## Hierarchical Dirichlet Process(HDP)\n",
    "\n",
    "\n",
    "MDS多次元尺度構成法　多次元をなんらかの方法で2,3次元に落とす\n",
    "\n",
    "アラインメント\n",
    "\n"
   ]
  }
 ],
 "metadata": {
  "kernelspec": {
   "display_name": "Python 3",
   "language": "python",
   "name": "python3"
  },
  "language_info": {
   "codemirror_mode": {
    "name": "ipython",
    "version": 3
   },
   "file_extension": ".py",
   "mimetype": "text/x-python",
   "name": "python",
   "nbconvert_exporter": "python",
   "pygments_lexer": "ipython3",
   "version": "3.5.1"
  }
 },
 "nbformat": 4,
 "nbformat_minor": 0
}
