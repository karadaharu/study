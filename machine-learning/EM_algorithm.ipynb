{
 "cells": [
  {
   "cell_type": "markdown",
   "metadata": {
    "toc": "true"
   },
   "source": [
    "# Table of Contents\n",
    " <p><div class=\"lev1\"><a href=\"#deriviation\"><span class=\"toc-item-num\">1&nbsp;&nbsp;</span>deriviation</a></div><div class=\"lev2\"><a href=\"#具体的な計算\"><span class=\"toc-item-num\">1.1&nbsp;&nbsp;</span>具体的な計算</a></div><div class=\"lev1\"><a href=\"#exact-solution\"><span class=\"toc-item-num\">2&nbsp;&nbsp;</span>exact solution</a></div><div class=\"lev1\"><a href=\"#Numerical-estimate\"><span class=\"toc-item-num\">3&nbsp;&nbsp;</span>Numerical estimate</a></div><div class=\"lev1\"><a href=\"#Incomplete-information\"><span class=\"toc-item-num\">4&nbsp;&nbsp;</span>Incomplete information</a></div><div class=\"lev1\"><a href=\"#解説(日本語)\"><span class=\"toc-item-num\">5&nbsp;&nbsp;</span>解説(日本語)</a></div><div class=\"lev2\"><a href=\"#具体例\"><span class=\"toc-item-num\">5.1&nbsp;&nbsp;</span>具体例</a></div><div class=\"lev2\"><a href=\"#Example-1\"><span class=\"toc-item-num\">5.2&nbsp;&nbsp;</span>Example 1</a></div><div class=\"lev1\"><a href=\"#書き直し\"><span class=\"toc-item-num\">6&nbsp;&nbsp;</span>書き直し</a></div>"
   ]
  },
  {
   "cell_type": "markdown",
   "metadata": {},
   "source": [
    "# deriviation\n",
    "コイントスを考える。全種類のコインの裏表が出る確率を決めるパラメーター$\\theta$、各試行でどのコインを使ったかを表す$z$、全試行の結果$x$ \n",
    "\n",
    "\n",
    "$z$は未知。$z$について周辺化した対数尤度を考える。\n",
    "\n",
    "$\\log (\\sum_z P(x,z; \\theta))$\n",
    "\n",
    "これを最大化するような$\\theta$が結局は知りたい。\n",
    "\n",
    "zについての任意の確率分布$Q(z)$を使って、この周辺化対数尤度は次の不等式で抑えられる\n",
    "\n",
    "$\\log (\\sum_z P(x,z; \\theta) = \\log (\\sum_z Q(z) \\cdot \\frac{P(x,z;\\theta)}{Q(z)}) \\geq \\sum_z Q(z) \\log (\\frac{P(x,z; \\theta)}{Q(z)})$ "
   ]
  },
  {
   "cell_type": "markdown",
   "metadata": {},
   "source": [
    "なぜなら、Jensenの不等式から凸関数fについて(ふつう凸関数といったら下に凸)\n",
    "\n",
    "$E_P[f(x)] \\geq f(E_P[ x])$"
   ]
  },
  {
   "cell_type": "markdown",
   "metadata": {},
   "source": [
    "logは上に凸だから\n",
    "\n",
    "$\\log (E_Q[x])  \\geq E_Q[\\log (x)]$"
   ]
  },
  {
   "cell_type": "markdown",
   "metadata": {},
   "source": [
    "更新式 $\\hat{\\theta}^{(t+1)} = \\mathrm{arg max}_{\\theta} g_t(\\theta)$"
   ]
  },
  {
   "cell_type": "markdown",
   "metadata": {},
   "source": [
    "$Q(z) :=  P(z|x; \\hat{\\theta}^{(t)})$ とおいて、\n",
    "\n",
    "\n",
    "$g_t(\\theta) = \\sum_z P(z|x;\\hat{\\theta}^{(t)})\\log (\\frac{P(x,z;\\theta)}{P(z|x;\\hat{\\theta}^(t))})$"
   ]
  },
  {
   "cell_type": "markdown",
   "metadata": {},
   "source": [
    "ベイズ的な見方\n",
    "\n",
    "$\\theta$が既知とすれば、\n",
    "\n",
    "$ P(z| x,\\theta)  =  \\frac{P(x|z,\\theta) P(z)}{P(x|\\theta)} $"
   ]
  },
  {
   "cell_type": "markdown",
   "metadata": {},
   "source": [
    "## 具体的な計算\n",
    "1回の試行でn回コイントスをする。i回目の表が出た回数を$x_i$とする。m回試行する。\n",
    "コインはA, Bの2種類ある。各コインの表が出る真の確率は$\\theta_j, j \\in \\{A,B\\}$とする。 i回目の試行で使ったコインを$z_i \\in \\{A,B\\}$とする。"
   ]
  },
  {
   "cell_type": "markdown",
   "metadata": {},
   "source": [
    "$P(x_i|z_i,\\theta) = B(x_i | m, \\theta_{z_i}) = _m C_{x_i} \\theta_{z_i}^{x_i}(1-\\theta_{z_i})^{m-x_i}$"
   ]
  },
  {
   "cell_type": "markdown",
   "metadata": {},
   "source": [
    "$P(x|z,\\theta) = \\Pi_{i=1}^m P(x_i|z_i,\\theta)$"
   ]
  },
  {
   "cell_type": "markdown",
   "metadata": {},
   "source": [
    "$P(x,z|\\theta) = P(x|z,\\theta) P(z)$"
   ]
  },
  {
   "cell_type": "markdown",
   "metadata": {},
   "source": [
    "$P(z_i | x_i, \\theta) = \\frac{ P(x_i|z_i,\\theta) P(z_i) }{P(x_i|\\theta)}$"
   ]
  },
  {
   "cell_type": "markdown",
   "metadata": {},
   "source": [
    "そもそも分からないのが$P(x_i|\\theta)$ じゃん。どうすんの？"
   ]
  },
  {
   "cell_type": "markdown",
   "metadata": {},
   "source": [
    "$P(x_i|\\theta) = \\int P(z_i) P(x_i|z_i,\\theta) dz$"
   ]
  },
  {
   "cell_type": "code",
   "execution_count": 1,
   "metadata": {
    "collapsed": true
   },
   "outputs": [],
   "source": [
    "import os\n",
    "import sys\n",
    "import glob\n",
    "import matplotlib.pyplot as plt\n",
    "import numpy as np\n",
    "import pandas as pd\n",
    "%matplotlib inline\n",
    "plt.style.use('ggplot')\n",
    "np.random.seed(1234)\n",
    "\n",
    "np.set_printoptions(formatter={'all':lambda x: '%.3f' % x})"
   ]
  },
  {
   "cell_type": "code",
   "execution_count": 2,
   "metadata": {
    "collapsed": true
   },
   "outputs": [],
   "source": [
    "from IPython.display import Image\n",
    "from numpy.core.umath_tests import matrix_multiply as mm"
   ]
  },
  {
   "cell_type": "code",
   "execution_count": 2,
   "metadata": {
    "collapsed": true
   },
   "outputs": [],
   "source": [
    "from scipy.optimize import minimize\n",
    "from scipy.stats import bernoulli, binom"
   ]
  },
  {
   "cell_type": "markdown",
   "metadata": {},
   "source": [
    "2種類のコインを１試行M回、N=5試行繰り返す"
   ]
  },
  {
   "cell_type": "code",
   "execution_count": 5,
   "metadata": {
    "collapsed": true
   },
   "outputs": [],
   "source": [
    "#  thetas : 表が出る確率\n",
    "# binom(a,b) : 確率bのベルヌーイ試行をa回したときの確率分布\n",
    "# 対数尤度の負\n",
    "def neg_loglik(thetas, n, xs, zs):\n",
    "    return -np.sum([binom(n, thetas[z]).logpmf(x) for (x, z) in zip(xs, zs)])"
   ]
  },
  {
   "cell_type": "code",
   "execution_count": 11,
   "metadata": {
    "collapsed": true
   },
   "outputs": [],
   "source": [
    "m = 10\n",
    "# 表になる確率\n",
    "theta_A = 0.8\n",
    "theta_B = 0.3\n",
    "theta_0 = [theta_A, theta_B]\n",
    "\n",
    "coin_A = bernoulli(theta_A)\n",
    "coin_B = bernoulli(theta_B)\n",
    "\n",
    "# rvs : 試行\n",
    "# mapの返り値をlistにすれば結果が得られる\n",
    "xs = list(map(sum, [coin_A.rvs(m), coin_A.rvs(m), coin_B.rvs(m), coin_A.rvs(m), coin_B.rvs(m)]))\n",
    "zs = [0, 0, 1, 0, 1]"
   ]
  },
  {
   "cell_type": "markdown",
   "metadata": {},
   "source": [
    "# exact solution"
   ]
  },
  {
   "cell_type": "code",
   "execution_count": 12,
   "metadata": {
    "collapsed": false
   },
   "outputs": [
    {
     "data": {
      "text/plain": [
       "(0.80000000000000004, 0.20000000000000001)"
      ]
     },
     "execution_count": 12,
     "metadata": {},
     "output_type": "execute_result"
    }
   ],
   "source": [
    "xs = np.array(xs)\n",
    "ml_A = np.sum(xs[[0,1,3]])/(3.0*m)\n",
    "ml_B = np.sum(xs[[2,4]])/(2.0*m)\n",
    "ml_A, ml_B"
   ]
  },
  {
   "cell_type": "markdown",
   "metadata": {
    "collapsed": true
   },
   "source": [
    "# Numerical estimate"
   ]
  },
  {
   "cell_type": "code",
   "execution_count": 9,
   "metadata": {
    "collapsed": false
   },
   "outputs": [
    {
     "data": {
      "text/plain": [
       "     fun: 8.012844299149247\n",
       "     jac: array([  2.48689958e-06,   1.42108547e-06])\n",
       " message: 'Converged (|f_n-f_(n-1)| ~= 0)'\n",
       "    nfev: 24\n",
       "     nit: 7\n",
       "  status: 1\n",
       " success: True\n",
       "       x: array([ 0.70000001,  0.45000001])"
      ]
     },
     "execution_count": 9,
     "metadata": {},
     "output_type": "execute_result"
    }
   ],
   "source": [
    "bnds = [(0,1), (0,1)]\n",
    "# minimize : 第一引数が最小化したい関数、第二引数がその関数への第一引数の初期値\n",
    "minimize(neg_loglik, [0.5, 0.5], args=(m, xs, zs),\n",
    "         bounds=bnds, method='tnc', options={'maxiter': 100})"
   ]
  },
  {
   "cell_type": "markdown",
   "metadata": {},
   "source": [
    "# Incomplete information"
   ]
  },
  {
   "cell_type": "markdown",
   "metadata": {},
   "source": [
    "x回表/裏が出た\n",
    "表/裏が出る確率は$\\theta$\n",
    "\n",
    "(1) 各候補について\n",
    "$\\sum_i x_i \\log \\theta_j = \\log \\Pi_i \\theta_j^{x_i}$\n",
    "\n",
    "(2)\n",
    "$\\exp(\\sum_i x_i \\log \\theta_i) = \\Pi_i \\theta_i^{x_i}$\n",
    "\n",
    "試行xがAっぽいかBっぽいか\n",
    "$w_A = \\Pi_i \\theta_{Ai}^{x_i} / (\\Pi_i \\theta_{Ai}^{x_i} + \\Pi_i \\theta_{Bi}^{x_i})$\n",
    "\n",
    "(3)\n",
    "$v_A = x w_A$\n",
    "\n",
    "だから\n",
    "\n",
    "$v_A + v_B = x$"
   ]
  },
  {
   "cell_type": "code",
   "execution_count": 18,
   "metadata": {
    "collapsed": true
   },
   "outputs": [],
   "source": [
    "xs = np.array([(5,5), (9,1), (8,2), (4,6), (7,3)])\n",
    "thetas = np.array([[0.6, 0.4], [0.5, 0.5]])\n",
    "\n",
    "tol = 0.01\n",
    "max_iter = 100\n",
    "\n",
    "ll_old = 0\n",
    "\n",
    "for i in range(max_iter):\n",
    "    ws_A = []\n",
    "    ws_B = []\n",
    "    vs_A = []\n",
    "    vs_B = []\n",
    "    ll_new = 0\n",
    "    \n",
    "    # E step\n",
    "    for x in xs:\n",
    "        # multinomial log likelihood (1)\n",
    "        ll_A = np.sum([x*np.log(thetas[0])])\n",
    "        ll_B = np.sum([x*np.log(thetas[1])])\n",
    "        \n",
    "        # [EQN 1] (2)\n",
    "        denom = np.exp(ll_A) + np.exp(ll_B)\n",
    "        w_A = np.exp(ll_A) / denom\n",
    "        w_B =  np.exp(ll_B) / denom\n",
    "        ws_A.append(w_A)\n",
    "        ws_B.append(w_B)\n",
    "        \n",
    "        # used for calculating theta (3)\n",
    "        vs_A.append(np.dot(w_A, x))\n",
    "        vs_B.append(np.dot(w_B, x))\n",
    "        \n",
    "        # update complete log likelihood\n",
    "        # wで重みづけ\n",
    "        ll_new += w_A * ll_A + w_B * ll_B\n",
    "    \n",
    "    # M-step : update values for parameters given current distribution\n",
    "    # [EQN 2] (4)\n",
    "    thetas[0] = np.sum(vs_A, 0) / np.sum(vs_A)\n",
    "    thetas[1] = np.sum(vs_A, 0) / np.sum(vs_A)"
   ]
  },
  {
   "cell_type": "code",
   "execution_count": 25,
   "metadata": {
    "collapsed": false
   },
   "outputs": [
    {
     "data": {
      "text/plain": [
       "array([ 5.,  5.,  5.,  5.,  5.])"
      ]
     },
     "execution_count": 25,
     "metadata": {},
     "output_type": "execute_result"
    }
   ],
   "source": [
    "np.sum(vs_B, 1)"
   ]
  },
  {
   "cell_type": "code",
   "execution_count": 26,
   "metadata": {
    "collapsed": false
   },
   "outputs": [
    {
     "data": {
      "text/plain": [
       "[0.5, 0.5, 0.5, 0.5, 0.5]"
      ]
     },
     "execution_count": 26,
     "metadata": {},
     "output_type": "execute_result"
    }
   ],
   "source": [
    "ws_A"
   ]
  },
  {
   "cell_type": "code",
   "execution_count": 27,
   "metadata": {
    "collapsed": false
   },
   "outputs": [
    {
     "data": {
      "text/plain": [
       "[0.5, 0.5, 0.5, 0.5, 0.5]"
      ]
     },
     "execution_count": 27,
     "metadata": {},
     "output_type": "execute_result"
    }
   ],
   "source": [
    "ws_B"
   ]
  },
  {
   "cell_type": "markdown",
   "metadata": {},
   "source": [
    "# 解説(日本語)\n",
    "\n",
    "\n",
    "http://convexbrain.osdn.jp/cgi-bin/wifky.pl?p=EM%A5%A2%A5%EB%A5%B4%A5%EA%A5%BA%A5%E0\n",
    "\n",
    "観測X,隠れ変数Y,パラメーター$\\theta$\n",
    "\n",
    "ベイズの定理より\n",
    "\n",
    "$\\ln p(X|\\theta) = \\ln \\frac{p(X,Y|\\theta)}{P(Y|X,\\theta)}= \\ln p(X,Y|\\theta) - \\ln P(Y|X,\\theta)$"
   ]
  },
  {
   "cell_type": "markdown",
   "metadata": {},
   "source": [
    "任意の確率密度関数を$q(Y)$とする。\n",
    "\n",
    "$\\ln p(X|\\theta) = \\ln p(X|\\theta) \\int q(Y) dY = \\int q(Y) \\ln p(X|\\theta) dY$\n",
    "\n",
    "$=  \\int q(Y) \\ln \\frac{p(X,Y|\\theta}{q(Y)} dY  + \\int q(Y) \\ln \\frac{q(Y)}{p(Y|X,\\theta)}dY$"
   ]
  },
  {
   "cell_type": "markdown",
   "metadata": {},
   "source": [
    "適当な$\\theta^t$を与えて、$q(Y) = p(Y|X,\\theta^t)$ \n",
    "\n",
    "$\\ln p(X|\\theta) = \\int p(Y|X,\\theta^t) \\ln \\frac{p(X,Y|\\theta)}{p(Y|X,\\theta^t)} dY + \\int p(Y|X,\\theta^t) \\ln \\frac{p(Y|X,\\theta^t)}{p(Y|X,\\theta)}dY$"
   ]
  },
  {
   "cell_type": "markdown",
   "metadata": {},
   "source": [
    "第１項を$L(\\theta,\\theta^t)$とおく。\n",
    "\n",
    "$L(\\theta,\\theta^t) = \\int p(Y|X,\\theta^t) \\ln p(X,Y|\\theta) dY - \\int p(Y|X,\\theta^t) \\ln p(Y|X,\\theta^t) dY$"
   ]
  },
  {
   "cell_type": "markdown",
   "metadata": {},
   "source": [
    "第１項を$Q(\\theta,\\theta^t)$とおく。"
   ]
  },
  {
   "cell_type": "markdown",
   "metadata": {},
   "source": [
    "Mステップ : $L(\\theta,\\theta^t)$を$\\theta$について最大化する。$L$の第２項は$\\theta$に関係ないので、実質$Q$を最大化すればいい。 最大になるような$\\theta$を$\\theta^{t+1}$として繰り返す。\n",
    "\n",
    "なんで$\\ln p(X|\\theta)$の第２項は考えないの？"
   ]
  },
  {
   "cell_type": "markdown",
   "metadata": {},
   "source": [
    "なぜなら、 \n",
    "$\\theta^{t+1} := \\mathrm{argmax}_{\\theta} L(\\theta,\\theta^t)$だから、当然\n",
    "\n",
    "$L(\\theta^{t+1},\\theta^t) \\geq L(\\theta^t,\\theta^t)$\n",
    "\n",
    "が成り立つ。そして、第二項はKL情報量 $KL(p(Y|X,\\theta^t)||p(Y|X,\\theta))  \\geq 0$"
   ]
  },
  {
   "cell_type": "markdown",
   "metadata": {},
   "source": [
    "第１項を最大化すれば、必ず対数尤度は大きくなるから。"
   ]
  },
  {
   "cell_type": "markdown",
   "metadata": {},
   "source": [
    "## 具体例\n"
   ]
  },
  {
   "cell_type": "markdown",
   "metadata": {},
   "source": [
    "1回の試行でn回コイントスをする。i回目の表が出た回数を$x_i$とする。m回試行する。\n",
    "コインはA, Bの2種類ある。各コインの表が出る真の確率は$\\theta_j, j \\in \\{A,B\\}$とする。 i回目の試行で使ったコインを$z_i \\in \\{A,B\\}$とする。"
   ]
  },
  {
   "cell_type": "markdown",
   "metadata": {},
   "source": [
    "$Q(\\theta,\\theta^t) = \\int p(z|x,\\theta^t) \\ln p(x,z|\\theta) dz$"
   ]
  },
  {
   "cell_type": "markdown",
   "metadata": {},
   "source": [
    "## Example 1"
   ]
  },
  {
   "cell_type": "markdown",
   "metadata": {},
   "source": [
    "http://www.ms.uky.edu/~mai/sta705/EMexamples.pdf"
   ]
  },
  {
   "cell_type": "markdown",
   "metadata": {},
   "source": [
    "$Q(\\theta|\\theta^t) := E[\\ln g(x|\\theta) | y, \\theta^t]$"
   ]
  },
  {
   "cell_type": "markdown",
   "metadata": {},
   "source": [
    "$\\ln g(y|\\theta) \\geq Q(\\theta|\\theta^t) - Q(\\theta^t | \\theta^t) + \\ln g(y|\\theta^t)$"
   ]
  },
  {
   "cell_type": "markdown",
   "metadata": {},
   "source": [
    "* 男のふたごがmペア\n",
    "* 女のふたごがfペア\n",
    "* 異性のふたごがoペア\n",
    "\n",
    "p : ペアが一卵性(identical)である確率pとと子どもが男である確率qを推定\n",
    "\n",
    "観測 f=(m,f,o), パラメーター$\\theta = (p,q)$\n",
    "\n",
    "同性のペアのうち、いくつが一卵性か？\n",
    "完全データ$x=(m_1,m_2, f_1,f_2,o)$\n",
    "\n",
    "多項分布\n",
    "\n",
    "$g(x|\\theta) = \\left(\\begin{array}{c} m+f+o\\\\ m_1,m_2, f_1,f_2,o \\end{array}\\right)\n",
    "(pq)^{m_1} [(1-p) q^2]^{m_2} [p(1-q)]^{f_1} [(1-p)(1-q)^2]^{f_2}[(1-p)2q(1-q)]^o$"
   ]
  },
  {
   "cell_type": "markdown",
   "metadata": {},
   "source": [
    "対数尤度は\n",
    "\n",
    "$\\ln g(x|\\theta) = (m_1+f_1)\\ln p + (m_2+f_2+o)\\ln (1-p) + (m_1 +2m_2+o)\\ln q  + (f_1+2f_2+o) \\ln (1-q) + Const.$"
   ]
  },
  {
   "cell_type": "markdown",
   "metadata": {},
   "source": [
    "Eステップ\n",
    "\n",
    "$m_1^{(t)}  = E[m_1 | y, \\theta^{(t)}]  = m \\frac{p^{(t)}q^{(t)}}{p^{(t)}q^{(t)}+(1-p^{(t)})(q^{(t)})^2}$\n",
    "\n",
    "ベイズの定理から求まるっぽい"
   ]
  },
  {
   "cell_type": "markdown",
   "metadata": {},
   "source": [
    "$E[m_1|y,\\theta^t] = \\frac{1}{N} $\n",
    "\n",
    "$y,\\theta^n$が分かっているとき、$m_1,m_2$の期待値(=尤度最大）は\n",
    "\n",
    "$m_1+m_2=m$ \n",
    "\n",
    "$m_1$が$m_1^'$だったとき、\n"
   ]
  },
  {
   "cell_type": "markdown",
   "metadata": {},
   "source": [
    "コインがありました。10回ふって、3回表でした。このコインが表になる確率はいくつだと推定されますか？"
   ]
  },
  {
   "cell_type": "markdown",
   "metadata": {},
   "source": [
    "表になる確率を$\\theta$とすると、その推定値$\\theta^*$は\n",
    "\n",
    "$\\theta^* = \\mathrm{argmax}_{\\theta} {}_{10}C_3 \\theta^3(1-\\theta)^{10-3}$"
   ]
  },
  {
   "cell_type": "markdown",
   "metadata": {},
   "source": [
    "対数をとってもいいので\n",
    "\n",
    "$\\theta^* = \\mathrm{argmax}_{\\theta} 3\\ln \\theta + (10-3) \\ln (1-\\theta)$"
   ]
  },
  {
   "cell_type": "markdown",
   "metadata": {},
   "source": [
    "$f(\\theta) = 3 \\ln \\theta  + 7 \\ln (1-\\theta)$　が最大値をとるときの$\\theta$を求める。\n",
    "\n"
   ]
  },
  {
   "cell_type": "markdown",
   "metadata": {},
   "source": [
    "$\\theta$の期待値は？"
   ]
  },
  {
   "cell_type": "markdown",
   "metadata": {},
   "source": [
    "$E_p[\\theta] =  \\int p(x) \\theta dx$"
   ]
  },
  {
   "cell_type": "markdown",
   "metadata": {},
   "source": [
    "$E_p[\\theta] = \\int $"
   ]
  },
  {
   "cell_type": "markdown",
   "metadata": {
    "collapsed": true
   },
   "source": [
    "# 書き直し"
   ]
  },
  {
   "cell_type": "code",
   "execution_count": 243,
   "metadata": {
    "collapsed": false
   },
   "outputs": [
    {
     "name": "stdout",
     "output_type": "stream",
     "text": [
      "[15  4  6 13  3  5  4  4  7  2]\n"
     ]
    }
   ],
   "source": [
    "import numpy as np\n",
    "import scipy.stats as st\n",
    "\n",
    "np.random.seed(0)\n",
    "\n",
    "# Problem setting\n",
    "N = 10\n",
    "M = 20\n",
    "theta_true = np.array([0.8, 0.2])\n",
    "z_true = np.random.randint(2, size=N)\n",
    "x = np.zeros(N, dtype=int)\n",
    "for i in range(0, N):\n",
    "    x[i] = st.binom.rvs(M, theta_true[z_true[i]])\n",
    "print(x)\n",
    "\n",
    "# Initial estimates\n",
    "t = 0    \n",
    "t_max = 50\n",
    "thetas = np.zeros([2, t_max]) \n",
    "thetas[:,t] = np.array([0.5, 0.4])"
   ]
  },
  {
   "cell_type": "markdown",
   "metadata": {},
   "source": [
    "ステップ1"
   ]
  },
  {
   "cell_type": "code",
   "execution_count": 246,
   "metadata": {
    "collapsed": false
   },
   "outputs": [
    {
     "name": "stdout",
     "output_type": "stream",
     "text": [
      "success\n"
     ]
    }
   ],
   "source": [
    "def get_post_z_i(z_i, x_i, M, theta):\n",
    "    norm_c = 0 # Normalization term in denominator \n",
    "    for j in range(0,2):\n",
    "        p_j = st.binom.pmf(x_i, M, theta[j])\n",
    "        norm_c = norm_c + p_j\n",
    "        if z_i == j:\n",
    "            ll = p_j\n",
    "    return ll / norm_c\n",
    "        \n",
    "# Check implementation\n",
    "post_z_A = get_post_z_i(0, x[1], M, thetas[:,t])\n",
    "post_z_B = get_post_z_i(1, x[1], M, thetas[:,t])\n",
    "post_z_all = post_z_A + post_z_B\n",
    "print(\"success\") if  (post_z_all  > 1.0-1.0e-6 and post_z_all  < 1.0+1.0e-6) else print(\"BUG\")"
   ]
  },
  {
   "cell_type": "markdown",
   "metadata": {},
   "source": [
    "ステップ2"
   ]
  },
  {
   "cell_type": "code",
   "execution_count": 247,
   "metadata": {
    "collapsed": false
   },
   "outputs": [
    {
     "data": {
      "text/plain": [
       "array([ 0.52252573,  0.22841559])"
      ]
     },
     "execution_count": 247,
     "metadata": {},
     "output_type": "execute_result"
    }
   ],
   "source": [
    "def neg_expect(theta_next, theta_cur, x):\n",
    "    N = x.size\n",
    "    e = 0\n",
    "    for i in range(0, N): # for trial i\n",
    "        for j in range(0, 2): # used coin j\n",
    "            post_z = get_post_z_i(j, x[i], M, theta_cur)\n",
    "            prob_x = st.binom.logpmf(x[i], M, theta_next[j])\n",
    "            e = e + post_z *prob_x\n",
    "    return -e\n",
    "\n",
    "# Sample calculation\n",
    "bnds = [(0,0.99), (0,0.99)]\n",
    "res = minimize(neg_expect, thetas[:,t], args=(thetas[:,t], x),\n",
    "         bounds=bnds, method='SLSQP', options={'maxiter': 1000})\n",
    "res.x"
   ]
  },
  {
   "cell_type": "code",
   "execution_count": 248,
   "metadata": {
    "collapsed": false
   },
   "outputs": [
    {
     "name": "stdout",
     "output_type": "stream",
     "text": [
      "0/50\n",
      "10/50\n",
      "20/50\n",
      "30/50\n",
      "40/50\n"
     ]
    }
   ],
   "source": [
    "t = 0\n",
    "while t < t_max-1:\n",
    "    if t % 10 == 0:\n",
    "        print(str(t) + \"/\" + str(t_max))\n",
    "    res = minimize(neg_expect, thetas[:,t], args=(thetas[:,t], x),\n",
    "         bounds=bnds, method='SLSQP', options={'maxiter': 1000})\n",
    "    thetas[:,t+1] = res.x\n",
    "    t = t + 1"
   ]
  },
  {
   "cell_type": "code",
   "execution_count": 258,
   "metadata": {
    "collapsed": false
   },
   "outputs": [
    {
     "data": {
      "image/png": "[encoded data removed]",
      "text/plain": [
       "<matplotlib.figure.Figure at 0x10e71aef0>"
      ]
     },
     "metadata": {},
     "output_type": "display_data"
    }
   ],
   "source": [
    "import matplotlib.pyplot as plt\n",
    "import seaborn as sns\n",
    "# result \n",
    "plt.plot(np.arange(0,t_max), thetas[0,:])\n",
    "plt.plot(np.arange(0,t_max), thetas[1,:])\n",
    "# true value\n",
    "plt.plot([0, t_max], np.ones(2) * theta_true[0])\n",
    "plt.plot([0, t_max], np.ones(2) * theta_true[1])\n",
    "plt.ylim([0, 1])\n",
    "plt.xlabel('# of iteration')\n",
    "plt.ylabel(r'$\\theta$')\n",
    "plt.legend([r'estimated $\\theta_A$',r'estimated $\\theta_B$',r'true $\\theta_A$',r'true $\\theta_B$' ])\n",
    "plt.savefig('result.png')"
   ]
  },
  {
   "cell_type": "code",
   "execution_count": null,
   "metadata": {
    "collapsed": true
   },
   "outputs": [],
   "source": []
  }
 ],
 "metadata": {
  "kernelspec": {
   "display_name": "Python 3",
   "language": "python",
   "name": "python3"
  },
  "language_info": {
   "codemirror_mode": {
    "name": "ipython",
    "version": 3
   },
   "file_extension": ".py",
   "mimetype": "text/x-python",
   "name": "python",
   "nbconvert_exporter": "python",
   "pygments_lexer": "ipython3",
   "version": "3.5.2"
  },
  "nav_menu": {},
  "toc": {
   "navigate_menu": true,
   "number_sections": true,
   "sideBar": false,
   "threshold": 6,
   "toc_cell": true,
   "toc_section_display": "block",
   "toc_window_display": false
  }
 },
 "nbformat": 4,
 "nbformat_minor": 0
}
