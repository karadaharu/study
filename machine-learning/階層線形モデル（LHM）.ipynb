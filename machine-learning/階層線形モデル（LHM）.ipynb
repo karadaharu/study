{
 "cells": [
  {
   "cell_type": "markdown",
   "metadata": {
    "toc": "true"
   },
   "source": [
    "# Table of Contents\n",
    " <p>"
   ]
  },
  {
   "cell_type": "markdown",
   "metadata": {},
   "source": [
    "サブグループごとに違う影響があるときに、\n",
    "全体で線形モデルを作ってもどのサブグループにもあてはまらない結果に、\n",
    "サブグループごとに線形モデルを作っても全体として何が分かるのか分からない、サブグループだと母集団が少ない、という結果になってしまう。\n",
    "\n"
   ]
  },
  {
   "cell_type": "markdown",
   "metadata": {},
   "source": [
    "学級jの子供iに対して、\n",
    "\n",
    "$Y_{ij}=\\beta_{0j}+\\beta_{ij}X_{ij}+e_{ij}$\n",
    "\n",
    "$\\beta_{0j}=\\gamma_{0}+u_{0j}$  \n",
    "$\\beta_{1j}=\\gamma_{1}+u_{1j}$\n",
    "\n",
    "つまり、すべての学級の切片および傾きを平均したｍのが、$\\gamma_{0}$および$\\gamma_{1}$であらわされ、そこからのずれによって各学校の切片、傾きが表される。"
   ]
  },
  {
   "cell_type": "markdown",
   "metadata": {},
   "source": [
    "さらに切片や傾きが学級のどういった特性によって決まるのかを理解するために、\n",
    "$\\beta$が教師の経験年数に比例しているモデルを考え、そのパラメーターを求める。\n",
    "\n",
    "$\\beta_{0j}=\\gamma_{00}\\gamma_{01}W_{j}+u_{0j}$  \n",
    "$\\beta_{1j}=\\gamma_{10}\\gamma_{11}W_{j}+u_{1j}$"
   ]
  },
  {
   "cell_type": "code",
   "execution_count": null,
   "metadata": {
    "collapsed": true
   },
   "outputs": [],
   "source": []
  }
 ],
 "metadata": {
  "kernelspec": {
   "display_name": "Python 3",
   "language": "python",
   "name": "python3"
  },
  "language_info": {
   "codemirror_mode": {
    "name": "ipython",
    "version": 3
   },
   "file_extension": ".py",
   "mimetype": "text/x-python",
   "name": "python",
   "nbconvert_exporter": "python",
   "pygments_lexer": "ipython3",
   "version": "3.5.1"
  },
  "nav_menu": {},
  "toc": {
   "navigate_menu": true,
   "number_sections": true,
   "sideBar": false,
   "threshold": 6,
   "toc_cell": true,
   "toc_section_display": "block",
   "toc_window_display": false
  }
 },
 "nbformat": 4,
 "nbformat_minor": 0
}
