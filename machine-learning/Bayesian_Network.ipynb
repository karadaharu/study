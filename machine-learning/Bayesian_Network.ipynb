{
 "cells": [
  {
   "cell_type": "markdown",
   "metadata": {
    "toc": "true"
   },
   "source": [
    "# Table of Contents\n",
    " <p><div class=\"lev2\"><a href=\"#ベイジアンネットワーク\"><span class=\"toc-item-num\">0.1&nbsp;&nbsp;</span>ベイジアンネットワーク</a></div><div class=\"lev2\"><a href=\"#遺伝子発現解析での使い方\"><span class=\"toc-item-num\">0.2&nbsp;&nbsp;</span>遺伝子発現解析での使い方</a></div><div class=\"lev3\"><a href=\"#3遺伝子の例\"><span class=\"toc-item-num\">0.2.1&nbsp;&nbsp;</span>3遺伝子の例</a></div><div class=\"lev2\"><a href=\"#ノンパラメトリックベイジアンネットワーク\"><span class=\"toc-item-num\">0.3&nbsp;&nbsp;</span>ノンパラメトリックベイジアンネットワーク</a></div><div class=\"lev2\"><a href=\"#実装\"><span class=\"toc-item-num\">0.4&nbsp;&nbsp;</span>実装</a></div><div class=\"lev2\"><a href=\"#参考文献\"><span class=\"toc-item-num\">0.5&nbsp;&nbsp;</span>参考文献</a></div>"
   ]
  },
  {
   "cell_type": "markdown",
   "metadata": {},
   "source": [
    "## ベイジアンネットワーク\n",
    "条件付き確率で表されたネットワークのうち、ループ構造がないもの\n",
    "\n",
    "* A:雨がふった\n",
    "* B:スプリンクラーが動いた\n",
    "* C: 芝生が濡れた\n",
    "\n",
    "の3つの関係の適切なモデルを求める。\n",
    "\n",
    "芝生が濡れたから雨が降った(C->A)のか、雨が降ったから芝生が濡れた(A->C)のか、どちらなのかを知るには、スプリンクラーが動いたときに雨が降ることに影響する(B->C->A)かどうかを調べれば分かる。\n",
    "\n",
    "つまり、すべてのパターンを調べれば、どのモデルが適切か分かる。\n",
    "\n",
    "## 遺伝子発現解析での使い方\n",
    "1. 大量の遺伝子発現解析データから求められている同時確率分布$P(G_{1}, \\cdots G_{N})$を用いて\n",
    "2. 遺伝子$G_{1}, \\cdots G_{N}$の間の統計的依存関係を見出し\n",
    "3. 非循環型の有効グラフでネットワーク構造を表現\n",
    "\n",
    "親遺伝子を$\\pi(G)$とすると、ベイジアンネットワークによる遺伝子ネットワークの表現は、同時確率分布を条件付き確率の積として展開することと同等。\n",
    "\n",
    "$P(G_{1}, \\cdots G_{N})=\\Pi_{i} P(G_{i} | \\pi (G_{i}))$\n",
    "\n",
    "### 3遺伝子の例\n",
    "考えられるモデルは25個。ここから最も確からしいモデルを選択する。評価関数は、データDが与えられたときネットワーク構造$N_{i}$が実現する事後確率$P(N_{i}|D)$を評価関数に用いる。\n",
    "\n",
    "事後確率は、ベイズの定理から\n",
    "\n",
    "$P(N_{i}|D)=\\frac{P(D|N_{i})P(N_{i})}{P(D)}$\n",
    "\n"
   ]
  },
  {
   "cell_type": "markdown",
   "metadata": {},
   "source": [
    "## ノンパラメトリックベイジアンネットワーク\n",
    "\n",
    "see [here](http://www.uv.es/bernardo/Ickstadt.pdf)\n",
    "\n"
   ]
  },
  {
   "cell_type": "markdown",
   "metadata": {},
   "source": [
    "## 確率\n"
   ]
  },
  {
   "cell_type": "markdown",
   "metadata": {},
   "source": [
    "参考 : https://bugra.github.io/work/notes/2014-05-23/simple-bayesian-network-via-monte-carlo-markov-chain-mcmc-pymc/\n",
    "\n",
    "のpymc3 バージョン: https://stackoverflow.com/questions/42470592/simple-bayesian-network-via-monte-carlo-markov-chain-ported-to-pymc3"
   ]
  },
  {
   "cell_type": "code",
   "execution_count": 3,
   "metadata": {
    "collapsed": false
   },
   "outputs": [],
   "source": [
    "import daft\n",
    "import pymc3\n",
    "import matplotlib.pyplot as plt\n",
    "import matplotlib as mlp\n",
    "import numpy as np\n",
    "import ggplot\n",
    "import pandas as pd\n",
    "\n",
    "COLORS = [\"#348ABD\", \"#A60628\", \"#7A68A6\"]"
   ]
  },
  {
   "cell_type": "markdown",
   "metadata": {},
   "source": [
    "daft : 確率モデルのプロットをするライブラリ"
   ]
  },
  {
   "cell_type": "code",
   "execution_count": 5,
   "metadata": {
    "collapsed": false
   },
   "outputs": [
    {
     "data": {
      "text/plain": [
       "<matplotlib.axes._axes.Axes at 0x104be66d8>"
      ]
     },
     "execution_count": 5,
     "metadata": {},
     "output_type": "execute_result"
    },
    {
     "data": {
      "image/png": "[encoded data removed]",
      "text/plain": [
       "<matplotlib.figure.Figure at 0x104be8f60>"
      ]
     },
     "metadata": {},
     "output_type": "display_data"
    }
   ],
   "source": [
    "pgm = daft.PGM([9, 4], origin=[1, 0.5])\n",
    "pgm.add_node(daft.Node('r', 'rain', 3, 4, aspect=2))\n",
    "pgm.add_node(daft.Node('s', 'sprinkler', 9, 4, aspect=3))\n",
    "pgm.add_node(daft.Node('w', 'grass wet', 6, 2, aspect=4, observed=True))\n",
    "pgm.add_edge('r', 's')\n",
    "pgm.add_edge('r', 'w')\n",
    "pgm.add_edge('s', 'w')\n",
    "pgm.render()"
   ]
  },
  {
   "cell_type": "code",
   "execution_count": 9,
   "metadata": {
    "collapsed": false
   },
   "outputs": [
    {
     "data": {
      "text/html": [
       "<img src=\"./SimpleBayesNet.svg\"/>"
      ],
      "text/plain": [
       "<IPython.core.display.Image object>"
      ]
     },
     "execution_count": 9,
     "metadata": {},
     "output_type": "execute_result"
    }
   ],
   "source": [
    "from IPython.display import Image\n",
    "Image(url='./SimpleBayesNet.svg')"
   ]
  },
  {
   "cell_type": "code",
   "execution_count": 52,
   "metadata": {
    "collapsed": false
   },
   "outputs": [
    {
     "name": "stderr",
     "output_type": "stream",
     "text": [
      "/Users/kazumasa/.pyenv/versions/anaconda3-2.4.0/lib/python3.5/site-packages/pymc3/sampling.py:231: UserWarning: Instantiated step methods cannot be automatically initialized. init argument ignored.\n",
      "  warnings.warn('Instantiated step methods cannot be automatically '\n",
      "/Users/kazumasa/.pyenv/versions/anaconda3-2.4.0/lib/python3.5/site-packages/pymc3/sampling.py:234: UserWarning: Automatic initialization is not supported for discrete variables. Ignoring init argument.\n",
      "  warnings.warn('Automatic initialization is not supported '\n",
      "100%|██████████| 5000/5000 [00:01<00:00, 3638.41it/s]\n"
     ]
    }
   ],
   "source": [
    "import numpy as np\n",
    "import pandas as pd\n",
    "import pymc3 as pm\n",
    "\n",
    "niter = 10000  # 10000\n",
    "tune = 5000  # 5000\n",
    "\n",
    "model = pm.Model()\n",
    "\n",
    "with model:\n",
    "    tv = [1]\n",
    "    rain = pm.Bernoulli('rain', 0.2, shape=1, testval=tv)\n",
    "    sprinkler_p = pm.Deterministic('sprinkler_p', pm.math.switch(rain, 0.01, 0.40))\n",
    "    sprinkler = pm.Bernoulli('sprinkler', sprinkler_p, shape=1, testval=tv)\n",
    "    grass_wet_p = pm.Deterministic('grass_wet_p', pm.math.switch(rain, pm.math.switch(sprinkler, 0.99, 0.80), pm.math.switch(sprinkler, 0.90, 0.0)))\n",
    "    # これが含まれるとrainの確率が変わる 0.2→0.34\n",
    "    # わざとobservedが毎回grass_wet == 1として与えている\n",
    "    # 濡れていたときに雨がふった確率を求めたいから\n",
    "    grass_wet = pm.Bernoulli('grass_wet', grass_wet_p, observed=np.array([1]), shape=1)\n",
    "    # BinaryGibbsMetropolis\n",
    "    # 第一引数 : List of variables for sampler\n",
    "    # tune : boolなのに数値を与えているのもおかしい\n",
    "    trace = pm.sample(5000, step=[pm.BinaryGibbsMetropolis([rain, sprinkler])], tune=tune, random_seed=124)\n",
    "    # ふつうにサンプリングすればいいだけでは？ BinaryGibbsMetropolisでも変わらない\n",
    "#     trace = pm.sample(10000, random_seed=124)"
   ]
  },
  {
   "cell_type": "markdown",
   "metadata": {},
   "source": [
    "たくさんサンプリングできるのであれば、条件付き確率は、\n",
    "\n",
    "$P(R|W)=\\frac{P(R,W)}{P(W)}$\n",
    "\n",
    "で求まる。たしかに。"
   ]
  },
  {
   "cell_type": "code",
   "execution_count": 53,
   "metadata": {
    "collapsed": false
   },
   "outputs": [
    {
     "name": "stdout",
     "output_type": "stream",
     "text": [
      "0.3664\n",
      "0.6388\n"
     ]
    }
   ],
   "source": [
    "# pm.traceplot(trace)\n",
    "\n",
    "dictionary = {\n",
    "              'Rain': [1 if ii[0] else 0 for ii in trace['rain'].tolist() ],\n",
    "              'Sprinkler': [1 if ii[0] else 0 for ii in trace['sprinkler'].tolist() ],\n",
    "              'Sprinkler Probability': [ii[0] for ii in trace['sprinkler_p'].tolist()],\n",
    "              'Grass Wet Probability': [ii[0] for ii in trace['grass_wet_p'].tolist()],\n",
    "              }\n",
    "df = pd.DataFrame(dictionary)\n",
    "\n",
    "p_rain = df[(df['Rain'] == 1)].shape[0] / df.shape[0]\n",
    "print(p_rain)\n",
    "\n",
    "p_sprinkler = df[(df['Sprinkler'] == 1)].shape[0] / df.shape[0]\n",
    "print(p_sprinkler)"
   ]
  },
  {
   "cell_type": "markdown",
   "metadata": {},
   "source": [
    "## 参考文献\n",
    "* [ベイジアンネットワークを用いた遺伝子ネットワークの\n",
    "推定と解析](http://www.scls.riken.jp/wp-content/uploads/2014/06/SiGN-BN0318.pdf)"
   ]
  },
  {
   "cell_type": "code",
   "execution_count": null,
   "metadata": {
    "collapsed": true
   },
   "outputs": [],
   "source": []
  }
 ],
 "metadata": {
  "kernelspec": {
   "display_name": "Python 2",
   "language": "python",
   "name": "python2"
  },
  "language_info": {
   "codemirror_mode": {
    "name": "ipython",
    "version": 3
   },
   "file_extension": ".py",
   "mimetype": "text/x-python",
   "name": "python",
   "nbconvert_exporter": "python",
   "pygments_lexer": "ipython3",
   "version": "3.5.2"
  },
  "nav_menu": {},
  "toc": {
   "navigate_menu": true,
   "number_sections": true,
   "sideBar": false,
   "threshold": 6,
   "toc_cell": true,
   "toc_section_display": "block",
   "toc_window_display": false
  }
 },
 "nbformat": 4,
 "nbformat_minor": 0
}
