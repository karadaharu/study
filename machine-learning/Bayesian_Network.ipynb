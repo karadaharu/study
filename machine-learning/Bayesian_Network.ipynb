{
 "cells": [
  {
   "cell_type": "markdown",
   "metadata": {
    "toc": "true"
   },
   "source": [
    "# Table of Contents\n",
    " <p><div class=\"lev2\"><a href=\"#ベイジアンネットワーク\"><span class=\"toc-item-num\">0.1&nbsp;&nbsp;</span>ベイジアンネットワーク</a></div><div class=\"lev2\"><a href=\"#遺伝子発現解析での使い方\"><span class=\"toc-item-num\">0.2&nbsp;&nbsp;</span>遺伝子発現解析での使い方</a></div><div class=\"lev3\"><a href=\"#3遺伝子の例\"><span class=\"toc-item-num\">0.2.1&nbsp;&nbsp;</span>3遺伝子の例</a></div><div class=\"lev2\"><a href=\"#ノンパラメトリックベイジアンネットワーク\"><span class=\"toc-item-num\">0.3&nbsp;&nbsp;</span>ノンパラメトリックベイジアンネットワーク</a></div><div class=\"lev2\"><a href=\"#参考文献\"><span class=\"toc-item-num\">0.4&nbsp;&nbsp;</span>参考文献</a></div>"
   ]
  },
  {
   "cell_type": "markdown",
   "metadata": {},
   "source": [
    "## ベイジアンネットワーク\n",
    "条件付き確率で表されたネットワークのうち、ループ構造がないもの\n",
    "\n",
    "* A:雨がふった\n",
    "* B:スプリンクラーが動いた\n",
    "* C: 芝生が濡れた\n",
    "\n",
    "の3つの関係の適切なモデルを求める。\n",
    "\n",
    "芝生が濡れたから雨が降った(C->A)のか、雨が降ったから芝生が濡れた(A->C)のか、どちらなのかを知るには、スプリンクラーが動いたときに雨が降ることに影響する(B->C->A)かどうかを調べれば分かる。\n",
    "\n",
    "つまり、すべてのパターンを調べれば、どのモデルが適切か分かる。\n",
    "\n",
    "## 遺伝子発現解析での使い方\n",
    "1. 大量の遺伝子発現解析データから求められている同時確率分布$P(G_{1}, \\cdots G_{N})$を用いて\n",
    "2. 遺伝子$G_{1}, \\cdots G_{N}$の間の統計的依存関係を見出し\n",
    "3. 非循環型の有効グラフでネットワーク構造を表現\n",
    "\n",
    "親遺伝子を$\\pi(G)$とすると、ベイジアンネットワークによる遺伝子ネットワークの表現は、同時確率分布を条件付き確率の積として展開することと同等。\n",
    "\n",
    "$P(G_{1}, \\cdots G_{N})=\\Pi_{i} P(G_{i} | \\pi (G_{i}))$\n",
    "\n",
    "### 3遺伝子の例\n",
    "考えられるモデルは25個。ここから最も確からしいモデルを選択する。評価関数は、データDが与えられたときネットワーク構造$N_{i}$が実現する事後確率$P(N_{i}|D)$を評価関数に用いる。\n",
    "\n",
    "事後確率は、ベイズの定理から\n",
    "\n",
    "$P(N_{i}|D)=\\frac{P(D|N_{i})P(N_{i})}{P(D)}$\n",
    "\n"
   ]
  },
  {
   "cell_type": "markdown",
   "metadata": {},
   "source": [
    "## ノンパラメトリックベイジアンネットワーク\n",
    "\n",
    "see [here](http://www.uv.es/bernardo/Ickstadt.pdf)\n",
    "\n"
   ]
  },
  {
   "cell_type": "markdown",
   "metadata": {},
   "source": [
    "## 参考文献\n",
    "* [ベイジアンネットワークを用いた遺伝子ネットワークの\n",
    "推定と解析](http://www.scls.riken.jp/wp-content/uploads/2014/06/SiGN-BN0318.pdf)"
   ]
  },
  {
   "cell_type": "code",
   "execution_count": null,
   "metadata": {
    "collapsed": true
   },
   "outputs": [],
   "source": []
  }
 ],
 "metadata": {
  "kernelspec": {
   "display_name": "Python 3",
   "language": "python",
   "name": "python3"
  },
  "language_info": {
   "codemirror_mode": {
    "name": "ipython",
    "version": 3
   },
   "file_extension": ".py",
   "mimetype": "text/x-python",
   "name": "python",
   "nbconvert_exporter": "python",
   "pygments_lexer": "ipython3",
   "version": "3.5.1"
  },
  "nav_menu": {},
  "toc": {
   "navigate_menu": true,
   "number_sections": true,
   "sideBar": false,
   "threshold": 6,
   "toc_cell": true,
   "toc_section_display": "block",
   "toc_window_display": false
  }
 },
 "nbformat": 4,
 "nbformat_minor": 0
}
