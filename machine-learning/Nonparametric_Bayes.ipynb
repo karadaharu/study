{
 "cells": [
  {
   "cell_type": "markdown",
   "metadata": {
    "toc": "true"
   },
   "source": [
    "# Table of Contents\n",
    " <p><div class=\"lev2\"><a href=\"#最尤推定\"><span class=\"toc-item-num\">0.1&nbsp;&nbsp;</span>最尤推定</a></div><div class=\"lev3\"><a href=\"#問題\"><span class=\"toc-item-num\">0.1.1&nbsp;&nbsp;</span>問題</a></div><div class=\"lev3\"><a href=\"#推定方法\"><span class=\"toc-item-num\">0.1.2&nbsp;&nbsp;</span>推定方法</a></div><div class=\"lev2\"><a href=\"#ベイズ推定\"><span class=\"toc-item-num\">0.2&nbsp;&nbsp;</span>ベイズ推定</a></div><div class=\"lev2\"><a href=\"#ノンパラメトリックベイズモデル\"><span class=\"toc-item-num\">0.3&nbsp;&nbsp;</span>ノンパラメトリックベイズモデル</a></div><div class=\"lev2\"><a href=\"#参考文献\"><span class=\"toc-item-num\">0.4&nbsp;&nbsp;</span>参考文献</a></div>"
   ]
  },
  {
   "cell_type": "markdown",
   "metadata": {},
   "source": [
    "* 最尤推定:最適なパラメータを一意に決める\n",
    "* ベイズ推定:パラメータの事後分布を推定する\n",
    "\n",
    "## 最尤推定\n",
    "### 問題\n",
    "確率モデルが観測データにフィットしすぎると、汎化能力が悪化する。\n",
    "\n",
    "例：10回だけサイコロをふって3が一度もでなかったとき、求まるサイコロの3が出る確率は0\n",
    "\n",
    "### 推定方法\n",
    "サイコロの例\n",
    "\n",
    "$\\theta_{i}$:サイコロの目iが出る確率\n",
    "N:試行回数\n",
    "$n_{i}$サイコロの目iが出た回数\n",
    "\n",
    "$p(X|\\theta)=\\Pi_{k=1}^{6}\\theta_{k}^{n_{k}}$\n",
    "\n",
    "この目的関数が最大になるようにする->ラグランジュの未定乗数法\n",
    "\n",
    "拘束条件  \n",
    "$\\sum^{6}_{k=1}\\theta_{k}=1$\n",
    "\n",
    "## ベイズ推定\n",
    "どうすれば最尤推定の問題を解決できるか？  \n",
    "->確率分布を記述するパラメータが従う確率分布を考えればよい\n",
    "\n",
    "どんな確率分布を用いると良いか？ -> 共役事前分布 : 事前分布$p(\\theta)$と事後分布$p(\\theta|X)$が同じ形\n",
    "\n",
    "離散分布のとき -> ディリクレ分布\n",
    "\n",
    "\n",
    "## ノンパラメトリックベイズモデル\n",
    "これまでは確率モデルの複雑さは既知と仮定した : サイコロの面の数は6 -> 6次元ディリクレ分布を事前分布として利用\n",
    "\n",
    "サイコロの面の数が不明な場合は？？\n",
    "\n",
    "無次元ディリクレ分布 = ディリクレ過程（DP)\n",
    "\n",
    "「ノンパラメトリック」とは：「無限個のパラメーターをもつ」という意味であって、「パラメーターがない」という意味ではない\n",
    "\n"
   ]
  },
  {
   "cell_type": "markdown",
   "metadata": {},
   "source": [
    "## 参考文献\n",
    "* [吉井和佳, チュートリアル：ノンパラメトリックメイズ](http://sap.ist.i.kyoto-u.ac.jp/members/yoshii/slides/mus91-tutorial-npb.pdf)"
   ]
  },
  {
   "cell_type": "code",
   "execution_count": null,
   "metadata": {
    "collapsed": true
   },
   "outputs": [],
   "source": []
  }
 ],
 "metadata": {
  "kernelspec": {
   "display_name": "Python 3",
   "language": "python",
   "name": "python3"
  },
  "language_info": {
   "codemirror_mode": {
    "name": "ipython",
    "version": 3
   },
   "file_extension": ".py",
   "mimetype": "text/x-python",
   "name": "python",
   "nbconvert_exporter": "python",
   "pygments_lexer": "ipython3",
   "version": "3.5.2"
  },
  "nav_menu": {},
  "toc": {
   "navigate_menu": true,
   "number_sections": true,
   "sideBar": false,
   "threshold": 6,
   "toc_cell": true,
   "toc_section_display": "block",
   "toc_window_display": false
  }
 },
 "nbformat": 4,
 "nbformat_minor": 0
}
