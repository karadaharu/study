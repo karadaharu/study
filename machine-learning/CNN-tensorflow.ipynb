{
 "cells": [
  {
   "cell_type": "markdown",
   "metadata": {
    "toc": "true"
   },
   "source": [
    "# Table of Contents\n",
    " <p><div class=\"lev3\"><a href=\"#畳み込み層\"><span class=\"toc-item-num\">0.0.1&nbsp;&nbsp;</span>畳み込み層</a></div><div class=\"lev3\"><a href=\"#プーリング層\"><span class=\"toc-item-num\">0.0.2&nbsp;&nbsp;</span>プーリング層</a></div>"
   ]
  },
  {
   "cell_type": "markdown",
   "metadata": {},
   "source": [
    "https://www.tensorflow.org/versions/r0.10/tutorials/deep_cnn/index.html"
   ]
  },
  {
   "cell_type": "markdown",
   "metadata": {},
   "source": [
    "CIFAR-10 : 32x32の画像を10カテゴリに分類する問題"
   ]
  },
  {
   "cell_type": "markdown",
   "metadata": {},
   "source": [
    "### 畳み込み層\n",
    "\n",
    "フィルタ　5x5の異なるフィルタを20個かけて20枚の画像を出力している\n",
    "\n",
    "http://aidiary.hatenablog.com/entry/20150626/1435329581\n",
    "\n",
    "フィルタは4次元のテンソルで表せる"
   ]
  },
  {
   "cell_type": "markdown",
   "metadata": {},
   "source": [
    "### プーリング層\n",
    "特徴の位置感度を低下させる。（例：数字の7が画像の真ん中じゃなくても判定できるようにする）\n",
    "どうするか？：2x2の矩形フィルタをずらしていって、矩形内の最大値を取り出して(max pooling)または平均値をとって(avg pooling)新しい画像を出力する\n",
    "\n",
    "最近では両者の欠点をおぎなうためにk-max poolingという、多次元を返すプーリングの手法も提案されている\n",
    "\n",
    "\n"
   ]
  },
  {
   "cell_type": "markdown",
   "metadata": {},
   "source": [
    "言語処理のためのCNN\n",
    "http://tkengo.github.io/blog/2016/03/11/understanding-convolutional-neural-networks-for-nlp/"
   ]
  },
  {
   "cell_type": "markdown",
   "metadata": {},
   "source": [
    "skflow.ops.conv2d(word_vectors_req, N_FILTERS, FILTER_SHAPE1, padding='VALID')\n",
    "\n"
   ]
  },
  {
   "cell_type": "markdown",
   "metadata": {},
   "source": [
    "tf.squeeze:サイズが1の次元を削除する"
   ]
  }
 ],
 "metadata": {
  "kernelspec": {
   "display_name": "Python 3",
   "language": "python",
   "name": "python3"
  },
  "language_info": {
   "codemirror_mode": {
    "name": "ipython",
    "version": 3
   },
   "file_extension": ".py",
   "mimetype": "text/x-python",
   "name": "python",
   "nbconvert_exporter": "python",
   "pygments_lexer": "ipython3",
   "version": "3.5.2"
  },
  "nav_menu": {},
  "toc": {
   "navigate_menu": true,
   "number_sections": true,
   "sideBar": false,
   "threshold": 6,
   "toc_cell": true,
   "toc_section_display": "block",
   "toc_window_display": false
  }
 },
 "nbformat": 4,
 "nbformat_minor": 0
}
