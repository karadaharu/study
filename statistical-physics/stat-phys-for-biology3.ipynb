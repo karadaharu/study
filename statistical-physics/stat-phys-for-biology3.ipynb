{
 "cells": [
  {
   "cell_type": "markdown",
   "metadata": {
    "toc": "true"
   },
   "source": [
    "# Table of Contents\n",
    " <p><div class=\"lev1\"><a href=\"#一次元での平衡統計力学\"><span class=\"toc-item-num\">1&nbsp;&nbsp;</span>一次元での平衡統計力学</a></div><div class=\"lev2\"><a href=\"#3.2-エネルギー地形は確率分布だ\"><span class=\"toc-item-num\">1.1&nbsp;&nbsp;</span>3.2 エネルギー地形は確率分布だ</a></div><div class=\"lev3\"><a href=\"#3.2.3-単純な状態と調和近似\"><span class=\"toc-item-num\">1.1.1&nbsp;&nbsp;</span>3.2.3 単純な状態と調和近似</a></div><div class=\"lev3\"><a href=\"#3.2.4-揺らぎに関するヒント\"><span class=\"toc-item-num\">1.1.2&nbsp;&nbsp;</span>3.2.4 揺らぎに関するヒント</a></div><div class=\"lev2\"><a href=\"#3.3-配置ではなく、状態\"><span class=\"toc-item-num\">1.2&nbsp;&nbsp;</span>3.3 配置ではなく、状態</a></div><div class=\"lev2\"><a href=\"#3.4-自由エネルギー\"><span class=\"toc-item-num\">1.3&nbsp;&nbsp;</span>3.4 自由エネルギー</a></div><div class=\"lev3\"><a href=\"#3.4.1-準備-:-相対的なポピュレーション\"><span class=\"toc-item-num\">1.3.1&nbsp;&nbsp;</span>3.4.1 準備 : 相対的なポピュレーション</a></div><div class=\"lev3\"><a href=\"#3.4.2-自由エネルギー\"><span class=\"toc-item-num\">1.3.2&nbsp;&nbsp;</span>3.4.2 自由エネルギー</a></div><div class=\"lev3\"><a href=\"#3.4.3-もっと一般的な調和井戸\"><span class=\"toc-item-num\">1.3.3&nbsp;&nbsp;</span>3.4.3 もっと一般的な調和井戸</a></div><div class=\"lev2\"><a href=\"#3.5-エントロピー\"><span class=\"toc-item-num\">1.4&nbsp;&nbsp;</span>3.5 エントロピー</a></div><div class=\"lev3\"><a href=\"#3.5.1-幅（の対数）としてのエントロピー\"><span class=\"toc-item-num\">1.4.1&nbsp;&nbsp;</span>3.5.1 幅（の対数）としてのエントロピー</a></div><div class=\"lev3\"><a href=\"#3.5.2-調和井戸の幅としてのエントロピー\"><span class=\"toc-item-num\">1.4.2&nbsp;&nbsp;</span>3.5.2 調和井戸の幅としてのエントロピー</a></div><div class=\"lev2\"><a href=\"#3.5.3-$\\sum-p-\\ln-p$の公式\"><span class=\"toc-item-num\">1.5&nbsp;&nbsp;</span>3.5.3 <span class=\"MathJax_Preview\" style=\"color: inherit;\"><span class=\"MJXc-math\" id=\"MJXc-Span-996\"><span class=\"MJXc-mo\" id=\"MJXc-Span-997\" style=\"margin-left: 0.111em; margin-right: 0.167em;\">∑</span><span class=\"MJXc-mi MJXc-italic\" id=\"MJXc-Span-998\">p</span><span class=\"MJXc-mi\" id=\"MJXc-Span-999\">ln</span><span class=\"MJXc-mo\" id=\"MJXc-Span-1000\" style=\"margin-left: 0em; margin-right: 0em;\"></span><span class=\"MJXc-mi MJXc-italic\" id=\"MJXc-Span-1001\">p</span></span></span><span class=\"MathJax MathJax_Processing\" id=\"MathJax-Element-33-Frame\"></span><script type=\"math/tex\" id=\"MathJax-Element-33\">\\sum p \\ln p</script>の公式</a></div><div class=\"lev2\"><a href=\"#3.6-まとめ\"><span class=\"toc-item-num\">1.6&nbsp;&nbsp;</span>3.6 まとめ</a></div><div class=\"lev3\"><a href=\"#3.6.1-状態は最重要だからこそ、凝った名前の量がついてくる\"><span class=\"toc-item-num\">1.6.1&nbsp;&nbsp;</span>3.6.1 状態は最重要だからこそ、凝った名前の量がついてくる</a></div><div class=\"lev3\"><a href=\"#3.6.2-差が問題である\"><span class=\"toc-item-num\">1.6.2&nbsp;&nbsp;</span>3.6.2 差が問題である</a></div><div class=\"lev2\"><a href=\"#3.7-簡単な系から物理的直感を得る\"><span class=\"toc-item-num\">1.7&nbsp;&nbsp;</span>3.7 簡単な系から物理的直感を得る</a></div><div class=\"lev3\"><a href=\"#3.7.1-温度依存性\"><span class=\"toc-item-num\">1.7.1&nbsp;&nbsp;</span>3.7.1 温度依存性</a></div><div class=\"lev3\"><a href=\"#3.7.2-離散的なモデル\"><span class=\"toc-item-num\">1.7.2&nbsp;&nbsp;</span>3.7.2 離散的なモデル</a></div><div class=\"lev2\"><a href=\"#3.8-ゆるい終わり方\"><span class=\"toc-item-num\">1.8&nbsp;&nbsp;</span>3.8 ゆるい終わり方</a></div>"
   ]
  },
  {
   "cell_type": "markdown",
   "metadata": {},
   "source": [
    "# 一次元での平衡統計力学\n",
    "## 3.2 エネルギー地形は確率分布だ\n",
    "\n",
    "あるミクロ状態の確率は、次の指数法則で与えられます。\n",
    "\n",
    " $\\mbox{pdf}(x)\\equiv \\rho(x) \\propto \\exp[\\frac{-U(x)}{k_{B}T}]$\n",
    "\n",
    "ここで$k_{B}$はボルツマン定数、Tは絶対温度であり、この指数関数をボルツマン因子と呼びます。\n",
    "\n",
    "\n",
    "正確な確率密度が必要なら、ボルツマン因子を規格化すれば求められます。\n",
    "\n",
    " $\\mbox{pdf}(x)\\equiv \\rho(x) = \\frac{\\exp[-U(x)/k_{B}T]}{\\int_{V}dx\\exp[-U(x)/k_{B}T]}$\n",
    " \n",
    " ここで積分するための体積Vを指定しました。この分母はただの規格化因子ですが、この積分には興味のある領域での確率の重みを足し合わせるという物理的な意味もあります。そのため、この規格化積分は分配関数と呼ばれます。"
   ]
  },
  {
   "cell_type": "markdown",
   "metadata": {},
   "source": [
    "### 3.2.3 単純な状態と調和近似\n",
    "ベイスンを1つしかもたない単純なポテンシャルを考える。極小となる値$x_{0}$の周りでテイラー展開できると仮定してもよいでしょう。よって、\n",
    "\n",
    "$U(x)=U(x_{0})+(x-x_{0})U'(x_{0})+(1/2)(x-x_{0})^{2}U''(x_{0})+\\cdots$\n",
    "\n",
    "と書けます。ここで、極小での傾きは0だから、1次項は消えることに注意しましょう。\n",
    "\n",
    "2次までで近似すると、\n",
    "\n",
    "$U_{harm}\\equiv U_{0} + (\\frac{\\kappa}{2})(x-x_{0})^{2}$\n",
    "\n",
    "ここで、「バネ定数」を$\\kappa = U''(x_{0})$と置きました。この調和ポテンシャルについて、平均エネルギーは以下で与えられます。\n",
    "\n",
    "$\\langle U_{harm} \\rangle = \\frac{\\int dx U_{harm}(x) \\exp[-U_{harm}(x)/k_{B}T]}{\\int dx\\exp[-U_{harm}(x)/k_{B}T]}$\n",
    "\n",
    "これを計算すると(あとで実際に計算する）、\n",
    "\n",
    "$\\langle U_{harm} \\rangle = \n",
    "\\frac{\\int dx U_{0} + (\\frac{\\kappa}{2})(x-x_{0})^{2}\\exp[-(U_{0} + (\\frac{\\kappa}{2})(x-x_{0})^{2})/k_{B}T]}\n",
    "{\\int dx \\exp[-(U_{0} + (\\frac{\\kappa}{2})(x-x_{0})^{2})/k_{B}T]} \\\\\n",
    "\\cdots  \\\\\n",
    "= U_{0} + \\frac{k_{B}T}{2}\n",
    "$\n",
    "\n",
    "となります。この結果はおもしろいものです。なぜなら、バネ定数$\\kappa$が含まれていないからです。言い換えると、調和井戸の平均エネルギーは、井戸の幅の大きさによりません。この興味深い結果は、「等分配の法則」として知られています。\n",
    "\n",
    "### 3.2.4 揺らぎに関するヒント\n",
    "タンパク質やほかの分子においては構造揺らぎがとても重要です。もっとも確からしい配置であっても、有限温度での系を完全に記述することはできません。\n",
    "\n",
    "いい例が、1次元のレナード・ジョーンズ・ポテンシャルです。これは非対称なポテンシャルで、共有結合をしていない2原子間の相互作用を表すものとして用いられます。このポテンシャルでは、距離rの平均の値とポテンシャルを最小にする値は異なっています。"
   ]
  },
  {
   "cell_type": "markdown",
   "metadata": {},
   "source": [
    "## 3.3 配置ではなく、状態\n",
    "ここでは、「状態」という言葉を、同じエネルギ−のベイスンに属している配置の集団として使います。この定義に従うと、状態のポテンシャル・エネルギーというものを扱うことはできないという結論になります。なぜなら、状態は点ではなく集合だからです。\n"
   ]
  },
  {
   "cell_type": "markdown",
   "metadata": {
    "collapsed": true
   },
   "source": [
    "## 3.4 自由エネルギー\n",
    "### 3.4.1 準備 : 相対的なポピュレーション\n",
    "ふたつの井戸の相対確率について考えます。左の状態をA、右の状態をBとして、ふたつの確率の比$p_{A}/p_{B}$はどうなるでしょうか？\n",
    "\n",
    "それぞれの井戸に対して調和近似を用いると、ポテンシャルは$U(x)\\simeq (\\kappa_{i}/2)(x-x_{i})^{2}$となります。\n",
    "\n",
    "状態Bの確率は、\n",
    "\n",
    "$p_{B}=\\int_{V_{B}}dx \\exp[\\frac{-U(x)}{k_{B}T}]\\simeq \\sqrt{\\frac{2\\pi k_{B}T}{\\kappa_{B}}}$\n",
    "\n",
    "となり、確率の比は\n",
    "\n",
    "$\\frac{p_{A}}{p_{B}}\\simeq \\sqrt{\\frac{\\kappa_{B}}{\\kappa_{A}}}$\n",
    "\n",
    "となります。ここで、井戸が広くなるほど、定数$\\kappa_{i}$の値は小さくなることを考えると、井戸が広いほうにいる確率のほうが小さいことになる？"
   ]
  },
  {
   "cell_type": "markdown",
   "metadata": {},
   "source": [
    "### 3.4.2 自由エネルギー\n",
    "ある状態の自由エネルギーを、**そのボルツマン因子が正しい相対確率を与えるようなエネルギー**として定義しましょう。すなわち、状態A,Bに対する自由エネルギー（$F_{A},F_{B}$)の定義を表す式は、次のようになります。\n",
    "\n",
    "$\\frac{\\exp(-F_{A}/k_{B}T)}{\\exp(-F_{B}/k_{B}T)}\\equiv \\frac{p_{A}}{p_{B}}$\n",
    "\n",
    "自由エネルギーの基本的な意味は確率です。一方で、対数をとって以前出てきた積分の式と見比べることで、もっと伝統的な（そして直感的でない）統計力学的な関係式を得ます。\n",
    "\n",
    "$F_{i} = -k_{B} T \\ln (\\frac{\\hat{Z_{i}}}{\\lambda})=-k_{B}T\\ln[\\lambda^{-1}(\\int_{V_{i}}dx \\exp[\\frac{-U(x)}{k_{B}T}])]$\n",
    "\n",
    "対数をみたら、それを指数の肩にのせると、隠れている確率の意味を理解できるようになります。"
   ]
  },
  {
   "cell_type": "markdown",
   "metadata": {},
   "source": [
    "### 3.4.3 もっと一般的な調和井戸\n",
    "これまでの調和井戸の極小値はエネルギーが0になると仮定しましたが、一般的には、\n",
    "\n",
    "$U(x)\\simeq U_{i} + (\\frac{\\kappa_{i}}{2})(x-x_{i})^{2}$\n",
    "\n",
    "となります。すると、配置積分は\n",
    "\n",
    "$\\int_{V_{i}}dx\\exp [\\frac{-U(x)}{k_{B}T}]\\simeq \\exp(\\frac{-U_{i}}{k_{B}T})\\sqrt{\\frac{2\\pi k_{B} T}{\\kappa_{i}}}$\n",
    "\n",
    "自由エネルギーは\n",
    "\n",
    "$F_{i} = U_{i} + (\\frac{k_{B}T}{2}) \\ln (\\frac{\\kappa_{i}\\lambda^{2}}{2\\pi k_{B} T})$\n",
    "\n",
    "となります。エネルギーにおける定数$U_{i}$は自由エネルギーにおいてもただの定数とえして入ってくることに注意してください。"
   ]
  },
  {
   "cell_type": "markdown",
   "metadata": {},
   "source": [
    "## 3.5 エントロピー\n",
    "エントロピーSを以下で定義します。\n",
    "\n",
    "$S\\equiv \\frac{\\langle E \\rangle -F}{T} $\n",
    "\n",
    "この式は数学的に以下と同じです。\n",
    "\n",
    "$e^{-F/k_{B}T}=e^{S/k_{B}}e^{-\\langle E \\rangle /k_{B}T}$ \n",
    "\n",
    "自由エネルギーのボルツマン因子は、状態の確率を与えるのだから、$e^{S/k_{B}}$は平均エネルギーのボルツマン因子がその状態に割り当てられた正しい確率を与えるためには、どれくらいの係数をかけるべきかを表しています。上式はこの本の中で**もっとも重要なもののひとつ**です。\n",
    "\n",
    "### 3.5.1 幅（の対数）としてのエントロピー\n",
    "エントロピーの物理的な意味を理解するためには、ポテンシャルエネルギーが長方形の井戸を調べるのが一番よいです。\n",
    "\n",
    "図3.5 のような井戸を考えると、エントロピーについて、次の結果を得ます。\n",
    "\n",
    "$S_{A}=k_{B}[\\ln(\\frac{b-a}{\\lambda})+\\frac{1}{2}]$ 、$S_{B}=k_{B}[\\ln(\\frac{d-c}{\\lambda})+\\frac{1}{2}]$\n",
    "\n",
    "ここから分かるのは、エントロピーとは単に、状態の幅の対数だということです。エントロピーが幅であるということの意味は、ふたつの状態のエントロピー差を考えるとよりはっきりします。上式の結果を単純に引くと、ただちに以下を得ます。\n",
    "\n",
    "$\\Delta S=S_{B}-S_{A}=k_{B}\\ln(\\frac{d-c}{b-a})$\n",
    "\n",
    "これは、長方形井戸の系のエントロピー差が幅の比の対数で正確に決まるということを示しています。\n",
    "\n",
    "### 3.5.2 調和井戸の幅としてのエントロピー\n",
    "調和井戸に対するエントロピーも同様に理解できます。調和井戸のエントロピーは\n",
    "\n",
    "$S_{i}=k_{B}+k_{B}\\ln(\\frac{\\sqrt{2\\pi k_{B}T/\\kappa_{i}}}{\\lambda})$\n",
    "\n",
    "となります。調和井戸の幅はこの式から明らかではありませんが、確かに存在しています。$s_{i}\\equiv \\sqrt{k_{B}T}{\\kappa_{i}}$が長さの次元をもっているからです。上式は問題があることに注意してください。温度が小さくなると、エントロピーが負の値になってしまいます。本当は0になるべきです。よって、$s_{i}$が$\\lambda$より小さくなれば、ここでの古典的な描像はすべて成り立たなくなります。\n",
    "\n",
    "## 3.5.3 $\\sum p \\ln p$の公式\n",
    "この項では、エントロピーが$\\sum_{j}p_{j}\\ln p_{j}$という形で表される公式が正しいことを確かめます。\n",
    "\n",
    "まず、連続変数xを離散的な領域に分け、その領域でエネルギーは一定であると仮定します。ある幅の確率を計算すると、\n",
    "\n",
    "$p_{j}=(\\frac{l_{j}}{\\lambda Z})\\exp[-u_{j}/k_{B}T]$\n",
    "\n",
    "となります。ここで、$l_{j}$はエネルギーが一定となる長さであり、$Z=\\hat{Z}/\\lambda$は全系に対する全体の分配関数です。\n",
    "上式をひっくりかえして、ポテンシャルエネルギーを確率の関数として書くと、\n",
    "\n",
    "$u_{j}=-k_{B}T\\ln( \\frac{p_{j}\\lambda Z}{l_{j}})$\n",
    "\n",
    "となります。\n",
    "\n",
    "この結果を使って、平均のポテンシャルエネルギーを計算すると、おもしろい形になります。\n",
    "\n",
    "$\\langle U \\rangle \\equiv \\sum_{j} p_{j} u_{j} = -k_{B}T\\sum_{j} p_{j} \\ln (\\frac{p_{j}\\lambda}{l_{j}})-k_{B}T\\ln(Z)$\n",
    "\n",
    "よってエントロピーはほとんど望んだような形になっています。\n",
    "\n",
    "$S = k_{B} [\\frac{1}{2} - \\sum_{j} p_{j} \\ln (\\frac{p_{j} \\lambda}{l_{j}})]$\n",
    "\n",
    "ここで、和の中に$l_{j}$が入ってしまっていますが、離散状態が同じ長さをもつと仮定すれば、以下のような式が得られます。\n",
    "\n",
    "$S=-k_{B}\\sum_{j}p_{j}\\ln(p_{j})+\\mbox{定数}$"
   ]
  },
  {
   "cell_type": "markdown",
   "metadata": {},
   "source": [
    "## 3.6 まとめ\n",
    "### 3.6.1 状態は最重要だからこそ、凝った名前の量がついてくる\n",
    "個々の配置xという観点で考える限り、ボルツマン因子は、ミクロ状態の相対確率を与えるもので、それ以上のことはありません。\n",
    "\n",
    "配置を状態にグループわけしたときから、ややこしくなります。数学的には、ミクロ状態に関して積分し、確率ではなくエネルギーの用語を使おうとすると、自然に自由エネルギーやエントロピーにたどり着きます。また、エントロピーには、状態の幅、または縮退率という物理的な意味があることを確認しました。\n",
    "\n",
    "### 3.6.2 差が問題である\n",
    "配置やミクロ状態に対してわれわれが知りたいのは、相対的なポピュレーションです。\n",
    "\n",
    "## 3.7 簡単な系から物理的直感を得る\n",
    "簡単な例として、タンパク質の折りたたまれた状態とほどけた状態を考えましょう。通常、折りたたまれた状態のほうが安定です。平均エネルギーが低いためです。一方、ほどけた状態には非常に多くの配置がある、すなわちエントロピーが大きいので、高温でエネルギーがあまり重要にならない条件下では、折りたたまれた状態よりもほどけた状態のほうが起こりやすいことがありえます。（各状態の相対ポピュレーションは$e^{-F/k_{B}T}\\propto e^{S/k_{B}}e^{-\\langle U \\rangle / k_{B}T}$です。）"
   ]
  },
  {
   "cell_type": "markdown",
   "metadata": {},
   "source": [
    "### 3.7.1 温度依存性\n",
    "長方形井戸のポテンシャルを使って、タンパク質の折り畳みについて考えます。温度を変えたときに何が起きるでしょうか。\n",
    "まず、どちらの領域が折り畳まれている状態でしょうか。折り畳まれている状態は、ほどけた状態よりも空間配置のずっと狭い領域しか占められていません。よって、折り畳まれている状態が幅が狭いほうです。\n",
    "\n",
    "折り畳まれている状態の添字をf、ほどけた状態の添字をuとして、平衡時の確率を求めると、\n",
    "\n",
    "$p_{f}(T)=\\frac{r}{r+e^{-\\Delta U / k_{B}T}}$、$p_{u}(T)=\\frac{e^{-\\Delta U / k_{B}T}}{r+e^{-\\Delta U / k_{B}T}}$\n",
    "\n",
    "ただしここで、$r\\equiv l_{f}/l_{u}$、$\\Delta U \\equiv U_{u} - U_{f} > 0$と定義されます。また、$r=\\exp (-\\Delta S/ k_{B})$です。この関数のふるまいから、温度が変化することで、存在する状態が転移することが分かり、また、転移の鋭さはエントロピー差によって生じていることが分かります。\n",
    "\n",
    "### 3.7.2 離散的なモデル\n",
    "離散的なモデルは分子系を理解する上でも有用です。例えば、アミノ酸の側鎖のプロトン化状態は、プロトン化されているか否かの2状態をとるからです。統計力学において重要なモデルである、イジングモデルも離散的なモデルです。\n",
    "\n",
    "離散的なモデルの分配関数は、次の式で表されます。\n",
    "\n",
    "$Z=\\sum_{i} e^{-E(x_{i})/k_{B}T}$\n"
   ]
  },
  {
   "cell_type": "markdown",
   "metadata": {},
   "source": [
    "## 3.8 ゆるい終わり方\n",
    "運動エネルギーはどこにいってしまったのか、$\\lambda$は何を意味しているのか、について説明しておきます。\n",
    "\n",
    "統計力学では「本当の」分配関数Zは全エネルギー（ポテンシャル・エネルギーと運動エネルギー）のボルツマン因子に関する積分を、プランク定数hで割ったものです。1次元に拘束された1個の古典粒子を考えると、その分配関数は\n",
    "\n",
    "$Z=\\frac{m}{h}\\int^{\\infty}_{-\\infty} dx \\int^{\\infty}_{-\\infty} dv \\exp \\{-\\frac{U(x)+(1/2)mv^{2}}{k_{B}T}\\}$\n",
    "\n",
    "となります。ここで、速度に関する積分因子をくくりだすと、\n",
    "\n",
    "$Z=\\frac{m}{h}\\int^{\\infty}_{-\\infty} dv\\exp \\{-\\frac{(1/2)mv^{2}}{k_{B}T}\\} \\int^{\\infty}_{-\\infty} dx \\exp \\{-\\frac{U(x)}{k_{B}T}\\}\\\\\n",
    "=\\frac{m}{h}\\sqrt{\\frac{2\\pi k_{B}T}{m}} \\int^{\\infty}_{-\\infty} dx \\exp \\{-\\frac{U(x)}{k_{B}T}\\}\\\\\n",
    "=(\\frac{1}{\\lambda})\\hat{Z}$\n",
    "\n",
    "となります。ここで、$\\lambda(T) =h/ \\sqrt{2\\pi mk_{B}T}$は速度に対するガウス積分からきており、配置の分配関数$\\hat{Z}$にとっての長さのスケールになります。"
   ]
  }
 ],
 "metadata": {
  "kernelspec": {
   "display_name": "Python 3",
   "language": "python",
   "name": "python3"
  },
  "language_info": {
   "codemirror_mode": {
    "name": "ipython",
    "version": 3
   },
   "file_extension": ".py",
   "mimetype": "text/x-python",
   "name": "python",
   "nbconvert_exporter": "python",
   "pygments_lexer": "ipython3",
   "version": "3.5.1"
  },
  "nav_menu": {},
  "toc": {
   "navigate_menu": true,
   "number_sections": false,
   "sideBar": false,
   "threshold": 6,
   "toc_cell": true,
   "toc_section_display": "block",
   "toc_window_display": true
  }
 },
 "nbformat": 4,
 "nbformat_minor": 0
}
