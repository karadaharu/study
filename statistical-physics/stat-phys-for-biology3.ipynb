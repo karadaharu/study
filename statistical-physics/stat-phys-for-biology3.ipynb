{
 "cells": [
  {
   "cell_type": "markdown",
   "metadata": {
    "toc": "true"
   },
   "source": [
    "# Table of Contents\n",
    " <p><div class=\"lev1\"><a href=\"#一次元での平衡統計力学\"><span class=\"toc-item-num\">1&nbsp;&nbsp;</span>一次元での平衡統計力学</a></div><div class=\"lev2\"><a href=\"#3.2-エネルギー地形は確率分布だ\"><span class=\"toc-item-num\">1.1&nbsp;&nbsp;</span>3.2 エネルギー地形は確率分布だ</a></div><div class=\"lev3\"><a href=\"#3.2.3-単純な状態と調和近似\"><span class=\"toc-item-num\">1.1.1&nbsp;&nbsp;</span>3.2.3 単純な状態と調和近似</a></div><div class=\"lev3\"><a href=\"#3.2.4-揺らぎに関するヒント\"><span class=\"toc-item-num\">1.1.2&nbsp;&nbsp;</span>3.2.4 揺らぎに関するヒント</a></div><div class=\"lev2\"><a href=\"#3.3-配置ではなく、状態\"><span class=\"toc-item-num\">1.2&nbsp;&nbsp;</span>3.3 配置ではなく、状態</a></div><div class=\"lev3\"><a href=\"#3.3.1-相対的なポピュレーション\"><span class=\"toc-item-num\">1.2.1&nbsp;&nbsp;</span>3.3.1 相対的なポピュレーション</a></div>"
   ]
  },
  {
   "cell_type": "markdown",
   "metadata": {},
   "source": [
    "# 一次元での平衡統計力学\n",
    "## 3.2 エネルギー地形は確率分布だ\n",
    "\n",
    "あるミクロ状態の確率は、次の指数法則で与えられます。\n",
    "\n",
    " $\\mbox{pdf}(x)\\equiv \\rho(x) \\propto \\exp[\\frac{-U(x)}{k_{B}T}]$\n",
    "\n",
    "ここで$k_{B}$はボルツマン定数、Tは絶対温度であり、この指数関数をボルツマン因子と呼びます。\n",
    "\n",
    "\n",
    "正確な確率密度が必要なら、ボルツマン因子を規格化すれば求められます。\n",
    "\n",
    " $\\mbox{pdf}(x)\\equiv \\rho(x) = \\frac{\\exp[-U(x)/k_{B}T]}{\\int_{V}dx\\exp[-U(x)/k_{B}T]}$\n",
    " \n",
    " ここで積分するための体積Vを指定しました。この分母はただの規格化因子ですが、この積分には興味のある領域での確率の重みを足し合わせるという物理的な意味もあります。そのため、この規格化積分は分配関数と呼ばれます。"
   ]
  },
  {
   "cell_type": "markdown",
   "metadata": {},
   "source": [
    "### 3.2.3 単純な状態と調和近似\n",
    "ベイスンを1つしかもたない単純なポテンシャルを考える。極小となる値$x_{0}$の周りでテイラー展開できると仮定してもよいでしょう。よって、\n",
    "\n",
    "$U(x)=U(x_{0})+(x-x_{0})U'(x_{0})+(1/2)(x-x_{0})^{2}U''(x_{0})+\\cdots$\n",
    "\n",
    "と書けます。ここで、極小での傾きは0だから、1次項は消えることに注意しましょう。\n",
    "\n",
    "2次までで近似すると、\n",
    "\n",
    "$U_{harm}\\equiv U_{0} + (\\frac{\\kappa}{2})(x-x_{0})^{2}$\n",
    "\n",
    "ここで、「バネ定数」を$\\kappa = U''(x_{0})$と置きました。この調和ポテンシャルについて、平均エネルギーは以下で与えられます。\n",
    "\n",
    "$\\langle U_{harm} \\rangle = \\frac{\\int dx U_{harm}(x) \\exp[-U_{harm}(x)/k_{B}T]}{\\int dx\\exp[-U_{harm}(x)/k_{B}T]}$\n",
    "\n",
    "これを計算すると(あとで実際に計算する）、\n",
    "\n",
    "$\\langle U_{harm} \\rangle = \n",
    "\\frac{\\int dx U_{0} + (\\frac{\\kappa}{2})(x-x_{0})^{2}\\exp[-(U_{0} + (\\frac{\\kappa}{2})(x-x_{0})^{2})/k_{B}T]}\n",
    "{\\int dx \\exp[-(U_{0} + (\\frac{\\kappa}{2})(x-x_{0})^{2})/k_{B}T]} \\\\\n",
    "\\cdots  \\\\\n",
    "= U_{0} + \\frac{k_{B}T}{2}\n",
    "$\n",
    "\n",
    "となります。この結果はおもしろいものです。なぜなら、バネ定数$\\kappa$が含まれていないからです。言い換えると、調和井戸の平均エネルギーは、井戸の幅の大きさによりません。この興味深い結果は、「等分配の法則」として知られています。\n",
    "\n",
    "### 3.2.4 揺らぎに関するヒント\n",
    "タンパク質やほかの分子においては構造揺らぎがとても重要です。もっとも確からしい配置であっても、有限温度での系を完全に記述することはできません。\n",
    "\n",
    "いい例が、1次元のレナード・ジョーンズ・ポテンシャルです。これは非対称なポテンシャルで、共有結合をしていない2原子間の相互作用を表すものとして用いられます。このポテンシャルでは、距離rの平均の値とポテンシャルを最小にする値は異なっています。"
   ]
  },
  {
   "cell_type": "markdown",
   "metadata": {},
   "source": [
    "## 3.3 配置ではなく、状態\n",
    "ここでは、「状態」という言葉を、同じエネルギ−のベイスンに属している配置の集団として使います。この定義に従うと、状態のポテンシャル・エネルギーというものを扱うことはできないという結論になります。なぜなら、状態は点ではなく集合だからです。\n",
    "\n",
    "### 3.3.1 相対的なポピュレーション\n"
   ]
  },
  {
   "cell_type": "code",
   "execution_count": null,
   "metadata": {
    "collapsed": true
   },
   "outputs": [],
   "source": []
  }
 ],
 "metadata": {
  "kernelspec": {
   "display_name": "Python 3",
   "language": "python",
   "name": "python3"
  },
  "language_info": {
   "codemirror_mode": {
    "name": "ipython",
    "version": 3
   },
   "file_extension": ".py",
   "mimetype": "text/x-python",
   "name": "python",
   "nbconvert_exporter": "python",
   "pygments_lexer": "ipython3",
   "version": "3.5.1"
  },
  "nav_menu": {},
  "toc": {
   "navigate_menu": true,
   "number_sections": false,
   "sideBar": false,
   "threshold": 6,
   "toc_cell": true,
   "toc_section_display": "block",
   "toc_window_display": true
  }
 },
 "nbformat": 4,
 "nbformat_minor": 0
}
