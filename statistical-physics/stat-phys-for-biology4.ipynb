{
 "cells": [
  {
   "cell_type": "markdown",
   "metadata": {
    "toc": "true"
   },
   "source": [
    "# Table of Contents\n",
    " <p><div class=\"lev1\"><a href=\"#自然は分配関数を計算しない:基本的なダイナミクスと平衡\"><span class=\"toc-item-num\">1&nbsp;&nbsp;</span>自然は分配関数を計算しない:基本的なダイナミクスと平衡</a></div><div class=\"lev2\"><a href=\"#4.1-はじめに\"><span class=\"toc-item-num\">1.1&nbsp;&nbsp;</span>4.1 はじめに</a></div><div class=\"lev3\"><a href=\"#4.1.1-時間平均と配置平均は等価\"><span class=\"toc-item-num\">1.1.1&nbsp;&nbsp;</span>4.1.1 時間平均と配置平均は等価</a></div><div class=\"lev3\"><a href=\"#4.1.2-平衡は存在するか？\"><span class=\"toc-item-num\">1.1.2&nbsp;&nbsp;</span>4.1.2 平衡は存在するか？</a></div><div class=\"lev2\"><a href=\"#4.2-ニュートンのダイナミクス-:-決定論的だが、予測できない\"><span class=\"toc-item-num\">1.2&nbsp;&nbsp;</span>4.2 ニュートンのダイナミクス : 決定論的だが、予測できない</a></div><div class=\"lev3\"><a href=\"#4.2.1-確率的なダイナミクスの描像\"><span class=\"toc-item-num\">1.2.1&nbsp;&nbsp;</span>4.2.1 確率的なダイナミクスの描像</a></div><div class=\"lev2\"><a href=\"#4.3-バリア越え-:-活性化過程\"><span class=\"toc-item-num\">1.3&nbsp;&nbsp;</span>4.3 バリア越え : 活性化過程</a></div><div class=\"lev3\"><a href=\"#4.3.1-バリア越えの簡単な予告編\"><span class=\"toc-item-num\">1.3.1&nbsp;&nbsp;</span>4.3.1 バリア越えの簡単な予告編</a></div>"
   ]
  },
  {
   "cell_type": "markdown",
   "metadata": {},
   "source": [
    "# 自然は分配関数を計算しない:基本的なダイナミクスと平衡"
   ]
  },
  {
   "cell_type": "markdown",
   "metadata": {},
   "source": [
    "## 4.1 はじめに\n",
    "### 4.1.1 時間平均と配置平均は等価\n",
    "ある量に対する時間平均と配置の（アンサンブル）平均は同じです。その理由は、どちらも同じダイナミクスによって生じているからです。\n",
    "\n",
    "### 4.1.2 平衡は存在するか？\n",
    "現実には平衡は存在しない。どんな系も真の平衡に達するために必要な時間にわたって不変な方法で孤立させることはできないからです。平衡とは、相対的なものであり、観測の時間スケールに依存して定義されるものなのです。現実的には、注目している緩和過程が、観測時間と比べて十分速く起こるとき、平衡が非常によい近似で存在しているといえます。"
   ]
  },
  {
   "cell_type": "markdown",
   "metadata": {},
   "source": [
    "## 4.2 ニュートンのダイナミクス : 決定論的だが、予測できない\n",
    "すべての分子が古典的にふるまうとしても、系の未来のダイナミクスを予測することはできません。なぜなら、どんな系も環境と関係しており、観測の範囲外との相互作用はランダムな要素として記述するしかないからです。\n",
    "\n",
    "### 4.2.1 確率的なダイナミクスの描像\n",
    "ある配置から別の配置への移動は、条件付き確率分布で書くことができます。\n",
    "\n",
    "$\\rho (x_{2},t_{2}| x_{1}, t_{1})$"
   ]
  },
  {
   "cell_type": "markdown",
   "metadata": {},
   "source": [
    "## 4.3 バリア越え : 活性化過程\n",
    "### 4.3.1 バリア越えの簡単な予告編\n",
    "２つのベイスンがある井戸を考えます。バリア頂上のことを化学者は「遷移状態」と呼びます。もし状態Aから系がスタートすることを考えると、遷移状態（バリア頂上）の相対確率は、$\\exp(-\\Delta U/k_{B}T)$で与えられます。ここで、$\\Delta U$は状態Aと頂上のエネルギー差です。この$\\exp(-\\Delta U/k_{B}T)$はアレニウス因子と呼ばれます。バリアを乗り越える遷移のレートkはアレニウス因子に比例するものとして与えられます。\n",
    "\n",
    "$k\\propto \\exp(-\\Delta U/k_{B}T)$\n",
    "\n",
    "定性的には、アレニウス因子から次のことが分かります。\n",
    "\n",
    "1. バリアの高さが大きくなると、遷移レートは減る\n",
    "2. バリアが一定の場合、温度があがるとレートは増える\n",
    "\n",
    "まだ遷移レートについて定量的に理解することはできていませんが、何が足りないかは分かります。アレニウス因子は無次元の量ですが、レートは単位時間あたりに事象の起こる下図です。アレニウス因子に、時間スケールを付け加える必要があります。\n",
    "\n"
   ]
  },
  {
   "cell_type": "code",
   "execution_count": null,
   "metadata": {
    "collapsed": true
   },
   "outputs": [],
   "source": []
  }
 ],
 "metadata": {
  "kernelspec": {
   "display_name": "Python 3",
   "language": "python",
   "name": "python3"
  },
  "language_info": {
   "codemirror_mode": {
    "name": "ipython",
    "version": 3
   },
   "file_extension": ".py",
   "mimetype": "text/x-python",
   "name": "python",
   "nbconvert_exporter": "python",
   "pygments_lexer": "ipython3",
   "version": "3.5.1"
  },
  "nav_menu": {},
  "toc": {
   "navigate_menu": true,
   "number_sections": false,
   "sideBar": false,
   "threshold": 6,
   "toc_cell": true,
   "toc_section_display": "block",
   "toc_window_display": false
  }
 },
 "nbformat": 4,
 "nbformat_minor": 0
}
