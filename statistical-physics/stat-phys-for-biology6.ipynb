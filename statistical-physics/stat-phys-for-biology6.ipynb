{
 "cells": [
  {
   "cell_type": "markdown",
   "metadata": {
    "toc": "true"
   },
   "source": [
    "# Table of Contents\n",
    " <p><div class=\"lev1\"><a href=\"#複雑さから単純さへ:平均力ポテンシャル(PMF)\"><span class=\"toc-item-num\">1&nbsp;&nbsp;</span>複雑さから単純さへ:平均力ポテンシャル(PMF)</a></div><div class=\"lev2\"><a href=\"#6.1-はじめに:PMFはそこら中にある\"><span class=\"toc-item-num\">1.1&nbsp;&nbsp;</span>6.1 はじめに:PMFはそこら中にある</a></div><div class=\"lev2\"><a href=\"#6.2-平均力ポテンシャルは自由エネルギーのようなものである\"><span class=\"toc-item-num\">1.2&nbsp;&nbsp;</span>6.2 平均力ポテンシャルは自由エネルギーのようなものである</a></div><div class=\"lev3\"><a href=\"#6.2.1-PMFは射影と厳密に結びついている\"><span class=\"toc-item-num\">1.2.1&nbsp;&nbsp;</span>6.2.1 PMFは射影と厳密に結びついている</a></div><div class=\"lev4\"><a href=\"#6.2.1.1-座標に相関があるかぎり、PMFは必要\"><span class=\"toc-item-num\">1.2.1.1&nbsp;&nbsp;</span>6.2.1.1 座標に相関があるかぎり、PMFは必要</a></div><div class=\"lev4\"><a href=\"#6.2.1.2-一般的な座標に対するPMF\"><span class=\"toc-item-num\">1.2.1.2&nbsp;&nbsp;</span>6.2.1.2 一般的な座標に対するPMF</a></div><div class=\"lev3\"><a href=\"#6.2.2-PMFに対する比例定数\"><span class=\"toc-item-num\">1.2.2&nbsp;&nbsp;</span>6.2.2 PMFに対する比例定数</a></div><div class=\"lev3\"><a href=\"#6.2.3-PMFはよいシュミレーションから簡単に計算できる\"><span class=\"toc-item-num\">1.2.3&nbsp;&nbsp;</span>6.2.3 PMFはよいシュミレーションから簡単に計算できる</a></div><div class=\"lev2\"><a href=\"#6.3-PMFは反応レートや遷移状態を与えないかもしれない\"><span class=\"toc-item-num\">1.3&nbsp;&nbsp;</span>6.3 PMFは反応レートや遷移状態を与えないかもしれない</a></div><div class=\"lev3\"><a href=\"#6.3.1-反応座標と呼ばれるものは存在するのか？\"><span class=\"toc-item-num\">1.3.1&nbsp;&nbsp;</span>6.3.1 反応座標と呼ばれるものは存在するのか？</a></div><div class=\"lev2\"><a href=\"#6.4-動径分布関数\"><span class=\"toc-item-num\">1.4&nbsp;&nbsp;</span>6.4 動径分布関数</a></div><div class=\"lev3\"><a href=\"#6.4.1-g(r)に対して何が期待されるか\"><span class=\"toc-item-num\">1.4.1&nbsp;&nbsp;</span>6.4.1 g(r)に対して何が期待されるか</a></div><div class=\"lev3\"><a href=\"#6.4.2-g(r)はシミュレーションから簡単に得られる\"><span class=\"toc-item-num\">1.4.2&nbsp;&nbsp;</span>6.4.2 g(r)はシミュレーションから簡単に得られる</a></div><div class=\"lev4\"><a href=\"#6.4.2.1-もっとも簡単な場合:液体\"><span class=\"toc-item-num\">1.4.2.1&nbsp;&nbsp;</span>6.4.2.1 もっとも簡単な場合:液体</a></div><div class=\"lev4\"><a href=\"#6.4.2.2-やや難しい-:-タンパク質の周りの水\"><span class=\"toc-item-num\">1.4.2.2&nbsp;&nbsp;</span>6.4.2.2 やや難しい : タンパク質の周りの水</a></div><div class=\"lev3\"><a href=\"#6.4.3-PMFは「生の」ペアポテンシャルとは異なる\"><span class=\"toc-item-num\">1.4.3&nbsp;&nbsp;</span>6.4.3 PMFは「生の」ペアポテンシャルとは異なる</a></div><div class=\"lev3\"><a href=\"#6.4.5-g(r)は実験的に測ることができる\"><span class=\"toc-item-num\">1.4.4&nbsp;&nbsp;</span>6.4.5 g(r)は実験的に測ることができる</a></div><div class=\"lev2\"><a href=\"#6.5-PMFは「知識ベースの」（統計的な）ポテンシャルにおいて基礎となる\"><span class=\"toc-item-num\">1.5&nbsp;&nbsp;</span>6.5 PMFは「知識ベースの」（統計的な）ポテンシャルにおいて基礎となる</a></div><div class=\"lev2\"><a href=\"#6.6-まとめ:PMFの意味、利用法、その限界\"><span class=\"toc-item-num\">1.6&nbsp;&nbsp;</span>6.6 まとめ:PMFの意味、利用法、その限界</a></div>"
   ]
  },
  {
   "cell_type": "markdown",
   "metadata": {},
   "source": [
    "# 複雑さから単純さへ:平均力ポテンシャル(PMF)"
   ]
  },
  {
   "cell_type": "markdown",
   "metadata": {},
   "source": [
    "## 6.1 はじめに:PMFはそこら中にある\n",
    "平均力ポテンシャル(potential of mean force)、ときには自由エネルギープロファイルと呼ばれるものは、生物物理で重要な役割を果たします。多次元の自由度をもった系に対して、1つの座標に対する「エネルギー地形」を求める際に使います。"
   ]
  },
  {
   "cell_type": "markdown",
   "metadata": {},
   "source": [
    "## 6.2 平均力ポテンシャルは自由エネルギーのようなものである\n",
    "### 6.2.1 PMFは射影と厳密に結びついている\n",
    "PMFとは、ポテンシャルエネルギーのある次元に対する射影です。すなわち、\n",
    "\n",
    "$e^{-\\rm{PMF}(x)/k_{B}T}\\propto \\int dydz e^{-U(x,y,z)/k_{B}T}$\n",
    "\n",
    "です。これによってあるxに対する相対確率が得られます。\n",
    "\n",
    "#### 6.2.1.1 座標に相関があるかぎり、PMFは必要\n",
    "原子が相互作用すると、統計的に独立でなくなり、PMFが必要になります。\n",
    "\n",
    "#### 6.2.1.2 一般的な座標に対するPMF\n",
    "例えば、特定の原子間の距離を変数としたPMFを得たい場合は、もとのボルツマン因子をデルタ関数を用いて積分すれば得られます。\n",
    "\n",
    "$e^{-\\rm{PMF}(R)/k_{B}T}\\propto \\rho (R)\\\\\n",
    "\\propto \\int dr^{N} \\delta (R-\\hat{R}(r^{N}))e^{-U(r^{N})/k_{B}T}$"
   ]
  },
  {
   "cell_type": "markdown",
   "metadata": {},
   "source": [
    "### 6.2.2 PMFに対する比例定数\n",
    "これまでのPMFの式で必要となる比例定数を特定しておきましょう。まず思いつくのは、配置積分の逆数$\\hat{Z}^{-1}=1/\\lambda Z$を使うことでしょう。しかし、これを6.2.1節の式の右辺にかけると$\\lambda$は長さの次元をもつ一方で、左辺は無次元なので一致しません。そこで、配置空間の均一な分布を使うことで対応させます。まとめると、一般的な定義は次式になります。\n",
    "\n",
    "$e^{-\\rm{PMF}(x_{1}, \\cdots, x_{n})/k_{B}T} \\equiv \\frac{\\rho(x_{1}, \\cdots x_{n})}{\\rho^{\\rm{uni}}(x_{1}, \\cdots x_{n})}\\\\\n",
    "=\\frac{\\hat{Z}^{-1}\\int dx_{n+1} \\cdots dx_{N}e^{-U(x_{1}, \\cdots, x_{N} )/k_{B}T}}{\\rho^{\\rm{uni}}(x_{1}, \\cdots x_{n})}$\n",
    "\n",
    "$\\rho^{\\rm uni}$はその引数に対する均一な分布を表しますが、その数学的な形は変数によるのでここでは陽に書き下しません。"
   ]
  },
  {
   "cell_type": "markdown",
   "metadata": {},
   "source": [
    "### 6.2.3 PMFはよいシュミレーションから簡単に計算できる\n",
    "多くの場合、ある変数に対する分布をカウントすれば、どんな変数にたいしてもPMFは計算できます。"
   ]
  },
  {
   "cell_type": "markdown",
   "metadata": {},
   "source": [
    "## 6.3 PMFは反応レートや遷移状態を与えないかもしれない\n",
    "ここではPMFを拡大解釈する危険性について明確にします。生物学において知りたいことが多いのは、状態間の遷移状態とバリアの高さです。しかし、PMFからはこれらのことには原理的に求められません。図6.3を見ればその理由は明確です。"
   ]
  },
  {
   "cell_type": "markdown",
   "metadata": {},
   "source": [
    "### 6.3.1 反応座標と呼ばれるものは存在するのか？\n",
    "「反応座標」というのは化学的な文脈で議論されます。（多次元の）座標により反応や構造変化の本質的な側面を記述できるという考えです。つまり、この座標に沿った自由エネルギー、PMFから遷移状態のよい描像が得られるという考えです。これこそがPMFに対する拡大解釈の危険な面です。\n",
    "\n",
    "反応座標というのは、原理的にはあるかもしれないものですが、それを見つけるのは非常に難しいものであるということを認識しておく必要があります。"
   ]
  },
  {
   "cell_type": "markdown",
   "metadata": {},
   "source": [
    "## 6.4 動径分布関数\n",
    "PMFは特定の原子のペアの間に生じる相関を調べるのにも使えます。例えば、極性のあるアミノ酸の近くにどれくらいの頻度で水分子がその近くにくるかといった問題です。このためにある水分子とアミノ酸の間の距離のPMFを計算することが考えられますが、実際には、常に異なる水分子が近づいたり離れたりします。\n",
    "\n",
    "このようなある種類の原子の間の相関を調べる道具が動径分布関数（ペア相関関数）です。動径分布関数$g_{ab}(r)$はaという種類の原子から距離rだけ離れたところにｂという種類の原子が存在する確率を表します。より正確には、bの粒子の均一分布と比較したときの相対確率を表します。その定義は以下です。\n",
    "\n",
    "$g_{ab}(r)=\\frac{n_{ab}(r)}{n^{\\rm{uni}}_{b}(r)}=\\frac{n_{ab}(r)}{N_{b}/V}\\equiv e^{-\\rm{PMF}(r)/k_{B}T}$\n",
    "\n",
    "ここで、$n_{ab}(r)$はaのある粒子の中心からr離れたところにあるbの粒子の平均個数の分布を表します。rとr+drの間にある全粒子数は\n",
    "\n",
    "$n(r) dV=n(r)(\\frac{4}{3}\\pi(r+dr)^{3}-\\frac{4}{3}\\pi r^{3})\\\\\n",
    "=4\\pi r^{2} n(r)dr$\n",
    "\n",
    "となり、bの粒子の総数は次の式で与えられます。\n",
    "\n",
    "$N_{b}=\\int_{V}dr 4\\pi r^{2} n_{ab}(r)$\n",
    "\n"
   ]
  },
  {
   "cell_type": "markdown",
   "metadata": {},
   "source": [
    "### 6.4.1 g(r)に対して何が期待されるか\n",
    "単原子液体の動径分布関数$g_{aa}$には典型的な形状があり、rが大きくなるにつれて、gは1に収束する、つまり相関がなくなります。"
   ]
  },
  {
   "cell_type": "markdown",
   "metadata": {
    "collapsed": true
   },
   "source": [
    "### 6.4.2 g(r)はシミュレーションから簡単に得られる\n",
    "シミュレーションをして数を数えれば得られます。\n",
    "\n",
    "#### 6.4.2.1 もっとも簡単な場合:液体\n",
    "単原子N個からなる系が体積Vの中に閉じ込められていて、その系のM個の配置が得られたとしましょう。幅$\\Delta r$の幅に含まれれる数の比を使って、動径分布関数の定義式(式6.10)を離散化すると、$g(r)\\equiv g_{aa}(r)$は、\n",
    "\n",
    "$g(r)=\\frac{n_{aa}(r)\\Delta r}{(N_{a}/V)\\Delta r} = \\frac{\\langle \\rm(counts)(r; \\Delta r) \\rangle / (4 \\pi r^{2}) }{(N/V)\\Delta r}$\n",
    "\n",
    "と表されます。"
   ]
  },
  {
   "cell_type": "markdown",
   "metadata": {},
   "source": [
    "#### 6.4.2.2 やや難しい : タンパク質の周りの水\n",
    "タンパク質の基質のまわりの水分子内の酸素原子の分布を考えましょう。このとき注意する必要があるのは、添字\"b\"の原子のバルクでの密度は、すべての体積が水でしめられているわけではないので、単純に$N_{b}/V$ではないという点です。よって別の方法で見積もる必要があります。例えば、\n",
    "\n",
    "$g_{ab}(r)=\\frac{n_{ab}(r)}{n_{b}^{\\rm{uni}}(r)}=\\frac{\\langle \\rm{counts}(r;\\Delta r) \\rangle}{\\langle \\rm{counts}(r \\rightarrow \\infty;\\Delta r) \\rangle}$\n",
    "\n",
    "となります。"
   ]
  },
  {
   "cell_type": "markdown",
   "metadata": {},
   "source": [
    "### 6.4.3 PMFは「生の」ペアポテンシャルとは異なる\n",
    "$\\rm{PMF}(r)=-k_{B}T\\ln g(r)$という関係式から出てくるPMFと、（非ボンドの）ペアの相互作用のポテンシャル$u^{\\rm{pair}}$は定性的に異なるということが分かります。ペアの相互作用ポテンシャルとは、全ポテンシャルが\n",
    "\n",
    "$U(r^{N})=\\sum_{i<j} u^{\\rm{pair}}(r_{ij})$\n",
    "\n",
    "で表されるものです。\n",
    "\n",
    "複数のピークをもつgに対応するPMFは複数の極小をもちます。しかし、原子間の典型的なポテンシャルは、レナード・ジョーンズ・ポテンシャルのように1つのエネルギー極小しかもちません。言い換えると、ひとつの井戸をもつ非ボンドの相互作用ポテンシャルから、多くの極小をもつPMFが生じるはずです。重要なのは、**原理的には、$u^{\\rm{pair}}$とPMFを同一視することは間違っているということです。\n",
    "\n",
    "（$U(r^{N})$が何なのかよく分かっていないけど、とりあえず定性的に極小値の数が違うのは分かる)"
   ]
  },
  {
   "cell_type": "markdown",
   "metadata": {},
   "source": [
    "### 6.4.5 g(r)は実験的に測ることができる\n",
    "流体に対して、散乱データからg(r)(のフーリエ変換)を求めることができます。"
   ]
  },
  {
   "cell_type": "markdown",
   "metadata": {},
   "source": [
    "## 6.5 PMFは「知識ベースの」（統計的な）ポテンシャルにおいて基礎となる\n",
    "PMFを使ってモデルをつくることもできます。いわゆる知識ベース、もしくは統計的なポテンシャル・エネルギー関数（力場）は、タンパク質データバンク（PDB)のような構造データベースに対してPMF的な解析をすることで得られます。"
   ]
  },
  {
   "cell_type": "markdown",
   "metadata": {},
   "source": [
    "## 6.6 まとめ:PMFの意味、利用法、その限界\n",
    "PMFはまさに自由エネルギーと対応していますが、エネルギー地形そのものではないということに注意する必要があります。"
   ]
  }
 ],
 "metadata": {
  "kernelspec": {
   "display_name": "Python 3",
   "language": "python",
   "name": "python3"
  },
  "language_info": {
   "codemirror_mode": {
    "name": "ipython",
    "version": 3
   },
   "file_extension": ".py",
   "mimetype": "text/x-python",
   "name": "python",
   "nbconvert_exporter": "python",
   "pygments_lexer": "ipython3",
   "version": "3.5.1"
  },
  "nav_menu": {},
  "toc": {
   "navigate_menu": true,
   "number_sections": false,
   "sideBar": false,
   "threshold": 6,
   "toc_cell": true,
   "toc_section_display": "none",
   "toc_window_display": true
  }
 },
 "nbformat": 4,
 "nbformat_minor": 0
}
