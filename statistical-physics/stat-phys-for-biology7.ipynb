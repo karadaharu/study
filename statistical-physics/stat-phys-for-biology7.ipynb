{
 "cells": [
  {
   "cell_type": "markdown",
   "metadata": {
    "toc": "true"
   },
   "source": [
    "# Table of Contents\n",
    " <p><div class=\"lev1\"><a href=\"#「自由」エネルギーの何が自由なのか？本質的な熱力学\"><span class=\"toc-item-num\">1&nbsp;&nbsp;</span>「自由」エネルギーの何が自由なのか？本質的な熱力学</a></div><div class=\"lev2\"><a href=\"#7.1-はじめに\"><span class=\"toc-item-num\">1.1&nbsp;&nbsp;</span>7.1 はじめに</a></div><div class=\"lev2\"><a href=\"#7.1.1-謝罪しよう、熱力学は重要である\"><span class=\"toc-item-num\">1.2&nbsp;&nbsp;</span>7.1.1 謝罪しよう、熱力学は重要である</a></div><div class=\"lev2\"><a href=\"#7.2-統計熱力学:微分することができる？\"><span class=\"toc-item-num\">1.3&nbsp;&nbsp;</span>7.2 統計熱力学:微分することができる？</a></div><div class=\"lev3\"><a href=\"#7.2.1-微分に関する簡単なまとめ\"><span class=\"toc-item-num\">1.3.1&nbsp;&nbsp;</span>7.2.1 微分に関する簡単なまとめ</a></div><div class=\"lev3\"><a href=\"#7.2.2-1階微分を通じての平均とエントロピー\"><span class=\"toc-item-num\">1.3.2&nbsp;&nbsp;</span>7.2.2 1階微分を通じての平均とエントロピー</a></div><div class=\"lev3\"><a href=\"#7.2.2.1-エントロピー\"><span class=\"toc-item-num\">1.3.3&nbsp;&nbsp;</span>7.2.2.1 エントロピー</a></div><div class=\"lev3\"><a href=\"#7.2.3-2階微分からのゆらぎ\"><span class=\"toc-item-num\">1.3.4&nbsp;&nbsp;</span>7.2.3 2階微分からのゆらぎ</a></div><div class=\"lev3\"><a href=\"#7.2.4-比熱、エネルギーの揺らぎ、転移（折り畳みや非折り畳み）\"><span class=\"toc-item-num\">1.3.5&nbsp;&nbsp;</span>7.2.4 比熱、エネルギーの揺らぎ、転移（折り畳みや非折り畳み）</a></div><div class=\"lev4\"><a href=\"#7.2.4.1-比熱とエネルギー揺らぎの形式的な関係\"><span class=\"toc-item-num\">1.3.5.1&nbsp;&nbsp;</span>7.2.4.1 比熱とエネルギー揺らぎの形式的な関係</a></div><div class=\"lev2\"><a href=\"#7.3-理想気体を大好きになる\"><span class=\"toc-item-num\">1.4&nbsp;&nbsp;</span>7.3 理想気体を大好きになる</a></div><div class=\"lev3\"><a href=\"#7.3.1-理想気体の自由エネルギーとエントロピー\"><span class=\"toc-item-num\">1.4.1&nbsp;&nbsp;</span>7.3.1 理想気体の自由エネルギーとエントロピー</a></div><div class=\"lev3\"><a href=\"#7.3.2-理想気体の状態方程式\"><span class=\"toc-item-num\">1.4.2&nbsp;&nbsp;</span>7.3.2 理想気体の状態方程式</a></div><div class=\"lev2\"><a href=\"#7.4-退屈だが真：第一法則はエネルギーの保存則を表す\"><span class=\"toc-item-num\">1.5&nbsp;&nbsp;</span>7.4 退屈だが真：第一法則はエネルギーの保存則を表す</a></div>"
   ]
  },
  {
   "cell_type": "markdown",
   "metadata": {},
   "source": [
    "# 「自由」エネルギーの何が自由なのか？本質的な熱力学\n",
    "## 7.1 はじめに\n",
    "基本的には、分配関数や自由エネルギーの微分をとることで多くの重要な熱力学的な結果を導出することができます。ところで、自由エネルギーの「自由」とは「利用可能な」ということであり、仕事をするために利用することのできるエネルギーを自由エネルギーといいます。"
   ]
  },
  {
   "cell_type": "markdown",
   "metadata": {},
   "source": [
    "## 7.1.1 謝罪しよう、熱力学は重要である\n",
    "1mm^3ほどの体積にも10^15個もの分子が含まれているので、そのような系に対して統計力学的な計算をするのは、極端な理想化をしない限り不可能です。よって熱力学は実験を理解するための鍵となるのです。\n",
    "\n",
    "また、いままで焦点をあててきた確率的な解釈には限界があると言わなければいけません。特に、ボルツマン分布$\\rho (r^{N}) \\propto \\exp [-U(r^{N})/k_{B}T]$から、あらゆる定数Tにおける完全な確率的記述が得られますが、温度依存のある一般的な実験に対して知りたいことがすべて分かるわけではありません。例えば、温度の関数としての自由エネルギーの変化はタンパク質の折り畳みを考えるのに重要ですが、２つの温度での全系の自由エネルギー差を比較することは不適切です。"
   ]
  },
  {
   "cell_type": "markdown",
   "metadata": {},
   "source": [
    "## 7.2 統計熱力学:微分することができる？\n",
    "まず体積と温度が一定に保たれている系を取り上げます。この条件では、記号$F(T,V)=-k_{B}T\\ln Z(T, V)$はヘルムホルツの自由エネルギーと呼ばれます。また後で、一定の温度と圧力に対して適切な、ギブスの自由エネルギーについてにも調べます。\n",
    "\n",
    "### 7.2.1 微分に関する簡単なまとめ\n",
    "微分に関する公式を復習します。\n",
    "\n",
    "### 7.2.2 1階微分を通じての平均とエントロピー\n",
    "分配関数Zの温度に関する微分を考えます。全エネルギーをEで表すと、1次元系では運動量を$p=mv$として、$E(x,p)=U(x)+KE(p)=U(x)+p^{2}/2m$となります。よって以下が得られます。\n",
    "\n",
    "$\\frac{\\partial Z}{\\partial T}=\\frac{\\partial}{\\partial T } h^{-1} \\int dxdp e^{-E(x,p)/k_{B}T}\\\\\n",
    "=h^{-1}\\int dx dp (\\frac{+1}{ k_{B}T^{2}}) E(x,p) e^{-E(x,p) / k_{B}T}$\n",
    "\n",
    "すると、対数のルールを使って、\n",
    "\n",
    "$\\frac{\\partial \\ln Z}{\\partial T} = \\frac{1}{k_{B}T^{2}} \\frac{\\int dxdp E(x,p) e^{-E(x,p)/k_{B}T}}{\\int dxdp e^{-E(x,p)/k_{B}T}}$\n",
    "\n",
    "となります。さらに書き換えると、\n",
    "\n",
    "$\\langle E \\rangle = k_{B}T^{2} \\frac{\\partial \\ln Z}{\\partial T}$\n",
    "\n",
    "すなわち、系の全エネルギーの平均が、ボルツマン因子の温度による微分を用いて書けるということです。ここで$\\ln Z = - F/k_{B}T$を思い出しましょう。数学を逆にたどれば、この簡単な関係式はボルツマン因子が指数関数であるということに由来しています。\n",
    "\n",
    "表記上の問題ですが、ボルツマン因子を何度も書くことになるので、熱エネルギーの逆数$\\beta = 1/k_{B}T$（単位に無頓着な物理学者は逆温度と呼ぶこともある）を定義すると便利です。ボルツマン因子は$e^{-\\beta E}$となり、$\\frac{d \\beta}{d T} = -\\frac{1}{k_{B}T^{-2}}$から、式7.8 は以下のように簡略化されます。\n",
    "\n",
    "$\\langle E \\rangle = - \\frac{\\partial }{\\partial \\beta} \\ln Z = \\frac{\\partial }{\\partial \\beta} \\beta F$\n",
    "\n",
    "ポテンシャルエネルギーだけを考えるのが重要な場合もありますが、Uの経(金)は配置積分の微分としてかけることはかなり明らかでしょう。\n",
    "\n",
    "$\\langle U \\rangle = - \\frac{\\partial}{\\partial \\beta} \\ln (\\frac{\\hat{Z}}{l_{0}})$\n",
    "\n",
    "ここで、$l_{0}$は数学をきちんと行うための任意の長さの定数です。この跡で、他の熱力学的条件（ここで陰に使っていた一定の体積ではなく、一定の圧力の場合など）を調べるときに、適当な自由エネルギーを微分することで他の量の平均になることを見ます。"
   ]
  },
  {
   "cell_type": "markdown",
   "metadata": {},
   "source": [
    "### 7.2.2.1 エントロピー\n",
    "$S=(\\langle E \\rangle - F) /T$が微分から以下のように計算できます。\n",
    "\n",
    "$\\frac{\\partial F}{\\partial T} = \\frac{\\partial}{\\partial T}(-k_{B}T\\ln Z)- -k_{B}T\\ln Z - k_{B}T\\frac{\\partial }{\\partial T}\\ln Z$\n",
    "\n",
    "最初の項は定義から$F/T$であり2番めの項は式7.8から$-\\langle E \\rangle / T$であるので、\n",
    "\n",
    "$S=-\\frac{\\partial F}{\\partial T}$\n",
    "\n",
    "となります。"
   ]
  },
  {
   "cell_type": "markdown",
   "metadata": {},
   "source": [
    "### 7.2.3 2階微分からのゆらぎ\n",
    "$\\frac{\\partial^{2}\\ln Z}{\\partial \\beta^{2}} = \\frac{\\partial }{\\partial\\beta} [\\frac{1}{Z}\\frac{\\partial Z}{\\partial \\beta}]\\\\\n",
    "=\\frac{\\partial}{\\partial\\beta}\\frac{\\int dxdp [-E(x,p)]e^{-\\beta E(x,p)}}{\\int dxdp e^{-\\beta E(x,p)}}\\\\\n",
    "=\\frac{\\int dxdp [E(x,p)]^{2} e^{-\\beta E(x,p)}}{\\int dxdp e^{-\\beta E(x,p)}}-[\\frac{\\int dxdp [-E(x,p)]e^{-\\beta E(x,p)}}{\\int dxdp e^{-\\beta E(x,p)}}]^{2}\\\\\n",
    "=\\langle E^{2} \\rangle - \\langle E \\rangle^{2}=\\sigma^{2}_{E}$\n",
    "\n",
    "このように、分配関数のlogの2階微分はエネルギーの分散になります。"
   ]
  },
  {
   "cell_type": "markdown",
   "metadata": {},
   "source": [
    "### 7.2.4 比熱、エネルギーの揺らぎ、転移（折り畳みや非折り畳み）\n",
    "比熱、もしくは熱容量cは試料の温度をあげるために必要な熱エネルギーの量です。しかし、分子的、統計的な観点からは、比熱はエネルギーの分散を測ることを意味します。"
   ]
  },
  {
   "cell_type": "markdown",
   "metadata": {},
   "source": [
    "#### 7.2.4.1 比熱とエネルギー揺らぎの形式的な関係\n",
    "定義より比熱はエントロピーから得られます。(なんで?)\n",
    "\n",
    "$c_{v}\\equiv T\\frac{\\partial S}{\\partial T}=-T \\frac{\\partial^{2}F}{\\partial T^{2}}$\n",
    "\n",
    "比熱と$\\sigma_{E}^{2}$との関係はFの温度の2階微分をとると、以下のようになることがわかります。\n",
    "\n",
    "$c_{v}=$\n",
    "\n",
    "導出できない...後でやり直す\n",
    "\n",
    "ところで、下添字vは一定体積を意味するので$c_{v}$は一定体積の(ヘルムホルツの)自由エネルギーFから導かれます。しかし、熱力学的な関係$c\\equiv T \\partial S/ \\partial T$は別の条件でも適用できます。"
   ]
  },
  {
   "cell_type": "markdown",
   "metadata": {},
   "source": [
    "## 7.3 理想気体を大好きになる\n",
    "理想気体の定義は、相互作用しない粒子からなる気体です。これを実現するもっとも簡単な方法は、ポテンシャルエネルギー関数をあらゆる配置においてゼロ、つまり$U(r^{N})=0$にすることです。理想気体の分配関数は式5.22で計算したとおり、次式で表されます。\n",
    "\n",
    "$Z^{\\rm{idl}}=\\frac{1}{N!} V^{-N}[\\frac{1}{\\lambda(T)}]^{3N}$\n",
    "\n",
    "ここで、$\\lambda (T) = h / \\sqrt{2\\pi m k_{B}T}=V_{0}^{1/3}(T_{0}/T)^{1/2}$、つまり$\\lambda (T) \\propto 1/\\sqrt{T}$です。記号$V_{0}$と$T_{0}$は後で見るように、その大きさのみに関わる定数です。熱力学的な変数を陽に書くと、\n",
    "\n",
    "$Z^{\\rm{idl}}(T,V)=\\frac{1}{N!}(\\frac{V}{V_{0}}^{N})(\\frac{T}{T_{0}})^{3N/2}$\n",
    "\n",
    "理想気体の平均エネルギーは、3章でみたように各自由度あたりの平均エネルギーが$k_{B}T/2$でポテンシャルエネルギーが0だから、\n",
    "\n",
    "$\\langle E \\rangle^{\\rm idl} = \\langle KE \\rangle = (\\frac{3}{2}) Nk_{B}T$\n",
    "\n"
   ]
  },
  {
   "cell_type": "markdown",
   "metadata": {},
   "source": [
    "### 7.3.1 理想気体の自由エネルギーとエントロピー\n",
    "Fの定義とスターリングの近似$\\ln N! \\simeq N\\ln N - N$を使うと自由エネルギーは\n",
    "\n",
    "$F^{\\rm{idl}} = - k_{B}T \\ln Z = - k_{B}T [-N \\ln N + N + N \\ln \\frac{V}{V_{0}} + \\frac{3N}{2} \\ln \\frac{T}{T_{0}} ]$\n",
    "\n",
    "となります。ここで「熱力学的極限」（N→∞)ではスターリングの近似は本質的に厳密になることに注意してください。\n",
    "\n",
    "エントロピーは単純に微分から得られます。\n",
    "\n",
    "$S^{\\rm{idl}}=-\\frac{\\partial F^{\\rm{idl}}}{\\partial T} = N k_{B} [\\ln \\frac{V}{NV_{0}}+\\frac{5}{2}+ \\frac{3}{2}\\ln \\frac{T}{T_0}]$"
   ]
  },
  {
   "cell_type": "markdown",
   "metadata": {
    "collapsed": true
   },
   "source": [
    "### 7.3.2 理想気体の状態方程式\n",
    "状態方程式とは、熱力学変数の間の関係です。理想気体に対する状態方程式は$PV=nRT$です。ここでPは圧力、nはモル数、Rは気体定数です。$nR=Nk_{B}$であることに気づくと、もっと統計的なものに変えることができます。\n",
    "\n",
    "$PV=Nk_{B}T$\n",
    "\n",
    "この式をざっくりしたやりかた（不正確にはなる）で導いてみましょう。たとえば、x方向では$\\langle mv^{2}/2 \\rangle=k_{B}T/2$が成り立ちます。体積L^3の中に閉じ込められている1個の粒子がx方向に平均の速さ$\\langle v \\rangle = \\sqrt{k_{B}T/m}$で動いていることを考えましょう。この粒子はふたつの壁の間を行ったり来たりしますが、それぞれの壁と$2L/\\langle v \\rangle$の時間間隔で衝突を起こします。それぞれの衝突で、運動量は$2m \\langle v \\rangle$だけ変化し、それが力積として壁に伝わります。よって、任意の壁に単位時間あたりに移動する運動量は、$2m\\langle v \\rangle /t=m\\langle v \\rangle^{2} /L=k_{B}T/L$となります。これが平均の力です。それぞれの壁の面積は$L^{2}$であるので、ひとつの粒子から受ける単位面積あたりの平均の力は$k_{B}T/L^{3}=k_{B}T/V$となります。よって、N個の粒子から全体の圧力は$P=Nk_{B}T/V$となります。これで導出できました。"
   ]
  },
  {
   "cell_type": "markdown",
   "metadata": {},
   "source": [
    "## 7.4 退屈だが真：第一法則はエネルギーの保存則を表す\n",
    "熱力学の第一法則は非常に簡単です：エネルギーは保存される。\n",
    "\n",
    "ここでは理想気体に対して、なされた仕事が熱になることを示します。\n",
    "\n",
    "Qを環境から系に注入する熱、Wを系が環境になす仕事とします。エネルギー保存則を式で書くと、\n",
    "\n",
    "$Q=\\Delta \\langle E \\rangle + W$\n",
    "\n",
    "となります。"
   ]
  },
  {
   "cell_type": "markdown",
   "metadata": {},
   "source": [
    "### 7.4.1 第一法則を理想気体に適用する：一定体積で温度をあげる\n"
   ]
  }
 ],
 "metadata": {
  "kernelspec": {
   "display_name": "Python 3",
   "language": "python",
   "name": "python3"
  },
  "language_info": {
   "codemirror_mode": {
    "name": "ipython",
    "version": 3
   },
   "file_extension": ".py",
   "mimetype": "text/x-python",
   "name": "python",
   "nbconvert_exporter": "python",
   "pygments_lexer": "ipython3",
   "version": "3.5.1"
  },
  "nav_menu": {},
  "toc": {
   "navigate_menu": true,
   "number_sections": false,
   "sideBar": false,
   "threshold": 6,
   "toc_cell": true,
   "toc_section_display": "block",
   "toc_window_display": true
  }
 },
 "nbformat": 4,
 "nbformat_minor": 0
}
