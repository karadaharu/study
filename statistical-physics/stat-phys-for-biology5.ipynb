{
 "cells": [
  {
   "cell_type": "markdown",
   "metadata": {
    "toc": "true"
   },
   "source": [
    "# Table of Contents\n",
    " <p><div class=\"lev1\"><a href=\"#分子は相関している！多次元の統計力学\"><span class=\"toc-item-num\">1&nbsp;&nbsp;</span>分子は相関している！多次元の統計力学</a></div><div class=\"lev2\"><a href=\"#5.1-はじめに\"><span class=\"toc-item-num\">1.1&nbsp;&nbsp;</span>5.1 はじめに</a></div><div class=\"lev3\"><a href=\"#5.1.1-１つの分子の中の多原子か、多くの分子の中の多原子か\"><span class=\"toc-item-num\">1.1.1&nbsp;&nbsp;</span>5.1.1 １つの分子の中の多原子か、多くの分子の中の多原子か</a></div><div class=\"lev3\"><a href=\"#5.1.2-熱力学にむけて\"><span class=\"toc-item-num\">1.1.2&nbsp;&nbsp;</span>5.1.2 熱力学にむけて</a></div><div class=\"lev3\"><a href=\"#5.1.3-シミュレーションの理解にむけて\"><span class=\"toc-item-num\">1.1.3&nbsp;&nbsp;</span>5.1.3 シミュレーションの理解にむけて</a></div><div class=\"lev2\"><a href=\"#5.2-3次元以上のための準備\"><span class=\"toc-item-num\">1.2&nbsp;&nbsp;</span>5.2 3次元以上のための準備</a></div><div class=\"lev3\"><a href=\"#5.2.1-2次元における1個の原子\"><span class=\"toc-item-num\">1.2.1&nbsp;&nbsp;</span>5.2.1 2次元における1個の原子</a></div><div class=\"lev3\"><a href=\"#5.2.2-2次元での2つの理想的な（相互作用しない）「原子」\"><span class=\"toc-item-num\">1.2.2&nbsp;&nbsp;</span>5.2.2 2次元での2つの理想的な（相互作用しない）「原子」</a></div>"
   ]
  },
  {
   "cell_type": "markdown",
   "metadata": {},
   "source": [
    "# 分子は相関している！多次元の統計力学"
   ]
  },
  {
   "cell_type": "markdown",
   "metadata": {},
   "source": [
    "## 5.1 はじめに\n",
    "多次元に拡張したときでも、１次元で考えたことの多くは適切なままです。"
   ]
  },
  {
   "cell_type": "markdown",
   "metadata": {},
   "source": [
    "### 5.1.1 １つの分子の中の多原子か、多くの分子の中の多原子か\n",
    "現実の系の分配関数を「解く」ことは不可能ですが、多次元の統計力学を理解することは決定的に重要です。"
   ]
  },
  {
   "cell_type": "markdown",
   "metadata": {},
   "source": [
    "### 5.1.2 熱力学にむけて\n",
    "なるべく苦痛なく熱力学を理解する方法は、統計力学的に理解することです。"
   ]
  },
  {
   "cell_type": "markdown",
   "metadata": {},
   "source": [
    "### 5.1.3 シミュレーションの理解にむけて\n",
    "シミュレーションでは数百万の自由度をもつ系を扱います。そういった大きな自由度をもつ系を理解する鍵が、平均力ポテンシャル（PMF)です。PMFは確率論における周辺化を使えば容易に理解できます。"
   ]
  },
  {
   "cell_type": "markdown",
   "metadata": {},
   "source": [
    "## 5.2 3次元以上のための準備\n",
    "2次元における原子A，Bの系を考えます。この系は、8つの自由度（座標ベクトル、速度ベクトルx2)があるので、8次元の総空間を考えることになります。"
   ]
  },
  {
   "cell_type": "markdown",
   "metadata": {},
   "source": [
    "### 5.2.1 2次元における1個の原子\n",
    "分配関数は確率密度を規格化するものでえす。また、自由エネルギーは分配関数の対数です。よって、分配関数がスタート地点となります。\n",
    "\n",
    "1個の原子の質量をmとし、それが2次元の正方形（長さL)の箱のなかを自由に（U=0)動きまわるものとしましょう。分配関数は、次の式で表されます。\n",
    "\n",
    "$Z=\\frac{1}{h^{2}}\\int^{\\infty}_{-\\infty}dp_{x}\\int^{\\infty}_{-\\infty}dp_{y}\\int^{L}_{L}dx\\int^{L}_{L}dy \\exp\\{-[p_{x}^{2}/2m+p_{y}^{2}/2m+U(x,y)]/k_{B}T\\}$\n",
    "\n",
    "ここでプランク定数の因子$h^{-2}$は3章であったように量子力学への古典近似として現れ、Zは無次元の量になります。\n",
    "\n",
    "上式では速度の積分は分離できて、\n",
    "\n",
    "$Z=(\\frac{1}{h}\\int^{\\infty}_{-\\infty}dp_{x}e^{-[p^{2}_{x}/2m]/k_{B}T})(\\frac{1}{h}\\int^{\\infty}_{-\\infty}dp_{y}e^{-[p^{2}_{y}/2m]/k_{B}T})\\\\\n",
    "\\times \\int^{L}_{0}dx\\int^{L}_{0}dye^{-U(x,y)/k_{B}T}\\\\\n",
    "=\\frac{1}{\\lambda^{2}}\\int^{L}_{0}dx\\int^{L}_{0}dye^{-U(x,y)/k_{B}T}\\\\\n",
    "=(\\frac{L}{\\lambda})^{2}$\n",
    "\n",
    "となります。最後の等式を導くのに、U=0としました。これは、原子に対して力を及ぼす外「場」がないのと透過です。\n",
    "\n",
    "式$Z=(L/\\lambda)^{2}$は自明のように見えますが、何か物理的意味はあるのでしょうか？実はここにはエントロピーが絡んでいます。3章から、\n",
    "\n",
    "$S=\\frac{\\langle E\\rangle-F}{T}\\\\\n",
    "=\\frac{\\langle U \\rangle + \\langle KE \\rangle - F}{T}\\\\\n",
    "=\\frac{0 + k_{B}T - k_{B}T \\ln Z}{T}\\\\\n",
    "=k_{B}(1+\\ln Z)$\n",
    "\n",
    "さらに先ほどの結果を代入して\n",
    "\n",
    "$S=k_{B}[1+\\ln (\\frac{L}{\\lambda})^{2}] \\simeq k_{B} \\ln (\\frac{L}{\\lambda})^{2}$\n",
    "\n",
    "となることを意味します。ここで、$\\lambda$は量子力学的な小さな長さなので$L >> \\lambda$となることをつかいました。上式が示すのは、エントロピーが、利用可能な配置体積の単なる対数であることであり、2次元の場合は面積（の対数）となります。1次元の場合と同じ基本的なルールが二次元の場合でも成り立つのです。（3章式3.24と同じ形になっています）"
   ]
  },
  {
   "cell_type": "markdown",
   "metadata": {
    "collapsed": true
   },
   "source": [
    "### 5.2.2 2次元での2つの理想的な（相互作用しない）「原子」\n",
    "相互しない2つの原子について考えます。言い換えると、すべての配置に対して$U=0$ということです。ふたつの理想粒子の分配関数は次のように評価できます。\n",
    "\n",
    "$Z=(\\frac{1}{h}\\int^{\\infty}_{-\\infty}dp_{x}^{A}e^{-[(p_{x}^{A})2m_{A}]/k_{B}T})(\\frac{1}{h}\\int^{\\infty}_{-\\infty}dp_{y}^{A}e^{-[(p_{y}^{A})2m_{A}]/k_{B}T})\\\\\n",
    "\\times (\\frac{1}{h}\\int^{\\infty}_{-\\infty}dp_{x}^{B}e^{-[(p_{x}^{B})2m_{B}]/k_{B}T})(\\frac{1}{h}\\int^{\\infty}_{-\\infty}dp_{y}^{B}e^{-[(p_{y}^{B})2m_{B}]/k_{B}T})\\\\\n",
    "\\times \\int^{L}_{0}dx^{A}\\int^{L}_{0}dy^{A}\\int^{L}_{0}dx^{B}\\int^{L}_{0}dy^{B} \\exp[-U(x^{A}, y^{A}, x^{B}, y^{B})/k_{B}T]\\\\\n",
    "=\\frac{L^{4}}{\\lambda_{A}^{2}\\lambda_{B}^{2}}$"
   ]
  }
 ],
 "metadata": {
  "kernelspec": {
   "display_name": "Python 3",
   "language": "python",
   "name": "python3"
  },
  "language_info": {
   "codemirror_mode": {
    "name": "ipython",
    "version": 3
   },
   "file_extension": ".py",
   "mimetype": "text/x-python",
   "name": "python",
   "nbconvert_exporter": "python",
   "pygments_lexer": "ipython3",
   "version": "3.5.1"
  },
  "nav_menu": {},
  "toc": {
   "navigate_menu": true,
   "number_sections": false,
   "sideBar": false,
   "threshold": 6,
   "toc_cell": true,
   "toc_section_display": "none",
   "toc_window_display": false
  },
  "toc_position": {
   "height": "47px",
   "left": "991.141px",
   "right": "20px",
   "top": "121px",
   "width": "268px"
  }
 },
 "nbformat": 4,
 "nbformat_minor": 0
}
