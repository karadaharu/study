{
 "cells": [
  {
   "cell_type": "markdown",
   "metadata": {
    "toc": "true"
   },
   "source": [
    "# Table of Contents\n",
    " <p><div class=\"lev1\"><a href=\"#分子は相関している！多次元の統計力学\"><span class=\"toc-item-num\">1&nbsp;&nbsp;</span>分子は相関している！多次元の統計力学</a></div><div class=\"lev2\"><a href=\"#5.1-はじめに\"><span class=\"toc-item-num\">1.1&nbsp;&nbsp;</span>5.1 はじめに</a></div><div class=\"lev3\"><a href=\"#5.1.1-１つの分子の中の多原子か、多くの分子の中の多原子か\"><span class=\"toc-item-num\">1.1.1&nbsp;&nbsp;</span>5.1.1 １つの分子の中の多原子か、多くの分子の中の多原子か</a></div><div class=\"lev3\"><a href=\"#5.1.2-熱力学にむけて\"><span class=\"toc-item-num\">1.1.2&nbsp;&nbsp;</span>5.1.2 熱力学にむけて</a></div><div class=\"lev3\"><a href=\"#5.1.3-シミュレーションの理解にむけて\"><span class=\"toc-item-num\">1.1.3&nbsp;&nbsp;</span>5.1.3 シミュレーションの理解にむけて</a></div><div class=\"lev2\"><a href=\"#5.2-3次元以上のための準備\"><span class=\"toc-item-num\">1.2&nbsp;&nbsp;</span>5.2 3次元以上のための準備</a></div><div class=\"lev3\"><a href=\"#5.2.1-2次元における1個の原子\"><span class=\"toc-item-num\">1.2.1&nbsp;&nbsp;</span>5.2.1 2次元における1個の原子</a></div><div class=\"lev3\"><a href=\"#5.2.2-2次元での2つの理想的な（相互作用しない）「原子」\"><span class=\"toc-item-num\">1.2.2&nbsp;&nbsp;</span>5.2.2 2次元での2つの理想的な（相互作用しない）「原子」</a></div><div class=\"lev3\"><a href=\"#5.2.3-2次元での2原子「分子」\"><span class=\"toc-item-num\">1.2.3&nbsp;&nbsp;</span>5.2.3 2次元での2原子「分子」</a></div><div class=\"lev4\"><a href=\"#5.2.3.1-内部座標が他受けにきた！\"><span class=\"toc-item-num\">1.2.3.1&nbsp;&nbsp;</span>5.2.3.1 内部座標が他受けにきた！</a></div><div class=\"lev4\"><a href=\"#5.2.3.2-並進エントロピーの損失\"><span class=\"toc-item-num\">1.2.3.2&nbsp;&nbsp;</span>5.2.3.2 並進エントロピーの損失</a></div><div class=\"lev3\"><a href=\"#5.2.4-２次元で学ぶレッスン\"><span class=\"toc-item-num\">1.2.4&nbsp;&nbsp;</span>5.2.4 ２次元で学ぶレッスン</a></div><div class=\"lev2\"><a href=\"#5.3-座標と力場\"><span class=\"toc-item-num\">1.3&nbsp;&nbsp;</span>5.3 座標と力場</a></div><div class=\"lev3\"><a href=\"#5.3.1-デカルト座標\"><span class=\"toc-item-num\">1.3.1&nbsp;&nbsp;</span>5.3.1 デカルト座標</a></div><div class=\"lev3\"><a href=\"#5.3.2-内部座標\"><span class=\"toc-item-num\">1.3.2&nbsp;&nbsp;</span>5.3.2 内部座標</a></div><div class=\"lev3\"><a href=\"#5.3.3-力場とは、ただのポテンシャル・エネルギー関数である\"><span class=\"toc-item-num\">1.3.3&nbsp;&nbsp;</span>5.3.3 力場とは、ただのポテンシャル・エネルギー関数である</a></div><div class=\"lev4\"><a href=\"#5.3.3.1-水をモデル化する\"><span class=\"toc-item-num\">1.3.3.1&nbsp;&nbsp;</span>5.3.3.1 水をモデル化する</a></div><div class=\"lev4\"><a href=\"#5.3.3.2-どこが量子力学？\"><span class=\"toc-item-num\">1.3.3.2&nbsp;&nbsp;</span>5.3.3.2 どこが量子力学？</a></div><div class=\"lev3\"><a href=\"#5.3.4-内部座標のためのヤコビアン因子\"><span class=\"toc-item-num\">1.3.4&nbsp;&nbsp;</span>5.3.4 内部座標のためのヤコビアン因子</a></div><div class=\"lev2\"><a href=\"#5.4-1個の分子の分配関数\"><span class=\"toc-item-num\">1.4&nbsp;&nbsp;</span>5.4 1個の分子の分配関数</a></div><div class=\"lev3\"><a href=\"#5.4.1-厳密な計算をするには3つの原子でも多すぎる\"><span class=\"toc-item-num\">1.4.1&nbsp;&nbsp;</span>5.4.1 厳密な計算をするには3つの原子でも多すぎる</a></div><div class=\"lev3\"><a href=\"#5.4.2-一般的な単分子の分配関数\"><span class=\"toc-item-num\">1.4.2&nbsp;&nbsp;</span>5.4.2 一般的な単分子の分配関数</a></div><div class=\"lev3\"><a href=\"#5.4.3-確率論と相関に戻る\"><span class=\"toc-item-num\">1.4.3&nbsp;&nbsp;</span>5.4.3 確率論と相関に戻る</a></div><div class=\"lev4\"><a href=\"#5.4.3.1-相関はエネルギーの交差項に由来する\"><span class=\"toc-item-num\">1.4.3.1&nbsp;&nbsp;</span>5.4.3.1 相関はエネルギーの交差項に由来する</a></div><div class=\"lev3\"><a href=\"#5.4.4-技術的な余談：縮退数\"><span class=\"toc-item-num\">1.4.4&nbsp;&nbsp;</span>5.4.4 技術的な余談：縮退数</a></div><div class=\"lev4\"><a href=\"#5.4.4.1-縮退数と対称数\"><span class=\"toc-item-num\">1.4.4.1&nbsp;&nbsp;</span>5.4.4.1 縮退数と対称数</a></div><div class=\"lev3\"><a href=\"#5.4.5-格子モデルは厳密に解ける場合がある\"><span class=\"toc-item-num\">1.4.5&nbsp;&nbsp;</span>5.4.5 格子モデルは厳密に解ける場合がある</a></div><div class=\"lev2\"><a href=\"#5.5-多分子系\"><span class=\"toc-item-num\">1.5&nbsp;&nbsp;</span>5.5 多分子系</a></div><div class=\"lev3\"><a href=\"#5.5.1-同一分子の系に対する分配関数\"><span class=\"toc-item-num\">1.5.1&nbsp;&nbsp;</span>5.5.1 同一分子の系に対する分配関数</a></div><div class=\"lev3\"><a href=\"#5.5.2-理想形-定義から無相関\"><span class=\"toc-item-num\">1.5.2&nbsp;&nbsp;</span>5.5.2 理想形-定義から無相関</a></div><div class=\"lev3\"><a href=\"#5.5.3-非理想系\"><span class=\"toc-item-num\">1.5.3&nbsp;&nbsp;</span>5.5.3 非理想系</a></div><div class=\"lev4\"><a href=\"#5.5.3.1-溶媒中の溶質\"><span class=\"toc-item-num\">1.5.3.1&nbsp;&nbsp;</span>5.5.3.1 溶媒中の溶質</a></div><div class=\"lev4\"><a href=\"#5.5.3.2-結合について先取りする：溶媒中のレセプターとリガンド\"><span class=\"toc-item-num\">1.5.3.2&nbsp;&nbsp;</span>5.5.3.2 結合について先取りする：溶媒中のレセプターとリガンド</a></div><div class=\"lev2\"><a href=\"#5.6-自由エネルギーは、やはり確率を与える\"><span class=\"toc-item-num\">1.6&nbsp;&nbsp;</span>5.6 自由エネルギーは、やはり確率を与える</a></div><div class=\"lev3\"><a href=\"#5.6.1-エントロピーは、やはり幅（体積）を表す\"><span class=\"toc-item-num\">1.6.1&nbsp;&nbsp;</span>5.6.1 エントロピーは、やはり幅（体積）を表す</a></div><div class=\"lev3\"><a href=\"#5.6.2-状態を定義する\"><span class=\"toc-item-num\">1.6.2&nbsp;&nbsp;</span>5.6.2 状態を定義する</a></div><div class=\"lev3\"><a href=\"#5.6.3-離散化が意味するのは、やはり、$S\\sim\\sum-p\\ln-p$である\"><span class=\"toc-item-num\">1.6.3&nbsp;&nbsp;</span>5.6.3 離散化が意味するのは、やはり、<span class=\"MathJax_Preview\" style=\"color: inherit;\"><span class=\"MJXc-math\" id=\"MJXc-Span-2446\"><span class=\"MJXc-mi MJXc-italic\" id=\"MJXc-Span-2447\">S</span><span class=\"MJXc-mo\" id=\"MJXc-Span-2448\" style=\"margin-left: 0.333em; margin-right: 0.333em;\">∼</span><span class=\"MJXc-mo\" id=\"MJXc-Span-2449\" style=\"margin-left: 0.111em; margin-right: 0.167em;\">∑</span><span class=\"MJXc-mi MJXc-italic\" id=\"MJXc-Span-2450\">p</span><span class=\"MJXc-mi\" id=\"MJXc-Span-2451\">ln</span><span class=\"MJXc-mo\" id=\"MJXc-Span-2452\" style=\"margin-left: 0em; margin-right: 0em;\"></span><span class=\"MJXc-mi MJXc-italic\" id=\"MJXc-Span-2453\">p</span></span></span><script type=\"math/tex\" id=\"MathJax-Element-74\">S\\sim\\sum p\\ln p</script>である</a></div>"
   ]
  },
  {
   "cell_type": "markdown",
   "metadata": {},
   "source": [
    "# 分子は相関している！多次元の統計力学"
   ]
  },
  {
   "cell_type": "markdown",
   "metadata": {},
   "source": [
    "## 5.1 はじめに\n",
    "多次元に拡張したときでも、１次元で考えたことの多くは適切なままです。"
   ]
  },
  {
   "cell_type": "markdown",
   "metadata": {},
   "source": [
    "### 5.1.1 １つの分子の中の多原子か、多くの分子の中の多原子か\n",
    "現実の系の分配関数を「解く」ことは不可能ですが、多次元の統計力学を理解することは決定的に重要です。"
   ]
  },
  {
   "cell_type": "markdown",
   "metadata": {},
   "source": [
    "### 5.1.2 熱力学にむけて\n",
    "なるべく苦痛なく熱力学を理解する方法は、統計力学的に理解することです。"
   ]
  },
  {
   "cell_type": "markdown",
   "metadata": {},
   "source": [
    "### 5.1.3 シミュレーションの理解にむけて\n",
    "シミュレーションでは数百万の自由度をもつ系を扱います。そういった大きな自由度をもつ系を理解する鍵が、平均力ポテンシャル（PMF)です。PMFは確率論における周辺化を使えば容易に理解できます。"
   ]
  },
  {
   "cell_type": "markdown",
   "metadata": {},
   "source": [
    "## 5.2 3次元以上のための準備\n",
    "2次元における原子A，Bの系を考えます。この系は、8つの自由度（座標ベクトル、速度ベクトルx2)があるので、8次元の総空間を考えることになります。"
   ]
  },
  {
   "cell_type": "markdown",
   "metadata": {},
   "source": [
    "### 5.2.1 2次元における1個の原子\n",
    "分配関数は確率密度を規格化するものでえす。また、自由エネルギーは分配関数の対数です。よって、分配関数がスタート地点となります。\n",
    "\n",
    "1個の原子の質量をmとし、それが2次元の正方形（長さL)の箱のなかを自由に（U=0)動きまわるものとしましょう。分配関数は、次の式で表されます。\n",
    "\n",
    "$Z=\\frac{1}{h^{2}}\\int^{\\infty}_{-\\infty}dp_{x}\\int^{\\infty}_{-\\infty}dp_{y}\\int^{L}_{L}dx\\int^{L}_{L}dy \\exp\\{-[p_{x}^{2}/2m+p_{y}^{2}/2m+U(x,y)]/k_{B}T\\}$\n",
    "\n",
    "ここでプランク定数の因子$h^{-2}$は3章であったように量子力学への古典近似として現れ、Zは無次元の量になります。\n",
    "\n",
    "上式では速度の積分は分離できて、\n",
    "\n",
    "$Z=(\\frac{1}{h}\\int^{\\infty}_{-\\infty}dp_{x}e^{-[p^{2}_{x}/2m]/k_{B}T})(\\frac{1}{h}\\int^{\\infty}_{-\\infty}dp_{y}e^{-[p^{2}_{y}/2m]/k_{B}T})\\\\\n",
    "\\times \\int^{L}_{0}dx\\int^{L}_{0}dye^{-U(x,y)/k_{B}T}\\\\\n",
    "=\\frac{1}{\\lambda^{2}}\\int^{L}_{0}dx\\int^{L}_{0}dye^{-U(x,y)/k_{B}T}\\\\\n",
    "=(\\frac{L}{\\lambda})^{2}$\n",
    "\n",
    "となります。最後の等式を導くのに、U=0としました。これは、原子に対して力を及ぼす外「場」がないのと透過です。\n",
    "\n",
    "式$Z=(L/\\lambda)^{2}$は自明のように見えますが、何か物理的意味はあるのでしょうか？実はここにはエントロピーが絡んでいます。3章から、\n",
    "\n",
    "$S=\\frac{\\langle E\\rangle-F}{T}\\\\\n",
    "=\\frac{\\langle U \\rangle + \\langle KE \\rangle - F}{T}\\\\\n",
    "=\\frac{0 + k_{B}T - k_{B}T \\ln Z}{T}\\\\\n",
    "=k_{B}(1+\\ln Z)$\n",
    "\n",
    "さらに先ほどの結果を代入して\n",
    "\n",
    "$S=k_{B}[1+\\ln (\\frac{L}{\\lambda})^{2}] \\simeq k_{B} \\ln (\\frac{L}{\\lambda})^{2}$\n",
    "\n",
    "となることを意味します。ここで、$\\lambda$は量子力学的な小さな長さなので$L >> \\lambda$となることをつかいました。上式が示すのは、エントロピーが、利用可能な配置体積の単なる対数であることであり、2次元の場合は面積（の対数）となります。1次元の場合と同じ基本的なルールが二次元の場合でも成り立つのです。（3章式3.24と同じ形になっています）"
   ]
  },
  {
   "cell_type": "markdown",
   "metadata": {
    "collapsed": true
   },
   "source": [
    "### 5.2.2 2次元での2つの理想的な（相互作用しない）「原子」\n",
    "相互しない2つの原子について考えます。言い換えると、すべての配置に対して$U=0$ということです。ふたつの理想粒子の分配関数は次のように評価できます。\n",
    "\n",
    "$Z=(\\frac{1}{h}\\int^{\\infty}_{-\\infty}dp_{x}^{A}e^{-[(p_{x}^{A})2m_{A}]/k_{B}T})(\\frac{1}{h}\\int^{\\infty}_{-\\infty}dp_{y}^{A}e^{-[(p_{y}^{A})2m_{A}]/k_{B}T})\\\\\n",
    "\\times (\\frac{1}{h}\\int^{\\infty}_{-\\infty}dp_{x}^{B}e^{-[(p_{x}^{B})2m_{B}]/k_{B}T})(\\frac{1}{h}\\int^{\\infty}_{-\\infty}dp_{y}^{B}e^{-[(p_{y}^{B})2m_{B}]/k_{B}T})\\\\\n",
    "\\times \\int^{L}_{0}dx^{A}\\int^{L}_{0}dy^{A}\\int^{L}_{0}dx^{B}\\int^{L}_{0}dy^{B} \\exp[-U(x^{A}, y^{A}, x^{B}, y^{B})/k_{B}T]\\\\\n",
    "=\\frac{L^{4}}{\\lambda_{A}^{2}\\lambda_{B}^{2}}$"
   ]
  },
  {
   "cell_type": "markdown",
   "metadata": {},
   "source": [
    "### 5.2.3 2次元での2原子「分子」\n",
    "2次元のバネでつながれたボールについて調べます。質量$m_{A}$、$m_{B}$の原子がバネ定数kの理想的なバネでつながっており、あらゆる配置のエネルギーは$U=k(r-r_0)^{2}/2$です。ここでrは原子間距離、$r_0$は平衡時のバネ長です。分配関数は、\n",
    "\n",
    "$Z=\\frac{1}{\\lambda_{A}^{2}\\lambda_{B}^{2}}\\int^{L}_{0}dx^{A}\\int^{L}_{0}dy^{A}\\int^{L}_{0}dx^{B}\\int^{L}_{0}dy^{B}e^{-U(r)/k_{B}T}$\n",
    "\n",
    "となります。この表現で難しいのはxとyの積分をどう行うか明らかではないというところです。\n",
    "\n",
    "#### 5.2.3.1 内部座標が他受けにきた！\n",
    "このためには、座標変換をする必要があります。\n",
    "\n",
    "$\\int\\int\\int\\int dx^{A}dy^{A}dx^{B}dy^{B}=\\int\\int\\int\\int dx^{A}dy^{A}rdrd\\phi$\n",
    "\n",
    "これは微小面積が$dS=dxdy=rdrd\\theta+\\frac{1}{2}(dr)^{2}d\\theta$であることからちゃんと計算しなくても分かります。\n",
    "\n",
    "座標変換を用いて分配関数を計算すると、\n",
    "\n",
    "$Z=\\frac{1}{\\lambda_{A}^{2}\\lambda_{B}^{2}}\\int^{L}_{0}dx^{A}\\int^{L}_{0}dy^{A}\\int^{r_{\\max}}_{0}rdr \\int^{2\\pi}_{0}d\\phi e^{-U(r)/k_{B}T}\\\\\n",
    "\\simeq \\frac{2\\pi}{\\lambda_{A}^{2}\\lambda_{B}^{2}} \\int^{L}_{0}dx^{A} \\int^{L}_{0}dy^{A}\\int^{r_{\\max}}_{0}dr r\\exp[-k(r-r_{0})^{2}/2k_{B}T]\\\\\n",
    "\\simeq \\frac{2\\pi L^{2}}{\\lambda_{A}^{2}\\lambda_{B}^{2}} \\int^{\\infty}_{0}dr r\\exp[-k(r-r_{0})^{2}/2k_{B}T]\\\\\n",
    " \\simeq \\frac{2\\pi L^{2}}{\\lambda_{A}^{2}\\lambda_{B}^{2}} r_{0}\\int^{\\infty}_{-\\infty}dr \\exp[-k(r-r_{0})^{2}/2k_{B}T]\\\\\n",
    " \\frac{2\\pi L^{2}}{\\lambda_{A}^{2}\\lambda_{B}^{2}} r_{0} \\sqrt{2\\pi} \\sqrt{\\frac{k_{B}T}{k}} \\propto T^{5/2}$\n",
    "\n",
    "2行目ではすべてのΦの値が等価であると仮定しましたが、これは箱の縁付近では厳密には正しくありませんが、箱が十分に大きいとすれば無視できます。  \n",
    "3行目では、$r_{\\max}=\\infty$とおきました。これは正しいのでしょうか？一見、Lを上限にしたほうがいいように思えます。しかし、そうすると、原子Aが箱の壁に近いときはどうしたらいいのでしょうか？ここで、バネが固いこと、分子の平行サイズが小さいことを使うと、積分に寄与するのは$r_{0}$の周りの小さな領域だけなので、積分範囲を無限までおいても問題がなくなります。  \n",
    "4行目では同様の考察から、下限を$-\\infty$に、そして積分の中の線形の因子rを$r_{0}$として外に出しても誤差は小さいとしました。\n",
    "\n",
    "なんで$T^{5/2}$に比例するの？"
   ]
  },
  {
   "cell_type": "markdown",
   "metadata": {},
   "source": [
    "#### 5.2.3.2 並進エントロピーの損失\n",
    "\n",
    "２原子分子の分配関数のもっとも重要な物理的意味合いは、相互作用しない原子と違って、エントロピーが失われるということです。平均エネルギーは$\\langle U \\rangle = k_{B}T$となることから、$\\langle E \\rangle = \\langle U \\langle + \\langle KE \\langle = 2k_{B}T$となり、一方で、$L\\gg \\lambda$なので、$F=-k_{B}T\\ln Z \\gg 2k_{B} T $\n",
    "となることが予想されます。よって次のように近似されます。\n",
    "\n",
    "$S \\simeq k_{B} \\ln Z \\simeq k_{B} [\\ln (\\frac{L}{\\lambda_{A}})^{2} + \\ln (\\frac{r_{0}\\sqrt{k_{B}T/k}}{\\lambda_{B}^{2}})]\\simeq k_{B} \\ln (\\frac{L}{\\lambda_{A}})^{2}$\n",
    "\n",
    "上式は、１原子のエントロピーより若干大きい程度であり、ふたつの相互作用しない原子と比べるとかなり小さいです。これは、ふたつの原子が結びつけられているので、１原子が利用可能な配置空間を探索するだけにすぎないからです。\n"
   ]
  },
  {
   "cell_type": "markdown",
   "metadata": {},
   "source": [
    "### 5.2.4 ２次元で学ぶレッスン\n",
    "２次元の計算によって４つのことが分かりました。これらはもっと進んだ計算の非常によいモデルになっていることが後で分かります。\n",
    "\n",
    "1. 相互作用しない系は簡単\n",
    "2. 内部座標は分子の配置を記述するのに理にかなっている\n",
    "3. 分子の計算にはヤコビアン因子などのトリックが必要\n",
    "4. ２原子分子で生じた並進エントロピーの損失はタンパク質とリガンドの結合で起こることを定性的に示している"
   ]
  },
  {
   "cell_type": "markdown",
   "metadata": {},
   "source": [
    "## 5.3 座標と力場\n",
    "### 5.3.1 デカルト座標\n",
    "デカルト座標でのN点の座標全体を$r^{N}$と表記します。"
   ]
  },
  {
   "cell_type": "markdown",
   "metadata": {
    "collapsed": true
   },
   "source": [
    "### 5.3.2 内部座標\n",
    "内部座標の数はデカルト座標より常に小さいです。内部の記述には、分子の絶対的な位置や方向が含まれないためです。　　\n",
    "3次元における分子の場合、内部座標は常に6つだけ自由度が少ないです。分子間の相対的な位置だけを扱い、中心の座標の位置（3次元)、回転(3次元)は考えないからです。"
   ]
  },
  {
   "cell_type": "markdown",
   "metadata": {},
   "source": [
    "### 5.3.3 力場とは、ただのポテンシャル・エネルギー関数である\n",
    "分子力学を使った計算で使われる、典型的なポテンシャルエネルギー関数は、「力場」と呼ばれており、$U(r^N)$と同じ意味です。計算に使われる力場は、必ずしも最も正確なものではありません。\n",
    "生体分子の計算で典型的に使われる力場には、共有結合で結ばれた原子間の相互作用に組み込まれている「ボンド」の項と、ファンデルワールス項と静電相互作用項という「非ボンド」の項両方が含まれています。\n",
    "\n",
    "#### 5.3.3.1 水をモデル化する\n",
    "よく使われるモデルでは、固定した3つの点電荷が1つのファンデルワールス球の中に埋め込まれていると考えます。この場合、「原子」はお互いに動けないので、非ボンドの項はありません。べつのモデルでは、4つの相互作用する中心（2つの水素原子と2つの孤立電子対)があります。\n",
    "\n",
    "#### 5.3.3.2 どこが量子力学？\n",
    "量子力学では、電荷が配置とともに変わると考えます。"
   ]
  },
  {
   "cell_type": "markdown",
   "metadata": {},
   "source": [
    "### 5.3.4 内部座標のためのヤコビアン因子\n",
    "内部座標系に変換して積分するには次の式を満たすヤコビアン因子を求める必要があります。一般的に成り立つヤコビアン因子はどのような形でしょうか。\n",
    "\n",
    "$\\int dx_{1}dy_{1}dz_{1}\\cdots dx_{N}dy_{N}dz_{N}f(r^{N})\\\\\n",
    "=\\int dx_{1}dy_{1}dz_{1} d\\theta_{0} d\\phi_{-1}d\\phi_{0} J_{0}(\\theta_{0})\\\\\n",
    "\\times \\int dr_{1}\\cdots dr_{N-1} d\\theta_{1} \\cdots d\\theta_{N-2} d\\phi_{1} \\cdots d\\phi_{N-3} f(r^{N})\\\\\n",
    "\\times J(r_{1}\\cdots r_{N-1} \\theta_{1} \\cdots \\theta_{N-2} \\phi_{1} \\cdots \\phi_{N-3})$\n",
    "\n",
    "2行目（右辺の1行目)は、内部座標系全体の並進、回転を表しており、残りが内部座標系についての積分です。関数Jは基本的に微小体積dVを極座標で表すことで得られるので、\n",
    "\n",
    "$J=\\Pi^{N-1}_{i=1}r^{2}_{i}\\Pi^{N-2}_{j=1}\\sin \\theta_{j}, J_{0} = \\sin \\theta_{0}$\n",
    "\n",
    "ここで$J_{0}$が必要な理由は...？"
   ]
  },
  {
   "cell_type": "markdown",
   "metadata": {},
   "source": [
    "## 5.4 1個の分子の分配関数\n",
    "相互作用する3個以上の原子の系を数学的に扱うのは難しいです。なぜなら、2つの点を固定して、距離のひとつを変えると他の距離も変わってしまうからです。\n",
    "\n",
    "一般に、相互作用する3個以上の粒子に依存している分配関数は正確には計算できません。数学的には、多次元の積分を簡単な1次元の積分に因子化できないことと関係しています。"
   ]
  },
  {
   "cell_type": "markdown",
   "metadata": {},
   "source": [
    "### 5.4.1 厳密な計算をするには3つの原子でも多すぎる\n",
    "ファンデルワールス力のみで相互作用するアルゴンのような原子が3つある系について考えます。相互作用は、レナード・ジョーンズ・ポテンシャルでモデル化します。\n",
    "\n",
    "$u^{LJ}(r;\\epsilon, \\sigma)=4\\epsilon [(\\frac{\\sigma}{r})^{12}-(\\frac{\\sigma}{r})^{6}]$\n",
    "\n",
    "ここで、rは原子間距離、εとσはパラメーターです。このポテンシャルは3.2.4で扱いました。ある距離でポテンシャルが最小となるような分布をもちます。\n",
    "\n",
    "すでに運動量の積分をおこなった分配関数を考えましょう。\n",
    "\n",
    "$Z=\\frac{1}{\\lambda_{1}^{3}\\lambda_{2}^{3}\\lambda_{3}^{3}}\\int_{V}dr^{1}\\int_{V}dr^{2}\\int_{V}dr^{3} \\exp\\{\\frac{-[u^{LJ}(r_{12})+u^{LJ}(r_{23})+u^{LJ}(r_{31})]}{k_{B}T}\\}$\n",
    "\n",
    "この積分を正確に行うことはできません。2点を固定する方法があっても、3つめの原子を移動させると、ふたつの距離が変わってしまうからです。"
   ]
  },
  {
   "cell_type": "markdown",
   "metadata": {},
   "source": [
    "### 5.4.2 一般的な単分子の分配関数\n",
    "N個の原子からなる分子の分配関数について考えてみましょう。分配関数は、同じ種類の原子を区別できるかどうかによって違ってきます。このため、分配関数には全体の前因子${\\cal N}_{D}^{-1}$がかかります。ここで${\\cal N}_{D}^{-1}$は重複の因子もしくは「縮退の数」であり、後ほど説明します。分配関数にかかっている定数は、相対確率には影響を与えないので、ここでは無視しておいても構いません。分配関数は、\n",
    "\n",
    "$Z\\equiv \\frac{1}{\\cal N_{D}}[\\Pi^{N}_{i=1}\\lambda_{i}^{-3}]\\int dx_{1}dy_{1}dz_{1} \\cdots dx_{N}dy_{N}dz_{N} e^{-U(r^{N})/k_{B}T}$\n",
    "\n",
    "で、どんなUであっても、これは一般的に正しい分配関数です。"
   ]
  },
  {
   "cell_type": "markdown",
   "metadata": {
    "collapsed": true
   },
   "source": [
    "### 5.4.3 確率論と相関に戻る\n",
    "上記の分配関数は何度も言うとおり、相対的な確率を与えます。\n",
    "\n",
    "#### 5.4.3.1 相関はエネルギーの交差項に由来する\n",
    "2原子間のどんな種類の相互作用も相関を生み出します。ポテンシャルエネルギーが原子間距離に依存している限り、積分を因子化することができまん。これが相関です。"
   ]
  },
  {
   "cell_type": "markdown",
   "metadata": {},
   "source": [
    "### 5.4.4 技術的な余談：縮退数\n",
    "5.4.2での分配関数は、それぞれの原子に番号がふってあり、すべての原子の座標についての積分になっています。しかし、物理的には、それでは重複して計算されてしまいます。H20分子について考えてみましょう。ふたつの水素原子のラベルを交換してもまったく同じになります。つまり、この積分は物理的に区別のつく配置を正確に2重に数えています。したがって、水分子には縮退数${\\cal N}_{D}=2$が割り当てられます。\n",
    "\n",
    "この縮退/冗長性のテストでポイントなのは、問題となる不変性は配置の見え方ではなく、ポテンシャル・エネルギー関数においてであるということです。例えば、エタン（CH3-CH3)を考えてみましょう。このエタンの別の炭素についている水素のラベルをいれかえても、見た目では区別はつきません。しかし、ポテンシャルエネルギーは変わります。よって、そのような交換は物理的に異なる配置を生むので、縮退のテストには合格しません。\n",
    "\n",
    "#### 5.4.4.1 縮退数と対称数\n",
    "化学で考えている対称数は、回転に対してのみ定義されています。複雑な分子においては回転対称性は存在しません。回転に基づく因子は、単純な分子を考えるときにしか使えません。"
   ]
  },
  {
   "cell_type": "markdown",
   "metadata": {},
   "source": [
    "### 5.4.5 格子モデルは厳密に解ける場合がある\n",
    "格子モデルは、分配関数に入っている積分が和に変形されるので、小さな系なら簡単に解けます。\n"
   ]
  },
  {
   "cell_type": "markdown",
   "metadata": {},
   "source": [
    "## 5.5 多分子系\n",
    "生体分子においては孤立した分子ではなく、多分子系に興味があります。以下では多分子系においてどのように縮退数が取り扱われるかを見ます。"
   ]
  },
  {
   "cell_type": "markdown",
   "metadata": {},
   "source": [
    "### 5.5.1 同一分子の系に対する分配関数\n",
    "N個の同種分子を扱うとき、分子のラベルを厳密にN!個のやりかたで入れ替えることができます。１つの分子が自明でない縮退数$\\cal N_{D}^{\\rm{mol}}$をもつとき、全体の縮退数は${\\cal N}_{D}=N!({\\cal N}_{D}^{\\rm mol})^{N}$となります。"
   ]
  },
  {
   "cell_type": "markdown",
   "metadata": {},
   "source": [
    "### 5.5.2 理想形-定義から無相関\n",
    "分子同士が相関をもたない理想系では、ポテンシャルエネルギーは一定である。この理想系は熱力学を理解するうええ本質的で重要です。"
   ]
  },
  {
   "cell_type": "markdown",
   "metadata": {},
   "source": [
    "### 5.5.3 非理想系\n",
    "現実の正解では原子や分子が互いに力を及ぼし合っているので、理想系というものはありません。非理想系の定性的な側面を紹介します。\n",
    "\n",
    "#### 5.5.3.1 溶媒中の溶質\n",
    "2種類の分子からなる、溶質分子が溶媒に溶けている場合です。この場合、溶媒分子間、溶質分子間、溶媒・溶質分子間の相互作用が存在しますが、分配関数を異なる因子に分割できないので、エントロピーは一般には3に分割できません。\n",
    "\n",
    "#### 5.5.3.2 結合について先取りする：溶媒中のレセプターとリガンド\n",
    "生体系での結合を考える際には、レセプター、リガンド、溶媒分子の組み合わせ6種類の相互作用を考える必要があります。"
   ]
  },
  {
   "cell_type": "markdown",
   "metadata": {},
   "source": [
    "## 5.6 自由エネルギーは、やはり確率を与える\n",
    "ここでは1次元系で得られた次のことがより複雑な系でも成り立つことを示します。\n",
    "\n",
    "1. 自由エネルギーが確率を与える\n",
    "2. エントロピーは系の空間配置の体積を与える\n",
    "\n",
    "式3.12を高次元系に書き直すと、\n",
    "\n",
    "$\\frac{p(A)}{p(B)}=\\frac{\\int_{V_{A}} dr^{N} e^{-U(r^{N})/k_{B}T}}{\\int_{V_{B}} dr^{N} e^{-U(r^{N})/k_{B}T}}=\\frac{Z_{A}}{Z_{B}}\\equiv e^{-(F_{A}-F_{B})/k_{B}T}$\n",
    "\n",
    "となります。状態を定義する方法は多く存在します。結合に関しては、状態Aは結合した状態、状態Bは結合していない状態として定義されます。\n"
   ]
  },
  {
   "cell_type": "markdown",
   "metadata": {},
   "source": [
    "### 5.6.1 エントロピーは、やはり幅（体積）を表す\n",
    "二次元系でエントロピーは体積の対数であることを確かめました。つまり、「幅」を多次元系に翻訳すると、\"配置空間\"での「体積」となります。分子の場合、この体積は3次元ではありません。例えば、メタン（5分子)の配置空間は15次元です。"
   ]
  },
  {
   "cell_type": "markdown",
   "metadata": {},
   "source": [
    "### 5.6.2 状態を定義する\n",
    "ある状態の絶対的な自由エネルギーに興味をもつことはまずありません。興味をもつのはその差です。確率の差を計算できるからです。理論的にはどのような状態の定義のしかたもできますが、実験的に確かめられるようにするには注意が必要です。"
   ]
  },
  {
   "cell_type": "markdown",
   "metadata": {},
   "source": [
    "### 5.6.3 離散化が意味するのは、やはり、$S\\sim\\sum p\\ln p$である\n"
   ]
  }
 ],
 "metadata": {
  "kernelspec": {
   "display_name": "Python 3",
   "language": "python",
   "name": "python3"
  },
  "language_info": {
   "codemirror_mode": {
    "name": "ipython",
    "version": 3
   },
   "file_extension": ".py",
   "mimetype": "text/x-python",
   "name": "python",
   "nbconvert_exporter": "python",
   "pygments_lexer": "ipython3",
   "version": "3.5.1"
  },
  "nav_menu": {},
  "toc": {
   "navigate_menu": true,
   "number_sections": false,
   "sideBar": false,
   "threshold": 6,
   "toc_cell": true,
   "toc_section_display": "none",
   "toc_window_display": false
  },
  "toc_position": {
   "height": "47px",
   "left": "991.141px",
   "right": "20px",
   "top": "121px",
   "width": "268px"
  }
 },
 "nbformat": 4,
 "nbformat_minor": 0
}
