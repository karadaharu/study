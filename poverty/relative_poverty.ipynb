{
 "cells": [
  {
   "cell_type": "markdown",
   "metadata": {
    "toc": "true"
   },
   "source": [
    "# Table of Contents\n",
    " <p><div class=\"lev1\"><a href=\"#相対的貧困\"><span class=\"toc-item-num\">1&nbsp;&nbsp;</span>相対的貧困</a></div><div class=\"lev2\"><a href=\"#定義\"><span class=\"toc-item-num\">1.1&nbsp;&nbsp;</span>定義</a></div><div class=\"lev2\"><a href=\"#様々な分布\"><span class=\"toc-item-num\">1.2&nbsp;&nbsp;</span>様々な分布</a></div><div class=\"lev3\"><a href=\"#一様分布\"><span class=\"toc-item-num\">1.2.1&nbsp;&nbsp;</span>一様分布</a></div>"
   ]
  },
  {
   "cell_type": "markdown",
   "metadata": {},
   "source": [
    "# 相対的貧困\n",
    "## 定義\n",
    "> 「相対的貧困率」とは，等価可処分所得（世帯の可処分所得を世帯人員の平方根で割って調整した所得）の中央値の半分に満たない世帯員の割合を算出したもの。なお，絶対的な貧困水準を表すものではなく，所得の中央値の半分を下回る所得しか得ていない者の割合を示す相対的な指標であり，預貯金や不動産等の資産は考慮していない。  \n",
    "> [出展](http://www.gender.go.jp/whitepaper/h22/zentai/html/honpen/b1_s00_06.html)"
   ]
  },
  {
   "cell_type": "markdown",
   "metadata": {},
   "source": [
    "## 様々な分布"
   ]
  },
  {
   "cell_type": "markdown",
   "metadata": {},
   "source": [
    "### 一様分布"
   ]
  },
  {
   "cell_type": "code",
   "execution_count": 3,
   "metadata": {
    "collapsed": false
   },
   "outputs": [
    {
     "data": {
      "image/png": "[encoded data removed]",
      "text/plain": [
       "<matplotlib.figure.Figure at 0x10b843c88>"
      ]
     },
     "metadata": {},
     "output_type": "display_data"
    }
   ],
   "source": [
    "data = np.arange(0, 100)\n",
    "res = plt.hist(data)"
   ]
  }
 ],
 "metadata": {
  "kernelspec": {
   "display_name": "Python 3",
   "language": "python",
   "name": "python3"
  },
  "language_info": {
   "codemirror_mode": {
    "name": "ipython",
    "version": 3
   },
   "file_extension": ".py",
   "mimetype": "text/x-python",
   "name": "python",
   "nbconvert_exporter": "python",
   "pygments_lexer": "ipython3",
   "version": "3.5.1"
  },
  "nav_menu": {},
  "toc": {
   "navigate_menu": true,
   "number_sections": true,
   "sideBar": false,
   "threshold": 6,
   "toc_cell": true,
   "toc_section_display": "block",
   "toc_window_display": false
  }
 },
 "nbformat": 4,
 "nbformat_minor": 0
}
