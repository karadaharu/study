{
 "cells": [
  {
   "cell_type": "markdown",
   "metadata": {
    "toc": "true"
   },
   "source": [
    "# Table of Contents\n",
    " <p><div class=\"lev2\"><a href=\"#2.1-The-Simplest-Delay-Equation\"><span class=\"toc-item-num\">0.1&nbsp;&nbsp;</span>2.1 The Simplest Delay Equation</a></div><div class=\"lev3\"><a href=\"#性質を調べる\"><span class=\"toc-item-num\">0.1.1&nbsp;&nbsp;</span>性質を調べる</a></div><div class=\"lev2\"><a href=\"#References\"><span class=\"toc-item-num\">0.2&nbsp;&nbsp;</span>References</a></div>"
   ]
  },
  {
   "cell_type": "markdown",
   "metadata": {},
   "source": [
    "## 2.1 The Simplest Delay Equation\n",
    "最もシンプルな微分方程式を考える\n",
    "\n",
    "$u'(t) = -\\alpha u(t-r)$\n",
    "\n",
    "無次元化する\n",
    "\n",
    "$\\frac{dU}{d\\tau}=-\\beta U(\\tau-1), \\:\\:\\beta = \\alpha r, \\tau = \\frac{t}{r}$\n",
    "\n",
    "$U(\\tau)=\\exp(\\lambda \\tau)$が解になるような$\\lambda$を求める。\n",
    "\n",
    "$L(U)=\\frac{dU}{d\\tau}+\\beta U(\\tau-1)$\n",
    "\n",
    "$L(e^{\\lambda\\tau})=e^{\\lambda\\tau}(\\lambda+\\beta e^{-\\lambda})$\n",
    "\n",
    "$\\lambda$が以下の特性方程式の根であるときのみ$L(e^{\\lambda\\tau})=0$が成り立つ。\n",
    "\n",
    "$h(\\lambda)=\\lambda+\\beta e^{-\\lambda}=0$\n",
    "\n",
    "これは、$\\frac{dU}{d\\tau}+\\beta U(\\tau -1) = U_{0}\\delta(\\tau)$をラプラス変換したときの極（伝達関数の分母の根)に等しい。"
   ]
  },
  {
   "cell_type": "markdown",
   "metadata": {},
   "source": [
    "$\\lambda = x + iy$とおく。\n",
    "\n",
    "$h(\\lambda)=x+iy+\\beta e^{-x}(\\cos y -i \\sin y)\\\\\n",
    "=x+\\beta e^{-x} \\cos y + i (y-\\beta e^{-x}\\sin y)$"
   ]
  },
  {
   "cell_type": "markdown",
   "metadata": {},
   "source": [
    "$x = 0$となるときの$\\beta$、yを求めれば振動の条件\n",
    "\n",
    "$y=0$となるときの$\\beta$、xを求めれば振動しない条件"
   ]
  },
  {
   "cell_type": "markdown",
   "metadata": {},
   "source": [
    "### 性質を調べる\n",
    "$U=A\\cos\\omega t$という解があるか調べる。\n",
    "\n",
    "$\\frac{dU}{d\\tau}=-A\\omega \\sin \\omega t$\n",
    "\n",
    "$\\beta U(\\tau-1) = \\beta A \\cos(\\omega t - 1)$\n",
    "\n",
    "等式が成り立つ条件は...\n",
    "\n",
    "\n",
    "振動的であるとは、$x(t_n)=0$となる数列$t_n$が存在すること。振動しない解をもつ条件を求める。すなわち、\n",
    "\n",
    "$^\\exists\\gamma>0; U(t)=e^{-\\gamma t}$が振動しない解\n",
    "\n",
    "となる$\\beta$の条件を求める。\n",
    "\n",
    "$U(t)=e^{-\\gamma t}$を微分方程式に代入すると、\n",
    "\n"
   ]
  },
  {
   "cell_type": "markdown",
   "metadata": {},
   "source": [
    "## References\n",
    "1. [An Introduction to Delay Differential Equations with Applications to the Life Sciences](http://www.springer.com/jp/book/9781441976451)\n",
    "1. [Gumussoy, et. al., 2012, Automatica](http://dx.doi.org/10.1016/j.automatica.2012.01.010)"
   ]
  }
 ],
 "metadata": {
  "kernelspec": {
   "display_name": "Python 3",
   "language": "python",
   "name": "python3"
  },
  "language_info": {
   "codemirror_mode": {
    "name": "ipython",
    "version": 3
   },
   "file_extension": ".py",
   "mimetype": "text/x-python",
   "name": "python",
   "nbconvert_exporter": "python",
   "pygments_lexer": "ipython3",
   "version": "3.5.2"
  },
  "nav_menu": {},
  "toc": {
   "navigate_menu": true,
   "number_sections": true,
   "sideBar": false,
   "threshold": 6,
   "toc_cell": true,
   "toc_section_display": "block",
   "toc_window_display": false
  }
 },
 "nbformat": 4,
 "nbformat_minor": 0
}
