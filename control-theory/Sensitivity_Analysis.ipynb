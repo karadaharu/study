{
 "cells": [
  {
   "cell_type": "markdown",
   "metadata": {
    "toc": "true"
   },
   "source": [
    "# Table of Contents\n",
    " <p><div class=\"lev2\"><a href=\"#A-computational-model-for-radiation-induced-cellular-transformation-to-in-vitro-irradiation-of-cells-by-acute-doses-of-X-rays\"><span class=\"toc-item-num\">0.1&nbsp;&nbsp;</span>A computational model for radiation-induced cellular transformation to in vitro irradiation of cells by acute doses of X-rays</a></div><div class=\"lev3\"><a href=\"#global-sensitivity-analysis\"><span class=\"toc-item-num\">0.1.1&nbsp;&nbsp;</span>global sensitivity analysis</a></div><div class=\"lev3\"><a href=\"#local-sensitivity-analysis\"><span class=\"toc-item-num\">0.1.2&nbsp;&nbsp;</span>local sensitivity analysis</a></div><div class=\"lev2\"><a href=\"#Modeling-adaptive-regulatory-t-cell-dynamics-during-early-hiv-infection\"><span class=\"toc-item-num\">0.2&nbsp;&nbsp;</span>Modeling adaptive regulatory t-cell dynamics during early hiv infection</a></div><div class=\"lev3\"><a href=\"#PRCC-analysis(Partial-rank-correlation-coefficient)\"><span class=\"toc-item-num\">0.2.1&nbsp;&nbsp;</span>PRCC analysis(Partial-rank correlation coefficient)</a></div><div class=\"lev3\"><a href=\"#another-analysis\"><span class=\"toc-item-num\">0.2.2&nbsp;&nbsp;</span>another analysis</a></div>"
   ]
  },
  {
   "cell_type": "markdown",
   "metadata": {},
   "source": [
    "## A computational model for radiation-induced cellular transformation to in vitro irradiation of cells by acute doses of X-rays\n",
    "\n",
    "### global sensitivity analysis\n",
    "ひとつのパラメーターをずらして、他のパラメーターを最適化した結果を求める\n",
    "\n",
    "### local sensitivity analysis\n",
    "全部のパラメーターを最適化した結果から、ひとつのパラメーターをずらしてモデルの応答を求める\n",
    "\n",
    "## Modeling adaptive regulatory t-cell dynamics during early hiv infection\n",
    "### PRCC analysis(Partial-rank correlation coefficient)\n",
    "他の変数の影響を除いた上でふたつの変数の関連を測る。\n",
    "\n",
    "着目するパラメーターとある時間点におけるモデルの出力が与えられたとき、PRCCはそのパラメーターのsensitivityの計量になる。[14]\n",
    "\n",
    "パラメーター$x_{j}$、出力$y$、（たぶん）$x_{j}$の値をいくつも変えて、、、\n",
    "\n",
    "$\\hat{x_{j}}=c_{0} +\\sum_{p=1} c_{p}x_{p} $\n",
    "\n",
    "### another analysis\n",
    "あるひとつのパラメーターはisolated、他のパラメーターはLatin Hypercube Sa"
   ]
  },
  {
   "cell_type": "code",
   "execution_count": null,
   "metadata": {
    "collapsed": true
   },
   "outputs": [],
   "source": []
  }
 ],
 "metadata": {
  "kernelspec": {
   "display_name": "Python 3",
   "language": "python",
   "name": "python3"
  },
  "language_info": {
   "codemirror_mode": {
    "name": "ipython",
    "version": 3
   },
   "file_extension": ".py",
   "mimetype": "text/x-python",
   "name": "python",
   "nbconvert_exporter": "python",
   "pygments_lexer": "ipython3",
   "version": "3.5.2"
  },
  "nav_menu": {},
  "toc": {
   "navigate_menu": true,
   "number_sections": true,
   "sideBar": false,
   "threshold": 6,
   "toc_cell": true,
   "toc_section_display": "block",
   "toc_window_display": false
  }
 },
 "nbformat": 4,
 "nbformat_minor": 0
}
