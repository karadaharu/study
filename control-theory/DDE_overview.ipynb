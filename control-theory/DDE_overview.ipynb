{
 "cells": [
  {
   "cell_type": "markdown",
   "metadata": {
    "toc": "true"
   },
   "source": [
    "# Table of Contents\n",
    " <p><div class=\"lev2\"><a href=\"#時間遅れのある1次元線形微分方程式\"><span class=\"toc-item-num\">0.1&nbsp;&nbsp;</span>時間遅れのある1次元線形微分方程式</a></div><div class=\"lev2\"><a href=\"#時間遅れLotka-Volterraモデル\"><span class=\"toc-item-num\">0.2&nbsp;&nbsp;</span>時間遅れLotka Volterraモデル</a></div><div class=\"lev2\"><a href=\"#時間遅れロジスティック方程式の線形安定性\"><span class=\"toc-item-num\">0.3&nbsp;&nbsp;</span>時間遅れロジスティック方程式の線形安定性</a></div><div class=\"lev2\"><a href=\"#Cheyne-Stokes-breathing\"><span class=\"toc-item-num\">0.4&nbsp;&nbsp;</span>Cheyne-Stokes breathing</a></div><div class=\"lev2\"><a href=\"#時間遅れのある微分方程式の安定性\"><span class=\"toc-item-num\">0.5&nbsp;&nbsp;</span>時間遅れのある微分方程式の安定性</a></div><div class=\"lev3\"><a href=\"#周波数領域の解析法：\"><span class=\"toc-item-num\">0.5.1&nbsp;&nbsp;</span>周波数領域の解析法：</a></div><div class=\"lev3\"><a href=\"#時間領域の解析法：\"><span class=\"toc-item-num\">0.5.2&nbsp;&nbsp;</span>時間領域の解析法：</a></div><div class=\"lev3\"><a href=\"#LMI(Linear-Matrix-Inequailty)\"><span class=\"toc-item-num\">0.5.3&nbsp;&nbsp;</span>LMI(Linear Matrix Inequailty)</a></div><div class=\"lev3\"><a href=\"#matlabで\"><span class=\"toc-item-num\">0.5.4&nbsp;&nbsp;</span>matlabで</a></div><div class=\"lev2\"><a href=\"#References\"><span class=\"toc-item-num\">0.6&nbsp;&nbsp;</span>References</a></div>"
   ]
  },
  {
   "cell_type": "markdown",
   "metadata": {},
   "source": [
    "## 時間遅れのある1次元線形微分方程式\n",
    "$x'=-\\alpha x$　　…(1)  \n",
    "$x(0) = 1$\n",
    "\n",
    "の厳密解は$x(t) = e^{-\\alpha t}$です。これに対して、時間遅れのある微分方程式\n",
    "\n",
    "$x'=-\\alpha x(t-\\tau)$　　…(2)\n",
    "\n",
    "を考えてみましょう。時間遅れのない場合には、初期時刻における初期値を与えるだけで良かったのですが、時間遅れのある場合には、初期区間$-\\tau < t \\leq 0$における初期関数$\\phi(t)$を考える必要があります。\n",
    "\n",
    "(1)が$x(t) = e^{-\\lambda t}$という解をもつとして、これを(1)に代入すると、\n",
    "\n",
    "$\\lambda = -\\alpha$\n",
    "\n",
    "が得られます。同様な方法を(2)に適用してみると、\n",
    "\n",
    "$\\lambda e^{\\lambda \\tau}=-\\alpha$ …(3)\n",
    "\n",
    "となり、(3)を(2)の特性方程式と呼びます。$\\tau>0$のとき、(3)は代数方程式ではなく、超越方程式となり、$\\lambda$に関してexplicitに解くことができません（複素数の範囲で考えると、(3)の解は一般に無限個存在することが分かっています）。このため、時間遅れのある微分方程式については、解を具体的に求めるのではなく、解の性質を調べることが課題となります。\n",
    "\n",
    "**超越方程式** : 代数方程式（多項式=0)でない（sinなどが含まれる)方程式"
   ]
  },
  {
   "cell_type": "markdown",
   "metadata": {},
   "source": [
    "(1)の解$x(t)=e^{-\\alpha t}$が$x(t)\\rightarrow 0 \\:\\rm{as}\\: t\\rightarrow\\infty$となる必要十分条件は$\\alpha > 0$となります。それでは、(2)の解も$\\alpha > 0$ならば、\n",
    "\n",
    "$x(t)\\rightarrow 0 \\:\\rm{as}\\: t\\rightarrow\\infty$\n",
    "\n",
    "となるでしょうか？\n",
    "\n",
    "まずは、$\\alpha$と$\\tau$の値を変えながら数値計算の結果をプロットしてみましょう。"
   ]
  },
  {
   "cell_type": "code",
   "execution_count": null,
   "metadata": {
    "collapsed": true
   },
   "outputs": [],
   "source": []
  },
  {
   "cell_type": "markdown",
   "metadata": {},
   "source": [
    "$\\tau$が$\\alpha$に対して大きくしていくと、振動しはじめ、発散することが分かります。\n",
    "\n",
    "ためしにコサインという解があるか確かめてみましょう。$x(t)=\\cos \\omega t$という解があるとしてこれを(2)に代入すると、\n",
    "\n",
    "$\\rm{left} = -\\omega \\sin \\omega t$  \n",
    "$\\rm{right} = -\\alpha \\cos \\omega (t - \\tau)$\n",
    "\n",
    "となり、$\\rm{left}=\\rm{right}$となるには、$\\alpha \\tau = \\frac{\\pi}{2}$であればよいことが分かります。すなわち、方程式(2)は$\\alpha \\tau = \\frac{\\pi}{2}$のとき、$x(t)=\\cos \\frac{\\pi}{2\\tau}t$という周期解があります。"
   ]
  },
  {
   "cell_type": "markdown",
   "metadata": {},
   "source": [
    "さて、(2)の解の振動問題についても考えてみましょう。ここで、(2)の解が振動的であるとは、$x(t_{n})=0$となる数列$\\{t_{n}\\}\\:(t_{n}\\rightarrow \\infty \\:\\rm{as}\\:n\\rightarrow \\infty)$が存在することです。\n",
    "\n",
    "(2)が振動しない解をもつための条件を求めてみましょう。すなわち、\n",
    "\n",
    "$\\exists \\gamma > 0 ; \\: x(t) = e^{-\\gamma t}$が振動しない(2)の解\n",
    "\n",
    "となるための$\\alpha$、$\\tau$を求めてみましょう。\n",
    "\n",
    "$x(t)=e^{\\gamma t}$を(2)に代入すると、\n",
    "\n",
    "$\\gamma=\\alpha e^{\\gamma \\tau}$であるから、\n",
    "\n",
    "$\\exists \\gamma > 0 ; \\gamma=\\alpha e^{\\gamma \\tau}$\n",
    "\n",
    "となるための$\\alpha$、$\\tau$を求めればよい。ここからは高校レベルの問題になります。すなわち$f(\\gamma)=\\alpha e^{\\gamma \\tau}-\\gamma$としたときに$\\gamma>0$で$f(\\gamma)=0$が解をもつような条件を求めます。\n",
    "\n",
    "導関数から、極小値は$\\gamma_{0}=\\frac{1}{\\tau}\\log \\frac{1}{\\tau\\alpha}$なので、$f(\\gamma_{0})\\leq 0$となる条件は、\n",
    "\n",
    "$0 \\leq \\tau \\alpha \\leq \\frac{1}{e}$\n",
    "\n",
    "となります。このとき非振動解を持ちます。"
   ]
  },
  {
   "cell_type": "markdown",
   "metadata": {},
   "source": [
    "## 時間遅れLotka Volterraモデル\n",
    "$\\dot{x}(t)=x(1-x)-yp(x)\\\\\n",
    "\\dot{y}(t)=be^{-d_{j}\\tau}y(t-\\tau)p(x(t-\\tau))-dy$\n",
    "\n",
    "\n",
    "定常状態を持つか？"
   ]
  },
  {
   "cell_type": "markdown",
   "metadata": {},
   "source": [
    "(0, 0)における線形化\n",
    "\n",
    "$1-x\\sim 1$、$p(x)\\sim 0$、\n",
    "\n",
    "yドットの右辺第1項？？"
   ]
  },
  {
   "cell_type": "markdown",
   "metadata": {},
   "source": [
    "## 時間遅れロジスティック方程式の線形安定性\n",
    "$\\frac{dy}{dt}=\\alpha y[1-y_{\\tau}]$\n",
    "\n",
    "これは$y_{\\infty}=1$でsaturated steady stateをもつ。この線形安定性を調べる。\n",
    "\n",
    "$y=u+1$とおいて微分方程式にいれると、\n",
    "\n",
    "$\\frac{du}{dt}=-\\alpha(u+1)u_{\\tau}$\n",
    "\n",
    "uは摂動なので十分小さく、$u+1\\sim 1$\n",
    "\n",
    "$\\frac{du}{dt}\\sim -\\alpha u_{\\tau}$"
   ]
  },
  {
   "cell_type": "markdown",
   "metadata": {},
   "source": [
    "## Cheyne-Stokes breathing\n",
    "* p : 肺におけるCO2の濃度\n",
    "* P : CO2が作られる量\n",
    "* V : ...\n",
    "\n",
    "安定状態$p^{*}$から摂動$u=p-p^{*}$を加える\n",
    "\n",
    "$V_{L}\\frac{du}{dt}=M - (u+p^{*}) V(u_{\\tau} + p^{*}) - T(u+p^{*})$\n",
    "\n",
    "テイラー近似をする\n",
    "\n",
    "$f(u, u_{\\tau}) = M - (u+p^{*})V(u_{\\tau} + p^{*}) - T(u+p^{*})$\n",
    "\n",
    "とおいて、\n",
    "\n",
    "$f(u, u_{\\tau})=f(0,0)+\\frac{\\partial f}{\\partial u}(0,0) u + \\frac{\\partial f}{\\partial u_{\\tau}} (0,0) u_{\\tau}$\n",
    "\n",
    "$f(0,0)=0$になるから、定数項を含まない線形微分方程式になる。"
   ]
  },
  {
   "cell_type": "markdown",
   "metadata": {},
   "source": [
    "## 時間遅れのある微分方程式の安定性\n",
    "周波数領域と時間領域で解析する方法がある。\n",
    "\n",
    "$\\dot{x}(t) = Ax(t) + A_{d} x(t-h)$  \n",
    "$x(t) = \\varphi(t),\\: t \\in [-h,0]$\n",
    "\n",
    "### 周波数領域の解析法：  \n",
    "1. 特性関数の根の分布から決める\n",
    "2. 複素リヤプノフ行列関数方程式の解から決める\n",
    "\n",
    "時間遅れがない(h=0)のとき安定であることの必要十分条件は$\\lambda (A+A_{d}) < 0$ \n",
    "\n",
    "λって？？"
   ]
  },
  {
   "cell_type": "markdown",
   "metadata": {},
   "source": [
    "### 時間領域の解析法：\n",
    "ふたつの定理を基礎にしている。\n",
    "\n",
    "1. Lyapunov-Krasovskii stability theorem\n",
    "2. Razumikhin theorem\n",
    "\n",
    "基本的なアイデアは適切なLyapunov-Krasovskii関数、Lyapunov関数をつくること。Matlabのツールボックスで作れる。\n",
    "\n",
    "\n",
    "\n",
    "### LMI(Linear Matrix Inequailty)\n",
    "Linera time invariant(LTI) system\n",
    "\n",
    "xがasympotically stable である条件はシステムの起動に対して常に値が正、微分が負になるようなquadratic Lyapunov関数が存在すること。これを行列における定値性の問題として表現した形がLMI\n",
    "\n",
    "LMI toolboxを使う\n",
    "\n",
    "**行列の定値性**\n",
    "\n",
    "* 正定値：$n\\times n$実対称行列が正定値であるとは、零ベクトルでない任意の列ベクトルzに対して二次形式$z^{T}Mz$が必ず正になるときに言う\n",
    "\n",
    "Lyapunov-Krasovskii候補関数は\n",
    "\n",
    "$V_{1}(x_{t})=x^{T}(t)Px(t)+\\int^{t}_{t-h}x^{T}(s)Q(s)ds$\n",
    "\n",
    "これの導関数を求めて、それが負であることが、delay-independent安定性の条件。\n",
    "\n",
    "$\\begin{bmatrix}\n",
    "PA+A^{T}P+Q & PA_{d}\\\\\n",
    "* & -Q\n",
    "\\end{bmatrix}<0$\n",
    "\n",
    "PとQは導関数が負であるように決める。それを求めるのにたぶんmatlabを使う。\n",
    "\n",
    "\\* はたぶん対称の意味([参考](https://hal.inria.fr/hal-00847151/document))なので、$(PA_{d})^{T} = A_{d}^{T}P^{T}$\n",
    "\n",
    "**2次安定性** \n",
    "\n",
    "システムが変化するとリヤプノフ関数も変わる。そこでとりうるすべてのシステムをひとつの2次リヤプノフ関数でその安定性を保証する。これが可能な場合、システムの集合は2次安定であるという。\n",
    "\n",
    "\n",
    "分からないこと：\n",
    "どうやって線形化するのか、あるいは非線形な微分方程式に対してはどうするのか？\n",
    "\n",
    "そもそも定常状態をもつのか？"
   ]
  },
  {
   "cell_type": "markdown",
   "metadata": {},
   "source": [
    "### matlabで\n",
    "`lmiterm(termID, A,B, flag)` : LMIの形を記述する関数\n"
   ]
  },
  {
   "cell_type": "markdown",
   "metadata": {},
   "source": [
    "## References\n",
    "1. [時間遅れをもつ微分方程式　-入門以前-](http://www.jsmb.jp/newsletter/backnumbers/NL-24.pdf)\n",
    "1. [wikipedia: Delay differential equation](https://en.wikipedia.org/wiki/Delay_differential_equation)\n",
    "1. [matlab: feasp](https://jp.mathworks.com/help/robust/ref/feasp.html)\n",
    "1. [ゲインスケジュール制御](http://www.sd.te.chiba-u.jp/sites/default/files/lecture/gain_schedule.pdf)\n",
    "1. [Delay-Differential Equations](http://www.math.fsu.edu/~bertram/lectures/delay.pdf)\n",
    "1. [Delay Differential Equation Models in Mathmatical Biology](http://www.math.utah.edu/~forde/research/JFthesis.pdf)\n",
    "1. [転置行列の基本的な４つの性質と証明](http://mathtrain.jp/transpose)"
   ]
  },
  {
   "cell_type": "code",
   "execution_count": null,
   "metadata": {
    "collapsed": true
   },
   "outputs": [],
   "source": []
  }
 ],
 "metadata": {
  "kernelspec": {
   "display_name": "Python 3",
   "language": "python",
   "name": "python3"
  },
  "language_info": {
   "codemirror_mode": {
    "name": "ipython",
    "version": 3
   },
   "file_extension": ".py",
   "mimetype": "text/x-python",
   "name": "python",
   "nbconvert_exporter": "python",
   "pygments_lexer": "ipython3",
   "version": "3.5.2"
  },
  "nav_menu": {},
  "toc": {
   "navigate_menu": true,
   "number_sections": true,
   "sideBar": false,
   "threshold": 6,
   "toc_cell": true,
   "toc_section_display": "block",
   "toc_window_display": false
  }
 },
 "nbformat": 4,
 "nbformat_minor": 0
}
