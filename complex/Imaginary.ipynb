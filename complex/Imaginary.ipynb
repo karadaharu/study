{
 "cells": [
  {
   "cell_type": "markdown",
   "metadata": {},
   "source": [
    "複素関数の微分\n",
    "\n",
    "Cauchy-Riemannの関係式\n",
    "\n",
    "複素数$z=x+iy$を引数にとる関数$f(z)=f(x,y)=u(x,y)+iv(x,y)$がある領域で微分可能であるとき、\n",
    "\n",
    "$u_{x}(x,y) = v_{y}(x,y)$\n",
    "\n",
    "$u_{y}(x,y) = -v_{x}(x,y)$\n",
    "\n",
    "微分を定義する上で、$z\\to0$は$x\\to0$と$y\\to0$を独立に考えた結果が一致しないとダメだから\n"
   ]
  },
  {
   "cell_type": "code",
   "execution_count": null,
   "metadata": {
    "collapsed": true
   },
   "outputs": [],
   "source": []
  }
 ],
 "metadata": {
  "kernelspec": {
   "display_name": "Python 3",
   "language": "python",
   "name": "python3"
  },
  "language_info": {
   "codemirror_mode": {
    "name": "ipython",
    "version": 3
   },
   "file_extension": ".py",
   "mimetype": "text/x-python",
   "name": "python",
   "nbconvert_exporter": "python",
   "pygments_lexer": "ipython3",
   "version": "3.5.1"
  }
 },
 "nbformat": 4,
 "nbformat_minor": 0
}
