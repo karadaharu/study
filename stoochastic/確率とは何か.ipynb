{
 "cells": [
  {
   "cell_type": "markdown",
   "metadata": {},
   "source": [
    "## 確率空間\n",
    "確率空間は次の３つから構成されます\n",
    "\n",
    "* 標本空間 $\\Omega$\n",
    "* 確率の定義される部分集合全体 $\\cal{B}$\n",
    "* その上の関数としての確率測度 $P$\n"
   ]
  },
  {
   "cell_type": "markdown",
   "metadata": {},
   "source": [
    "あることがらの確率を計算するためには、そのことがらに対応する標本空間Ωの部分集合を考え、その部分集合についての確率を計算すれば求められます。(例：サイコロの目が奇数である確率)\n",
    "\n",
    "しかし、無限回のコインを投げたときを考えるとどうでしょうか。\n",
    "\n",
    "ある系列ωが起きる可能性は\n",
    "\n",
    "$P(\\omega)=(\\frac{1}{2})^{\\infty}=0$\n",
    "\n",
    "ですが、4回目に表が出る確率は、4回目に表がでる部分集合Aを考えると、\n",
    "\n",
    "$P(A)=(\\frac{1}{2})^{\\infty} \\times \\# A =  0 \\times \\infty$\n",
    "\n",
    "となってしまいますが、直感的には明らかに1/2です。1/2にちゃんとなるような確率はどのように定義できるでしょうか？\n",
    "\n",
    "あることがらの確率を考えるには、そのことがらに対応する$\\Omega_{\\infty}$の部分集合に対して確率が定義されているかを確認する必要があります。"
   ]
  },
  {
   "cell_type": "markdown",
   "metadata": {},
   "source": [
    "### 確率の測れる部分集合\n",
    "確率の定義されいている部分集合全体は\"σ-集合体\"として特徴づけられます。\n",
    "\n",
    "$\\Omega$を空でない集合とする。確率の定義されている$\\Omega$の部分集合全体$\\cal{B}$はどのように特徴づけられるでしょうか。\n",
    "\n",
    "まず、$\\Omega$全体の確率は1なので$\\Omega$は$\\cal{B}$の要素です。\n",
    "\n",
    "また、ある部分集合Aについて確率が定義されているとき、$A^{C}=\\Omega\\backslash A$は$P(A^{C})=1-P(C)$であるため、$A^{C}\\in \\cal{B}$です。\n",
    "\n",
    "部分集合列$A_{n}$についてそれぞれ確率が定義されているとき、和集合$\\cup^{\\infty}_{n=1}A_{n}$も確率が定義されると仮定します。\n",
    "\n",
    "この3つの性質\n",
    "\n",
    "1. $\\Omega \\in \\cal{B}$\n",
    "2. $A \\in \\cal{B} \\Rightarrow A^{C} \\in \\cal{B}$\n",
    "3. $A_{1},A_{2},A_{3}, ... \\in \\cal{B} \\Rightarrow  \\cup^{\\infty}_{n=1}A_{n} \\in \\cal{B}$\n",
    "\n",
    "を満たす$\\cal{B}$を$\\Omega$上のσ-集合体といいます。言い換えると、Ωを標本空間とする確率はΩ上のσ-集合体の上に定義されています。\n",
    "\n",
    "問:σ-集合体じゃないような部分集合族ってどんなもの？"
   ]
  },
  {
   "cell_type": "markdown",
   "metadata": {},
   "source": [
    "#### ボレル集合体\n",
    "\n",
    "\n",
    "$E=(E,{\\bf d})$を距離空間、$\\cal{O}$をEの開部分集合全体からなる集合族とします。\n",
    "\n",
    "(距離空間とは集合から取り出した2つの要素に対して非負である距離関数が定義されている集合)\n",
    "\n",
    "このとき、$\\cal{O}$から生成されるE上のσ-集合体 $\\cal{B}(E) \\overset{=}{\\leftharpoondown}\\sigma[\\cal{O}]$をE上のボレル集合体、Eの部分集合で$\\cal{B}(E)$に属するものをEのボレル集合といいます。"
   ]
  },
  {
   "cell_type": "markdown",
   "metadata": {},
   "source": [
    "#### 直積σ-集合体\n",
    "標本空間ΩとΩ上のσ-集合体$\\cal{B}$とを組にしたもの$(\\Omega,\\cal{B})$を**可測空間**といいます。"
   ]
  },
  {
   "cell_type": "markdown",
   "metadata": {},
   "source": [
    "### 確率測度\n",
    "$(\\Omega,\\cal{B})$を可測空間とします。「確率」とは、$A\\in \\cal{B}$に対して$0\\leq P(A) \\leq 1$を対応させる関数Pとして定式化されます。\n",
    "それでは、この関数Pはどのような条件を満たせばいいでしょうか？\n",
    "\n",
    "#### 確率測度の定義\n",
    "$(\\Omega,\\cal{B})$を可測空間とします。$\\cal{B}$上に定義された関数Pでつぎの条件を満たすものを$(\\Omega,\\cal{B})$上のi**確率測度**またはたんに**確率**といい、$(\\Omega, \\cal{B}, P)$の組を確率空間といいます。\n",
    "\n",
    "1. 任意の$A\\in \\cal{B}$に対して$0\\leq P(A) \\leq 1$\n",
    "2. $P(\\Omega)=1$\n",
    "3. (加算加法性) $A_{k} \\in \\cal{B}, A_{k} \\cap A_{l} =\\emptyset (k\\neq l) , k.l\\in N$であれば、 $P(\\cup^{\\infty}_{k=1} A_{k})=\\sum^{\\infty}_{k=1}P(A_{k})$"
   ]
  },
  {
   "cell_type": "markdown",
   "metadata": {},
   "source": [
    "#### ユークリッド空間上の確率測度\n",
    "ここでは次の2つのことを示します。\n",
    "\n",
    "* d次元ユークリッド空間${\\bf R}^{d}$上のボレル集合体${\\bf B}_{d}$上に定義された確率測度(**ボレル確率測度**)は、d次元半階区間全体${\\bf J}_{d}$上の値で一意的に定まる\n",
    "* $d=1$の場合、実数空間${\\bf R}$上のボレル確率測度μは文武館数$F(x)=\\mu((-\\infty,x]),x\\in {\\bf R}$によって一意的に定まる\n",
    "\n",
    "\n",
    "一般に${\\bf R}^{d}$上のボレル確率測度μについて、一点集合がすべて零集合、すなわち\n",
    "\n",
    "$\\mu(x)=0, x\\in {\\bf R}^{d}$\n",
    "\n",
    "であるとき、μを**連続確率測度**といいます。ルベーグ測度、ガウス測度、コーシー測度は連続確率測度であるが、ポアソン測度、ディラック測度は連続ではありません。"
   ]
  },
  {
   "cell_type": "markdown",
   "metadata": {},
   "source": [
    "#### 確率空間の完備化\n",
    "確率空間が完備であるとは、任意の零集合のすべての部分集合が${\\cal B}$に属すること、すなわち\n",
    "\n",
    "$N\\in {\\cal B} , P(N)=0, A \\subset N \\Rightarrow A \\in {\\cal B}$\n",
    "\n",
    "が成り立つことです。\n",
    "\n",
    "例：\n"
   ]
  },
  {
   "cell_type": "code",
   "execution_count": null,
   "metadata": {
    "collapsed": true
   },
   "outputs": [],
   "source": []
  }
 ],
 "metadata": {
  "kernelspec": {
   "display_name": "Python 3",
   "language": "python",
   "name": "python3"
  },
  "language_info": {
   "codemirror_mode": {
    "name": "ipython",
    "version": 3
   },
   "file_extension": ".py",
   "mimetype": "text/x-python",
   "name": "python",
   "nbconvert_exporter": "python",
   "pygments_lexer": "ipython3",
   "version": "3.5.1"
  }
 },
 "nbformat": 4,
 "nbformat_minor": 0
}
