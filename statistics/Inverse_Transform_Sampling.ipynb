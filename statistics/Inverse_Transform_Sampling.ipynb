{
 "cells": [
  {
   "cell_type": "markdown",
   "metadata": {
    "toc": "true"
   },
   "source": [
    "# Table of Contents\n",
    " <p><div class=\"lev1\"><a href=\"#逆関数法\"><span class=\"toc-item-num\">1&nbsp;&nbsp;</span>逆関数法</a></div><div class=\"lev2\"><a href=\"#例-:-指数分布\"><span class=\"toc-item-num\">1.1&nbsp;&nbsp;</span>例 : 指数分布</a></div>"
   ]
  },
  {
   "cell_type": "markdown",
   "metadata": {},
   "source": [
    "# 逆関数法\n",
    "\n",
    "累積分布関数の縦軸の範囲は[0,1]\n",
    "\n",
    "だから、[0,1]から一様にサンプルした確率変数に対して、累積分布関数の逆関数を作用させれば、もとの確率分布になｒ"
   ]
  },
  {
   "cell_type": "markdown",
   "metadata": {},
   "source": [
    "## 例 : 指数分布\n",
    "\n",
    "$p(x)=\\frac{1}{\\mu}\\exp(\\frac{-x}{\\mu})$"
   ]
  },
  {
   "cell_type": "markdown",
   "metadata": {},
   "source": [
    "$f(x)=\\int_0^{\\infty}\\frac{1}{\\mu}\\exp(\\frac{-x}{\\mu})dx'$  \n",
    "$=-\\exp(\\frac{-x}{\\mu})+1$"
   ]
  },
  {
   "cell_type": "markdown",
   "metadata": {},
   "source": [
    "$y=-\\exp(\\frac{-x}{\\mu})+1$  \n",
    "$x=\\mu\\log(-y+1)$"
   ]
  },
  {
   "cell_type": "code",
   "execution_count": null,
   "metadata": {
    "collapsed": true
   },
   "outputs": [],
   "source": []
  }
 ],
 "metadata": {
  "kernelspec": {
   "display_name": "Python 3",
   "language": "python",
   "name": "python3"
  },
  "language_info": {
   "codemirror_mode": {
    "name": "ipython",
    "version": 3
   },
   "file_extension": ".py",
   "mimetype": "text/x-python",
   "name": "python",
   "nbconvert_exporter": "python",
   "pygments_lexer": "ipython3",
   "version": "3.5.2"
  },
  "nav_menu": {},
  "toc": {
   "navigate_menu": true,
   "number_sections": true,
   "sideBar": false,
   "threshold": 6,
   "toc_cell": true,
   "toc_section_display": "block",
   "toc_window_display": false
  }
 },
 "nbformat": 4,
 "nbformat_minor": 0
}
