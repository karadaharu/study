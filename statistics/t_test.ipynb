{
 "cells": [
  {
   "cell_type": "markdown",
   "metadata": {
    "toc": "true"
   },
   "source": [
    "# Table of Contents\n",
    " <p><div class=\"lev1\"><a href=\"#t検定\"><span class=\"toc-item-num\">1&nbsp;&nbsp;</span>t検定</a></div><div class=\"lev2\"><a href=\"#特徴\"><span class=\"toc-item-num\">1.1&nbsp;&nbsp;</span>特徴</a></div><div class=\"lev2\"><a href=\"#参考文献\"><span class=\"toc-item-num\">1.2&nbsp;&nbsp;</span>参考文献</a></div>"
   ]
  },
  {
   "cell_type": "markdown",
   "metadata": {},
   "source": [
    "# t検定\n",
    "\n",
    "## 特徴\n",
    "* 対応ありと対応なし両方に使える\n",
    "* 対応なしの場合、等分散性を仮定する\n",
    "* なのでt検定の前にルビーン(Levene)検定を行い、各群の分散が等しいことを確認する\n",
    "* 等分散性を仮定しない場合はウェルチの方法を用いる"
   ]
  },
  {
   "cell_type": "markdown",
   "metadata": {},
   "source": [
    "## 参考文献\n",
    "* http://www.u.tsukuba.ac.jp/~hirai.akiyo.ft/forstudents/hirai6-18.pdf hirai6-18.pdf"
   ]
  },
  {
   "cell_type": "code",
   "execution_count": null,
   "metadata": {
    "collapsed": true
   },
   "outputs": [],
   "source": []
  }
 ],
 "metadata": {
  "kernelspec": {
   "display_name": "Python 3",
   "language": "python",
   "name": "python3"
  },
  "language_info": {
   "codemirror_mode": {
    "name": "ipython",
    "version": 3
   },
   "file_extension": ".py",
   "mimetype": "text/x-python",
   "name": "python",
   "nbconvert_exporter": "python",
   "pygments_lexer": "ipython3",
   "version": "3.5.2"
  },
  "nav_menu": {},
  "toc": {
   "navigate_menu": true,
   "number_sections": true,
   "sideBar": false,
   "threshold": 6,
   "toc_cell": true,
   "toc_section_display": "block",
   "toc_window_display": false
  }
 },
 "nbformat": 4,
 "nbformat_minor": 0
}
