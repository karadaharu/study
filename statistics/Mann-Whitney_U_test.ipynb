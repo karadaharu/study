{
 "cells": [
  {
   "cell_type": "markdown",
   "metadata": {
    "toc": "true"
   },
   "source": [
    "# Table of Contents\n",
    " <p><div class=\"lev2\"><a href=\"#概要\"><span class=\"toc-item-num\">0.1&nbsp;&nbsp;</span>概要</a></div><div class=\"lev2\"><a href=\"#手順\"><span class=\"toc-item-num\">0.2&nbsp;&nbsp;</span>手順</a></div><div class=\"lev3\"><a href=\"#1.-Uを求める\"><span class=\"toc-item-num\">0.2.1&nbsp;&nbsp;</span>1. Uを求める</a></div><div class=\"lev4\"><a href=\"#小標本のとき\"><span class=\"toc-item-num\">0.2.1.1&nbsp;&nbsp;</span>小標本のとき</a></div><div class=\"lev3\"><a href=\"#2.-判定する\"><span class=\"toc-item-num\">0.2.2&nbsp;&nbsp;</span>2. 判定する</a></div><div class=\"lev4\"><a href=\"#小標本のとき\"><span class=\"toc-item-num\">0.2.2.1&nbsp;&nbsp;</span>小標本のとき</a></div><div class=\"lev2\"><a href=\"#備考\"><span class=\"toc-item-num\">0.3&nbsp;&nbsp;</span>備考</a></div><div class=\"lev2\"><a href=\"#参考文献\"><span class=\"toc-item-num\">0.4&nbsp;&nbsp;</span>参考文献</a></div>"
   ]
  },
  {
   "cell_type": "markdown",
   "metadata": {},
   "source": [
    "## 概要\n",
    "ノンパラメトリック検定のひとつ。特定の母集団がもう一方より大きな値をもつ傾向にあるとき、ふたつの母集団が同じであるとする帰無仮説に基いて検定する。\n"
   ]
  },
  {
   "cell_type": "markdown",
   "metadata": {},
   "source": [
    "## 手順\n",
    "帰無仮説：2群に差がない\n",
    "\n",
    "### 1. Uを求める\n",
    "#### 小標本のとき\n",
    "$n_1,n_2\\leq 20$ のとき、標本サイズが小さい方を標本1、大きい方を標本2とする。標本1の各サンプルについて、標本2の中でそれよりも小さい値が得られた観察の度数を数える。これらの度数をすべて総和したものがUである。\n",
    "\n",
    "### 2. 判定する\n",
    "#### 小標本のとき\n",
    "Mann-Whitney検定表よりU値がそれ以上極端になる確率Pを求める。\n",
    "\n"
   ]
  },
  {
   "cell_type": "markdown",
   "metadata": {},
   "source": [
    "## 備考\n",
    "各標本サイズが3以下だと検定表がない。\n",
    "\n",
    "n < 6 でノンパラメトリック検定が使えない理由は，有意水準 5%で有意になることがないためである（水本2010)"
   ]
  },
  {
   "cell_type": "markdown",
   "metadata": {},
   "source": [
    "## 参考文献\n",
    "* https://ja.wikipedia.org/wiki/%E3%83%9E%E3%83%B3%E3%83%BB%E3%83%9B%E3%82%A4%E3%83%83%E3%83%88%E3%83%8B%E3%83%BC%E3%81%AEU%E6%A4%9C%E5%AE%9A\n",
    "* http://kusuri-jouhou.com/statistics/mann.html\n",
    "* http://www.mizumot.com/files/permutation.pdf (水本2010.pdf)"
   ]
  },
  {
   "cell_type": "code",
   "execution_count": null,
   "metadata": {
    "collapsed": true
   },
   "outputs": [],
   "source": []
  },
  {
   "cell_type": "code",
   "execution_count": null,
   "metadata": {
    "collapsed": true
   },
   "outputs": [],
   "source": []
  }
 ],
 "metadata": {
  "kernelspec": {
   "display_name": "Python 3",
   "language": "python",
   "name": "python3"
  },
  "language_info": {
   "codemirror_mode": {
    "name": "ipython",
    "version": 3
   },
   "file_extension": ".py",
   "mimetype": "text/x-python",
   "name": "python",
   "nbconvert_exporter": "python",
   "pygments_lexer": "ipython3",
   "version": "3.5.2"
  },
  "nav_menu": {},
  "toc": {
   "navigate_menu": true,
   "number_sections": false,
   "sideBar": false,
   "threshold": 6,
   "toc_cell": true,
   "toc_section_display": "block",
   "toc_window_display": true
  }
 },
 "nbformat": 4,
 "nbformat_minor": 0
}
