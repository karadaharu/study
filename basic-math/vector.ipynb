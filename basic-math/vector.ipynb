{
 "cells": [
  {
   "cell_type": "markdown",
   "metadata": {
    "toc": "true"
   },
   "source": [
    "# Table of Contents\n",
    " <p><div class=\"lev2\"><a href=\"#作用素\"><span class=\"toc-item-num\">0.1&nbsp;&nbsp;</span>作用素</a></div><div class=\"lev3\"><a href=\"#勾配\"><span class=\"toc-item-num\">0.1.1&nbsp;&nbsp;</span>勾配</a></div><div class=\"lev3\"><a href=\"#ラプラシアン\"><span class=\"toc-item-num\">0.1.2&nbsp;&nbsp;</span>ラプラシアン</a></div><div class=\"lev3\"><a href=\"#ヘッセ行列\"><span class=\"toc-item-num\">0.1.3&nbsp;&nbsp;</span>ヘッセ行列</a></div>"
   ]
  },
  {
   "cell_type": "markdown",
   "metadata": {},
   "source": [
    "$\\sum_{i,j} x_{i} x_{j}$"
   ]
  },
  {
   "cell_type": "markdown",
   "metadata": {
    "collapsed": true
   },
   "source": [
    "## 作用素\n",
    "### 勾配\n",
    "$\\nabla f = (\\frac{\\partial}{\\partial x_{1}},\\cdots,\\frac{\\partial}{\\partial x_{n}})$\n",
    "\n",
    "\n",
    "### ラプラシアン\n",
    "$\\Delta f= \\nabla^{2} f = \\sum_{i} \\frac{\\partial^{2}f}{\\partial x^{2}_{i}}$"
   ]
  },
  {
   "cell_type": "markdown",
   "metadata": {},
   "source": [
    "### ヘッセ行列\n",
    "n変数関数に対して、ij成分が$\\frac{\\partial f^{2}}{\\partial x_{i} \\partial x_{j}}$であるようなnxn行列をヘッセ行列といいます。\n",
    "\n",
    "関数の極値を求めるのに使います。"
   ]
  },
  {
   "cell_type": "code",
   "execution_count": null,
   "metadata": {
    "collapsed": true
   },
   "outputs": [],
   "source": []
  }
 ],
 "metadata": {
  "kernelspec": {
   "display_name": "Python 3",
   "language": "python",
   "name": "python3"
  },
  "language_info": {
   "codemirror_mode": {
    "name": "ipython",
    "version": 3
   },
   "file_extension": ".py",
   "mimetype": "text/x-python",
   "name": "python",
   "nbconvert_exporter": "python",
   "pygments_lexer": "ipython3",
   "version": "3.5.1"
  },
  "nav_menu": {},
  "toc": {
   "navigate_menu": true,
   "number_sections": true,
   "sideBar": false,
   "threshold": 6,
   "toc_cell": true,
   "toc_section_display": "block",
   "toc_window_display": false
  }
 },
 "nbformat": 4,
 "nbformat_minor": 0
}
