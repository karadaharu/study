{
 "cells": [
  {
   "cell_type": "markdown",
   "metadata": {
    "toc": "true"
   },
   "source": [
    "# Table of Contents\n",
    " <p><div class=\"lev2\"><a href=\"#遺伝的浮動(genetic-drift)\"><span class=\"toc-item-num\">0.1&nbsp;&nbsp;</span>遺伝的浮動(genetic drift)</a></div><div class=\"lev2\"><a href=\"#Wright-Fisher-model\"><span class=\"toc-item-num\">0.2&nbsp;&nbsp;</span>Wright-Fisher model</a></div>"
   ]
  },
  {
   "cell_type": "markdown",
   "metadata": {},
   "source": [
    "## 遺伝的浮動(genetic drift)\n",
    "遺伝的浮動：無作為抽出の効果によって生じる、遺伝子プールにおける対立遺伝子頻度の変化\n",
    "\n",
    "具体的には、ある子世代における対立遺伝子（allele)は親世代の対立遺伝子からの無作為抽出で決定されるモデルを考える。このモデルが過程しているのは、個体が繁殖に成功するか否かはランダムに決まるということである。\n",
    "\n",
    "このとき、細胞集団中の対立遺伝子頻度(allele frequency)はランダムに増減する。このランダム性によって遺伝的多様性は減少する。この効果は集団が小さいと強くなる（たぶんいわゆる少数性）\n",
    "\n",
    "## Wright-Fisher model\n",
    "ある遺伝子座にふたつの対立遺伝子A、aがありそれぞれの頻度をp、qとする。N個体の2倍体生物を考える。世代が重複しない（1年生植物など)かつ、子世代に出現する遺伝子のコピーは親世代の遺伝子プールからの無作為抽出であると仮定すれば、子世代集団中で対立遺伝子Aがkコピー得られる確率は、\n",
    "\n",
    "$_{2N}C_{k}p^{k}q^{2N-k}$"
   ]
  },
  {
   "cell_type": "code",
   "execution_count": null,
   "metadata": {
    "collapsed": true
   },
   "outputs": [],
   "source": []
  }
 ],
 "metadata": {
  "kernelspec": {
   "display_name": "Python 3",
   "language": "python",
   "name": "python3"
  },
  "language_info": {
   "codemirror_mode": {
    "name": "ipython",
    "version": 3
   },
   "file_extension": ".py",
   "mimetype": "text/x-python",
   "name": "python",
   "nbconvert_exporter": "python",
   "pygments_lexer": "ipython3",
   "version": "3.5.1"
  },
  "nav_menu": {},
  "toc": {
   "navigate_menu": true,
   "number_sections": true,
   "sideBar": false,
   "threshold": 6,
   "toc_cell": true,
   "toc_section_display": "block",
   "toc_window_display": false
  }
 },
 "nbformat": 4,
 "nbformat_minor": 0
}
