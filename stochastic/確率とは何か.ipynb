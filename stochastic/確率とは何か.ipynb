{
 "cells": [
  {
   "cell_type": "markdown",
   "metadata": {},
   "source": [
    "## 1章 確率空間\n",
    "### 1. なぜ確率空間か？\n",
    "\n",
    "確率空間は次の３つから構成されます\n",
    "\n",
    "* 標本空間 $\\Omega$\n",
    "* 確率の定義される部分集合全体 $\\cal{B}$\n",
    "* その上の関数としての確率測度 $P$\n"
   ]
  },
  {
   "cell_type": "markdown",
   "metadata": {},
   "source": [
    "あることがらの確率を計算するためには、そのことがらに対応する標本空間Ωの部分集合を考え、その部分集合についての確率を計算すれば求められます。(例：サイコロの目が奇数である確率)\n",
    "\n",
    "しかし、無限回のコインを投げたときを考えるとどうでしょうか。\n",
    "\n",
    "ある系列ωが起きる可能性は\n",
    "\n",
    "$P(\\omega)=(\\frac{1}{2})^{\\infty}=0$\n",
    "\n",
    "ですが、4回目に表が出る確率は、4回目に表がでる部分集合Aを考えると、\n",
    "\n",
    "$P(A)=(\\frac{1}{2})^{\\infty} \\times \\# A =  0 \\times \\infty$\n",
    "\n",
    "となってしまいますが、直感的には明らかに1/2です。1/2にちゃんとなるような確率はどのように定義できるでしょうか？\n",
    "\n",
    "あることがらの確率を考えるには、そのことがらに対応する$\\Omega_{\\infty}$の部分集合に対して確率が定義されているかを確認する必要があります。"
   ]
  },
  {
   "cell_type": "markdown",
   "metadata": {},
   "source": [
    "### 2. 確率の測れる部分集合\n",
    "確率の定義されいている部分集合全体は\"σ-集合体\"として特徴づけられます。\n",
    "\n",
    "#### 2.1 σ-集合体\n",
    "\n",
    "$\\Omega$を空でない集合とする。確率の定義されている$\\Omega$の部分集合全体$\\cal{B}$はどのように特徴づけられるでしょうか。\n",
    "\n",
    "まず、$\\Omega$全体の確率は1なので$\\Omega$は$\\cal{B}$の要素です。\n",
    "\n",
    "また、ある部分集合Aについて確率が定義されているとき、$A^{C}=\\Omega\\backslash A$は$P(A^{C})=1-P(C)$であるため、$A^{C}\\in \\cal{B}$です。\n",
    "\n",
    "部分集合列$A_{n}$についてそれぞれ確率が定義されているとき、和集合$\\cup^{\\infty}_{n=1}A_{n}$も確率が定義されると仮定します。\n",
    "\n",
    "この3つの性質\n",
    "\n",
    "1. $\\Omega \\in \\cal{B}$\n",
    "2. $A \\in \\cal{B} \\Rightarrow A^{C} \\in \\cal{B}$\n",
    "3. $A_{1},A_{2},A_{3}, ... \\in \\cal{B} \\Rightarrow  \\cup^{\\infty}_{n=1}A_{n} \\in \\cal{B}$\n",
    "\n",
    "を満たす$\\cal{B}$を$\\Omega$上のσ-集合体といいます。言い換えると、Ωを標本空間とする確率はΩ上のσ-集合体の上に定義されています。\n",
    "\n",
    "問:σ-集合体じゃないような部分集合族ってどんなもの？"
   ]
  },
  {
   "cell_type": "markdown",
   "metadata": {},
   "source": [
    "#### 2.3 ボレル集合体\n",
    "\n",
    "\n",
    "$E=(E,{\\bf d})$を距離空間、$\\cal{O}$をEの開部分集合全体からなる集合族とします。\n",
    "\n",
    "(距離空間とは集合から取り出した2つの要素に対して非負である距離関数が定義されている集合)\n",
    "\n",
    "このとき、$\\cal{O}$から生成されるE上のσ-集合体 $\\cal{B}(E) \\overset{=}{\\leftharpoondown}\\sigma[\\cal{O}]$をE上のボレル集合体、Eの部分集合で$\\cal{B}(E)$に属するものをEのボレル集合といいます。"
   ]
  },
  {
   "cell_type": "markdown",
   "metadata": {},
   "source": [
    "#### 2.4 直積σ-集合体\n",
    "標本空間ΩとΩ上のσ-集合体$\\cal{B}$とを組にしたもの$(\\Omega,\\cal{B})$を**可測空間**といいます。ふたつの可測空間$(\\Omega_{1},\\cal{B}_{1})$、$(\\Omega_{2},\\cal{B}_{2})$が与えられた時、直積空間$\\Omega_{1}\\times \\Omega_{2}$の部分集合族から生成される$\\Omega_{1}\\times \\Omega_{2}$上のσ-集合体\n",
    "\n",
    "${\\cal B}_{1} \\times {\\cal B}_{2}  = \\sigma [A \\times B \\subset \\Omega_{1} \\times \\Omega_{2} : A \\in {\\cal B}_{1}, B \\in {\\cal B}_{2}]$\n",
    "\n",
    "を${\\cal B}_{1}$と${\\cal B}_{2}$の**直積σ-集合体**、$(\\Omega_{1}\\times \\Omega_{2}, {\\cal B}_{1} \\times {\\cal B}_{2})$を$(\\Omega_{1}, {\\cal B}_{1})$と$(\\Omega_{2}, {\\cal B}_{2})$の直積可測空間といいます。一般のn個の可測空間についても同様です。\n",
    "\n",
    "2つの集合A,Bの直積集合とは、以下で定義される、それぞれの集合から1つずつ要素を取り出した全ての組合せの集合のことです。\n",
    "\n",
    "$A \\times B = \\{(a,b) | a \\in A \\cap b \\in B \\}$"
   ]
  },
  {
   "cell_type": "markdown",
   "metadata": {},
   "source": [
    "### 3. 確率測度\n",
    "$(\\Omega,\\cal{B})$を可測空間とします。「確率」とは、$A\\in \\cal{B}$に対して$0\\leq P(A) \\leq 1$を対応させる関数Pとして定式化されます。\n",
    "それでは、この関数Pはどのような条件を満たせばいいでしょうか？\n",
    "\n",
    "#### 3.1 確率測度の定義\n",
    "$(\\Omega,\\cal{B})$を可測空間とします。$\\cal{B}$上に定義された関数Pでつぎの条件を満たすものを$(\\Omega,\\cal{B})$上のi**確率測度**またはたんに**確率**といい、$(\\Omega, \\cal{B}, P)$の組を確率空間といいます。\n",
    "\n",
    "1. 任意の$A\\in \\cal{B}$に対して$0\\leq P(A) \\leq 1$\n",
    "2. $P(\\Omega)=1$\n",
    "3. (加算加法性) $A_{k} \\in \\cal{B}, A_{k} \\cap A_{l} =\\emptyset (k\\neq l) , k.l\\in N$であれば、 $P(\\cup^{\\infty}_{k=1} A_{k})=\\sum^{\\infty}_{k=1}P(A_{k})$"
   ]
  },
  {
   "cell_type": "markdown",
   "metadata": {},
   "source": [
    "#### 3.3 ユークリッド空間上の確率測度\n",
    "ここでは次の2つのことを示します。\n",
    "\n",
    "* d次元ユークリッド空間${\\bf R}^{d}$上のボレル集合体${\\bf B}_{d}$上に定義された確率測度(**ボレル確率測度**)は、d次元半階区間全体${\\bf J}_{d}$上の値で一意的に定まる\n",
    "* $d=1$の場合、実数空間${\\bf R}$上のボレル確率測度μは文武館数$F(x)=\\mu((-\\infty,x]),x\\in {\\bf R}$によって一意的に定まる\n",
    "\n",
    "\n",
    "一般に${\\bf R}^{d}$上のボレル確率測度μについて、一点集合がすべて零集合、すなわち\n",
    "\n",
    "$\\mu(x)=0, x\\in {\\bf R}^{d}$\n",
    "\n",
    "であるとき、μを**連続確率測度**といいます。ルベーグ測度、ガウス測度、コーシー測度は連続確率測度であるが、ポアソン測度、ディラック測度は連続ではありません。"
   ]
  },
  {
   "cell_type": "markdown",
   "metadata": {},
   "source": [
    "#### 3.4 確率空間の完備化\n",
    "確率空間が完備であるとは、任意の零集合のすべての部分集合が${\\cal B}$に属すること、すなわち\n",
    "\n",
    "$N\\in {\\cal B} , P(N)=0, A \\subset N \\Rightarrow A \\in {\\cal B}$\n",
    "\n",
    "が成り立つことです。つまり、確率0である部分集合の部分集合についてちゃんと確率0として確率が定義されている、ということです。\n",
    "\n",
    "零集合:測度が0であるような集合\n",
    "\n",
    "例:\n",
    "\n",
    "$\\Omega=(0,1],{\\cal B}={ \\varnothing ,(0, 1/2] , (1/2, 1], (0,1]}$ とする\n",
    "\n",
    "完備な例：\n",
    "\n",
    "$P(\\varnothing)=0,P((0,1/2])=P((1/2,1])=1/2,P((0,1])=1$\n",
    "\n",
    "と定義すると、零集合は$\\varnothing$だけであるから、この確率空間は完備です。\n",
    "\n",
    "完備でない例:\n",
    "\n",
    "$P(\\varnothing)=P((0,1/2])=0,P((1/2,1])=P((0,1])=1$\n",
    "\n",
    "とすると、零集合の部分集合、例えば(0.1,0.2)が${\\cal B}$に属さないので、完備ではありません。\n",
    "これは${\\cal B}$が不自然な部分集合だからです。ふつうに考えれば、$P((0.1,0.2))=0$になってほしいです。そのような確率空間への拡張が確率空間の完備化です。\n",
    "\n"
   ]
  },
  {
   "cell_type": "markdown",
   "metadata": {},
   "source": [
    "**確率空間の完備化**\n",
    "\n",
    "$(\\Omega, {\\cal B}, P)$を確率空間とします。\n",
    "\n",
    "$\\bar{ {\\cal B} }=\\{A \\subset \\Omega: C,D \\in {\\cal B},   C \\subset A \\subset D \\: {\\rm and}\\: P(C\\backslash D)=0 \\:{\\rm exists}\\}$\n",
    "\n",
    "$\\bar{P}(A)=P(C),\\: A \\in {\\cal B}$と定義すると$(\\Omega, \\bar{ {\\cal B} },\\bar{P})$は完備確率空間になります。この確率空間を確率空間$(\\Omega, {\\cal B}, P)$の完備化といいます。"
   ]
  },
  {
   "cell_type": "markdown",
   "metadata": {
    "collapsed": true
   },
   "source": [
    "#### 3.5 σ-有限測度\n",
    "$(\\Omega, {\\cal B})$を可測空間とするとき、${\\cal B}$上に定義された関数mで以下の条件を満たすものを**測度**といいます。\n",
    "\n",
    "1. 任意の$A \\in {\\cal B}$に対して$0 \\leq m(A) \\leq + \\infty$\n",
    "2. $m(\\varnothing)=0$\n",
    "3. (加算加法性) $A_{k} \\in \\cal{B}, A_{k} \\cap A_{l} =\\emptyset (k\\neq l) , k.l\\in N$であれば、 $P(\\cup^{\\infty}_{k=1} A_{k})=\\sum^{\\infty}_{k=1}P(A_{k})$\n",
    "\n",
    "特に$m(\\Omega)<+\\infty$であればmを有限測度、また$\\Omega_{n}\\in {\\cal B}, \\: n \\in N$で\n",
    "\n",
    "$\\Omega=\\cup^{\\infty}_{n=1}, \\: \\Omega_{m} \\cap \\Omega_{n} = \\varnothing(m \\neq n), \\: m(\\Omega_{n}) < + \\infty, \\: m, n \\in N$\n",
    "\n",
    "となるものが存在するとき、mをσ-有限測度といいます。σ-有限測度ではあるけど、有限測度ではない、ということがあることに注意してください。\n",
    "\n",
    "一般の測度mが確率測度の定理を満たさないことの典型的な例である、ルベーグ測度について説明しておきましょう。\n",
    "\n",
    "#### ルベーグ測度\n",
    "$(R,B_{1})$上の測度$m_{0}$で、区間に対してその長さを対応させるもの、すなわち、\n",
    "\n",
    "$m_{0}((a,b])=b-a, \\: -\\infty < a \\leq b < + \\infty $\n",
    "\n",
    "となるものが存在することが知られています。この測度空間$(R,B_{1},m_{0})$を完備化したものを$(R,\\bar{B_{1}},\\bar{m_{0}})$とします。\n",
    "このとき、$\\bar{m_{0}}$を1次元ルベーグ測度といいます。\n",
    "\n",
    "特に、1次元ルベーグ測度を区間(0,1]上で考えると確率測度になりますが、このとき確率空間((0,1],M(0,1],m)をルベーグ空間といいます。\n",
    "\n"
   ]
  },
  {
   "cell_type": "markdown",
   "metadata": {},
   "source": [
    "### 4. 確率変数\n",
    "確率変数とは、確率空間上の可測関数のことです。この節では、次の3つのことについて述べます。\n",
    "\n",
    "1. 可測関数\n",
    "2. 可測関数の単関数列による近似\n",
    "3. 確率変数列の概収束と確率収束\n",
    "\n",
    "#### 4.1 可測関数\n",
    "(Ω,B)を可測空間、X=X(ω)をΩ上に定義された実数または+∞、-∞の値をとる関数とします。いま任意の実数αに対して、\n",
    "\n",
    "$\\{\\omega \\in \\Omega : X(\\omega)>\\alpha \\} \\in {\\cal B}$\n",
    "\n",
    "となるとき、つまり、どんなαに対してもX(ω)がαを超えるような区間ωがあったときにはそれは必ずBに含まれる、というとき、Xを(Ω,B)上の**可測関数**、関数Xは${\\cal B}$-可測といいます。特に、Xが±∞の値をとらないとき、**実可測関数**といいます。[\\*1]\n",
    "\n",
    "[\\*1]\n",
    "どんなαに対してもαを超えるような写像が存在するのに±∞を取らない関数なんて存在するのか？と思うかもしれませんが、そうではなく、必ずα以上になるようなωがΩに存在している必要はなく、もしそれが空集合なのであれば、それはそれで良いということです。たぶん。\n",
    "\n"
   ]
  },
  {
   "cell_type": "markdown",
   "metadata": {},
   "source": [
    "#### 4.2 単関数\n",
    "(Ω,B)を可測空間とします。Ωの部分集合Aに対して、\n",
    "\n",
    "$I_{A}(\\omega)=\n",
    "\\begin{cases}\n",
    "    1, \\:\\: \\omega \\in A\\\\\n",
    "    0,\\:\\: \\omega \\not\\in A\n",
    "\\end{cases}\n",
    " $\n",
    " \n",
    " で定義された関数$I_{A}(\\omega)$を集合Aの定義集合といいます。$I_{A}$が可測関数であることと、$A\\in {\\cal B}$であることは同値です。\n",
    " \n",
    " (Ω,B)上の関数X=X(ω)が**単関数**であるとは、ある$A_{1},A_{2},\\cdots \\in {\\cal B}$と、ある$a_{1}, a_{2}, \\cdots \\in {\\bf R} $で、\n",
    " \n",
    " $A_{k} \\cap A_{l} = \\varnothing (k \\neq l), \\: k,l=1,2,\\cdots,n$かつ$\\Omega=\\cup^{n}_{k=1}A_{k}$\n",
    " \n",
    " となるものが存在して\n",
    " \n",
    "  $X(\\omega)=\\sum^{n}_{k=1}a_{k}I_{A_{k}}(\\omega),\\: \\omega \\in \\Omega$\n",
    "  \n",
    "  と表されることをいいます。単関数を有限個のみの値をとる実可測関数ということもできます。この単関数を用いて可測関数を近似することができます。 "
   ]
  },
  {
   "cell_type": "markdown",
   "metadata": {},
   "source": [
    "#### 4.3 確率変数\n",
    "Xが確率空間(Ω,B,P)上の確率変数であるとは、Xが可測空間(Ω,B)上の可測関数であることをいいます。\n",
    "\n",
    "可測関数は標本空間Ωからどこかへの写像をする関数\n",
    "\n",
    "ある標本空間の部分集合に対しては、確率測度がすでに定義されている。そうすると、ある確率変数の写像後の値になる確率が求められる？\n",
    "その操作の意味？だったらもう一度標本空間を定義すればいいのでは？うーん。イメージが掴めないけどとりあえず読み進める。\n"
   ]
  },
  {
   "cell_type": "markdown",
   "metadata": {
    "collapsed": true
   },
   "source": [
    "#### 4.4 確率変数列の概収束\n",
    "$\\{X_{n}\\}$を実確率変数列、Xを実確率変数とします。さて、\n",
    "\n",
    "$\\Xi   \\equiv  \\{\\omega \\in \\Omega : \\{X_{n}\\}\\mbox{が}X(\\omega)\\mbox{に収束する}\\}\\\\\n",
    " = \\{\\omega \\in \\Omega : \\mbox{任意の} p\\in N \\mbox{に対して、ある}n\\in N \\mbox{が存在して、}k \\geq n \\mbox{となるすべてのkについて}|X(\\omega)-X_{k}(\\omega)|<\\frac{1}{p}\\}\\\\\n",
    " = \\cap_{p=1}^{\\infty} \\cup_{n=1}^{\\infty} \\cap_{k=n}^{\\infty} \\{\\omega \\in \\Omega : |X(\\omega)-X_{k}(\\omega)|<\\frac{1}{p}\\}$"
   ]
  },
  {
   "cell_type": "markdown",
   "metadata": {},
   "source": [
    "と定義したとき、$P(\\Xi)=1$すなわち$\\{X_{n}\\}$がほとんどいたるところXに収束すｒつおき、実確率変数列$\\{X_{n}\\}$は実確率変数Xに**概収束**するといいます。これを\n",
    "\n",
    "$X=lim_{n} X_{n}, \\: a.e.$\n",
    "\n",
    "と書きます。"
   ]
  },
  {
   "cell_type": "markdown",
   "metadata": {
    "collapsed": true
   },
   "source": [
    "#### 4.5 確率収束\n",
    "実確率変数列$\\{X_{n}\\}$が実確率変数Xに**確率収束**するとは、任意の正数εに対して\n",
    "\n",
    "$\\lim_{n\\rightarrow \\infty} P(|X-X_{n}|>\\varepsilon)=0$\n",
    "\n",
    "となることをいいます。\n",
    "\n",
    "概収束するとき、確率収束しますが、その逆は成り立ちません。例をみてみましょう。\n",
    "\n",
    "ルベーグ空間((0,1],M(0,1],m)上の実確率変数列をつぎのように定義します。\n",
    "\n",
    "$f_{n,k}(\\omega)=I_{(\\frac{k-1}{n},\\frac{k}{n}}(\\omega),\\:\\:\\omega \\in (0,1], k=1,2,\\cdots,n,\\: n \\in N$\n",
    "\n",
    "として、\n",
    "\n",
    "$X_{1} = f_{1,1},\\: X_{2}=f_{2,1},X_{3}=f_{2,2},\\cdots$\n",
    "\n",
    "と定義します。つまり、だんだん確率が1である範囲の幅が狭くなっていき、それがその幅分だけ0から1まで移動してくような描像です。\n",
    "\n",
    "このとき任意の$\\omega \\in \\Omega$について、\n",
    "\n",
    "$\\lim_{n\\rightarrow \\infty }\\inf X_{n}(\\omega)= 0 < 1 = \\lim_{n \\rightarrow \\infty} \\sup X_{n}(\\omega)$\n",
    "\n",
    "であるから$\\{X_{n}\\}$は概収束しません。(この定理を使った証明は置いておいたとしても、ずっと確率が1である範囲は移動し続けるのである形に収束しないことが分かります）\n",
    "\n",
    "一方で、任意の正数εに対して、$n>\\frac{k(k+1)}{2}$であれば$P(|X_{n}|>\\varepsilon) \\geq \\frac{1}{k})$であるから確率収束はします。（極限を考えると、だいたいどこにおいても確率0であるような確率分布になることがわかります）\n",
    "\n"
   ]
  },
  {
   "cell_type": "markdown",
   "metadata": {},
   "source": [
    "### 5. 平均値\n",
    "#### 5.1 平均値の定義\n",
    "ここでは、確率空間(Ω,B,P)上の確率変数Xの平均値について、\n",
    "\n",
    "1. Xが非負単関数の場合\n",
    "2. Xが非負確率変数の場合\n",
    "3. Xが一般の確率変数の場合\n",
    "\n",
    "と順を追って定義します。\n",
    "\n",
    "**非負担関数の平均値**\n",
    "\n",
    "Xを非負単関数とします。Xは\n",
    "\n",
    "$X_{(\\omega)}=\\sum_{k=1}^{n}a_{k}I_{A_{k}}(\\omega), \\: \\omega \\in \\Omega$\n",
    "\n",
    "$a_{k}\\leq 0, \\: A_{k} \\in {\\cal B}, \\: A_{k} \\cap A_{l} = \\varnothing (k \\neq l), \\: k,l=1,2,\\cdots ,n,\\: \\cup^{n}_{k=1}A_{k}=\\Omega$と一般に書けます。このとき、Xの平均値を次のように定義します。\n",
    "\n",
    "$E(X)=\\sum_{k=1}^(n)a_{k}P(A_{k})$\n",
    "\n",
    "**非負確率変数の平均値**\n",
    "\n",
    "Xを非負確率変数とします。これは可測空間(Ω,B)上の非負可測関数のことです。したがって、近似単関数列、すなわち非負単関数列$\\{X_{n}\\}$で、任意の$n\\in \\Omega$について\n",
    "\n",
    "$0 \\leq X_{1}(\\omega) \\leq X_{2}(\\omega) \\leq \\cdots \\leq X(\\omega)\\\\\n",
    "X_{\\omega}(\\omega)=\\lim_{n\\rightarrow \\infty} X_{n}(\\omega)$\n",
    "\n",
    "となるものが存在します。そこでXの平均値を\n",
    "\n",
    "$E[X] = \\lim_{n \\rightarrow \\infty} E[X_{n}] \\leq +\\infty$\n",
    "\n",
    "で定義します。Xの近似単関数列は一意ではありませんが、Xの平均値は近似単関数列の選び方によらず一意に定まることが示せます\n",
    "\n",
    "\n"
   ]
  },
  {
   "cell_type": "markdown",
   "metadata": {
    "collapsed": true
   },
   "source": [
    "**一般の確率変数の平均値**\n",
    "\n",
    "Xを確率変数とします。このとき、$X=X^{+}-X^{-}$と非負確率変数の差として表すことができます。特に、\n",
    "\n",
    "$E[X^{+}]<+\\infty$ かつ $E[X^{-}]<+\\infty$\n",
    "\n",
    "の場合に、Xは**平均可能**(あるいは可積分)といい、\n",
    "\n",
    "$E[X]=E[X^{+}]-E[X^{-}]$\n",
    "\n",
    "によってXの平均値を定義します。"
   ]
  },
  {
   "cell_type": "markdown",
   "metadata": {},
   "source": [
    "#### $L^{p}-収束$\n",
    "ここまで、概収束と確率収束について調べてきました。ここでは、平均値を使った新しい収束の概念「$L^{p}$-収束」について述べます。\n",
    "\n",
    "p>0とします。確率変数列$\\{X_{n}\\}$が確率変数Xに$L^{p}$-収束するとは、\n",
    "\n",
    "$\\lim_{n\\rightarrow \\infty}E[|X-X_{n}|^{p}]=0$\n",
    "\n",
    "となることをいいます。\n",
    "\n",
    "確率変数列$\\{X_{n}\\}$が確率変数Xに$L^{p}$-収束すれば、確率収束します。"
   ]
  },
  {
   "cell_type": "markdown",
   "metadata": {},
   "source": [
    "### 6. 直積確率空間とフビニの定理\n",
    "$(0,1]\\times(0,1]$上での平均値\n",
    "\n",
    "$\\int_{(0,1]\\times(0,1]}\\frac{x^{2}-y^{2}}{(x^{2}+y^{2})^{2}}dxdy$\n",
    "\n",
    "の値を計算してくださいと言われたらどうしたらいいでしょうか？まず、つぎのような逐次平均値を計算してみましょう。\n",
    "\n",
    "$\\int_{0}^{1}dx\\int_{0}^{1}\\frac{x^{2}-y^{2}}{(x^{2}+y^{2})^{2}}dy=\\int_{0}^{1} \\left[\\frac{y}{x^{2}+y^{2}}\\right]^{1}_{y=0}dx=\\int^{1}_{0}\\frac{dx}{x^{2}+1}=\\frac{\\pi}{4}$\n",
    "\n",
    "ここで平均の順番を逆にするとどうなるでしょうか？\n",
    "\n",
    "$\\int_{0}^{1}dy\\int_{0}^{1}\\frac{x^{2}-y^{2}}{(x^{2}+y^{2})^{2}}dx=\\int_{0}^{1} \\left[- \\frac{x}{x^{2}+y^{2}}\\right]^{1}_{x=0}dy=\\int^{1}_{0}-\\frac{dy}{y^{2}+1}=-\\frac{\\pi}{4}$\n",
    "\n",
    "平均の順番によって値が違ってしまいました。それでは最初の平均値の意味はなんでしょうか？このような平均値がどのような条件があれば逐次平均値で得られるのでしょうか？このような問いに答えるのがフビニの定理です。"
   ]
  },
  {
   "cell_type": "markdown",
   "metadata": {
    "variables": {
     "\\cal B}_{1} \\times {\\cal B}_{2} \\times \\cdots \\times {\\cal B}_{n": "<p><strong>SyntaxError</strong>: unexpected character after line continuation character (<ipython-input-1-2e25ca4f8856>, line 1)</p>\n"
    }
   },
   "source": [
    "#### 6.1 直積確率空間\n",
    "$(\\Omega_{1},{\\cal B}_{1}, P_{1}), (\\Omega_{2},{\\cal B}_{2}, P_{2}), \\cdots ,(\\Omega_{n},{\\cal B}_{n}, P_{n})$ \n",
    "\n",
    "をn個の確率空間とするとき、2.4節で定義した直積可測空間\n",
    "\n",
    "$(\\Omega_{1}\\times \\Omega_{2}\\times \\cdots \\times \\Omega_{n}, {\\cal B}_{1} \\times {\\cal B}_{2} \\times \\cdots \\times {\\cal B}_{n} , P_{1} \\times  P_{2} \\times \\cdots \\times P_{n} )$ \n",
    "\n",
    "上に\n",
    "\n",
    "$(P_{1}\\times P_{2}\\times \\cdots \\times P_{n})(A_{1}\\times A_{2}\\times \\cdots \\times A_{n}) = P_{1}(A_{1})P_{2}(A_{2})\\cdots P_{n}(A_{n}), \\: A_{k} \\in {\\cal B_{k}},\\: k=1,2,\\cdots,n$\n",
    "\n",
    "となるような確率測度$P_{1}\\times P_{2}\\times \\cdots \\times P_{n}$が一意的に存在することが知られています。これを$P_{k}, k=1,2,\\cdots ,n$の**直積確率測度**、\n",
    "\n",
    "$(\\Omega_{1}\\times \\Omega_{2}\\times \\cdots \\times \\Omega_{n}, {\\cal B}_{1} \\times {\\cal B}_{2} \\times \\cdots \\times {\\cal B}_{n} , P_{1} \\times  P_{2} \\times \\cdots \\times P_{n} )$ \n",
    "\n",
    "を\n",
    "$(\\Omega_{1},{\\cal B}_{1}, P_{1}), (\\Omega_{2},{\\cal B}_{2}, P_{2}), \\cdots ,(\\Omega_{n},{\\cal B}_{n}, P_{n})$ \n",
    "の**直積確率空間**といいます。また、直積確率空間を完備化したものを**完備直積確率空間**といい、\n",
    "\n",
    "$(\\Omega_{1}\\times \\Omega_{2}\\times \\cdots \\times \\Omega_{n}, \\overline{{\\cal B}_{1} \\times {\\cal B}_{2} \\times \\cdots \\times {\\cal B}_{n}} , \\overline{P_{1} \\times  P_{2} \\times \\cdots \\times P_{n}} )$ \n",
    "\n",
    "と書きます。"
   ]
  },
  {
   "cell_type": "markdown",
   "metadata": {
    "collapsed": true
   },
   "source": [
    "#### 6.2 フビニの定理\n",
    "**定理6.2 フビニの定理:非負確率変数の場合**\n",
    "\n",
    "$X=X(\\omega_{1}, \\omega_{2})$を直積確率空間\n",
    "$(\\Omega_{1}\\times \\Omega_{2}, {\\cal B}_{1} \\times {\\cal B}_{2} , P_{1} \\times  P_{2})$ \n",
    "上の非負確率変数とします。このとき次の性質が成り立ちます。\n",
    "\n",
    "(Φ.1) 任意の$\\omega_{1} \\in \\Omega_{1}$を固定したときに\n",
    "\n",
    "$X_{\\omega{1}}(\\omega_{2}) = X(\\omega_{1}, \\omega_{2})$\n",
    "\n",
    "は確率空間$(\\Omega_{2}, {\\cal B}_{2}, P_{2})$上の確率変数であり、\n",
    "\n",
    "$\\int_{\\Omega_{2}} X(\\omega_{1}, \\omega_{2})d P_{2}(\\omega_{2})$\n",
    "\n",
    "は、${\\cal B_{1}}$-可測、すなわち確率空間$(\\Omega_{1}, {\\cal B}_{1}, P_{1})$上の確率変数です。\n",
    "\n",
    "(Φ.2) 任意の$\\omega_{2} \\in \\Omega_{2}$を固定したときに\n",
    "\n",
    "$X^{\\omega_{2}}(\\omega_{1})=X(\\omega_{1}, \\omega_{2})$\n",
    "\n",
    "は確率空間$(\\Omega_{1}, {\\cal B}_{1}, P_{1})$上の確率変数であり、\n",
    "\n",
    "$\\int_{\\Omega_{1}} X(\\omega_{1}, \\omega_{2})d P_{1}(\\omega_{1})$\n",
    "\n",
    "は、${\\cal B_{2}}$-可測、すなわち確率空間$(\\Omega_{2}, {\\cal B}_{2}, P_{2})$上の確率変数です。\n",
    "\n",
    "(Φ.3)\n",
    "\n",
    "$\\int_{\\Omega_{1}\\times \\Omega_{2}} X(\\omega_{1}, \\omega_{2})d (P_{1} \\times P_{2})(\\omega_{1}, \\omega_{2})\\\\\n",
    "= \\int_{\\Omega_{1}} d P_{1}(\\omega_{1}) \\int_{\\Omega_{2}} X(\\omega_{1}, \\omega_{2}) d P_{2}(\\omega_{2})\\\\\n",
    "= \\int_{\\Omega_{2}} d P_{2}(\\omega_{2}) \\int_{\\Omega_{1}} X(\\omega_{1}, \\omega_{2}) d P_{1}(\\omega_{1})\\\\$\n",
    "\n",
    "ただし、すべてにおいて平均値として、+∞を認めます。\n",
    "\n",
    "つまり、X≧0のときには、$({\\cal B}_{1}, {\\cal B}_{2})$-可測でありさえすれば逐次平均でもとの平均値が求められるということです。\n"
   ]
  },
  {
   "cell_type": "markdown",
   "metadata": {},
   "source": [
    "**定理6.3 フビニの定理 : 平均可能な場合**\n",
    "\n",
    "$X=X(\\omega_{1}, \\omega_{2})$を直積確率空間\n",
    "$(\\Omega_{1}\\times \\Omega_{2}, {\\cal B}_{1} \\times {\\cal B}_{2} , P_{1} \\times  P_{2})$ \n",
    "上の平均可能な確率変数とします。このとき(Φ.1), (Φ.2) , (Φ.3)が成り立ちます。\n",
    "\n",
    "定理6.3は確率変数Xが平均可能であれば、(Φ.3)が成り立つことを主張していますが、それではXが平均可能かどうかを調べるにはどうしたらいいのでしょうか？それには定理6.2を使います。(Φ.3)の3つの式のうち計算しやすいものを計算して値が有限になれば、Xは平均可能です。\n",
    "\n",
    "平均可能： 平均値が有限 (c.f. 5.1節 一般の確率変数の平均値)\n"
   ]
  },
  {
   "cell_type": "markdown",
   "metadata": {},
   "source": [
    "\n",
    "「確率変数」を「可測関数」、「平均可能」を「積分可能」と読み替えることでフビニの定理が成り立つ。\n",
    "\n",
    "**定理6.4 σ-有限直積測度空間でのフビニの定理　: 非負可測関数の場合**\n",
    "\n",
    "$(\\Omega_{1},{\\cal B}_{1}, m_{1})$ 、$(\\Omega_{2},{\\cal B}_{2}, m_{2})$ がσ-有限測度空間、$X=X(\\omega_{1}, \\omega_{2})$を直積測度空間上の非負可測関数とします。このとき、(Φ.1), (Φ.2) , (Φ.3)が成り立ちます。\n",
    "\n",
    "\n",
    "**定理6.5 σ-有限直積測度空間でのフビニの定理　: 積分可能な場合**\n",
    "\n",
    "$(\\Omega_{1},{\\cal B}_{1}, m_{1})$ 、$(\\Omega_{2},{\\cal B}_{2}, m_{2})$ がσ-有限測度空間、$X=X(\\omega_{1}, \\omega_{2})$を直積測度空間上の積分可能な関数とします。このとき、次の(Φ'.1), (Φ'.2) , (Φ'.3)が成り立ちます。\n",
    "\n",
    "(Φ'.1) $m_{1}$に関してほとんどすべての$\\omega_{1} \\in \\Omega_{1}$を固定したときに\n",
    "\n",
    "$X_{\\omega{1}}(\\omega_{2}) = X(\\omega_{1}, \\omega_{2})$\n",
    "\n",
    "は測度空間$(\\Omega_{2}, {\\cal B}_{2}, m_{2})$上の積分可能な可測関数であり、\n",
    "\n",
    "$\\int_{\\Omega_{2}} X(\\omega_{1}, \\omega_{2})d m_{2}(\\omega_{2})$\n",
    "\n",
    "は、測度空間$(\\Omega_{1}, {\\cal B}_{1}, m_{1})$上の積分可能な可測関数です。\n",
    "\n",
    "(Φ'.2) $m_{2}$に関してほとんどすべての$\\omega_{2} \\in \\Omega_{2}$を固定したときに\n",
    "\n",
    "$X^{\\omega{2}}(\\omega_{1}) = X(\\omega_{1}, \\omega_{2})$\n",
    "\n",
    "は測度空間$(\\Omega_{1}, {\\cal B}_{1}, m_{1})$上の積分可能な可測関数であり、\n",
    "\n",
    "$\\int_{\\Omega_{1}} X(\\omega_{1}, \\omega_{2})d m_{1}(\\omega_{1})$\n",
    "\n",
    "は、測度空間$(\\Omega_{2}, {\\cal B}_{2}, m_{2})$上の積分可能な可測関数です。\n",
    "\n",
    "(Φ'.3)\n",
    "\n",
    "$\\int_{\\Omega_{1}\\times \\Omega_{2}} X(\\omega_{1}, \\omega_{2})d (m_{1} \\times m_{2})(\\omega_{1}, \\omega_{2})\\\\\n",
    "= \\int_{\\Omega_{1}} dm_{1}(\\omega_{1}) \\int_{\\Omega_{2}} X(\\omega_{1}, \\omega_{2}) d m_{2}(\\omega_{2})\\\\\n",
    "= \\int_{\\Omega_{2}} dm_{2}(\\omega_{2}) \\int_{\\Omega_{1}} X(\\omega_{1}, \\omega_{2}) d m_{1}(\\omega_{1})\\\\$\n"
   ]
  },
  {
   "cell_type": "markdown",
   "metadata": {},
   "source": [
    "ここで、最初に計算した、\n",
    "\n",
    "$\\int_{(0,1]\\times(0,1]}\\frac{x^{2}-y^{2}}{(x^{2}+y^{2})^{2}}dxdy$\n",
    "\n",
    "について、もう一度考えてみましょう。この被積分関数\n",
    "\n",
    "$\\frac{x^{2}-y^{2}}{(x^{2}+y^{2})^{2}}$\n",
    "\n",
    "\n",
    "は、フビニの定理が成り立つための条件$({\\cal B}_{x} \\times {\\cal B}_{y} )$-可測 関数でしょうか？\n",
    "\n",
    "補題6.2 $R^{2}$上の関数X=X(x,y)が(x,y)について連続であれば、$({\\cal B}_{x} \\times {\\cal B}_{y} )$-可測\n",
    "\n",
    "[二変数関数の連続](http://www.ne.jp/asahi/search-center/internationalrelation/mathWeb/Limit/LimitOfFunctionOfTwoVariables/Continuous2VarFunction.htm)"
   ]
  },
  {
   "cell_type": "code",
   "execution_count": 17,
   "metadata": {
    "collapsed": false
   },
   "outputs": [
    {
     "name": "stdout",
     "output_type": "stream",
     "text": [
      "-2.22044604925031e-16\n",
      "2.22044604925031e-16\n"
     ]
    }
   ],
   "source": [
    "import sympy as sym\n",
    "\n",
    "x = sym.Symbol(\"x\")\n",
    "y = sym.Symbol(\"y\")\n",
    "\n",
    "f = (x ** 2 - y ** 2) /  (x ** 2 + y **2) ** 2\n",
    "\n",
    "fx = sym.integrate(f, (y, 1/3, 1/2))\n",
    "ansyx = sym.integrate(fx, (x, 1/3, 1/2))\n",
    "print(ansyx)\n",
    "\n",
    "fy = sym.integrate(f, (x, 1/3, 1/2))\n",
    "ansxy = sym.integrate(fy, (y, 1/3, 1/2))\n",
    "print(ansxy)\n",
    "\n",
    "fxa = 1 / ( 2 * (2 * x ** 2 +  1/2)) \n",
    "fxb = 1 / ( 3 * (3 * x ** 2 +  1/3))\n",
    "ansxa  = sym.integrate(fxa,( x, 1/3, 1/2))\n",
    "ansxb  = sym.integrate(fxb,( x, 1/3, 1/2))\n",
    "ansx = ansxa - ansxb\n",
    "\n"
   ]
  },
  {
   "cell_type": "markdown",
   "metadata": {
    "collapsed": true
   },
   "source": [
    "### 7. 確率測度の絶対連続性\n"
   ]
  },
  {
   "cell_type": "markdown",
   "metadata": {},
   "source": [
    "## 参考文献\n",
    "* はじめての確率論　測度から確率へ 佐藤坦 共立出版"
   ]
  },
  {
   "cell_type": "code",
   "execution_count": null,
   "metadata": {
    "collapsed": true
   },
   "outputs": [],
   "source": []
  }
 ],
 "metadata": {
  "kernelspec": {
   "display_name": "Python 3",
   "language": "python",
   "name": "python3"
  },
  "language_info": {
   "codemirror_mode": {
    "name": "ipython",
    "version": 3
   },
   "file_extension": ".py",
   "mimetype": "text/x-python",
   "name": "python",
   "nbconvert_exporter": "python",
   "pygments_lexer": "ipython3",
   "version": "3.5.1"
  }
 },
 "nbformat": 4,
 "nbformat_minor": 0
}
