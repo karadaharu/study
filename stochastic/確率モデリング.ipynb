{
 "cells": [
  {
   "cell_type": "markdown",
   "metadata": {},
   "source": [
    "### 決定論モデルと確率モデルの接続\n",
    "1. ランダムな反応の生起をモデル化する→変数は分子数$n(t)$、M次元の確率変数になる\n",
    "2. 無限に大きい細胞集団において、分子数nをもつ細胞の割合P(t,n)を考える"
   ]
  },
  {
   "cell_type": "markdown",
   "metadata": {},
   "source": [
    "## 2.3 点過程\n",
    "$\\frac{dx}{dt} = S\n",
    "\n",
    "反応が起きた回数C(t)\n",
    "\n",
    "$dn(t)=SdC(t)$\n",
    "\n",
    "C(t)はある経路を表している。C(t)の確率分布は、ポアソン分布\n",
    "\n",
    "dn/dtについて、確率分布で表現して、その期待値に変換すれば、決定論と結びつくはず？　でも結局反応速度定数kは定数のままらしい。反応の何によってきまるもの？\n"
   ]
  },
  {
   "cell_type": "markdown",
   "metadata": {},
   "source": [
    "### 2.3.2 点過程間隔の待ち時間\n",
    "点過程を計算するには、イベントが生成する確率的なルールを定める必要があります。最も簡単なルールは、2つの隣接するイベントの間の待ち時間が従う統計的な性質を与えることです。\n",
    "\n",
    "単位時間あたりに生じる反応mの平均的な頻度は$f_{m}({\\bf n})$であったので、決定論的化学反応式との整合性をとるためには、反応mの平均的な待ち時間$\\tau_{m}$は\n",
    "\n",
    "$\\tau_{m} = 1/f_{m}({\\bf n})$\n",
    "\n",
    "となることが要請される。\n",
    "\n",
    "待ち時間$\\tau$について無記憶性\n",
    "\n",
    "$P(\\tau > s+t | \\tau > s)=P(\\tau > t) \\; {\\rm for\\, all \\,} s,t > 0$\n",
    "\n",
    "を仮定すると、\n",
    "\n",
    "$P(\\tau > s + t) =P(\\tau > t) P(\\tau > s)  \\; {\\rm for\\, all \\,} s,t > 0$\n",
    "\n",
    "が満たされます。このことから、累積密度関数は\n",
    "\n",
    "$P(\\tau >t) = e^{-\\lambda t}$\n",
    "\n",
    "確率密度関数は\n",
    "\n",
    "$P(t)=\\frac{dP(\\tau > t)}{dt}=\\lambda e^{-\\lambda t}$\n",
    "\n",
    "であり、ポアソン過程となります。(なぜポアソンと呼ぶのかは次の節で)\n",
    "\n",
    "無記憶性は仮定しないとその他の多様な点過程を表現できます。$\\tau$の平均値は$1/\\lambda$です。"
   ]
  },
  {
   "cell_type": "markdown",
   "metadata": {},
   "source": [
    "### 2.3.3 ポアソン点過程・ポアソン計数過程\n",
    "時刻tまでにイベントが起きた回数をC(t)として、その確率P(t,C)を求めます。時間[0,t]をn個に分割して、時間間隔を$\\Delta t$とします。\n",
    "\n",
    "各時間間隔で1回反応が生じる確率$p_{1}$は\n",
    "\n",
    "$p_{1}=\\int$\n",
    "\n",
    "2回以上生じる確率は十分$\\Delta t$を小さくすれば無視できることから、\n",
    "\n",
    "\n",
    "待ち時間の確率密度関数が$\\lambda e^{-\\lambda t}$であるとき、"
   ]
  },
  {
   "cell_type": "markdown",
   "metadata": {},
   "source": [
    "### 2.3.5 非定常ポアソン点過程による確率的化学反応のモデリング\n"
   ]
  },
  {
   "cell_type": "markdown",
   "metadata": {},
   "source": [
    "### 連続時間マルコフ過程\n",
    "1個と集団、単位時間あたりの数と確率？\n",
    "\n",
    "あるイベントが時刻tに起きる確率"
   ]
  },
  {
   "cell_type": "markdown",
   "metadata": {},
   "source": [
    "## 5.8 Generating Function Technique\n",
    "連続時間マルコフ過程の確率母関数は、時刻tに値iである確率を$p_{i}(t)$として、\n",
    "\n",
    "$P(z,t) = \\sum_{i=0}^{\\infty}p_{i}(t)z^{i}$\n",
    "\n",
    "積率母関数は\n",
    "\n",
    "$M(\\theta,t) = \\sum_{i=0}^{\\infty}p_{i}(t)e^{\\theta i}$\n",
    "\n",
    "キュムラント母関数は\n",
    "\n",
    "$K(\\theta, t)=\\ln M ( \\theta , t)$\n",
    "\n",
    "期待値m(t)は、\n",
    "\n",
    "$m(t)=\\frac{\\partial P(z,t)}{\\partial z}|_{z=1}\\\\\n",
    "=\\sum_{i=1}^{\\infty} iP_{i}(t)z^{i-1}|_{z=1}\\\\\n",
    "=\\sum^{\\infty}_{i=0}ip_{i}(t)$\n",
    "\n",
    "ポアソン過程を例に、母関数についての微分方程式の導出を行います。\n",
    "\n",
    "前向きKolmogorov微分方程式は\n",
    "\n",
    "$\\frac{d{\\bf p}}{dt}={\\bf Qp}$\n",
    "\n",
    "すなわち、\n",
    "\n",
    "$\\frac{dp_{i}}{dt}=\\sum^{\\infty}_{k=1}q_{ik}p_{k}(t), \\: i=0,1,2, \\cdots$\n",
    "\n",
    "この方程式に、$z^{i}$をかけて、iについての和をとると、\n",
    "\n",
    "$\\sum^{\\infty}_{i=0}\\frac{dp_{i}(t)}{dt}z^{i}=\\sum^{infty}_{i=0}\\sum^{infty}_{k=0}q_{ik}p_{k}(t)z^{i}$\n",
    "\n",
    "$\\frac{\\partial P(z,t)}{\\partial t}=\\sum^{\\infty}_{k=0}[\\sum^{\\infty}_{i=0}q_{ik}p_{k}(t)z^{i}]$"
   ]
  },
  {
   "cell_type": "markdown",
   "metadata": {},
   "source": [
    "**Example 5.8**\n",
    "\n",
    "十分小さな時間$\\Delta t$の間に遷移する確率が$\\lambda \\Delta t$の連続マルコフ連鎖\n",
    "\n",
    "$\\frac{dp_{i}(t)}{dt}=-\\lambda p_{i}(t)  + \\lambda p_{i-1}(t),\\: i \\geq 1$  \n",
    "$\\frac{dp_{0}(t)}{dt}=-\\lambda p_{0}(t)$\n",
    "\n",
    "$z^{i}$をかけて、iについての和をとって\n",
    "\n",
    "$\\sum^{\\infty}_{i=0}\\frac{dp_{i}(t)}{dt}z^{i}=-\\lambda \\sum^{\\infty}_{i=0}  p_{i}(t) z^{i} + \\lambda\\sum^{\\infty}_{i=0} p_{i-1}(t) z^{i}$\n",
    "\n",
    "$\\frac{\\partial P(z,t)}{\\partial t}=-\\lambda P(z,t) + z \\lambda P(z,t) = \\lambda (z-1) P(z,t)$\n",
    "\n",
    "平均についての微分方程式を求める両辺をzで偏微分してz=1を代入すると、\n",
    "\n",
    "$\\frac{\\partial}{\\partial t} \\frac{\\partial}{\\partial z}P(z,t) |_{z=1}= \\lambda \\{ P(z,t) + (z-1) \\frac{\\partial P (z,t)}{\\partial t}|_{z=1}$  \n",
    "$\\frac{\\partial m(t)}{\\partial t} = \\lambda P(1,t) \\\\\n",
    "=\\lambda \\sum^{\\infty}_{i=0}p_{i}(t)\\\\\n",
    "=\\lambda$\n",
    "\n",
    "ドリフト項?が求められる。"
   ]
  },
  {
   "cell_type": "markdown",
   "metadata": {},
   "source": [
    "### 確率母関数\n",
    "多変数の場合（例:2変数)\n",
    "\n",
    "$G(z_{1}, z_{2}, t) = \\sum^{\\infty}_{x=0} \\sum^{\\infty}_{y=0} P_{(x,y)}(t) z_{1}^{x} z_{2}^{y}$"
   ]
  },
  {
   "cell_type": "markdown",
   "metadata": {},
   "source": [
    "xのみの確率\n",
    "\n",
    "$P_{x}(t) = \\sum^{\\infty}_{y=0} P_{(x,y)}(t)$\n",
    "\n",
    "xについての平均\n",
    "\n",
    "$E_{x}(t) = \\sum^{\\infty}_{x=0} x P_{x}(t)$"
   ]
  },
  {
   "cell_type": "markdown",
   "metadata": {},
   "source": [
    "$\\frac{\\partial G(z_{1}, z_{2}, t))}{\\partial z_{1}}|_{z_{1}=1,z_{2}=1 } = \\sum^{\\infty}_{x=0} \\sum^{\\infty}_{y=0} P_{(x,y)}(t) xz_{1}^{x-1} z_{2}^{y}|_{z_{1}=1}\\\\\n",
    "=\\sum^{\\infty}_{x=0} \\sum^{\\infty}_{y=0} P_{(x,y)}(t) x\\\\\n",
    "=E_{x}(t)$"
   ]
  },
  {
   "cell_type": "code",
   "execution_count": null,
   "metadata": {
    "collapsed": true
   },
   "outputs": [],
   "source": []
  }
 ],
 "metadata": {
  "kernelspec": {
   "display_name": "Python 3",
   "language": "python",
   "name": "python3"
  },
  "language_info": {
   "codemirror_mode": {
    "name": "ipython",
    "version": 3
   },
   "file_extension": ".py",
   "mimetype": "text/x-python",
   "name": "python",
   "nbconvert_exporter": "python",
   "pygments_lexer": "ipython3",
   "version": "3.5.1"
  }
 },
 "nbformat": 4,
 "nbformat_minor": 0
}
