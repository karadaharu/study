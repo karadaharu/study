{
 "cells": [
  {
   "cell_type": "markdown",
   "metadata": {},
   "source": [
    "### 二項分布\n",
    "一回の試行あたりふたつの結果、S,Fが起こる実験で、確率が\n",
    "\n",
    "$P(S)=p, \\: P(F)=1-p(=q)$\n",
    "\n",
    "とします。このとき、n回の試行で起こったSの回数をXとすると、Xは確率変数で\n",
    "\n",
    "$P(X=x)={}_{n} C_{x} p^{x} (1-p)^{n-x}$\n",
    "\n",
    "となります。これをパラメータ(n,p)の二項分布といいます。"
   ]
  },
  {
   "cell_type": "markdown",
   "metadata": {
    "collapsed": true
   },
   "source": [
    "### ブラウン運動\n",
    "$x \\in {\\bf R}^{n}$を固定して、\n",
    "\n",
    "$p(t,x,y)=(2 \\pi t)^{-n/2} \\times \\exp(- \\frac{|x-y|^{2}}{2t}), \\: y \\in {\\bf R}^{n},t>0$\n",
    "\n",
    "とします。（分散t、期待値yのガウス分布)　$0 \\leq t_{1} \\leq t_{2} \\leq  \\cdots \\leq t_{k}$ に対し、${\\bf R}^{nk}$上の測度$\\nu_{t_{1},\\cdots,t_{k}}$を\n",
    "\n",
    "$\\nu_{t_{1},\\cdots,t_{k}}(F_{1}\\times \\cdots \\times F_{k})=\\int_{F_{1}\\times \\cdots \\times F_{k}}p(t_{1},x,x_{1}) p(t_{2}-t_{1},x_{1},x_{2})\\cdots p(t_{k}-t_{k-1},x_{k-1},x_{k})dx_{1}\\cdots dx_{k}$\n",
    "\n",
    "で定めます。"
   ]
  },
  {
   "cell_type": "markdown",
   "metadata": {
    "collapsed": true
   },
   "source": [
    "### 参考文献\n",
    "松原望 (2003) 「入門確率過程」　東京図書  "
   ]
  },
  {
   "cell_type": "code",
   "execution_count": null,
   "metadata": {
    "collapsed": true
   },
   "outputs": [],
   "source": []
  }
 ],
 "metadata": {
  "kernelspec": {
   "display_name": "Python 3",
   "language": "python",
   "name": "python3"
  },
  "language_info": {
   "codemirror_mode": {
    "name": "ipython",
    "version": 3
   },
   "file_extension": ".py",
   "mimetype": "text/x-python",
   "name": "python",
   "nbconvert_exporter": "python",
   "pygments_lexer": "ipython3",
   "version": "3.5.1"
  }
 },
 "nbformat": 4,
 "nbformat_minor": 0
}
