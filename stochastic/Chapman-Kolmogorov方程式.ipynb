{
 "cells": [
  {
   "cell_type": "markdown",
   "metadata": {
    "toc": "true"
   },
   "source": [
    "# Table of Contents\n",
    " <p><div class=\"lev2\"><a href=\"#Chapman-Kolmogorov方程式\"><span class=\"toc-item-num\">0.1&nbsp;&nbsp;</span>Chapman-Kolmogorov方程式</a></div><div class=\"lev2\"><a href=\"#Chapman-Kolmogorov方程式の微分形\"><span class=\"toc-item-num\">0.2&nbsp;&nbsp;</span>Chapman-Kolmogorov方程式の微分形</a></div>"
   ]
  },
  {
   "cell_type": "markdown",
   "metadata": {},
   "source": [
    "## Chapman-Kolmogorov方程式\n",
    "確率過程に対して、マルコフ性が成り立つときに、確率過程の途中の経路をすべて積分すれば、任意の時刻についての、条件付き確率が得られる\n",
    "\n",
    "$p(x_{1},t_{1}|x_{3},t_{3})=\\int p(x_{1}, t_{1}| x_{2}, t_{2}) p(x_{2}, t_{2}| x_{3}, t_{3}) dx_{2}$"
   ]
  },
  {
   "cell_type": "markdown",
   "metadata": {},
   "source": [
    "## Chapman-Kolmogorov方程式の微分形\n",
    "適切な仮定のもとでは、CK方程式は微分形に変形できる。以下の仮定をおく。\n",
    "\n",
    "* i) $\\lim_{\\Delta t \\rightarrow 0} p(x, t+\\Delta t| z, t) / \\Delta t = W(x | z, t)$  uniformly in x,z and t for $|x-z|\\geq \\varepsilon$\n",
    "* ii) $\\lim_{\\Delta t \\rightarrow 0} \\frac{1}{\\Delta t} \\int_{|x-z| < \\varepsilon} dx(x_{i} - z_{i}) p(x, t+\\Delta t| z, t) = A_{i}(z, t) + O(\\varepsilon)$ : 微小時間後の座標についての期待値(距離εの中だけ)は、zとtの関数+誤差で表される？\n",
    "* ii) $\\lim_{\\Delta t \\rightarrow 0} \\frac{1}{\\Delta t} \\int_{|x-z| < \\varepsilon} dx(x_{i} - z_{i}) (x_{j} - z_{j} )p(x, t+\\Delta t| z, t) = B_{i, j}(z, t) + O(\\varepsilon) $\n",
    "\n",
    "ii)、ii)はz, ε, tについてuniform。\n",
    "\n",
    "ここで、ii) ii) の形の3次以上の係数は消えることに注意。例えば、3次の項は\n",
    "\n",
    "\n",
    "\n",
    "もし$W(x| z, t)$がすべての$x \\neq z$で消えるとき、その過程は連続な経路のみをもつことができる。(微小時間の極限をとったときに、違う値である確率は0→連続である）\n",
    "\n",
    "\n",
    "\n",
    "関数f(z)の期待値の時間発展を考える\n",
    "\n",
    "$\\partial_{t} \\int dx f(x)p(x, t| y,t')\\\\\n",
    "=\\lim_{\\Delta \\rightarrow 0} \\{\\int dx f(x) [p(x, t+\\Delta t| y,t') - p(x,t| y, t') ]\\} / \\Delta t\\\\\n",
    "=\\lim_{\\Delta \\rightarrow 0} \\{\\int dx \\int dz f(x) [p(x, t+\\Delta t| z,t)p(z,t | y,t') - \\int dz f(z) p(z, t| y, t') ]\\} / \\Delta t\\\\$ (1)"
   ]
  },
  {
   "cell_type": "markdown",
   "metadata": {},
   "source": [
    "xについての積分を$|x-z| \\geq \\varepsilon$と$|x-z| < \\varepsilon$のふたつの領域に分ける。$|x-z| < \\varepsilon$のとき、f(z)は2階微分可能な連続関数であるという仮定をおいたので、\n",
    "\n",
    "$f(x)=f(z)+\\sum_{i} \\frac{\\partial f(z)}{\\partial z_{i}}(x_{i}-z_{i})\\\\\n",
    "+ \\sum_{i,j} \\frac{1}{2} \\frac{\\partial^{2}f(z)}{\\partial z_{i} \\partial z_{j} } (x_{i} - z_{i}) (x_{j} - z_{j}) + |x-z|^{2} R(x,z) $\n",
    "\n",
    "と展開できる。式(1)に代入すると、\n",
    "\n",
    "$(1) = \\lim_{\\Delta t \\rightarrow 0} \\frac{1}{\\Delta t} \\{ \n",
    "\\int \\int_{|x-z| < \\varepsilon} dxdz [\\sum_{i} \\frac{\\partial f(z)}{\\partial z_{i}}(x_{i}-z_{i}) + \\sum_{i,j} \\frac{1}{2} \\frac{\\partial^{2}f(z)}{\\partial z_{i} \\partial z_{j} } (x_{i} - z_{i}) (x_{j} - z_{j}) ] p(x, t+\\Delta t | z, t) p(z, t| y, t') + \\\\\n",
    "+\\int \\int_{|x-z| < \\varepsilon} dxdz  |x-z|^{2} R(x,z)p(x, t+\\Delta t | z, t) p(z, t| y, t') \\\\\n",
    "+ \\int \\int_{|x-z| \\geq \\varepsilon} dxdz f(x) p(x, t+\\Delta t | z, t) p(z, t| y, t') \\\\\n",
    "+\\int \\int_{|x-z| < \\varepsilon} dxdz f(z) p(x, t+\\Delta t | z, t) p(z, t| y, t') \\\\\n",
    "-\\int \\int dxdz f(z) p(z, t+\\Delta t| z, t) p(z,t| y, t') \\}$"
   ]
  },
  {
   "cell_type": "markdown",
   "metadata": {},
   "source": [
    "一行ずつ解釈することができる。\n",
    "\n",
    "**1行目**\n",
    "単一の収束を仮定すると、積分のなかの極限をとって、以下を得る(条件ii, 条件iiiを使って)\n",
    "\n"
   ]
  },
  {
   "cell_type": "code",
   "execution_count": null,
   "metadata": {
    "collapsed": true
   },
   "outputs": [],
   "source": []
  }
 ],
 "metadata": {
  "kernelspec": {
   "display_name": "Python 3",
   "language": "python",
   "name": "python3"
  },
  "language_info": {
   "codemirror_mode": {
    "name": "ipython",
    "version": 3
   },
   "file_extension": ".py",
   "mimetype": "text/x-python",
   "name": "python",
   "nbconvert_exporter": "python",
   "pygments_lexer": "ipython3",
   "version": "3.5.1"
  },
  "nav_menu": {},
  "toc": {
   "navigate_menu": true,
   "number_sections": true,
   "sideBar": false,
   "threshold": 6,
   "toc_cell": true,
   "toc_section_display": "block",
   "toc_window_display": false
  }
 },
 "nbformat": 4,
 "nbformat_minor": 0
}
