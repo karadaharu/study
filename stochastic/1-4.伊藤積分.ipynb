{
 "cells": [
  {
   "cell_type": "markdown",
   "metadata": {},
   "source": [
    "### 3.1 伊藤積分の定義\n",
    "ノイズが加わった方程式を確率過程$W_{t}$を用いて、\n",
    "\n",
    "$\\frac{dX}{dt}=b(t,X_{t})+\\sigma(t,X_{t})・W_{t} \\:\\:\\:\\:(3.1.2)$\n",
    "\n",
    "と表現します。\n",
    "\n",
    "$W_{t}$は少なくとも近似的には次の性質をもたなくてはいけません。\n",
    "\n",
    "1. $t_{1}\\neq t_{2}$なら$W_{t_{1}}$と$W_{t_{2}}$は独立\n",
    "2. $\\{W_{t}\\}$は定常。すなわち、同時分布$\\{W_{t_{1}+t},\\cdots W_{t_{k}+t}\\}$はtに依らない\n",
    "3. すべてのtについて$E[W_{t}]=0$となる\n",
    "\n",
    "しかし、1,2を満たす\"適切な\"確率過程は存在しません。実際、そのような確率過程は連続な経路をもちません。さらに、$E[W_{t}^{2}]=1$と仮定すれば、写像$(t,\\omega)\\mapsto W_{t}(\\omega)$はσ-加法族${\\cal B}\\times {\\cal F}$に関して可測ですありません。\n",
    "\n",
    "しかし、$W_{t}$を一般化された確率過程として実現することは可能です（これをホワイトノイズ過程と呼びます）。ここでいう\"一般化された\"とは、確率過程が通常の確率過程のように$R^{0,\\infty)}$上の確率測度として実現されるのではなく、緩増加超関数の空間$\\cal S'$の上の確率測度として構築されることを意味します。\n",
    "\n",
    "ゆえに、この種の構成は放棄しましょう。むしろ、(3.1.2)を書き改めて、$W_{t}$を適当な確率過程で置き換える変形を考えましょう。このため、$0=t_{t}<\\cdots < t_{m} = t$とおいて、(3.1.2)を差分方程式として次のように表してみましょう。\n",
    "\n",
    "$X_{k+1}-K_{k}=b(t_{k},X_{k})\\Delta t_{k} + \\sigma(t_{k},X_{k})W_{k}\\Delta t_{k}$\n",
    "\n",
    "ただし、\n",
    "\n",
    "$X_{j}=X(t_{j})$、$W_{k}=W_{t_{k}}$、$\\Delta t_{k} = t_{k+1} - t_{k}$\n",
    "\n",
    "さらに、$W_{k}$を用いた表現をやめ、新しい確率過程$\\{V_{t}\\}_{t \\geq 0 }$を導入して、$W_{k} \\Delta t_{k}$を$\\Delta V_{k} = V_{t_{k+1}}-V_{t_{k}}$で置き換えましょう。$W_{t}$に関する仮定1,2,3は$V_{t}$が期待値0で定常かつ独立な増分をもつこと示唆しています。ところが、連続な経路をもつそのような確率過程はブラウン運動に限ります。したがって、$V_{t}=B_{t}$とおいて、(3.1.3)から次の関係式を得ます。\n",
    "\n",
    "$X_{k}=X_{0}+\\sum_{j=0}^{k-1}b(t_{j},X_{j})\\Delta t_{j} + \\sum_{j=0}^{k-1}\\sigma (t_{j}, X_{j})\\Delta B_{j}$"
   ]
  },
  {
   "cell_type": "code",
   "execution_count": null,
   "metadata": {
    "collapsed": true
   },
   "outputs": [],
   "source": []
  },
  {
   "cell_type": "code",
   "execution_count": null,
   "metadata": {
    "collapsed": true
   },
   "outputs": [],
   "source": []
  }
 ],
 "metadata": {
  "kernelspec": {
   "display_name": "Python 3",
   "language": "python",
   "name": "python3"
  },
  "language_info": {
   "codemirror_mode": {
    "name": "ipython",
    "version": 3
   },
   "file_extension": ".py",
   "mimetype": "text/x-python",
   "name": "python",
   "nbconvert_exporter": "python",
   "pygments_lexer": "ipython3",
   "version": "3.5.1"
  }
 },
 "nbformat": 4,
 "nbformat_minor": 0
}
