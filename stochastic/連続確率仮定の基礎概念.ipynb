{
 "cells": [
  {
   "cell_type": "markdown",
   "metadata": {},
   "source": [
    "### 位相空間\n",
    "#### 空間とは何か\n",
    "ある集合に属する元同士について何らかの関係が成り立つ、すなわち構造をもっているとき、空間と呼びます。例えば、ベクトル空間といったとき、その要素であるベクトルの間には和、定数倍といった計算が成り立ちます。\n",
    "\n",
    "#### 位相とは何か\n",
    "**定義 (開集合系・位相・位相空間)**　　\n",
    "集合Sに対し、部分集合の族${\\cal O}$がSの開集合系であるとは、次の条件1~3を満たすときをいいます。\n",
    "\n",
    "1. $S\\in {\\cal O}$かつ$\\varnothing \\in {\\cal O}$\n",
    "2. $m \\in \\mathbb{N}, O_{1}, \\cdots , O_{m} \\in {\\cal O} \\Rightarrow O_{1} \\cap \\cdots \\cap O_{m} \\in {\\cal O}$\n",
    "3. 任意の集合$\\wedge$にたいし、各元$\\lambda \\in \\wedge$から${\\cal O}$の元$O_{\\lambda}\\in {\\cal O}$への対応を与えた時、$\\cup_{\\lambda \\in \\wedge}O_{\\lambda} \\in {\\cal O}$\n",
    "\n",
    "集合Sに開集合系$\\cal O$が与えられているとき、「$\\cal O$はSに位相を定める」もしくは「Sには$\\cal O$による位相が入る」といい、$\\cal O$の元を開集合と呼びます。このような位相構造が定められた集合Sを位相空間といいます。\n",
    "\n",
    "\n",
    "開集合系はグループ分けとして捉えることができます。例えば、国家のグループ分けを考えます。集合S={英、仏、米}にたいし、次の部分集合族$\\cal O$のうち、$(S,{\\cal O})$が位相空間となるものはどれでしょうか？\n",
    "\n",
    "1. {Φ,{英,仏},{仏,米},S}\n",
    "2. {Φ,{英},{仏},{米},S}\n",
    "3. {Φ,{米},{英,米},{仏,米},S}\n",
    "\n"
   ]
  },
  {
   "cell_type": "markdown",
   "metadata": {},
   "source": [
    "### 1.2 Wiener空間\n",
    "T>0を固定し、$W_{T}=W_{T}(\\mathbb{R}^{d})$を[0,T]上の$w(0)=0$である$\\mathbb{R}^{d}$値連続関数全体とします：\n",
    "\n",
    "$W_{T}=\\{w:[0,T] \\rightarrow \\mathbb{R}^{d} ;w$は連続かつ$w(0)=0\\}$\n",
    "\n",
    "$W_{T}$には一様収束の位相をいれます。この位相による$W_{T}$上のBorel σ加法族を${\\cal B}(W_{T})$と書きます。次のWienerによる定理が現代確率論の出発点の１つです。\n",
    "\n",
    "**定理1.2.1**  \n",
    "$(W_{T},\\cal{B}(W_{T}))$上の確率測度$\\mu_{T}$で、$0=t_{0}<t_{1}<\\cdots<t_{n}$と$A_{1},\\cdots,A_{n}\\in {\\cal B}(\\mathbb{R}^{d})$に対して、次をみたすものがただひとつ存在します。\n",
    "\n",
    "\n",
    "\n",
    "### 1.7 Cameron-Martinの定理\n",
    "$(W^{d}, {\\cal B}(W^{d}), \\mu^{d})$を$[0,\\infty)$上のd次元Wiener空間とします。\n",
    "\n",
    "伊藤-西尾の定理より、Wiener測度$\\mu^{d}$はCameron-Martin部分空間H^{d}から決まっているといえます。\n",
    "\n",
    "\n",
    "\n",
    "**Cameron-Martin部分空間**  \n",
    "d次元Wiener空間$W_{T}$の元hで、[0,T]上絶対連続であり、その微分$\\dot{h}$の各成分が[0,T]上2乗可積分となるものの全体$H_{T}$をCameron-Martin部分空間とよび、$H_{T}$、$H_{T}^{d}$などと書きます。\n",
    "\n",
    "**伊藤-西尾の定理**  \n",
    "$\\{h_{n}\\}^{infty}_{n=1}$をCameron-Martin部分空間$H_{T}$の正規直交基底とし、$\\{X_{n}\\}^{infty}_{n=1}$を確率空間$(\\Omega, {\\cal F}, P)$上で定義されたそれぞれ標準正規分布に従う独立同時分布確率変数列とすると、\n"
   ]
  },
  {
   "cell_type": "code",
   "execution_count": null,
   "metadata": {
    "collapsed": true
   },
   "outputs": [],
   "source": []
  }
 ],
 "metadata": {
  "kernelspec": {
   "display_name": "Python 3",
   "language": "python",
   "name": "python3"
  },
  "language_info": {
   "codemirror_mode": {
    "name": "ipython",
    "version": 3
   },
   "file_extension": ".py",
   "mimetype": "text/x-python",
   "name": "python",
   "nbconvert_exporter": "python",
   "pygments_lexer": "ipython3",
   "version": "3.5.1"
  }
 },
 "nbformat": 4,
 "nbformat_minor": 0
}
